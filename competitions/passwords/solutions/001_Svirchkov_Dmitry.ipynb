{
 "cells": [
  {
   "cell_type": "code",
   "execution_count": 1,
   "metadata": {},
   "outputs": [],
   "source": [
    "import pandas as pd\n",
    "import os"
   ]
  },
  {
   "cell_type": "markdown",
   "metadata": {},
   "source": [
    "---"
   ]
  },
  {
   "cell_type": "code",
   "execution_count": 2,
   "metadata": {},
   "outputs": [],
   "source": [
    "train = pd.read_csv('../data/train.csv')\n",
    "test = pd.read_csv('../data/Xtest.csv', usecols=['Password'])\n",
    "target = train.Times.copy()"
   ]
  },
  {
   "cell_type": "code",
   "execution_count": 3,
   "metadata": {},
   "outputs": [],
   "source": [
    "df = pd.concat([train, test], sort=False)"
   ]
  },
  {
   "cell_type": "markdown",
   "metadata": {},
   "source": [
    "---"
   ]
  },
  {
   "cell_type": "markdown",
   "metadata": {},
   "source": [
    "`Это соревнование - перезапуск вступительного inClass на тех же данных. Теперь новые правила - можно пользоваться репозиторием с паролями. Посмотрим на разрешенные файлы`"
   ]
  },
  {
   "cell_type": "code",
   "execution_count": 4,
   "metadata": {},
   "outputs": [
    {
     "data": {
      "text/plain": [
       "['top-passwords-shortlist.txt',\n",
       " '10-million-password-list-top-1000000.txt',\n",
       " '10-million-password-list-top-10000.txt',\n",
       " 'common-passwords-win.txt',\n",
       " 'top-20-common-SSH-passwords.txt',\n",
       " 'SplashData-2015-2.txt',\n",
       " 'medical-devices.txt',\n",
       " 'SplashData-2015-1.txt',\n",
       " 'best110.txt',\n",
       " '10-million-password-list-top-100000.txt',\n",
       " 'worst-passwords-2017-top100-slashdata.txt',\n",
       " '10-million-password-list-top-100.txt',\n",
       " '10-million-password-list-top-500.txt',\n",
       " '10k-most-common.txt',\n",
       " '500-worst-passwords.txt',\n",
       " 'best15.txt',\n",
       " 'SplashData-2014.txt',\n",
       " 'best1050.txt',\n",
       " '10-million-password-list-top-1000.txt',\n",
       " 'four-digit-pin-codes-sorted-by-frequency-withcount.csv']"
      ]
     },
     "execution_count": 4,
     "metadata": {},
     "output_type": "execute_result"
    }
   ],
   "source": [
    "PATH = '../data2/external_data/SecLists-master/Passwords/Common-Credentials/'\n",
    "os.listdir(PATH)"
   ]
  },
  {
   "cell_type": "code",
   "execution_count": null,
   "metadata": {},
   "outputs": [],
   "source": []
  },
  {
   "cell_type": "markdown",
   "metadata": {},
   "source": [
    "`Большая часть оказывается бесполезной, но обратим внимание на файлик 10-million-password-list-top-1000000.txt`"
   ]
  },
  {
   "cell_type": "code",
   "execution_count": 5,
   "metadata": {},
   "outputs": [],
   "source": [
    "file = '10-million-password-list-top-1000000.txt'\n",
    "\n",
    "with open(PATH + file, 'r', encoding='Windows-1251') as f:\n",
    "    lines = [x.rstrip(\"\\n\") for x in f.readlines()]"
   ]
  },
  {
   "cell_type": "code",
   "execution_count": 6,
   "metadata": {},
   "outputs": [],
   "source": [
    "leak = pd.DataFrame(lines, columns=['Password'])"
   ]
  },
  {
   "cell_type": "markdown",
   "metadata": {},
   "source": [
    "`Посмотрим на датафрейм`"
   ]
  },
  {
   "cell_type": "code",
   "execution_count": 7,
   "metadata": {},
   "outputs": [
    {
     "data": {
      "text/html": [
       "<div>\n",
       "<style scoped>\n",
       "    .dataframe tbody tr th:only-of-type {\n",
       "        vertical-align: middle;\n",
       "    }\n",
       "\n",
       "    .dataframe tbody tr th {\n",
       "        vertical-align: top;\n",
       "    }\n",
       "\n",
       "    .dataframe thead th {\n",
       "        text-align: right;\n",
       "    }\n",
       "</style>\n",
       "<table border=\"1\" class=\"dataframe\">\n",
       "  <thead>\n",
       "    <tr style=\"text-align: right;\">\n",
       "      <th></th>\n",
       "      <th>Password</th>\n",
       "    </tr>\n",
       "  </thead>\n",
       "  <tbody>\n",
       "    <tr>\n",
       "      <th>0</th>\n",
       "      <td>123456</td>\n",
       "    </tr>\n",
       "    <tr>\n",
       "      <th>1</th>\n",
       "      <td>password</td>\n",
       "    </tr>\n",
       "    <tr>\n",
       "      <th>2</th>\n",
       "      <td>12345678</td>\n",
       "    </tr>\n",
       "    <tr>\n",
       "      <th>3</th>\n",
       "      <td>qwerty</td>\n",
       "    </tr>\n",
       "    <tr>\n",
       "      <th>4</th>\n",
       "      <td>123456789</td>\n",
       "    </tr>\n",
       "    <tr>\n",
       "      <th>5</th>\n",
       "      <td>12345</td>\n",
       "    </tr>\n",
       "    <tr>\n",
       "      <th>6</th>\n",
       "      <td>1234</td>\n",
       "    </tr>\n",
       "    <tr>\n",
       "      <th>7</th>\n",
       "      <td>111111</td>\n",
       "    </tr>\n",
       "    <tr>\n",
       "      <th>8</th>\n",
       "      <td>1234567</td>\n",
       "    </tr>\n",
       "    <tr>\n",
       "      <th>9</th>\n",
       "      <td>dragon</td>\n",
       "    </tr>\n",
       "  </tbody>\n",
       "</table>\n",
       "</div>"
      ],
      "text/plain": [
       "    Password\n",
       "0     123456\n",
       "1   password\n",
       "2   12345678\n",
       "3     qwerty\n",
       "4  123456789\n",
       "5      12345\n",
       "6       1234\n",
       "7     111111\n",
       "8    1234567\n",
       "9     dragon"
      ]
     },
     "execution_count": 7,
     "metadata": {},
     "output_type": "execute_result"
    }
   ],
   "source": [
    "leak.head(10)"
   ]
  },
  {
   "cell_type": "markdown",
   "metadata": {},
   "source": [
    "`теперь посмотрим на отсортированный по таргету train`"
   ]
  },
  {
   "cell_type": "code",
   "execution_count": 9,
   "metadata": {},
   "outputs": [
    {
     "data": {
      "text/html": [
       "<div>\n",
       "<style scoped>\n",
       "    .dataframe tbody tr th:only-of-type {\n",
       "        vertical-align: middle;\n",
       "    }\n",
       "\n",
       "    .dataframe tbody tr th {\n",
       "        vertical-align: top;\n",
       "    }\n",
       "\n",
       "    .dataframe thead th {\n",
       "        text-align: right;\n",
       "    }\n",
       "</style>\n",
       "<table border=\"1\" class=\"dataframe\">\n",
       "  <thead>\n",
       "    <tr style=\"text-align: right;\">\n",
       "      <th></th>\n",
       "      <th>Password</th>\n",
       "      <th>Times</th>\n",
       "    </tr>\n",
       "  </thead>\n",
       "  <tbody>\n",
       "    <tr>\n",
       "      <th>2715397</th>\n",
       "      <td>123456</td>\n",
       "      <td>55893.0</td>\n",
       "    </tr>\n",
       "    <tr>\n",
       "      <th>3136279</th>\n",
       "      <td>qwerty</td>\n",
       "      <td>13137.0</td>\n",
       "    </tr>\n",
       "    <tr>\n",
       "      <th>1175081</th>\n",
       "      <td>123456789</td>\n",
       "      <td>11696.0</td>\n",
       "    </tr>\n",
       "    <tr>\n",
       "      <th>2363307</th>\n",
       "      <td>12345</td>\n",
       "      <td>10938.0</td>\n",
       "    </tr>\n",
       "    <tr>\n",
       "      <th>2988373</th>\n",
       "      <td>1234</td>\n",
       "      <td>6432.0</td>\n",
       "    </tr>\n",
       "    <tr>\n",
       "      <th>2307329</th>\n",
       "      <td>111111</td>\n",
       "      <td>5682.0</td>\n",
       "    </tr>\n",
       "    <tr>\n",
       "      <th>3348280</th>\n",
       "      <td>1234567</td>\n",
       "      <td>4796.0</td>\n",
       "    </tr>\n",
       "    <tr>\n",
       "      <th>1795496</th>\n",
       "      <td>dragon</td>\n",
       "      <td>3927.0</td>\n",
       "    </tr>\n",
       "    <tr>\n",
       "      <th>3336606</th>\n",
       "      <td>123123</td>\n",
       "      <td>3845.0</td>\n",
       "    </tr>\n",
       "    <tr>\n",
       "      <th>3798071</th>\n",
       "      <td>baseball</td>\n",
       "      <td>3565.0</td>\n",
       "    </tr>\n",
       "  </tbody>\n",
       "</table>\n",
       "</div>"
      ],
      "text/plain": [
       "          Password    Times\n",
       "2715397     123456  55893.0\n",
       "3136279     qwerty  13137.0\n",
       "1175081  123456789  11696.0\n",
       "2363307      12345  10938.0\n",
       "2988373       1234   6432.0\n",
       "2307329     111111   5682.0\n",
       "3348280    1234567   4796.0\n",
       "1795496     dragon   3927.0\n",
       "3336606     123123   3845.0\n",
       "3798071   baseball   3565.0"
      ]
     },
     "execution_count": 9,
     "metadata": {},
     "output_type": "execute_result"
    }
   ],
   "source": [
    "df.sort_values('Times', ascending=False).head(10)"
   ]
  },
  {
   "cell_type": "markdown",
   "metadata": {},
   "source": [
    "`Хм, первые записи ликового файла очень похожи на отсортированный трейн. Видим знакомые 123456, qwerty и затем dragon - оказывается файлик не просто содержит пароли, но и ОТСОРТИРОВАН по частоте встречаемости`"
   ]
  },
  {
   "cell_type": "markdown",
   "metadata": {},
   "source": [
    "`Делаем левый джоин`"
   ]
  },
  {
   "cell_type": "code",
   "execution_count": 10,
   "metadata": {},
   "outputs": [],
   "source": [
    "tt = pd.merge(leak, df[['Password', 'Times']], on='Password', how='left')"
   ]
  },
  {
   "cell_type": "code",
   "execution_count": 11,
   "metadata": {},
   "outputs": [
    {
     "data": {
      "text/html": [
       "<div>\n",
       "<style scoped>\n",
       "    .dataframe tbody tr th:only-of-type {\n",
       "        vertical-align: middle;\n",
       "    }\n",
       "\n",
       "    .dataframe tbody tr th {\n",
       "        vertical-align: top;\n",
       "    }\n",
       "\n",
       "    .dataframe thead th {\n",
       "        text-align: right;\n",
       "    }\n",
       "</style>\n",
       "<table border=\"1\" class=\"dataframe\">\n",
       "  <thead>\n",
       "    <tr style=\"text-align: right;\">\n",
       "      <th></th>\n",
       "      <th>Password</th>\n",
       "      <th>Times</th>\n",
       "    </tr>\n",
       "  </thead>\n",
       "  <tbody>\n",
       "    <tr>\n",
       "      <th>0</th>\n",
       "      <td>123456</td>\n",
       "      <td>55893.0</td>\n",
       "    </tr>\n",
       "    <tr>\n",
       "      <th>1</th>\n",
       "      <td>password</td>\n",
       "      <td>NaN</td>\n",
       "    </tr>\n",
       "    <tr>\n",
       "      <th>2</th>\n",
       "      <td>12345678</td>\n",
       "      <td>NaN</td>\n",
       "    </tr>\n",
       "    <tr>\n",
       "      <th>3</th>\n",
       "      <td>qwerty</td>\n",
       "      <td>13137.0</td>\n",
       "    </tr>\n",
       "    <tr>\n",
       "      <th>4</th>\n",
       "      <td>123456789</td>\n",
       "      <td>11696.0</td>\n",
       "    </tr>\n",
       "    <tr>\n",
       "      <th>5</th>\n",
       "      <td>12345</td>\n",
       "      <td>10938.0</td>\n",
       "    </tr>\n",
       "    <tr>\n",
       "      <th>6</th>\n",
       "      <td>1234</td>\n",
       "      <td>6432.0</td>\n",
       "    </tr>\n",
       "    <tr>\n",
       "      <th>7</th>\n",
       "      <td>111111</td>\n",
       "      <td>5682.0</td>\n",
       "    </tr>\n",
       "    <tr>\n",
       "      <th>8</th>\n",
       "      <td>1234567</td>\n",
       "      <td>4796.0</td>\n",
       "    </tr>\n",
       "    <tr>\n",
       "      <th>9</th>\n",
       "      <td>dragon</td>\n",
       "      <td>3927.0</td>\n",
       "    </tr>\n",
       "    <tr>\n",
       "      <th>10</th>\n",
       "      <td>123123</td>\n",
       "      <td>3845.0</td>\n",
       "    </tr>\n",
       "    <tr>\n",
       "      <th>11</th>\n",
       "      <td>baseball</td>\n",
       "      <td>3565.0</td>\n",
       "    </tr>\n",
       "    <tr>\n",
       "      <th>12</th>\n",
       "      <td>abc123</td>\n",
       "      <td>3511.0</td>\n",
       "    </tr>\n",
       "    <tr>\n",
       "      <th>13</th>\n",
       "      <td>football</td>\n",
       "      <td>3494.0</td>\n",
       "    </tr>\n",
       "    <tr>\n",
       "      <th>14</th>\n",
       "      <td>monkey</td>\n",
       "      <td>NaN</td>\n",
       "    </tr>\n",
       "    <tr>\n",
       "      <th>15</th>\n",
       "      <td>letmein</td>\n",
       "      <td>3118.0</td>\n",
       "    </tr>\n",
       "    <tr>\n",
       "      <th>16</th>\n",
       "      <td>696969</td>\n",
       "      <td>NaN</td>\n",
       "    </tr>\n",
       "    <tr>\n",
       "      <th>17</th>\n",
       "      <td>shadow</td>\n",
       "      <td>2956.0</td>\n",
       "    </tr>\n",
       "    <tr>\n",
       "      <th>18</th>\n",
       "      <td>master</td>\n",
       "      <td>2931.0</td>\n",
       "    </tr>\n",
       "    <tr>\n",
       "      <th>19</th>\n",
       "      <td>666666</td>\n",
       "      <td>2905.0</td>\n",
       "    </tr>\n",
       "  </tbody>\n",
       "</table>\n",
       "</div>"
      ],
      "text/plain": [
       "     Password    Times\n",
       "0      123456  55893.0\n",
       "1    password      NaN\n",
       "2    12345678      NaN\n",
       "3      qwerty  13137.0\n",
       "4   123456789  11696.0\n",
       "5       12345  10938.0\n",
       "6        1234   6432.0\n",
       "7      111111   5682.0\n",
       "8     1234567   4796.0\n",
       "9      dragon   3927.0\n",
       "10     123123   3845.0\n",
       "11   baseball   3565.0\n",
       "12     abc123   3511.0\n",
       "13   football   3494.0\n",
       "14     monkey      NaN\n",
       "15    letmein   3118.0\n",
       "16     696969      NaN\n",
       "17     shadow   2956.0\n",
       "18     master   2931.0\n",
       "19     666666   2905.0"
      ]
     },
     "execution_count": 11,
     "metadata": {},
     "output_type": "execute_result"
    }
   ],
   "source": [
    "tt.head(20)"
   ]
  },
  {
   "cell_type": "markdown",
   "metadata": {},
   "source": [
    "`Там где на месте таргета Nan - пароли из тестовой выборки. Заполним пропуски как среднее значение строчки сверху и строчки снизу`"
   ]
  },
  {
   "cell_type": "code",
   "execution_count": 12,
   "metadata": {},
   "outputs": [],
   "source": [
    "tt['leak_backfill'] = tt.Times.fillna(method='backfill')\n",
    "tt['leak_ffill'] = tt.Times.fillna(method='ffill')"
   ]
  },
  {
   "cell_type": "code",
   "execution_count": 13,
   "metadata": {},
   "outputs": [],
   "source": [
    "tt['leak_nearest_mean'] = tt['leak_backfill']*0.5 + tt['leak_ffill']*0.5"
   ]
  },
  {
   "cell_type": "markdown",
   "metadata": {},
   "source": [
    "`Такое решение дает скор 0.00128 (топ-5)`"
   ]
  },
  {
   "cell_type": "markdown",
   "metadata": {},
   "source": [
    "---"
   ]
  },
  {
   "cell_type": "markdown",
   "metadata": {},
   "source": [
    "`Между тем осталось много паролей, у которых сосед сверху не совпадает с соседом снизу - это значение можно подкрутить`\n",
    "\n",
    "`Количество сабмитов ограничено 5, но это соревнование запускалось дважды. Разбиение на паблик и прайват поменялось, но тестовые данные остались те же! Это значит что можно пробивать лидерборд нового соревнования, делая Late сабмишены в первом (старом)`"
   ]
  },
  {
   "cell_type": "code",
   "execution_count": 40,
   "metadata": {
    "scrolled": true
   },
   "outputs": [
    {
     "data": {
      "text/plain": [
       "(330, 5)"
      ]
     },
     "execution_count": 40,
     "metadata": {},
     "output_type": "execute_result"
    }
   ],
   "source": [
    "tt[tt.leak_backfill != tt.leak_ffill].shape"
   ]
  },
  {
   "cell_type": "markdown",
   "metadata": {},
   "source": [
    "`Оказалось всего лишь 330 строк, где верхняя строчка не совпала с нижней`"
   ]
  },
  {
   "cell_type": "code",
   "execution_count": 47,
   "metadata": {
    "scrolled": true
   },
   "outputs": [
    {
     "data": {
      "text/html": [
       "<div>\n",
       "<style scoped>\n",
       "    .dataframe tbody tr th:only-of-type {\n",
       "        vertical-align: middle;\n",
       "    }\n",
       "\n",
       "    .dataframe tbody tr th {\n",
       "        vertical-align: top;\n",
       "    }\n",
       "\n",
       "    .dataframe thead th {\n",
       "        text-align: right;\n",
       "    }\n",
       "</style>\n",
       "<table border=\"1\" class=\"dataframe\">\n",
       "  <thead>\n",
       "    <tr style=\"text-align: right;\">\n",
       "      <th></th>\n",
       "      <th>Password</th>\n",
       "      <th>Times</th>\n",
       "      <th>leak_backfill</th>\n",
       "      <th>leak_ffill</th>\n",
       "      <th>leak_nearest_mean</th>\n",
       "    </tr>\n",
       "  </thead>\n",
       "  <tbody>\n",
       "    <tr>\n",
       "      <th>63565</th>\n",
       "      <td>zzz777</td>\n",
       "      <td>NaN</td>\n",
       "      <td>13.0</td>\n",
       "      <td>14.0</td>\n",
       "      <td>13.5</td>\n",
       "    </tr>\n",
       "    <tr>\n",
       "      <th>63566</th>\n",
       "      <td>zymurgy</td>\n",
       "      <td>NaN</td>\n",
       "      <td>13.0</td>\n",
       "      <td>14.0</td>\n",
       "      <td>13.5</td>\n",
       "    </tr>\n",
       "    <tr>\n",
       "      <th>72669</th>\n",
       "      <td>524524</td>\n",
       "      <td>NaN</td>\n",
       "      <td>12.0</td>\n",
       "      <td>11.0</td>\n",
       "      <td>11.5</td>\n",
       "    </tr>\n",
       "    <tr>\n",
       "      <th>81721</th>\n",
       "      <td>000000q</td>\n",
       "      <td>NaN</td>\n",
       "      <td>10.0</td>\n",
       "      <td>11.0</td>\n",
       "      <td>10.5</td>\n",
       "    </tr>\n",
       "    <tr>\n",
       "      <th>81722</th>\n",
       "      <td>ZZZZZZZZ</td>\n",
       "      <td>NaN</td>\n",
       "      <td>10.0</td>\n",
       "      <td>11.0</td>\n",
       "      <td>10.5</td>\n",
       "    </tr>\n",
       "    <tr>\n",
       "      <th>123787</th>\n",
       "      <td>car1</td>\n",
       "      <td>NaN</td>\n",
       "      <td>8.0</td>\n",
       "      <td>7.0</td>\n",
       "      <td>7.5</td>\n",
       "    </tr>\n",
       "    <tr>\n",
       "      <th>178958</th>\n",
       "      <td>anaan</td>\n",
       "      <td>NaN</td>\n",
       "      <td>6.0</td>\n",
       "      <td>5.0</td>\n",
       "      <td>5.5</td>\n",
       "    </tr>\n",
       "    <tr>\n",
       "      <th>343033</th>\n",
       "      <td>717400</td>\n",
       "      <td>NaN</td>\n",
       "      <td>2.0</td>\n",
       "      <td>3.0</td>\n",
       "      <td>2.5</td>\n",
       "    </tr>\n",
       "    <tr>\n",
       "      <th>369647</th>\n",
       "      <td>------</td>\n",
       "      <td>NaN</td>\n",
       "      <td>2.0</td>\n",
       "      <td>3.0</td>\n",
       "      <td>2.5</td>\n",
       "    </tr>\n",
       "    <tr>\n",
       "      <th>609736</th>\n",
       "      <td>caphorn</td>\n",
       "      <td>NaN</td>\n",
       "      <td>2.0</td>\n",
       "      <td>3.0</td>\n",
       "      <td>2.5</td>\n",
       "    </tr>\n",
       "  </tbody>\n",
       "</table>\n",
       "</div>"
      ],
      "text/plain": [
       "        Password  Times  leak_backfill  leak_ffill  leak_nearest_mean\n",
       "63565     zzz777    NaN           13.0        14.0               13.5\n",
       "63566    zymurgy    NaN           13.0        14.0               13.5\n",
       "72669     524524    NaN           12.0        11.0               11.5\n",
       "81721    000000q    NaN           10.0        11.0               10.5\n",
       "81722   ZZZZZZZZ    NaN           10.0        11.0               10.5\n",
       "123787      car1    NaN            8.0         7.0                7.5\n",
       "178958     anaan    NaN            6.0         5.0                5.5\n",
       "343033    717400    NaN            2.0         3.0                2.5\n",
       "369647    ------    NaN            2.0         3.0                2.5\n",
       "609736   caphorn    NaN            2.0         3.0                2.5"
      ]
     },
     "execution_count": 47,
     "metadata": {},
     "output_type": "execute_result"
    }
   ],
   "source": [
    "tt[tt.leak_backfill != tt.leak_ffill].tail(10)"
   ]
  },
  {
   "cell_type": "markdown",
   "metadata": {},
   "source": [
    "`Нам более интересны объекты с большой **относительной** разницей между строчками, потому что метрика RMSLE. Таким образом за примерно 20 сабмитов в старое соревнование можно получить правильные ответы для некоторых строк и снизить ошибку с 0.00128 до 0.00100 и ниже `"
   ]
  },
  {
   "cell_type": "code",
   "execution_count": null,
   "metadata": {},
   "outputs": [],
   "source": [
    "test.loc[test.Password == 'password', 'result'] = 19000\n",
    "test.loc[test.Password == '12345678', 'result'] = 13500\n",
    "test.loc[test.Password == 'car1', 'result'] = 7\n",
    "test.loc[test.Password == 'anaan', 'result'] = 5\n",
    "test.loc[test.Password == '000000q', 'result'] = 11\n",
    "test.loc[test.Password == 'ZZZZZZZZ', 'result'] = 11\n",
    "test.loc[test.Password == '717400', 'result'] = 3\n",
    "test.loc[test.Password == '------', 'result'] = 3\n",
    "test.loc[test.Password == 'caphorn', 'result'] = 2"
   ]
  },
  {
   "cell_type": "code",
   "execution_count": null,
   "metadata": {},
   "outputs": [],
   "source": []
  },
  {
   "cell_type": "code",
   "execution_count": null,
   "metadata": {},
   "outputs": [],
   "source": []
  },
  {
   "cell_type": "code",
   "execution_count": null,
   "metadata": {},
   "outputs": [],
   "source": []
  },
  {
   "cell_type": "code",
   "execution_count": null,
   "metadata": {},
   "outputs": [],
   "source": []
  }
 ],
 "metadata": {
  "kernelspec": {
   "display_name": "Python 3",
   "language": "python",
   "name": "python3"
  },
  "language_info": {
   "codemirror_mode": {
    "name": "ipython",
    "version": 3
   },
   "file_extension": ".py",
   "mimetype": "text/x-python",
   "name": "python",
   "nbconvert_exporter": "python",
   "pygments_lexer": "ipython3",
   "version": "3.7.2"
  },
  "toc": {
   "base_numbering": 1,
   "nav_menu": {},
   "number_sections": true,
   "sideBar": true,
   "skip_h1_title": false,
   "title_cell": "Table of Contents",
   "title_sidebar": "Contents",
   "toc_cell": false,
   "toc_position": {},
   "toc_section_display": true,
   "toc_window_display": false
  }
 },
 "nbformat": 4,
 "nbformat_minor": 2
}
