{
 "cells": [
  {
   "cell_type": "code",
   "execution_count": 51,
   "metadata": {},
   "outputs": [],
   "source": [
    "import numpy as np\n",
    "import pandas as pd\n",
    "\n",
    "import os\n",
    "import glob\n",
    "\n",
    "from sklearn.model_selection import cross_val_score, train_test_split\n",
    "from sklearn.metrics import mean_squared_error, mean_squared_log_error\n",
    "from sklearn.ensemble import RandomForestRegressor\n",
    "from lightgbm import LGBMRegressor\n",
    "\n",
    "from scipy.sparse import hstack\n",
    "from sklearn.feature_extraction.text import CountVectorizer, TfidfVectorizer\n",
    "import warnings\n",
    "warnings.filterwarnings('ignore')"
   ]
  },
  {
   "cell_type": "code",
   "execution_count": 53,
   "metadata": {},
   "outputs": [],
   "source": [
    "train = pd.read_csv('data/train.csv')\n",
    "test = pd.read_csv('data/Xtest.csv', index_col=0)"
   ]
  },
  {
   "cell_type": "code",
   "execution_count": 3,
   "metadata": {},
   "outputs": [],
   "source": [
    "def write_submission(pred_test, filename):\n",
    "    sample = pd.read_csv('data/sample_submission.csv', index_col='Id')\n",
    "    sample['Times'] = pred_test\n",
    "    sample.to_csv(filename)"
   ]
  },
  {
   "cell_type": "markdown",
   "metadata": {},
   "source": [
    "# Статистика паролей"
   ]
  },
  {
   "cell_type": "code",
   "execution_count": 4,
   "metadata": {},
   "outputs": [],
   "source": [
    "numbers = '0123456789'\n",
    "Aletters = 'ABCDEFGHIJKLMNOPQRSTUVWXYZ'\n",
    "aletters = 'abcdefghijklmnopqrstuvwxyz'\n",
    "vowel = 'AaEeIiOoUuYy'\n",
    "#consonant = 'bcdfghjklmnpqrstvwxz'\n",
    "characters = '!*-._@\\')$?#&%=;^\\\\+~['\n",
    "\n",
    "\n",
    "\n",
    "def transformAa(data):\n",
    "    X = pd.DataFrame()\n",
    "    X['Password']=data['Password'].fillna('NaN')\n",
    "    X['password']=X['Password'].apply(lambda x: str(x).lower())\n",
    "    X['len']=X['Password'].apply(lambda x: len(x))\n",
    "    \n",
    "\n",
    "    for i in numbers:\n",
    "        X[i]=X['Password'].apply(lambda x: x.count(i))\n",
    "    for i in Aletters:\n",
    "        X[i]=X['Password'].apply(lambda x: x.count(i))\n",
    "    for i in aletters:\n",
    "        X[i]=X['Password'].apply(lambda x: x.count(i))\n",
    "    for i in characters:\n",
    "        X[i]=X['Password'].apply(lambda x: x.count(i))\n",
    "        \n",
    "    X['max']=X[list(numbers + Aletters + aletters + characters)].max(axis=1)\n",
    "    \n",
    "    X['numbers'] = X[list(numbers)].sum(axis=1)/X['len']\n",
    "    X['Aletters'] = X[list(Aletters)].sum(axis=1)\n",
    "    X['aletters'] = X[list(aletters)].sum(axis=1)\n",
    "    X['vowel'] = X[list(vowel)].sum(axis=1) / (X['Aletters'] + X['aletters']+1)\n",
    "    \n",
    "    X['Aletters1'] = X[list(Aletters)].sum(axis=1)/X['len']\n",
    "    X['Aletters2'] = X[list(Aletters)].sum(axis=1)/(X['Aletters'] + X['aletters']+1)\n",
    "    \n",
    "    X['characters'] = X[list(characters)].sum(axis=1)/X['len']\n",
    "    \n",
    "        \n",
    "    #return X.drop('Password', axis=1)\n",
    "    return X[['Password', 'max', 'len', 'numbers', 'Aletters', 'Aletters1','Aletters2', 'aletters', 'vowel', 'characters']]"
   ]
  },
  {
   "cell_type": "code",
   "execution_count": 5,
   "metadata": {},
   "outputs": [],
   "source": [
    "XX = transformAa(train)\n",
    "y = np.log1p(train['Times'])"
   ]
  },
  {
   "cell_type": "code",
   "execution_count": 11,
   "metadata": {},
   "outputs": [],
   "source": [
    "test_f = transformAa(test)"
   ]
  },
  {
   "cell_type": "markdown",
   "metadata": {},
   "source": [
    "# Внешние данные"
   ]
  },
  {
   "cell_type": "code",
   "execution_count": 28,
   "metadata": {
    "scrolled": true
   },
   "outputs": [
    {
     "name": "stdout",
     "output_type": "stream",
     "text": [
      "False\n",
      "10-million-password-list-top-1000 (1000, 1) 1000\n",
      "False\n",
      "10-million-password-list-top-10000 (10000, 1) 10000\n",
      "True\n",
      "10-million-password-list-top-100000 (100000, 1) 100000\n",
      "True\n",
      "10-million-password-list-top-1000000 (999999, 1) 999998\n",
      "False\n",
      "10-million-password-list-top-500 (500, 1) 500\n",
      "True\n",
      "10k-most-common (10000, 1) 10000\n",
      "False\n",
      "best1050 (1049, 1) 1049\n",
      "False\n",
      "common-passwords-win (815, 1) 815\n",
      "True\n",
      "words (466544, 1) 466542\n",
      "False\n",
      "10-million-password-list-top-1000 (1000, 1) 1000\n",
      "False\n",
      "10-million-password-list-top-10000 (10000, 1) 10000\n",
      "False\n",
      "10-million-password-list-top-100000 (100000, 1) 100000\n",
      "False\n",
      "10-million-password-list-top-1000000 (999999, 1) 999998\n",
      "False\n",
      "10-million-password-list-top-500 (500, 1) 500\n",
      "False\n",
      "10k-most-common (10000, 1) 10000\n",
      "False\n",
      "best1050 (1049, 1) 1049\n",
      "False\n",
      "common-passwords-win (815, 1) 815\n",
      "False\n",
      "words (466544, 1) 466542\n",
      "10-million-password-list-top-1000 (1000, 1) 1000\n",
      "10-million-password-list-top-10000 (10000, 1) 10000\n",
      "10-million-password-list-top-100000 (100000, 1) 100000\n",
      "10-million-password-list-top-1000000 (999999, 1) 999998\n",
      "10-million-password-list-top-500 (500, 1) 500\n",
      "10k-most-common (10000, 1) 10000\n",
      "best1050 (1049, 1) 1049\n",
      "common-passwords-win (815, 1) 815\n",
      "words (466544, 1) 466542\n",
      "10-million-password-list-top-1000 (1000, 1) 1000\n",
      "10-million-password-list-top-10000 (10000, 1) 10000\n",
      "10-million-password-list-top-100000 (100000, 1) 100000\n",
      "10-million-password-list-top-1000000 (999999, 1) 999998\n",
      "10-million-password-list-top-500 (500, 1) 500\n",
      "10k-most-common (10000, 1) 10000\n",
      "best1050 (1049, 1) 1049\n",
      "common-passwords-win (815, 1) 815\n",
      "words (466544, 1) 466542\n"
     ]
    }
   ],
   "source": [
    "for i in glob.glob('data/exte/*.txt'):\n",
    "    file = pd.read_csv(i, header=None, sep='\\t')\n",
    "    passwords = set(file[0].values)\n",
    "    train[os.path.split(i)[1].split('.')[0]+'wout']=train['Password'].apply(lambda x: x in passwords)\n",
    "    test[os.path.split(i)[1].split('.')[0]+'wout']=test['Password'].apply(lambda x: x in passwords)\n",
    "    \n",
    "    print(np.nan in passwords)\n",
    "    print(os.path.split(i)[1].split('.')[0],file.shape, len(passwords))\n",
    "    \n",
    "for i in glob.glob('data/exte/*.txt'):\n",
    "    file = pd.read_csv(i, header=None, sep='\\t', dtype=str)\n",
    "    passwords = set(file.fillna('NaN')[0].values)\n",
    "    train[os.path.split(i)[1].split('.')[0]]=train['Password'].fillna('NaN').apply(lambda x: str(x).lower() in passwords)\n",
    "    test[os.path.split(i)[1].split('.')[0]]=test['Password'].fillna('NaN').apply(lambda x: str(x).lower() in passwords)\n",
    "    print(np.nan in passwords)\n",
    "    print(os.path.split(i)[1].split('.')[0],file.shape, len(passwords))\n",
    "    \n",
    "    \n",
    "for i in glob.glob('data/exte/*.txt'):\n",
    "    file = pd.read_csv(i, header=None, sep='\\t').fillna('NaN')\n",
    "    passwords = dict(zip(file[0], file.index))\n",
    "    train[os.path.split(i)[1].split('.')[0]+'wout1']=train['Password'].map(passwords).fillna(0).astype('int')\n",
    "    test[os.path.split(i)[1].split('.')[0]+'wout1']=test['Password'].map(passwords).fillna(0).astype('int')\n",
    "    \n",
    "    print(os.path.split(i)[1].split('.')[0],file.shape, len(passwords))\n",
    "    del passwords\n",
    "    \n",
    "    \n",
    "for i in glob.glob('data/exte/*.txt'):\n",
    "    file = pd.read_csv(i, header=None, sep='\\t', dtype=str).fillna('NaN')\n",
    "    passwords = dict(zip(file[0], file.index))\n",
    "    train[os.path.split(i)[1].split('.')[0]+'1']=train['Password'].map(lambda x: str(x).lower()).map(passwords).fillna(0).astype('int')\n",
    "    test[os.path.split(i)[1].split('.')[0]+'1']=test['Password'].map(lambda x: str(x).lower()).map(passwords).fillna(0).astype('int')\n",
    "\n",
    "    print(os.path.split(i)[1].split('.')[0],file.shape, len(passwords))\n",
    "    del passwords"
   ]
  },
  {
   "cell_type": "code",
   "execution_count": 29,
   "metadata": {},
   "outputs": [],
   "source": [
    "rockyou_dict = {}\n",
    "\n",
    "with open('data/rockyou-withcount.txt', 'r', encoding='utf-8', errors='ignore') as file:\n",
    "    for row in file:\n",
    "        times_pass = row.split()\n",
    "        if len(times_pass)==2:\n",
    "            times, password = times_pass\n",
    "            if password not in rockyou_dict:\n",
    "                rockyou_dict[password]=times"
   ]
  },
  {
   "cell_type": "code",
   "execution_count": 30,
   "metadata": {},
   "outputs": [],
   "source": [
    "train['rockyou'] = train['Password'].map(rockyou_dict).fillna(0).astype('int')\n",
    "test['rockyou'] = test['Password'].map(rockyou_dict).fillna(0).astype('int')"
   ]
  },
  {
   "cell_type": "code",
   "execution_count": 34,
   "metadata": {},
   "outputs": [],
   "source": [
    "cols = ['10-million-password-list-top-10000wout1',\n",
    "        '10-million-password-list-top-100000wout1',\n",
    "        '10-million-password-list-top-1000000wout1',\n",
    "        '10-million-password-list-top-500wout1', 'wordswout1',\n",
    "        '10-million-password-list-top-10001',\n",
    "        '10-million-password-list-top-1000001',\n",
    "        '10-million-password-list-top-10000001',\n",
    "        '10-million-password-list-top-5001', '10k-most-common1', 'best10501',\n",
    "        'common-passwords-win1', 'words1', 'rockyou',\n",
    "        '10-million-password-list-top-1000wout',\n",
    "        '10-million-password-list-top-100000wout',\n",
    "        '10-million-password-list-top-1000000wout',\n",
    "        '10-million-password-list-top-500']\n",
    "\n",
    "def transform(data):\n",
    "    X=data.fillna('NaN').copy()\n",
    "    return X[cols]"
   ]
  },
  {
   "cell_type": "code",
   "execution_count": 35,
   "metadata": {},
   "outputs": [
    {
     "data": {
      "text/html": [
       "<div>\n",
       "<style scoped>\n",
       "    .dataframe tbody tr th:only-of-type {\n",
       "        vertical-align: middle;\n",
       "    }\n",
       "\n",
       "    .dataframe tbody tr th {\n",
       "        vertical-align: top;\n",
       "    }\n",
       "\n",
       "    .dataframe thead th {\n",
       "        text-align: right;\n",
       "    }\n",
       "</style>\n",
       "<table border=\"1\" class=\"dataframe\">\n",
       "  <thead>\n",
       "    <tr style=\"text-align: right;\">\n",
       "      <th></th>\n",
       "      <th>Password</th>\n",
       "      <th>Times</th>\n",
       "      <th>10-million-password-list-top-1000wout</th>\n",
       "      <th>10-million-password-list-top-10000wout</th>\n",
       "      <th>10-million-password-list-top-100000wout</th>\n",
       "      <th>10-million-password-list-top-1000000wout</th>\n",
       "      <th>10-million-password-list-top-500wout</th>\n",
       "      <th>10k-most-commonwout</th>\n",
       "      <th>best1050wout</th>\n",
       "      <th>common-passwords-winwout</th>\n",
       "      <th>...</th>\n",
       "      <th>10-million-password-list-top-10001</th>\n",
       "      <th>10-million-password-list-top-100001</th>\n",
       "      <th>10-million-password-list-top-1000001</th>\n",
       "      <th>10-million-password-list-top-10000001</th>\n",
       "      <th>10-million-password-list-top-5001</th>\n",
       "      <th>10k-most-common1</th>\n",
       "      <th>best10501</th>\n",
       "      <th>common-passwords-win1</th>\n",
       "      <th>words1</th>\n",
       "      <th>rockyou</th>\n",
       "    </tr>\n",
       "  </thead>\n",
       "  <tbody>\n",
       "    <tr>\n",
       "      <th>0</th>\n",
       "      <td>631XniVx2lS5I</td>\n",
       "      <td>2</td>\n",
       "      <td>False</td>\n",
       "      <td>False</td>\n",
       "      <td>False</td>\n",
       "      <td>True</td>\n",
       "      <td>False</td>\n",
       "      <td>False</td>\n",
       "      <td>False</td>\n",
       "      <td>False</td>\n",
       "      <td>...</td>\n",
       "      <td>0</td>\n",
       "      <td>0</td>\n",
       "      <td>0</td>\n",
       "      <td>0</td>\n",
       "      <td>0</td>\n",
       "      <td>0</td>\n",
       "      <td>0</td>\n",
       "      <td>0</td>\n",
       "      <td>0</td>\n",
       "      <td>0</td>\n",
       "    </tr>\n",
       "    <tr>\n",
       "      <th>1</th>\n",
       "      <td>LEGIT747</td>\n",
       "      <td>1</td>\n",
       "      <td>False</td>\n",
       "      <td>False</td>\n",
       "      <td>False</td>\n",
       "      <td>False</td>\n",
       "      <td>False</td>\n",
       "      <td>False</td>\n",
       "      <td>False</td>\n",
       "      <td>False</td>\n",
       "      <td>...</td>\n",
       "      <td>0</td>\n",
       "      <td>0</td>\n",
       "      <td>0</td>\n",
       "      <td>0</td>\n",
       "      <td>0</td>\n",
       "      <td>0</td>\n",
       "      <td>0</td>\n",
       "      <td>0</td>\n",
       "      <td>0</td>\n",
       "      <td>0</td>\n",
       "    </tr>\n",
       "    <tr>\n",
       "      <th>2</th>\n",
       "      <td>742364es</td>\n",
       "      <td>1</td>\n",
       "      <td>False</td>\n",
       "      <td>False</td>\n",
       "      <td>False</td>\n",
       "      <td>False</td>\n",
       "      <td>False</td>\n",
       "      <td>False</td>\n",
       "      <td>False</td>\n",
       "      <td>False</td>\n",
       "      <td>...</td>\n",
       "      <td>0</td>\n",
       "      <td>0</td>\n",
       "      <td>0</td>\n",
       "      <td>0</td>\n",
       "      <td>0</td>\n",
       "      <td>0</td>\n",
       "      <td>0</td>\n",
       "      <td>0</td>\n",
       "      <td>0</td>\n",
       "      <td>0</td>\n",
       "    </tr>\n",
       "    <tr>\n",
       "      <th>3</th>\n",
       "      <td>3846696477</td>\n",
       "      <td>1</td>\n",
       "      <td>False</td>\n",
       "      <td>False</td>\n",
       "      <td>False</td>\n",
       "      <td>False</td>\n",
       "      <td>False</td>\n",
       "      <td>False</td>\n",
       "      <td>False</td>\n",
       "      <td>False</td>\n",
       "      <td>...</td>\n",
       "      <td>0</td>\n",
       "      <td>0</td>\n",
       "      <td>0</td>\n",
       "      <td>0</td>\n",
       "      <td>0</td>\n",
       "      <td>0</td>\n",
       "      <td>0</td>\n",
       "      <td>0</td>\n",
       "      <td>0</td>\n",
       "      <td>0</td>\n",
       "    </tr>\n",
       "    <tr>\n",
       "      <th>4</th>\n",
       "      <td>laurahop</td>\n",
       "      <td>2</td>\n",
       "      <td>False</td>\n",
       "      <td>False</td>\n",
       "      <td>False</td>\n",
       "      <td>True</td>\n",
       "      <td>False</td>\n",
       "      <td>False</td>\n",
       "      <td>False</td>\n",
       "      <td>False</td>\n",
       "      <td>...</td>\n",
       "      <td>0</td>\n",
       "      <td>0</td>\n",
       "      <td>0</td>\n",
       "      <td>508057</td>\n",
       "      <td>0</td>\n",
       "      <td>0</td>\n",
       "      <td>0</td>\n",
       "      <td>0</td>\n",
       "      <td>0</td>\n",
       "      <td>0</td>\n",
       "    </tr>\n",
       "  </tbody>\n",
       "</table>\n",
       "<p>5 rows × 39 columns</p>\n",
       "</div>"
      ],
      "text/plain": [
       "        Password  Times  10-million-password-list-top-1000wout  \\\n",
       "0  631XniVx2lS5I      2                                  False   \n",
       "1       LEGIT747      1                                  False   \n",
       "2       742364es      1                                  False   \n",
       "3     3846696477      1                                  False   \n",
       "4       laurahop      2                                  False   \n",
       "\n",
       "   10-million-password-list-top-10000wout  \\\n",
       "0                                   False   \n",
       "1                                   False   \n",
       "2                                   False   \n",
       "3                                   False   \n",
       "4                                   False   \n",
       "\n",
       "   10-million-password-list-top-100000wout  \\\n",
       "0                                    False   \n",
       "1                                    False   \n",
       "2                                    False   \n",
       "3                                    False   \n",
       "4                                    False   \n",
       "\n",
       "   10-million-password-list-top-1000000wout  \\\n",
       "0                                      True   \n",
       "1                                     False   \n",
       "2                                     False   \n",
       "3                                     False   \n",
       "4                                      True   \n",
       "\n",
       "   10-million-password-list-top-500wout  10k-most-commonwout  best1050wout  \\\n",
       "0                                 False                False         False   \n",
       "1                                 False                False         False   \n",
       "2                                 False                False         False   \n",
       "3                                 False                False         False   \n",
       "4                                 False                False         False   \n",
       "\n",
       "   common-passwords-winwout   ...     10-million-password-list-top-10001  \\\n",
       "0                     False   ...                                      0   \n",
       "1                     False   ...                                      0   \n",
       "2                     False   ...                                      0   \n",
       "3                     False   ...                                      0   \n",
       "4                     False   ...                                      0   \n",
       "\n",
       "   10-million-password-list-top-100001  10-million-password-list-top-1000001  \\\n",
       "0                                    0                                     0   \n",
       "1                                    0                                     0   \n",
       "2                                    0                                     0   \n",
       "3                                    0                                     0   \n",
       "4                                    0                                     0   \n",
       "\n",
       "   10-million-password-list-top-10000001  10-million-password-list-top-5001  \\\n",
       "0                                      0                                  0   \n",
       "1                                      0                                  0   \n",
       "2                                      0                                  0   \n",
       "3                                      0                                  0   \n",
       "4                                 508057                                  0   \n",
       "\n",
       "   10k-most-common1  best10501  common-passwords-win1  words1  rockyou  \n",
       "0                 0          0                      0       0        0  \n",
       "1                 0          0                      0       0        0  \n",
       "2                 0          0                      0       0        0  \n",
       "3                 0          0                      0       0        0  \n",
       "4                 0          0                      0       0        0  \n",
       "\n",
       "[5 rows x 39 columns]"
      ]
     },
     "execution_count": 35,
     "metadata": {},
     "output_type": "execute_result"
    }
   ],
   "source": [
    "train.head()"
   ]
  },
  {
   "cell_type": "code",
   "execution_count": 36,
   "metadata": {},
   "outputs": [],
   "source": [
    "my_train_exte_rych = transform(train)\n",
    "my_test_exte_rych = transform(test)"
   ]
  },
  {
   "cell_type": "code",
   "execution_count": 38,
   "metadata": {},
   "outputs": [],
   "source": [
    "XX_fext = pd.concat([XX, my_train_exte_rych], axis=1).drop(columns='Password').astype('float64')\n",
    "test_fext = pd.concat([test_f, my_test_exte_rych], axis=1).drop(columns='Password').astype('float64')"
   ]
  },
  {
   "cell_type": "markdown",
   "metadata": {},
   "source": [
    "# Tfidf"
   ]
  },
  {
   "cell_type": "code",
   "execution_count": 43,
   "metadata": {},
   "outputs": [],
   "source": [
    "countv1 = TfidfVectorizer(analyzer='char',lowercase=False,ngram_range=(1,1), max_features=100)\n",
    "countv2 = TfidfVectorizer(analyzer='char',lowercase=False,ngram_range=(2,2), max_features=1000)\n",
    "countv3 = TfidfVectorizer(analyzer='char',lowercase=False,ngram_range=(3,3), max_features=1000)\n",
    "countv4 = TfidfVectorizer(analyzer='char',lowercase=False,ngram_range=(4,4), max_features=1000)\n",
    "countv5 = TfidfVectorizer(analyzer='char',lowercase=False,ngram_range=(5,5), max_features=1000)"
   ]
  },
  {
   "cell_type": "code",
   "execution_count": 44,
   "metadata": {},
   "outputs": [],
   "source": [
    "XX1 = countv1.fit_transform(XX['Password'])\n",
    "XX2 = countv2.fit_transform(XX['Password'])\n",
    "XX3 = countv3.fit_transform(XX['Password'])\n",
    "XX4 = countv4.fit_transform(XX['Password'])\n",
    "XX5 = countv5.fit_transform(XX['Password'])\n",
    "\n",
    "XX_f = hstack([XX1, XX2, XX3, XX4, XX5, XX_fext])"
   ]
  },
  {
   "cell_type": "code",
   "execution_count": 45,
   "metadata": {},
   "outputs": [],
   "source": [
    "test1 = countv1.transform(test_f['Password'])\n",
    "test2 = countv2.transform(test_f['Password'])\n",
    "test3 = countv3.transform(test_f['Password'])\n",
    "test4 = countv4.transform(test_f['Password'])\n",
    "test5 = countv5.transform(test_f['Password'])\n",
    "\n",
    "test_ff = hstack([test1, test2, test3, test4, test5, test_fext])"
   ]
  },
  {
   "cell_type": "markdown",
   "metadata": {},
   "source": [
    "# Модель"
   ]
  },
  {
   "cell_type": "code",
   "execution_count": 40,
   "metadata": {},
   "outputs": [
    {
     "data": {
      "text/plain": [
       "LGBMRegressor(boosting_type='gbdt', class_weight=None, colsample_bytree=1.0,\n",
       "       importance_type='split', learning_rate=0.1, max_depth=20,\n",
       "       min_child_samples=20, min_child_weight=0.001, min_split_gain=0.0,\n",
       "       n_estimators=200, n_jobs=-1, num_leaves=31, objective=None,\n",
       "       random_state=None, reg_alpha=0.0, reg_lambda=0.0, silent=True,\n",
       "       subsample=1.0, subsample_for_bin=200000, subsample_freq=0)"
      ]
     },
     "execution_count": 40,
     "metadata": {},
     "output_type": "execute_result"
    }
   ],
   "source": [
    "lgb = LGBMRegressor(n_estimators=200, max_depth=20, n_jobs=-1)\n",
    "lgb.fit(XX_fext, y)\n",
    "pred_test = lgb.predict(test_fext)\n",
    "pred_test = [i if i>np.log1p(1) else np.log1p(1) for i in pred_test]\n",
    "pred_test = np.expm1(pred_test)\n",
    "write_submission(pred_test, 'submissions/extdata_ry_stat1.csv') # private = 0.00268, public = 0.00403"
   ]
  },
  {
   "cell_type": "code",
   "execution_count": 46,
   "metadata": {},
   "outputs": [
    {
     "data": {
      "text/plain": [
       "LGBMRegressor(boosting_type='gbdt', class_weight=None, colsample_bytree=1.0,\n",
       "       importance_type='split', learning_rate=0.1, max_depth=20,\n",
       "       min_child_samples=20, min_child_weight=0.001, min_split_gain=0.0,\n",
       "       n_estimators=200, n_jobs=-1, num_leaves=31, objective=None,\n",
       "       random_state=None, reg_alpha=0.0, reg_lambda=0.0, silent=True,\n",
       "       subsample=1.0, subsample_for_bin=200000, subsample_freq=0)"
      ]
     },
     "execution_count": 46,
     "metadata": {},
     "output_type": "execute_result"
    }
   ],
   "source": [
    "lgb = LGBMRegressor(n_estimators=200, max_depth=20, n_jobs=-1)\n",
    "lgb.fit(XX_f, y)\n",
    "pred_test = lgb.predict(test_ff)\n",
    "pred_test = [i if i>np.log1p(1) else np.log1p(1) for i in pred_test]\n",
    "pred_test = np.expm1(pred_test)\n",
    "write_submission(pred_test, 'submissions/extdata_ry_stat_tfidf.csv') # private = 0.00262, public = 0.00423"
   ]
  },
  {
   "cell_type": "code",
   "execution_count": 52,
   "metadata": {},
   "outputs": [
    {
     "name": "stdout",
     "output_type": "stream",
     "text": [
      "CPU times: user 3min 2s, sys: 1.54 s, total: 3min 4s\n",
      "Wall time: 59.2 s\n"
     ]
    }
   ],
   "source": [
    "%%time\n",
    "rf = RandomForestRegressor(n_estimators=10, max_depth=10, n_jobs=-1)\n",
    "rf.fit(XX_fext, y)\n",
    "pred_test = rf.predict(test_fext)\n",
    "pred_test = [i if i>np.log1p(1) else np.log1p(1) for i in pred_test]\n",
    "pred_test = np.expm1(pred_test)\n",
    "write_submission(pred_test, 'submissions/extdata_ry_stat_rf.csv') #private=0.00134,public=0.00306"
   ]
  }
 ],
 "metadata": {
  "kernelspec": {
   "display_name": "Python 3",
   "language": "python",
   "name": "python3"
  },
  "language_info": {
   "codemirror_mode": {
    "name": "ipython",
    "version": 3
   },
   "file_extension": ".py",
   "mimetype": "text/x-python",
   "name": "python",
   "nbconvert_exporter": "python",
   "pygments_lexer": "ipython3",
   "version": "3.6.7"
  }
 },
 "nbformat": 4,
 "nbformat_minor": 2
}
