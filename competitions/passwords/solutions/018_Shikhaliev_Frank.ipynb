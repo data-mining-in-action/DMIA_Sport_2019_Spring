{
  "nbformat": 4,
  "nbformat_minor": 0,
  "metadata": {
    "colab": {
      "name": "DMIA competition basic 12022019.ipynb",
      "version": "0.3.2",
      "provenance": [],
      "collapsed_sections": []
    },
    "kernelspec": {
      "display_name": "Python [Anaconda3]",
      "language": "python",
      "name": "Python [Anaconda3]"
    },
    "accelerator": "GPU"
  },
  "cells": [
    {
      "metadata": {
        "id": "hTozQavrnR_m",
        "colab_type": "code",
        "outputId": "1b1ef933-0b96-48f4-d5e9-2c26e8d1b63f",
        "colab": {
          "base_uri": "https://localhost:8080/",
          "height": 54
        }
      },
      "cell_type": "code",
      "source": [
        "'''\n",
        "1 простота\n",
        "количество символов\n",
        "длина\n",
        "номер - число\n",
        "только числа\n",
        "слова из словаря\n",
        "словат типовые\n",
        "слова сложные\n",
        "однокренное двукоренное\n",
        "наличие аглавных и прописных\n",
        "количество заглавных\n",
        "количество прописных\n",
        "наличие числа между заглавными и прописными\n",
        "\n",
        "оптимальная константа\n",
        "'''"
      ],
      "execution_count": 0,
      "outputs": [
        {
          "output_type": "execute_result",
          "data": {
            "text/plain": [
              "'\\n1 \\xd0\\xbf\\xd1\\x80\\xd0\\xbe\\xd1\\x81\\xd1\\x82\\xd0\\xbe\\xd1\\x82\\xd0\\xb0\\n\\xd0\\xba\\xd0\\xbe\\xd0\\xbb\\xd0\\xb8\\xd1\\x87\\xd0\\xb5\\xd1\\x81\\xd1\\x82\\xd0\\xb2\\xd0\\xbe \\xd1\\x81\\xd0\\xb8\\xd0\\xbc\\xd0\\xb2\\xd0\\xbe\\xd0\\xbb\\xd0\\xbe\\xd0\\xb2\\n\\xd0\\xb4\\xd0\\xbb\\xd0\\xb8\\xd0\\xbd\\xd0\\xb0\\n\\xd0\\xbd\\xd0\\xbe\\xd0\\xbc\\xd0\\xb5\\xd1\\x80\\n\\xd1\\x82\\xd0\\xbe\\xd0\\xbb\\xd1\\x8c\\xd0\\xba\\xd0\\xbe \\xd1\\x87\\xd0\\xb8\\xd1\\x81\\xd0\\xbb\\xd0\\xb0\\n\\xd1\\x81\\xd0\\xbb\\xd0\\xbe\\xd0\\xb2\\xd0\\xb0 \\xd0\\xb8\\xd0\\xb7 \\xd1\\x81\\xd0\\xbb\\xd0\\xbe\\xd0\\xb2\\xd0\\xb0\\xd1\\x80\\xd1\\x8f\\n\\xd1\\x81\\xd0\\xbb\\xd0\\xbe\\xd0\\xb2\\xd0\\xb0\\xd1\\x82 \\xd1\\x82\\xd0\\xb8\\xd0\\xbf\\xd0\\xbe\\xd0\\xb2\\xd1\\x8b\\xd0\\xb5\\n\\xd1\\x81\\xd0\\xbb\\xd0\\xbe\\xd0\\xb2\\xd0\\xb0 \\xd1\\x81\\xd0\\xbb\\xd0\\xbe\\xd0\\xb6\\xd0\\xbd\\xd1\\x8b\\xd0\\xb5\\n\\xd0\\xbe\\xd0\\xb4\\xd0\\xbd\\xd0\\xbe\\xd0\\xba\\xd1\\x80\\xd0\\xb5\\xd0\\xbd\\xd0\\xbd\\xd0\\xbe\\xd0\\xb5 \\xd0\\xb4\\xd0\\xb2\\xd1\\x83\\xd0\\xba\\xd0\\xbe\\xd1\\x80\\xd0\\xb5\\xd0\\xbd\\xd0\\xbd\\xd0\\xbe\\xd0\\xb5\\n\\xd0\\xbd\\xd0\\xb0\\xd0\\xbb\\xd0\\xb8\\xd1\\x87\\xd0\\xb8\\xd0\\xb5 \\xd0\\xb0\\xd0\\xb3\\xd0\\xbb\\xd0\\xb0\\xd0\\xb2\\xd0\\xbd\\xd1\\x8b\\xd1\\x85 \\xd0\\xb8 \\xd0\\xbf\\xd1\\x80\\xd0\\xbe\\xd0\\xbf\\xd0\\xb8\\xd1\\x81\\xd0\\xbd\\xd1\\x8b\\xd1\\x85\\n\\xd0\\xba\\xd0\\xbe\\xd0\\xbb\\xd0\\xb8\\xd1\\x87\\xd0\\xb5\\xd1\\x81\\xd1\\x82\\xd0\\xb2\\xd0\\xbe \\xd0\\xb7\\xd0\\xb0\\xd0\\xb3\\xd0\\xbb\\xd0\\xb0\\xd0\\xb2\\xd0\\xbd\\xd1\\x8b\\xd1\\x85\\n\\xd0\\xba\\xd0\\xbe\\xd0\\xbb\\xd0\\xb8\\xd1\\x87\\xd0\\xb5\\xd1\\x81\\xd1\\x82\\xd0\\xb2\\xd0\\xbe \\xd0\\xbf\\xd1\\x80\\xd0\\xbe\\xd0\\xbf\\xd0\\xb8\\xd1\\x81\\xd0\\xbd\\xd1\\x8b\\xd1\\x85\\n\\xd0\\xbd\\xd0\\xb0\\xd0\\xbb\\xd0\\xb8\\xd1\\x87\\xd0\\xb8\\xd0\\xb5 \\xd1\\x87\\xd0\\xb8\\xd1\\x81\\xd0\\xbb\\xd0\\xb0 \\xd0\\xbc\\xd0\\xb5\\xd0\\xb6\\xd0\\xb4\\xd1\\x83 \\xd0\\xb7\\xd0\\xb0\\xd0\\xb3\\xd0\\xbb\\xd0\\xb0\\xd0\\xb2\\xd0\\xbd\\xd1\\x8b\\xd0\\xbc\\xd0\\xb8 \\xd0\\xb8 \\xd0\\xbf\\xd1\\x80\\xd0\\xbe\\xd0\\xbf\\xd0\\xb8\\xd1\\x81\\xd0\\xbd\\xd1\\x8b\\xd0\\xbc\\xd0\\xb8\\n\\n\\xd0\\xbe\\xd0\\xbf\\xd1\\x82\\xd0\\xb8\\xd0\\xbc\\xd0\\xb0\\xd0\\xbb\\xd1\\x8c\\xd0\\xbd\\xd0\\xb0\\xd1\\x8f \\xd0\\xba\\xd0\\xbe\\xd0\\xbd\\xd1\\x81\\xd1\\x82\\xd0\\xb0\\xd0\\xbd\\xd1\\x82\\xd0\\xb0\\n'"
            ]
          },
          "metadata": {
            "tags": []
          },
          "execution_count": 28
        }
      ]
    },
    {
      "metadata": {
        "id": "nzQCpsm5Od3p",
        "colab_type": "code",
        "colab": {}
      },
      "cell_type": "code",
      "source": [
        "import pandas as pd\n",
        "import numpy as np\n",
        "import matplotlib.pyplot as plt\n",
        "%matplotlib inline\n",
        "# imports needed and logging\n",
        "import gzip\n",
        "import gensim \n",
        "import logging\n",
        "logging.basicConfig(format='%(asctime)s : %(levelname)s : %(message)s', level=logging.INFO)\n",
        "import os\n",
        "import gc\n",
        "\n",
        "from sklearn.model_selection import train_test_split\n",
        "from sklearn import metrics\n",
        "from sklearn import preprocessing\n",
        "from pandas import read_csv, DataFrame\n",
        "from sklearn.metrics import roc_curve\n",
        "from sklearn.naive_bayes import GaussianNB\n",
        "from sklearn.decomposition import PCA\n",
        "\n",
        "!pip install -q zxcvbn\n",
        "import zxcvbn  as zx\n",
        "import xgboost\n",
        "\n",
        "import numpy\n",
        "import numpy as np\n",
        "from sklearn.ensemble import RandomForestRegressor, GradientBoostingRegressor\n",
        "from sklearn.metrics import make_scorer\n",
        "from sklearn.model_selection import cross_val_score"
      ],
      "execution_count": 0,
      "outputs": []
    },
    {
      "metadata": {
        "id": "OWN9J6wToyv0",
        "colab_type": "code",
        "colab": {}
      },
      "cell_type": "code",
      "source": [
        "import math"
      ],
      "execution_count": 0,
      "outputs": []
    },
    {
      "metadata": {
        "id": "lgYhsCSW11u0",
        "colab_type": "code",
        "colab": {}
      },
      "cell_type": "code",
      "source": [
        ""
      ],
      "execution_count": 0,
      "outputs": []
    },
    {
      "metadata": {
        "id": "qRJh4S8POnt9",
        "colab_type": "code",
        "outputId": "7def1875-c0b4-4750-f18e-f640b5d37c23",
        "colab": {
          "base_uri": "https://localhost:8080/",
          "height": 34
        }
      },
      "cell_type": "code",
      "source": [
        "from google.colab import drive\n",
        "drive.mount('/content/gdrive')"
      ],
      "execution_count": 0,
      "outputs": [
        {
          "output_type": "stream",
          "text": [
            "Drive already mounted at /content/gdrive; to attempt to forcibly remount, call drive.mount(\"/content/gdrive\", force_remount=True).\n"
          ],
          "name": "stdout"
        }
      ]
    },
    {
      "metadata": {
        "id": "xT7TiNpkOd4J",
        "colab_type": "code",
        "colab": {}
      },
      "cell_type": "code",
      "source": [
        "url = '/content/gdrive/My Drive/Холдинг/Mind-set/DMIA/dmia-sport-2019-spring/DMIA_sample_submission.csv'\n",
        "sample_subm = pd.read_csv(url, encoding='utf-8')"
      ],
      "execution_count": 0,
      "outputs": []
    },
    {
      "metadata": {
        "id": "3O-gN0EQOd4Q",
        "colab_type": "code",
        "outputId": "598b64cc-acbf-48ce-a24b-5e25ebba787d",
        "colab": {
          "base_uri": "https://localhost:8080/",
          "height": 195
        }
      },
      "cell_type": "code",
      "source": [
        "sample_subm.head()"
      ],
      "execution_count": 0,
      "outputs": [
        {
          "output_type": "execute_result",
          "data": {
            "text/html": [
              "<div>\n",
              "<style scoped>\n",
              "    .dataframe tbody tr th:only-of-type {\n",
              "        vertical-align: middle;\n",
              "    }\n",
              "\n",
              "    .dataframe tbody tr th {\n",
              "        vertical-align: top;\n",
              "    }\n",
              "\n",
              "    .dataframe thead th {\n",
              "        text-align: right;\n",
              "    }\n",
              "</style>\n",
              "<table border=\"1\" class=\"dataframe\">\n",
              "  <thead>\n",
              "    <tr style=\"text-align: right;\">\n",
              "      <th></th>\n",
              "      <th>Id</th>\n",
              "      <th>Times</th>\n",
              "    </tr>\n",
              "  </thead>\n",
              "  <tbody>\n",
              "    <tr>\n",
              "      <th>0</th>\n",
              "      <td>0</td>\n",
              "      <td>1.922133</td>\n",
              "    </tr>\n",
              "    <tr>\n",
              "      <th>1</th>\n",
              "      <td>1</td>\n",
              "      <td>1.922133</td>\n",
              "    </tr>\n",
              "    <tr>\n",
              "      <th>2</th>\n",
              "      <td>2</td>\n",
              "      <td>1.922133</td>\n",
              "    </tr>\n",
              "    <tr>\n",
              "      <th>3</th>\n",
              "      <td>3</td>\n",
              "      <td>1.922133</td>\n",
              "    </tr>\n",
              "    <tr>\n",
              "      <th>4</th>\n",
              "      <td>4</td>\n",
              "      <td>1.922133</td>\n",
              "    </tr>\n",
              "  </tbody>\n",
              "</table>\n",
              "</div>"
            ],
            "text/plain": [
              "   Id     Times\n",
              "0   0  1.922133\n",
              "1   1  1.922133\n",
              "2   2  1.922133\n",
              "3   3  1.922133\n",
              "4   4  1.922133"
            ]
          },
          "metadata": {
            "tags": []
          },
          "execution_count": 5
        }
      ]
    },
    {
      "metadata": {
        "id": "DXWaV0dDOd4Y",
        "colab_type": "code",
        "colab": {}
      },
      "cell_type": "code",
      "source": [
        "url = '/content/gdrive/My Drive/Холдинг/Mind-set/DMIA/dmia-sport-2019-spring/DMIA_train.csv'\n",
        "train = pd.read_csv(url, encoding='utf-8')"
      ],
      "execution_count": 0,
      "outputs": []
    },
    {
      "metadata": {
        "id": "HGYgiJG3Od4e",
        "colab_type": "code",
        "outputId": "31308416-497c-4d29-ca27-c60f1037e200",
        "colab": {
          "base_uri": "https://localhost:8080/",
          "height": 195
        }
      },
      "cell_type": "code",
      "source": [
        "train.head()"
      ],
      "execution_count": 0,
      "outputs": [
        {
          "output_type": "execute_result",
          "data": {
            "text/html": [
              "<div>\n",
              "<style scoped>\n",
              "    .dataframe tbody tr th:only-of-type {\n",
              "        vertical-align: middle;\n",
              "    }\n",
              "\n",
              "    .dataframe tbody tr th {\n",
              "        vertical-align: top;\n",
              "    }\n",
              "\n",
              "    .dataframe thead th {\n",
              "        text-align: right;\n",
              "    }\n",
              "</style>\n",
              "<table border=\"1\" class=\"dataframe\">\n",
              "  <thead>\n",
              "    <tr style=\"text-align: right;\">\n",
              "      <th></th>\n",
              "      <th>Password</th>\n",
              "      <th>Times</th>\n",
              "    </tr>\n",
              "  </thead>\n",
              "  <tbody>\n",
              "    <tr>\n",
              "      <th>0</th>\n",
              "      <td>631XniVx2lS5I</td>\n",
              "      <td>2</td>\n",
              "    </tr>\n",
              "    <tr>\n",
              "      <th>1</th>\n",
              "      <td>LEGIT747</td>\n",
              "      <td>1</td>\n",
              "    </tr>\n",
              "    <tr>\n",
              "      <th>2</th>\n",
              "      <td>742364es</td>\n",
              "      <td>1</td>\n",
              "    </tr>\n",
              "    <tr>\n",
              "      <th>3</th>\n",
              "      <td>3846696477</td>\n",
              "      <td>1</td>\n",
              "    </tr>\n",
              "    <tr>\n",
              "      <th>4</th>\n",
              "      <td>laurahop</td>\n",
              "      <td>2</td>\n",
              "    </tr>\n",
              "  </tbody>\n",
              "</table>\n",
              "</div>"
            ],
            "text/plain": [
              "        Password  Times\n",
              "0  631XniVx2lS5I      2\n",
              "1       LEGIT747      1\n",
              "2       742364es      1\n",
              "3     3846696477      1\n",
              "4       laurahop      2"
            ]
          },
          "metadata": {
            "tags": []
          },
          "execution_count": 7
        }
      ]
    },
    {
      "metadata": {
        "id": "GT9jv9HUOd4n",
        "colab_type": "code",
        "colab": {}
      },
      "cell_type": "code",
      "source": [
        "url = '/content/gdrive/My Drive/Холдинг/Mind-set/DMIA/dmia-sport-2019-spring/DMIA_Xtest.csv'\n",
        "test = pd.read_csv(url, encoding='utf-8')"
      ],
      "execution_count": 0,
      "outputs": []
    },
    {
      "metadata": {
        "id": "C8ogomJWOd4v",
        "colab_type": "code",
        "outputId": "a3e09a13-6a40-4602-dc5c-9a6782177bac",
        "colab": {
          "base_uri": "https://localhost:8080/",
          "height": 195
        }
      },
      "cell_type": "code",
      "source": [
        "test.head()"
      ],
      "execution_count": 0,
      "outputs": [
        {
          "output_type": "execute_result",
          "data": {
            "text/html": [
              "<div>\n",
              "<style scoped>\n",
              "    .dataframe tbody tr th:only-of-type {\n",
              "        vertical-align: middle;\n",
              "    }\n",
              "\n",
              "    .dataframe tbody tr th {\n",
              "        vertical-align: top;\n",
              "    }\n",
              "\n",
              "    .dataframe thead th {\n",
              "        text-align: right;\n",
              "    }\n",
              "</style>\n",
              "<table border=\"1\" class=\"dataframe\">\n",
              "  <thead>\n",
              "    <tr style=\"text-align: right;\">\n",
              "      <th></th>\n",
              "      <th>Id</th>\n",
              "      <th>Password</th>\n",
              "      <th>Name</th>\n",
              "    </tr>\n",
              "  </thead>\n",
              "  <tbody>\n",
              "    <tr>\n",
              "      <th>0</th>\n",
              "      <td>0</td>\n",
              "      <td>ThaisCunha</td>\n",
              "      <td>Test</td>\n",
              "    </tr>\n",
              "    <tr>\n",
              "      <th>1</th>\n",
              "      <td>1</td>\n",
              "      <td>697775113</td>\n",
              "      <td>Test</td>\n",
              "    </tr>\n",
              "    <tr>\n",
              "      <th>2</th>\n",
              "      <td>2</td>\n",
              "      <td>922a16922a</td>\n",
              "      <td>Test</td>\n",
              "    </tr>\n",
              "    <tr>\n",
              "      <th>3</th>\n",
              "      <td>3</td>\n",
              "      <td>andy74</td>\n",
              "      <td>Test</td>\n",
              "    </tr>\n",
              "    <tr>\n",
              "      <th>4</th>\n",
              "      <td>4</td>\n",
              "      <td>joemack</td>\n",
              "      <td>Test</td>\n",
              "    </tr>\n",
              "  </tbody>\n",
              "</table>\n",
              "</div>"
            ],
            "text/plain": [
              "   Id    Password  Name\n",
              "0   0  ThaisCunha  Test\n",
              "1   1   697775113  Test\n",
              "2   2  922a16922a  Test\n",
              "3   3      andy74  Test\n",
              "4   4     joemack  Test"
            ]
          },
          "metadata": {
            "tags": []
          },
          "execution_count": 11
        }
      ]
    },
    {
      "metadata": {
        "id": "4FPgfaYEhvuL",
        "colab_type": "code",
        "colab": {}
      },
      "cell_type": "code",
      "source": [
        "train['Name']='Train'\n",
        "test['Name']='Test'"
      ],
      "execution_count": 0,
      "outputs": []
    },
    {
      "metadata": {
        "id": "G7xcK6rFiLOn",
        "colab_type": "code",
        "colab": {}
      },
      "cell_type": "code",
      "source": [
        "test_train=pd.concat([train,test])"
      ],
      "execution_count": 0,
      "outputs": []
    },
    {
      "metadata": {
        "id": "pbRzG3NzkFHm",
        "colab_type": "code",
        "colab": {}
      },
      "cell_type": "code",
      "source": [
        "test_train=test_train.reset_index(drop=True)\n",
        "test_train=test_train.drop(['Id'],axis=1)"
      ],
      "execution_count": 0,
      "outputs": []
    },
    {
      "metadata": {
        "id": "7IuKm9JdkKmY",
        "colab_type": "code",
        "outputId": "840e9c5d-b53e-4994-fd05-400adb7ebb9b",
        "colab": {
          "base_uri": "https://localhost:8080/",
          "height": 195
        }
      },
      "cell_type": "code",
      "source": [
        "test_train.head()"
      ],
      "execution_count": 0,
      "outputs": [
        {
          "output_type": "execute_result",
          "data": {
            "text/html": [
              "<div>\n",
              "<style scoped>\n",
              "    .dataframe tbody tr th:only-of-type {\n",
              "        vertical-align: middle;\n",
              "    }\n",
              "\n",
              "    .dataframe tbody tr th {\n",
              "        vertical-align: top;\n",
              "    }\n",
              "\n",
              "    .dataframe thead th {\n",
              "        text-align: right;\n",
              "    }\n",
              "</style>\n",
              "<table border=\"1\" class=\"dataframe\">\n",
              "  <thead>\n",
              "    <tr style=\"text-align: right;\">\n",
              "      <th></th>\n",
              "      <th>Name</th>\n",
              "      <th>Password</th>\n",
              "      <th>Times</th>\n",
              "    </tr>\n",
              "  </thead>\n",
              "  <tbody>\n",
              "    <tr>\n",
              "      <th>0</th>\n",
              "      <td>Train</td>\n",
              "      <td>631XniVx2lS5I</td>\n",
              "      <td>2.0</td>\n",
              "    </tr>\n",
              "    <tr>\n",
              "      <th>1</th>\n",
              "      <td>Train</td>\n",
              "      <td>LEGIT747</td>\n",
              "      <td>1.0</td>\n",
              "    </tr>\n",
              "    <tr>\n",
              "      <th>2</th>\n",
              "      <td>Train</td>\n",
              "      <td>742364es</td>\n",
              "      <td>1.0</td>\n",
              "    </tr>\n",
              "    <tr>\n",
              "      <th>3</th>\n",
              "      <td>Train</td>\n",
              "      <td>3846696477</td>\n",
              "      <td>1.0</td>\n",
              "    </tr>\n",
              "    <tr>\n",
              "      <th>4</th>\n",
              "      <td>Train</td>\n",
              "      <td>laurahop</td>\n",
              "      <td>2.0</td>\n",
              "    </tr>\n",
              "  </tbody>\n",
              "</table>\n",
              "</div>"
            ],
            "text/plain": [
              "    Name       Password  Times\n",
              "0  Train  631XniVx2lS5I    2.0\n",
              "1  Train       LEGIT747    1.0\n",
              "2  Train       742364es    1.0\n",
              "3  Train     3846696477    1.0\n",
              "4  Train       laurahop    2.0"
            ]
          },
          "metadata": {
            "tags": []
          },
          "execution_count": 26
        }
      ]
    },
    {
      "metadata": {
        "id": "f1QVQcqjkpmd",
        "colab_type": "code",
        "colab": {}
      },
      "cell_type": "code",
      "source": [
        "test_train.to_csv('/content/gdrive/My Drive/Холдинг/Mind-set/DMIA/dmia-sport-2019-spring/test_train_full240219.csv', encoding='utf-8')"
      ],
      "execution_count": 0,
      "outputs": []
    },
    {
      "metadata": {
        "id": "Yqr47PmxnFN7",
        "colab_type": "code",
        "colab": {}
      },
      "cell_type": "code",
      "source": [
        "test_train['Y_log']=test_train['Times']"
      ],
      "execution_count": 0,
      "outputs": []
    },
    {
      "metadata": {
        "id": "uTFN6rBnsZKm",
        "colab_type": "code",
        "colab": {}
      },
      "cell_type": "code",
      "source": [
        "test_train['Y_log']=test_train['Y_log'].apply(math.log)"
      ],
      "execution_count": 0,
      "outputs": []
    },
    {
      "metadata": {
        "id": "sgYN8xoknFII",
        "colab_type": "code",
        "outputId": "9b759a29-301f-47c6-dd27-a8cea417d8ff",
        "colab": {
          "base_uri": "https://localhost:8080/",
          "height": 1108
        }
      },
      "cell_type": "code",
      "source": [
        "s='abcdefghijklmnopqrstuvwxyzABCDEFGHIJKLMNOPQRSTUVWXYZ0123456789'\n",
        "for c in s:\n",
        "    print(c)\n",
        "    test_train[c]=list(test_train['Password'].str.count(c))"
      ],
      "execution_count": 0,
      "outputs": [
        {
          "output_type": "stream",
          "text": [
            "a\n",
            "b\n",
            "c\n",
            "d\n",
            "e\n",
            "f\n",
            "g\n",
            "h\n",
            "i\n",
            "j\n",
            "k\n",
            "l\n",
            "m\n",
            "n\n",
            "o\n",
            "p\n",
            "q\n",
            "r\n",
            "s\n",
            "t\n",
            "u\n",
            "v\n",
            "w\n",
            "x\n",
            "y\n",
            "z\n",
            "A\n",
            "B\n",
            "C\n",
            "D\n",
            "E\n",
            "F\n",
            "G\n",
            "H\n",
            "I\n",
            "J\n",
            "K\n",
            "L\n",
            "M\n",
            "N\n",
            "O\n",
            "P\n",
            "Q\n",
            "R\n",
            "S\n",
            "T\n",
            "U\n",
            "V\n",
            "W\n",
            "X\n",
            "Y\n",
            "Z\n",
            "0\n",
            "1\n",
            "2\n",
            "3\n",
            "4\n",
            "5\n",
            "6\n",
            "7\n",
            "8\n",
            "9\n"
          ],
          "name": "stdout"
        }
      ]
    },
    {
      "metadata": {
        "id": "JYcSlrKCvEPU",
        "colab_type": "code",
        "outputId": "ca117d54-e5a1-46c4-bbac-e6f354a67ac7",
        "colab": {
          "base_uri": "https://localhost:8080/",
          "height": 224
        }
      },
      "cell_type": "code",
      "source": [
        "test_train.head()"
      ],
      "execution_count": 0,
      "outputs": [
        {
          "output_type": "execute_result",
          "data": {
            "text/html": [
              "<div>\n",
              "<style scoped>\n",
              "    .dataframe tbody tr th:only-of-type {\n",
              "        vertical-align: middle;\n",
              "    }\n",
              "\n",
              "    .dataframe tbody tr th {\n",
              "        vertical-align: top;\n",
              "    }\n",
              "\n",
              "    .dataframe thead th {\n",
              "        text-align: right;\n",
              "    }\n",
              "</style>\n",
              "<table border=\"1\" class=\"dataframe\">\n",
              "  <thead>\n",
              "    <tr style=\"text-align: right;\">\n",
              "      <th></th>\n",
              "      <th>Name</th>\n",
              "      <th>Password</th>\n",
              "      <th>Times</th>\n",
              "      <th>Y_log</th>\n",
              "      <th>a</th>\n",
              "      <th>b</th>\n",
              "      <th>c</th>\n",
              "      <th>d</th>\n",
              "      <th>e</th>\n",
              "      <th>f</th>\n",
              "      <th>...</th>\n",
              "      <th>0</th>\n",
              "      <th>1</th>\n",
              "      <th>2</th>\n",
              "      <th>3</th>\n",
              "      <th>4</th>\n",
              "      <th>5</th>\n",
              "      <th>6</th>\n",
              "      <th>7</th>\n",
              "      <th>8</th>\n",
              "      <th>9</th>\n",
              "    </tr>\n",
              "  </thead>\n",
              "  <tbody>\n",
              "    <tr>\n",
              "      <th>0</th>\n",
              "      <td>Train</td>\n",
              "      <td>631XniVx2lS5I</td>\n",
              "      <td>2.0</td>\n",
              "      <td>0.693147</td>\n",
              "      <td>0.0</td>\n",
              "      <td>0.0</td>\n",
              "      <td>0.0</td>\n",
              "      <td>0.0</td>\n",
              "      <td>0.0</td>\n",
              "      <td>0.0</td>\n",
              "      <td>...</td>\n",
              "      <td>0.0</td>\n",
              "      <td>1.0</td>\n",
              "      <td>1.0</td>\n",
              "      <td>1.0</td>\n",
              "      <td>0.0</td>\n",
              "      <td>1.0</td>\n",
              "      <td>1.0</td>\n",
              "      <td>0.0</td>\n",
              "      <td>0.0</td>\n",
              "      <td>0.0</td>\n",
              "    </tr>\n",
              "    <tr>\n",
              "      <th>1</th>\n",
              "      <td>Train</td>\n",
              "      <td>LEGIT747</td>\n",
              "      <td>1.0</td>\n",
              "      <td>0.000000</td>\n",
              "      <td>0.0</td>\n",
              "      <td>0.0</td>\n",
              "      <td>0.0</td>\n",
              "      <td>0.0</td>\n",
              "      <td>0.0</td>\n",
              "      <td>0.0</td>\n",
              "      <td>...</td>\n",
              "      <td>0.0</td>\n",
              "      <td>0.0</td>\n",
              "      <td>0.0</td>\n",
              "      <td>0.0</td>\n",
              "      <td>1.0</td>\n",
              "      <td>0.0</td>\n",
              "      <td>0.0</td>\n",
              "      <td>2.0</td>\n",
              "      <td>0.0</td>\n",
              "      <td>0.0</td>\n",
              "    </tr>\n",
              "    <tr>\n",
              "      <th>2</th>\n",
              "      <td>Train</td>\n",
              "      <td>742364es</td>\n",
              "      <td>1.0</td>\n",
              "      <td>0.000000</td>\n",
              "      <td>0.0</td>\n",
              "      <td>0.0</td>\n",
              "      <td>0.0</td>\n",
              "      <td>0.0</td>\n",
              "      <td>1.0</td>\n",
              "      <td>0.0</td>\n",
              "      <td>...</td>\n",
              "      <td>0.0</td>\n",
              "      <td>0.0</td>\n",
              "      <td>1.0</td>\n",
              "      <td>1.0</td>\n",
              "      <td>2.0</td>\n",
              "      <td>0.0</td>\n",
              "      <td>1.0</td>\n",
              "      <td>1.0</td>\n",
              "      <td>0.0</td>\n",
              "      <td>0.0</td>\n",
              "    </tr>\n",
              "    <tr>\n",
              "      <th>3</th>\n",
              "      <td>Train</td>\n",
              "      <td>3846696477</td>\n",
              "      <td>1.0</td>\n",
              "      <td>0.000000</td>\n",
              "      <td>0.0</td>\n",
              "      <td>0.0</td>\n",
              "      <td>0.0</td>\n",
              "      <td>0.0</td>\n",
              "      <td>0.0</td>\n",
              "      <td>0.0</td>\n",
              "      <td>...</td>\n",
              "      <td>0.0</td>\n",
              "      <td>0.0</td>\n",
              "      <td>0.0</td>\n",
              "      <td>1.0</td>\n",
              "      <td>2.0</td>\n",
              "      <td>0.0</td>\n",
              "      <td>3.0</td>\n",
              "      <td>2.0</td>\n",
              "      <td>1.0</td>\n",
              "      <td>1.0</td>\n",
              "    </tr>\n",
              "    <tr>\n",
              "      <th>4</th>\n",
              "      <td>Train</td>\n",
              "      <td>laurahop</td>\n",
              "      <td>2.0</td>\n",
              "      <td>0.693147</td>\n",
              "      <td>2.0</td>\n",
              "      <td>0.0</td>\n",
              "      <td>0.0</td>\n",
              "      <td>0.0</td>\n",
              "      <td>0.0</td>\n",
              "      <td>0.0</td>\n",
              "      <td>...</td>\n",
              "      <td>0.0</td>\n",
              "      <td>0.0</td>\n",
              "      <td>0.0</td>\n",
              "      <td>0.0</td>\n",
              "      <td>0.0</td>\n",
              "      <td>0.0</td>\n",
              "      <td>0.0</td>\n",
              "      <td>0.0</td>\n",
              "      <td>0.0</td>\n",
              "      <td>0.0</td>\n",
              "    </tr>\n",
              "  </tbody>\n",
              "</table>\n",
              "<p>5 rows × 66 columns</p>\n",
              "</div>"
            ],
            "text/plain": [
              "    Name       Password  Times     Y_log    a    b    c    d    e    f ...   \\\n",
              "0  Train  631XniVx2lS5I    2.0  0.693147  0.0  0.0  0.0  0.0  0.0  0.0 ...    \n",
              "1  Train       LEGIT747    1.0  0.000000  0.0  0.0  0.0  0.0  0.0  0.0 ...    \n",
              "2  Train       742364es    1.0  0.000000  0.0  0.0  0.0  0.0  1.0  0.0 ...    \n",
              "3  Train     3846696477    1.0  0.000000  0.0  0.0  0.0  0.0  0.0  0.0 ...    \n",
              "4  Train       laurahop    2.0  0.693147  2.0  0.0  0.0  0.0  0.0  0.0 ...    \n",
              "\n",
              "     0    1    2    3    4    5    6    7    8    9  \n",
              "0  0.0  1.0  1.0  1.0  0.0  1.0  1.0  0.0  0.0  0.0  \n",
              "1  0.0  0.0  0.0  0.0  1.0  0.0  0.0  2.0  0.0  0.0  \n",
              "2  0.0  0.0  1.0  1.0  2.0  0.0  1.0  1.0  0.0  0.0  \n",
              "3  0.0  0.0  0.0  1.0  2.0  0.0  3.0  2.0  1.0  1.0  \n",
              "4  0.0  0.0  0.0  0.0  0.0  0.0  0.0  0.0  0.0  0.0  \n",
              "\n",
              "[5 rows x 66 columns]"
            ]
          },
          "metadata": {
            "tags": []
          },
          "execution_count": 41
        }
      ]
    },
    {
      "metadata": {
        "id": "3qhzo7OrvEGu",
        "colab_type": "code",
        "colab": {}
      },
      "cell_type": "code",
      "source": [
        "test_train.to_csv('/content/gdrive/My Drive/Холдинг/Mind-set/DMIA/dmia-sport-2019-spring/test_train_addlett240219.csv', encoding='utf-8')"
      ],
      "execution_count": 0,
      "outputs": []
    },
    {
      "metadata": {
        "id": "fOXGJqjkK3Kc",
        "colab_type": "code",
        "colab": {}
      },
      "cell_type": "code",
      "source": [
        "import datetime"
      ],
      "execution_count": 0,
      "outputs": []
    },
    {
      "metadata": {
        "id": "MkkBCzyS1Y-M",
        "colab_type": "code",
        "outputId": "3b163ba6-65e8-4acf-deae-e839b630c449",
        "colab": {
          "base_uri": "https://localhost:8080/",
          "height": 1847
        }
      },
      "cell_type": "code",
      "source": [
        "guesses_log10=[]\n",
        "score=[]\n",
        "guesses=[]\n",
        "i=[]\n",
        "j=[]\n",
        "online_no_throttling_10_per_second=[]\n",
        "for ndx, member in enumerate(test_train['Password']):\n",
        "   if (ndx%100000==1):\n",
        "      print (ndx)\n",
        "      print(datetime.datetime.now())\n",
        "   guesses_log10.append(zx.zxcvbn(str(member), user_inputs=[])['guesses_log10'])\n",
        "   #score.append(zx.zxcvbn(str(member), user_inputs=[])['score'])\n",
        "   #i.append(zx.zxcvbn(str('member'), user_inputs=[])['sequence'][0]['i'])\n",
        "   #j.append(zx.zxcvbn(str('member'), user_inputs=[])['sequence'][0]['j'])\n",
        "   #online_no_throttling_10_per_second.append(float(zx.zxcvbn(str(member), user_inputs=[])['crack_times_seconds']['online_no_throttling_10_per_second']))\n",
        "   #guesses.append(zx.zxcvbn(str(member), user_inputs=[])['guesses'])"
      ],
      "execution_count": 0,
      "outputs": [
        {
          "output_type": "stream",
          "text": [
            "1\n",
            "2019-02-24 11:11:24.948375\n",
            "100001\n",
            "2019-02-24 11:15:32.244133\n",
            "200001\n",
            "2019-02-24 11:19:41.129004\n",
            "300001\n",
            "2019-02-24 11:23:47.816897\n",
            "400001\n",
            "2019-02-24 11:27:54.619757\n",
            "500001\n",
            "2019-02-24 11:32:02.234331\n",
            "600001\n",
            "2019-02-24 11:36:09.585174\n",
            "700001\n",
            "2019-02-24 11:40:18.780595\n",
            "800001\n",
            "2019-02-24 11:44:26.138571\n",
            "900001\n",
            "2019-02-24 11:48:36.060401\n",
            "1000001\n",
            "2019-02-24 11:52:43.359381\n",
            "1100001\n",
            "2019-02-24 11:56:50.554770\n",
            "1200001\n",
            "2019-02-24 12:00:55.656132\n",
            "1300001\n",
            "2019-02-24 12:05:03.367797\n",
            "1400001\n",
            "2019-02-24 12:09:11.474113\n",
            "1500001\n",
            "2019-02-24 12:13:18.710639\n",
            "1600001\n",
            "2019-02-24 12:17:26.878595\n",
            "1700001\n",
            "2019-02-24 12:21:32.575703\n",
            "1800001\n",
            "2019-02-24 12:25:38.721267\n",
            "1900001\n",
            "2019-02-24 12:29:45.315914\n",
            "2000001\n",
            "2019-02-24 12:33:52.089309\n",
            "2100001\n",
            "2019-02-24 12:37:58.444675\n",
            "2200001\n",
            "2019-02-24 12:42:04.418288\n",
            "2300001\n",
            "2019-02-24 12:46:09.476064\n",
            "2400001\n",
            "2019-02-24 12:50:15.002151\n",
            "2500001\n",
            "2019-02-24 12:54:21.039820\n",
            "2600001\n",
            "2019-02-24 12:58:27.670782\n",
            "2700001\n",
            "2019-02-24 13:02:35.378983\n",
            "2800001\n",
            "2019-02-24 13:06:45.792279\n",
            "2900001\n",
            "2019-02-24 13:10:56.578696\n",
            "3000001\n",
            "2019-02-24 13:15:08.865333\n",
            "3100001\n",
            "2019-02-24 13:19:20.136314\n",
            "3200001\n",
            "2019-02-24 13:23:32.192246\n",
            "3300001\n",
            "2019-02-24 13:27:43.059615\n",
            "3400001\n",
            "2019-02-24 13:31:54.610790\n",
            "3500001\n",
            "2019-02-24 13:36:06.408368\n",
            "3600001\n",
            "2019-02-24 13:40:18.075428\n",
            "3700001\n",
            "2019-02-24 13:44:28.820729\n",
            "3800001\n",
            "2019-02-24 13:48:40.075826\n",
            "3900001\n",
            "2019-02-24 13:52:50.130679\n",
            "4000001\n",
            "2019-02-24 13:56:59.899169\n",
            "4100001\n",
            "2019-02-24 14:01:10.784428\n",
            "4200001\n",
            "2019-02-24 14:05:21.447121\n",
            "4300001\n",
            "2019-02-24 14:09:30.149123\n",
            "4400001\n",
            "2019-02-24 14:13:39.013095\n",
            "4500001\n",
            "2019-02-24 14:17:48.959107\n",
            "4600001\n",
            "2019-02-24 14:21:58.924930\n",
            "4700001\n",
            "2019-02-24 14:26:07.422042\n",
            "4800001\n",
            "2019-02-24 14:30:20.642316\n",
            "4900001\n",
            "2019-02-24 14:34:39.648319\n",
            "5000001\n",
            "2019-02-24 14:38:53.598142\n",
            "5100001\n",
            "2019-02-24 14:43:14.238333\n"
          ],
          "name": "stdout"
        }
      ]
    },
    {
      "metadata": {
        "id": "8hnCjTFW34sD",
        "colab_type": "code",
        "outputId": "2f760c19-5200-4d00-ac34-ca9bb20bd03b",
        "colab": {
          "base_uri": "https://localhost:8080/",
          "height": 369
        }
      },
      "cell_type": "code",
      "source": [
        "zx.zxcvbn(str('631XniVx2lS5I'), user_inputs=[])"
      ],
      "execution_count": 0,
      "outputs": [
        {
          "output_type": "execute_result",
          "data": {
            "text/plain": [
              "{'calc_time': datetime.timedelta(0, 0, 8058),\n",
              " 'crack_times_display': {'offline_fast_hashing_1e10_per_second': '17.0 minutes',\n",
              "  'offline_slow_hashing_1e4_per_second': '31.0 years',\n",
              "  'online_no_throttling_10_per_second': 'centuries',\n",
              "  'online_throttling_100_per_hour': 'centuries'},\n",
              " 'crack_times_seconds': {'offline_fast_hashing_1e10_per_second': Decimal('1000.0000000001'),\n",
              "  'offline_slow_hashing_1e4_per_second': Decimal('1000000000.0001'),\n",
              "  'online_no_throttling_10_per_second': Decimal('1000000000000.1'),\n",
              "  'online_throttling_100_per_hour': Decimal('360000000000036.0199840144433')},\n",
              " 'feedback': {'suggestions': [], 'warning': ''},\n",
              " 'guesses': Decimal('10000000000001'),\n",
              " 'guesses_log10': 13.000000000000043,\n",
              " 'password': '631XniVx2lS5I',\n",
              " 'score': 4,\n",
              " 'sequence': [{'guesses': 10000000000000,\n",
              "   'guesses_log10': 12.999999999999998,\n",
              "   'i': 0,\n",
              "   'j': 12,\n",
              "   'pattern': 'bruteforce',\n",
              "   'token': '631XniVx2lS5I'}]}"
            ]
          },
          "metadata": {
            "tags": []
          },
          "execution_count": 69
        }
      ]
    },
    {
      "metadata": {
        "id": "BZvWicOW3-3J",
        "colab_type": "code",
        "outputId": "5bfc6372-9344-4c11-ca8b-970828b49135",
        "colab": {
          "base_uri": "https://localhost:8080/",
          "height": 34
        }
      },
      "cell_type": "code",
      "source": [
        "float(zx.zxcvbn(str('dsFdsf'), user_inputs=[])['crack_times_seconds']['online_no_throttling_10_per_second'])\n"
      ],
      "execution_count": 0,
      "outputs": [
        {
          "output_type": "execute_result",
          "data": {
            "text/plain": [
              "100000.1"
            ]
          },
          "metadata": {
            "tags": []
          },
          "execution_count": 75
        }
      ]
    },
    {
      "metadata": {
        "id": "qQ4TlM7U4DtY",
        "colab_type": "code",
        "colab": {}
      },
      "cell_type": "code",
      "source": [
        "test_train['guesses_log10']=guesses_log10"
      ],
      "execution_count": 0,
      "outputs": []
    },
    {
      "metadata": {
        "id": "fciCDaADARaz",
        "colab_type": "code",
        "colab": {}
      },
      "cell_type": "code",
      "source": [
        "test_train.to_csv('/content/gdrive/My Drive/Холдинг/Mind-set/DMIA/dmia-sport-2019-spring/test_train_addguess240219-3.csv', encoding='utf-8')"
      ],
      "execution_count": 0,
      "outputs": []
    },
    {
      "metadata": {
        "id": "fjRFRWte1k3D",
        "colab_type": "code",
        "colab": {}
      },
      "cell_type": "code",
      "source": [
        "#zx.zxcvbn(str('1'), user_inputs=[])"
      ],
      "execution_count": 0,
      "outputs": []
    },
    {
      "metadata": {
        "id": "U6Fg1jA-Iw1E",
        "colab_type": "code",
        "colab": {}
      },
      "cell_type": "code",
      "source": [
        "url = '/content/gdrive/My Drive/Холдинг/Mind-set/DMIA/dmia-sport-2019-spring/test_train_addguess240219-3.csv'\n",
        "test_train = pd.read_csv(url, encoding='utf-8')"
      ],
      "execution_count": 0,
      "outputs": []
    },
    {
      "metadata": {
        "id": "5cEdo4VYC-E2",
        "colab_type": "code",
        "colab": {}
      },
      "cell_type": "code",
      "source": [
        "url = '/content/gdrive/My Drive/Холдинг/Mind-set/DMIA/dmia-sport-2019-spring/pass_lists/10-million-password-list-top-100.txt'\n",
        "t100 = pd.read_csv(url, encoding='utf-8')"
      ],
      "execution_count": 0,
      "outputs": []
    },
    {
      "metadata": {
        "id": "vEZyJtJhC-fJ",
        "colab_type": "code",
        "colab": {}
      },
      "cell_type": "code",
      "source": [
        "url = '/content/gdrive/My Drive/Холдинг/Mind-set/DMIA/dmia-sport-2019-spring/pass_lists/10-million-password-list-top-1000.txt'\n",
        "t1000 = pd.read_csv(url, encoding='utf-8')"
      ],
      "execution_count": 0,
      "outputs": []
    },
    {
      "metadata": {
        "id": "LvwHIg2xFENI",
        "colab_type": "code",
        "colab": {}
      },
      "cell_type": "code",
      "source": [
        "url = '/content/gdrive/My Drive/Холдинг/Mind-set/DMIA/dmia-sport-2019-spring/pass_lists/10-million-password-list-top-100000.txt'\n",
        "t100000 = pd.read_csv(url, encoding='utf-8')"
      ],
      "execution_count": 0,
      "outputs": []
    },
    {
      "metadata": {
        "id": "7Z7J50VsFKNT",
        "colab_type": "code",
        "colab": {}
      },
      "cell_type": "code",
      "source": [
        "url = '/content/gdrive/My Drive/Холдинг/Mind-set/DMIA/dmia-sport-2019-spring/pass_lists/10-million-password-list-top-1000000.txt'\n",
        "t1000000 = pd.read_csv(url, encoding='utf-8')"
      ],
      "execution_count": 0,
      "outputs": []
    },
    {
      "metadata": {
        "id": "8qAmrrd4FiAF",
        "colab_type": "code",
        "colab": {}
      },
      "cell_type": "code",
      "source": [
        "t100['t100']='1'\n",
        "t1000['t1000']='1'\n",
        "t100000['t100000']='1'\n",
        "t1000000['t1000000']='1'"
      ],
      "execution_count": 0,
      "outputs": []
    },
    {
      "metadata": {
        "id": "N-nuMKYJGtWr",
        "colab_type": "code",
        "colab": {}
      },
      "cell_type": "code",
      "source": [
        "test_train=pd.merge(test_train,t100, left_on=test_train.Password, right_on=t100['123456'], how='left')\n",
        "test_train=test_train.drop('123456',axis=1)"
      ],
      "execution_count": 0,
      "outputs": []
    },
    {
      "metadata": {
        "id": "FGgCDEd0Io2z",
        "colab_type": "code",
        "colab": {}
      },
      "cell_type": "code",
      "source": [
        "test_train=pd.merge(test_train,t1000, left_on=test_train.Password, right_on=t1000['123456'], how='left')\n",
        "test_train=test_train.drop('123456',axis=1)"
      ],
      "execution_count": 0,
      "outputs": []
    },
    {
      "metadata": {
        "id": "V4vrMGxqJMCt",
        "colab_type": "code",
        "colab": {}
      },
      "cell_type": "code",
      "source": [
        "test_train=pd.merge(test_train,t100000, left_on=test_train.Password, right_on=t100000['123456'], how='left')\n",
        "test_train=test_train.drop('123456',axis=1)"
      ],
      "execution_count": 0,
      "outputs": []
    },
    {
      "metadata": {
        "id": "IbV0ExkUJU5N",
        "colab_type": "code",
        "colab": {}
      },
      "cell_type": "code",
      "source": [
        "test_train=pd.merge(test_train,t1000000, left_on=test_train.Password, right_on=t1000000['123456'], how='left')\n",
        "test_train=test_train.drop('123456',axis=1)"
      ],
      "execution_count": 0,
      "outputs": []
    },
    {
      "metadata": {
        "id": "ijg_x43LJaDm",
        "colab_type": "code",
        "colab": {}
      },
      "cell_type": "code",
      "source": [
        "test_train=test_train.fillna(0)\n",
        "test_train=test_train.drop('Unnamed: 0', axis=1)"
      ],
      "execution_count": 0,
      "outputs": []
    },
    {
      "metadata": {
        "id": "KU0IqGyQKbLV",
        "colab_type": "code",
        "colab": {}
      },
      "cell_type": "code",
      "source": [
        "test_train.to_csv('/content/gdrive/My Drive/Холдинг/Mind-set/DMIA/dmia-sport-2019-spring/test_train_addguess240219-4.csv', encoding='utf-8')"
      ],
      "execution_count": 0,
      "outputs": []
    },
    {
      "metadata": {
        "id": "iQnxB5dzO647",
        "colab_type": "code",
        "colab": {}
      },
      "cell_type": "code",
      "source": [
        "url = '/content/gdrive/My Drive/Холдинг/Mind-set/DMIA/dmia-sport-2019-spring/test_train_addguess240219-4.csv'\n",
        "test_train = pd.read_csv(url, encoding='utf-8',nrows=1000000)"
      ],
      "execution_count": 0,
      "outputs": []
    },
    {
      "metadata": {
        "id": "UpyVdIFFLqY9",
        "colab_type": "code",
        "colab": {}
      },
      "cell_type": "code",
      "source": [
        "new_train = test_train[test_train['Name']=='Train']"
      ],
      "execution_count": 0,
      "outputs": []
    },
    {
      "metadata": {
        "id": "Y9wtMR97L5a2",
        "colab_type": "code",
        "colab": {}
      },
      "cell_type": "code",
      "source": [
        "Target=new_train['Y_log']"
      ],
      "execution_count": 0,
      "outputs": []
    },
    {
      "metadata": {
        "id": "hiTR6X55MEfk",
        "colab_type": "code",
        "colab": {}
      },
      "cell_type": "code",
      "source": [
        "#new_train = test_train[test_train['Name']=='Train']\n",
        "new_train=new_train.drop(['Y_log', 'Name', 'Password', 'Times'], axis=1)"
      ],
      "execution_count": 0,
      "outputs": []
    },
    {
      "metadata": {
        "id": "_mtcGDg1PW94",
        "colab_type": "code",
        "colab": {}
      },
      "cell_type": "code",
      "source": [
        "X_train, X_test, y_train, y_test = train_test_split(new_train, Target, test_size=0.3, random_state=1)\n",
        "X_train2, X_val, y_train2, y_val = train_test_split(X_test, y_test, test_size=0.9, random_state=1)"
      ],
      "execution_count": 0,
      "outputs": []
    },
    {
      "metadata": {
        "id": "f5Q4iaDh1lFx",
        "colab_type": "code",
        "outputId": "c4278382-2021-4bb5-d43b-a0f6696a04cc",
        "colab": {
          "base_uri": "https://localhost:8080/",
          "height": 122
        }
      },
      "cell_type": "code",
      "source": [
        "\n",
        "from sklearn.ensemble import RandomForestRegressor\n",
        "regr = RandomForestRegressor(max_depth=10, random_state=0,  n_estimators=100)\n",
        "regr.fit(X_train, y_train)\n"
      ],
      "execution_count": 0,
      "outputs": [
        {
          "output_type": "execute_result",
          "data": {
            "text/plain": [
              "RandomForestRegressor(bootstrap=True, criterion='mse', max_depth=10,\n",
              "           max_features='auto', max_leaf_nodes=None,\n",
              "           min_impurity_decrease=0.0, min_impurity_split=None,\n",
              "           min_samples_leaf=1, min_samples_split=2,\n",
              "           min_weight_fraction_leaf=0.0, n_estimators=100, n_jobs=None,\n",
              "           oob_score=False, random_state=0, verbose=0, warm_start=False)"
            ]
          },
          "metadata": {
            "tags": []
          },
          "execution_count": 9
        }
      ]
    },
    {
      "metadata": {
        "id": "lcm7GbD5SoWX",
        "colab_type": "code",
        "colab": {}
      },
      "cell_type": "code",
      "source": [
        "import pickle\n",
        "# save the model to disk\n",
        "filename = '/content/gdrive/My Drive/rf_model.sav'\n",
        "pickle.dump(regr, open(filename, 'wb'))\n",
        " \n",
        "# some time later...\n",
        " \n",
        "# load the model from disk\n",
        "#loaded_model = pickle.load(open(filename, 'rb'))\n",
        "#result = loaded_model.score(X_test, Y_test)"
      ],
      "execution_count": 0,
      "outputs": []
    },
    {
      "metadata": {
        "id": "22hTBuPdVKec",
        "colab_type": "code",
        "colab": {}
      },
      "cell_type": "code",
      "source": [
        "dtrain = xgboost.DMatrix(X_train, y_train, missing=0.0, nthread=-1)\n",
        "dval = xgboost.DMatrix(X_val, y_val, missing=0.0, nthread=-1)\n",
        "dtest = xgboost.DMatrix(X_test, y_test, missing=0.0, nthread=-1)\n"
      ],
      "execution_count": 0,
      "outputs": []
    },
    {
      "metadata": {
        "id": "HKA2TLeJ1lRY",
        "colab_type": "code",
        "outputId": "bbac3bc1-8e25-4d33-f637-e8ce5bf3128e",
        "colab": {
          "base_uri": "https://localhost:8080/",
          "height": 193
        }
      },
      "cell_type": "code",
      "source": [
        "\n",
        "def rmsle(predictions, dmat):\n",
        "    labels = dmat.get_label()\n",
        "    diffs = numpy.log(predictions + 1) - numpy.log(labels + 1)\n",
        "    squared_diffs = numpy.square(diffs)\n",
        "    avg = numpy.mean(squared_diffs)\n",
        "    return ('RMSLE', numpy.sqrt(avg))\n",
        "    \n",
        "params = {\n",
        "   \n",
        "    'max_depth': 30,\n",
        "    'learning_rate': .1,\n",
        "    'nthread':6,\n",
        "    'booster' : 'gbtree'\n",
        "    \n",
        "}\n",
        "\n",
        "results = xgboost.cv(params, dtrain, 10, early_stopping_rounds=10, feval=rmsle, nfold=10, verbose_eval=True, show_stdv=False)\n"
      ],
      "execution_count": 0,
      "outputs": [
        {
          "output_type": "stream",
          "text": [
            "[0]\ttrain-RMSLE:0.377166\ttrain-rmse:0.573362\ttest-RMSLE:0.378557\ttest-rmse:0.575712\n",
            "[1]\ttrain-RMSLE:0.343324\ttrain-rmse:0.519964\ttest-RMSLE:0.346228\ttest-rmse:0.524949\n",
            "[2]\ttrain-RMSLE:0.312811\ttrain-rmse:0.472059\ttest-RMSLE:0.317352\ttest-rmse:0.479982\n",
            "[3]\ttrain-RMSLE:0.285134\ttrain-rmse:0.429067\ttest-RMSLE:0.291441\ttest-rmse:0.440272\n",
            "[4]\ttrain-RMSLE:0.259959\ttrain-rmse:0.390487\ttest-RMSLE:0.268177\ttest-rmse:0.405309\n",
            "[5]\ttrain-RMSLE:0.237043\ttrain-rmse:0.355874\ttest-RMSLE:0.247297\ttest-rmse:0.374636\n",
            "[6]\ttrain-RMSLE:0.21617\ttrain-rmse:0.324828\ttest-RMSLE:0.228598\ttest-rmse:0.34783\n",
            "[7]\ttrain-RMSLE:0.197164\ttrain-rmse:0.296966\ttest-RMSLE:0.211904\ttest-rmse:0.324517\n",
            "[8]\ttrain-RMSLE:0.179876\ttrain-rmse:0.271984\ttest-RMSLE:0.197083\ttest-rmse:0.304405\n",
            "[9]\ttrain-RMSLE:0.164128\ttrain-rmse:0.249489\ttest-RMSLE:0.183967\ttest-rmse:0.287084\n"
          ],
          "name": "stdout"
        }
      ]
    },
    {
      "metadata": {
        "id": "NgZXinsOTu3n",
        "colab_type": "code",
        "outputId": "6e584785-b322-4524-dad9-caad058c77af",
        "colab": {
          "base_uri": "https://localhost:8080/",
          "height": 282
        }
      },
      "cell_type": "code",
      "source": [
        "results[['train-RMSLE-mean', 'test-RMSLE-mean']].plot()"
      ],
      "execution_count": 0,
      "outputs": [
        {
          "output_type": "execute_result",
          "data": {
            "text/plain": [
              "<matplotlib.axes._subplots.AxesSubplot at 0x7f7595348fd0>"
            ]
          },
          "metadata": {
            "tags": []
          },
          "execution_count": 16
        },
        {
          "output_type": "display_data",
          "data": {
            "image/png": "[encoded data removed]",
            "text/plain": [
              "<Figure size 432x288 with 1 Axes>"
            ]
          },
          "metadata": {
            "tags": []
          }
        }
      ]
    },
    {
      "metadata": {
        "id": "25EB0H76Bqwn",
        "colab_type": "code",
        "outputId": "910da0a3-4e3b-4a38-c65e-1818e1163f30",
        "colab": {
          "base_uri": "https://localhost:8080/",
          "height": 897
        }
      },
      "cell_type": "code",
      "source": [
        "evallist = [(dval, 'eval'), (dtrain, 'train')]\n",
        "\n",
        "num_round = 50\n",
        "bst = xgboost.train(params, dtrain, num_round,evallist )\n",
        "bst.save_model('/content/gdrive/My Drive/final.model')\n",
        "\n"
      ],
      "execution_count": 0,
      "outputs": [
        {
          "output_type": "stream",
          "text": [
            "[0]\teval-rmse:0.57518\ttrain-rmse:0.57337\n",
            "[1]\teval-rmse:0.524434\ttrain-rmse:0.519976\n",
            "[2]\teval-rmse:0.479539\ttrain-rmse:0.472061\n",
            "[3]\teval-rmse:0.439833\ttrain-rmse:0.429072\n",
            "[4]\teval-rmse:0.40494\ttrain-rmse:0.390528\n",
            "[5]\teval-rmse:0.37426\ttrain-rmse:0.355955\n",
            "[6]\teval-rmse:0.347433\ttrain-rmse:0.324901\n",
            "[7]\teval-rmse:0.324144\ttrain-rmse:0.297188\n",
            "[8]\teval-rmse:0.303927\ttrain-rmse:0.272244\n",
            "[9]\teval-rmse:0.286618\ttrain-rmse:0.249986\n",
            "[10]\teval-rmse:0.271777\ttrain-rmse:0.230106\n",
            "[11]\teval-rmse:0.259023\ttrain-rmse:0.212003\n",
            "[12]\teval-rmse:0.248281\ttrain-rmse:0.195831\n",
            "[13]\teval-rmse:0.23923\ttrain-rmse:0.181445\n",
            "[14]\teval-rmse:0.231636\ttrain-rmse:0.168336\n",
            "[15]\teval-rmse:0.225375\ttrain-rmse:0.156724\n",
            "[16]\teval-rmse:0.220175\ttrain-rmse:0.146126\n",
            "[17]\teval-rmse:0.215833\ttrain-rmse:0.136658\n",
            "[18]\teval-rmse:0.212213\ttrain-rmse:0.127997\n",
            "[19]\teval-rmse:0.209329\ttrain-rmse:0.120327\n",
            "[20]\teval-rmse:0.206918\ttrain-rmse:0.113666\n",
            "[21]\teval-rmse:0.205021\ttrain-rmse:0.107264\n",
            "[22]\teval-rmse:0.20348\ttrain-rmse:0.101479\n",
            "[23]\teval-rmse:0.202211\ttrain-rmse:0.096484\n",
            "[24]\teval-rmse:0.201184\ttrain-rmse:0.092064\n",
            "[25]\teval-rmse:0.200335\ttrain-rmse:0.088227\n",
            "[26]\teval-rmse:0.199664\ttrain-rmse:0.08451\n",
            "[27]\teval-rmse:0.199114\ttrain-rmse:0.0812\n",
            "[28]\teval-rmse:0.198704\ttrain-rmse:0.078075\n",
            "[29]\teval-rmse:0.198388\ttrain-rmse:0.075374\n",
            "[30]\teval-rmse:0.19815\ttrain-rmse:0.073212\n",
            "[31]\teval-rmse:0.197977\ttrain-rmse:0.071037\n",
            "[32]\teval-rmse:0.197848\ttrain-rmse:0.068769\n",
            "[33]\teval-rmse:0.197736\ttrain-rmse:0.067042\n",
            "[34]\teval-rmse:0.197647\ttrain-rmse:0.065611\n",
            "[35]\teval-rmse:0.197569\ttrain-rmse:0.064248\n",
            "[36]\teval-rmse:0.197514\ttrain-rmse:0.063203\n",
            "[37]\teval-rmse:0.197455\ttrain-rmse:0.062118\n",
            "[38]\teval-rmse:0.197451\ttrain-rmse:0.060676\n",
            "[39]\teval-rmse:0.197425\ttrain-rmse:0.059729\n",
            "[40]\teval-rmse:0.197402\ttrain-rmse:0.058698\n",
            "[41]\teval-rmse:0.197384\ttrain-rmse:0.057532\n",
            "[42]\teval-rmse:0.197392\ttrain-rmse:0.056983\n",
            "[43]\teval-rmse:0.197395\ttrain-rmse:0.055734\n",
            "[44]\teval-rmse:0.197406\ttrain-rmse:0.054643\n",
            "[45]\teval-rmse:0.197394\ttrain-rmse:0.054097\n",
            "[46]\teval-rmse:0.197398\ttrain-rmse:0.053421\n",
            "[47]\teval-rmse:0.197402\ttrain-rmse:0.052925\n",
            "[48]\teval-rmse:0.197412\ttrain-rmse:0.052034\n",
            "[49]\teval-rmse:0.197444\ttrain-rmse:0.051035\n"
          ],
          "name": "stdout"
        }
      ]
    },
    {
      "metadata": {
        "id": "WACY-fivBqjd",
        "colab_type": "code",
        "colab": {}
      },
      "cell_type": "code",
      "source": [
        "url = '/content/gdrive/My Drive/Холдинг/Mind-set/DMIA/dmia-sport-2019-spring/test_train_addguess240219-4.csv'\n",
        "test_train = pd.read_csv(url, encoding='utf-8') #nrows=1000000"
      ],
      "execution_count": 0,
      "outputs": []
    },
    {
      "metadata": {
        "id": "a1EWGCV1YsTQ",
        "colab_type": "code",
        "colab": {}
      },
      "cell_type": "code",
      "source": [
        "subm = test_train[test_train['Name']=='Test'].copy()"
      ],
      "execution_count": 0,
      "outputs": []
    },
    {
      "metadata": {
        "id": "o-1B3VQIWd5P",
        "colab_type": "code",
        "colab": {}
      },
      "cell_type": "code",
      "source": [
        "\n",
        "subm2=subm.drop(['Y_log', 'Name', 'Password', 'Times'], axis=1)"
      ],
      "execution_count": 0,
      "outputs": []
    },
    {
      "metadata": {
        "id": "miOwQUmVXGU2",
        "colab_type": "code",
        "colab": {}
      },
      "cell_type": "code",
      "source": [
        "dtestF = xgboost.DMatrix(subm2, missing=0.0, nthread=-1)"
      ],
      "execution_count": 0,
      "outputs": []
    },
    {
      "metadata": {
        "id": "Mh-JSZP8WzXD",
        "colab_type": "code",
        "colab": {}
      },
      "cell_type": "code",
      "source": [
        "Predict=bst.predict(dtestF)"
      ],
      "execution_count": 0,
      "outputs": []
    },
    {
      "metadata": {
        "id": "xGLBvsndXl2V",
        "colab_type": "code",
        "colab": {}
      },
      "cell_type": "code",
      "source": [
        "Predict=pd.Series(Predict).apply(math.exp)"
      ],
      "execution_count": 0,
      "outputs": []
    },
    {
      "metadata": {
        "id": "hhFs9WVVYj4I",
        "colab_type": "code",
        "outputId": "d184990e-e45e-40a4-fa5f-c763d7d9de47",
        "colab": {
          "base_uri": "https://localhost:8080/",
          "height": 34
        }
      },
      "cell_type": "code",
      "source": [
        "Predict.shape"
      ],
      "execution_count": 0,
      "outputs": [
        {
          "output_type": "execute_result",
          "data": {
            "text/plain": [
              "(1037876,)"
            ]
          },
          "metadata": {
            "tags": []
          },
          "execution_count": 43
        }
      ]
    },
    {
      "metadata": {
        "id": "aL3-Cw9BZRaD",
        "colab_type": "code",
        "outputId": "1aa1b6c3-5c18-495b-fdd2-3f8856f96d2a",
        "colab": {
          "base_uri": "https://localhost:8080/",
          "height": 210
        }
      },
      "cell_type": "code",
      "source": [
        "Predict[:10]"
      ],
      "execution_count": 0,
      "outputs": [
        {
          "output_type": "execute_result",
          "data": {
            "text/plain": [
              "0    1.002581\n",
              "1    1.002581\n",
              "2    1.002581\n",
              "3    1.002581\n",
              "4    2.575380\n",
              "5    1.002581\n",
              "6    1.002581\n",
              "7    1.002581\n",
              "8    1.347074\n",
              "9    1.002581\n",
              "dtype: float64"
            ]
          },
          "metadata": {
            "tags": []
          },
          "execution_count": 45
        }
      ]
    },
    {
      "metadata": {
        "id": "W7l5t4RVYTDH",
        "colab_type": "code",
        "colab": {}
      },
      "cell_type": "code",
      "source": [
        "subm['Times']=Predict.values"
      ],
      "execution_count": 0,
      "outputs": []
    },
    {
      "metadata": {
        "id": "i8U0QoJCZBGL",
        "colab_type": "code",
        "outputId": "68292791-5879-4dc3-b9e7-e2fa42e4d928",
        "colab": {
          "base_uri": "https://localhost:8080/",
          "height": 224
        }
      },
      "cell_type": "code",
      "source": [
        "subm.head()"
      ],
      "execution_count": 0,
      "outputs": [
        {
          "output_type": "execute_result",
          "data": {
            "text/html": [
              "<div>\n",
              "<style scoped>\n",
              "    .dataframe tbody tr th:only-of-type {\n",
              "        vertical-align: middle;\n",
              "    }\n",
              "\n",
              "    .dataframe tbody tr th {\n",
              "        vertical-align: top;\n",
              "    }\n",
              "\n",
              "    .dataframe thead th {\n",
              "        text-align: right;\n",
              "    }\n",
              "</style>\n",
              "<table border=\"1\" class=\"dataframe\">\n",
              "  <thead>\n",
              "    <tr style=\"text-align: right;\">\n",
              "      <th></th>\n",
              "      <th>Unnamed: 0</th>\n",
              "      <th>Name</th>\n",
              "      <th>Password</th>\n",
              "      <th>Times</th>\n",
              "      <th>Y_log</th>\n",
              "      <th>a</th>\n",
              "      <th>b</th>\n",
              "      <th>c</th>\n",
              "      <th>d</th>\n",
              "      <th>e</th>\n",
              "      <th>...</th>\n",
              "      <th>7</th>\n",
              "      <th>8</th>\n",
              "      <th>9</th>\n",
              "      <th>guesses_log10</th>\n",
              "      <th>t100</th>\n",
              "      <th>t1000</th>\n",
              "      <th>t100000</th>\n",
              "      <th>t1000000</th>\n",
              "      <th>Prediction</th>\n",
              "      <th>send</th>\n",
              "    </tr>\n",
              "  </thead>\n",
              "  <tbody>\n",
              "    <tr>\n",
              "      <th>4151498</th>\n",
              "      <td>4151498</td>\n",
              "      <td>Test</td>\n",
              "      <td>ThaisCunha</td>\n",
              "      <td>1.002581</td>\n",
              "      <td>0.0</td>\n",
              "      <td>2.0</td>\n",
              "      <td>0.0</td>\n",
              "      <td>0.0</td>\n",
              "      <td>0.0</td>\n",
              "      <td>0.0</td>\n",
              "      <td>...</td>\n",
              "      <td>0.0</td>\n",
              "      <td>0.0</td>\n",
              "      <td>0.0</td>\n",
              "      <td>9.010971</td>\n",
              "      <td>0</td>\n",
              "      <td>0</td>\n",
              "      <td>0</td>\n",
              "      <td>0</td>\n",
              "      <td>NaN</td>\n",
              "      <td>1.002581</td>\n",
              "    </tr>\n",
              "    <tr>\n",
              "      <th>4151499</th>\n",
              "      <td>4151499</td>\n",
              "      <td>Test</td>\n",
              "      <td>697775113</td>\n",
              "      <td>1.002581</td>\n",
              "      <td>0.0</td>\n",
              "      <td>0.0</td>\n",
              "      <td>0.0</td>\n",
              "      <td>0.0</td>\n",
              "      <td>0.0</td>\n",
              "      <td>0.0</td>\n",
              "      <td>...</td>\n",
              "      <td>3.0</td>\n",
              "      <td>0.0</td>\n",
              "      <td>1.0</td>\n",
              "      <td>8.486586</td>\n",
              "      <td>0</td>\n",
              "      <td>0</td>\n",
              "      <td>0</td>\n",
              "      <td>0</td>\n",
              "      <td>NaN</td>\n",
              "      <td>1.002581</td>\n",
              "    </tr>\n",
              "    <tr>\n",
              "      <th>4151500</th>\n",
              "      <td>4151500</td>\n",
              "      <td>Test</td>\n",
              "      <td>922a16922a</td>\n",
              "      <td>1.002581</td>\n",
              "      <td>0.0</td>\n",
              "      <td>2.0</td>\n",
              "      <td>0.0</td>\n",
              "      <td>0.0</td>\n",
              "      <td>0.0</td>\n",
              "      <td>0.0</td>\n",
              "      <td>...</td>\n",
              "      <td>0.0</td>\n",
              "      <td>0.0</td>\n",
              "      <td>2.0</td>\n",
              "      <td>9.691789</td>\n",
              "      <td>0</td>\n",
              "      <td>0</td>\n",
              "      <td>0</td>\n",
              "      <td>0</td>\n",
              "      <td>NaN</td>\n",
              "      <td>1.002581</td>\n",
              "    </tr>\n",
              "    <tr>\n",
              "      <th>4151501</th>\n",
              "      <td>4151501</td>\n",
              "      <td>Test</td>\n",
              "      <td>andy74</td>\n",
              "      <td>1.002581</td>\n",
              "      <td>0.0</td>\n",
              "      <td>1.0</td>\n",
              "      <td>0.0</td>\n",
              "      <td>0.0</td>\n",
              "      <td>1.0</td>\n",
              "      <td>0.0</td>\n",
              "      <td>...</td>\n",
              "      <td>1.0</td>\n",
              "      <td>0.0</td>\n",
              "      <td>0.0</td>\n",
              "      <td>4.790988</td>\n",
              "      <td>0</td>\n",
              "      <td>0</td>\n",
              "      <td>0</td>\n",
              "      <td>0</td>\n",
              "      <td>NaN</td>\n",
              "      <td>1.002581</td>\n",
              "    </tr>\n",
              "    <tr>\n",
              "      <th>4151502</th>\n",
              "      <td>4151502</td>\n",
              "      <td>Test</td>\n",
              "      <td>joemack</td>\n",
              "      <td>2.575380</td>\n",
              "      <td>0.0</td>\n",
              "      <td>1.0</td>\n",
              "      <td>0.0</td>\n",
              "      <td>1.0</td>\n",
              "      <td>0.0</td>\n",
              "      <td>1.0</td>\n",
              "      <td>...</td>\n",
              "      <td>0.0</td>\n",
              "      <td>0.0</td>\n",
              "      <td>0.0</td>\n",
              "      <td>4.630855</td>\n",
              "      <td>0</td>\n",
              "      <td>0</td>\n",
              "      <td>0</td>\n",
              "      <td>1</td>\n",
              "      <td>NaN</td>\n",
              "      <td>2.575380</td>\n",
              "    </tr>\n",
              "  </tbody>\n",
              "</table>\n",
              "<p>5 rows × 74 columns</p>\n",
              "</div>"
            ],
            "text/plain": [
              "         Unnamed: 0  Name    Password     Times  Y_log    a    b    c    d  \\\n",
              "4151498     4151498  Test  ThaisCunha  1.002581    0.0  2.0  0.0  0.0  0.0   \n",
              "4151499     4151499  Test   697775113  1.002581    0.0  0.0  0.0  0.0  0.0   \n",
              "4151500     4151500  Test  922a16922a  1.002581    0.0  2.0  0.0  0.0  0.0   \n",
              "4151501     4151501  Test      andy74  1.002581    0.0  1.0  0.0  0.0  1.0   \n",
              "4151502     4151502  Test     joemack  2.575380    0.0  1.0  0.0  1.0  0.0   \n",
              "\n",
              "           e    ...       7    8    9  guesses_log10  t100  t1000  t100000  \\\n",
              "4151498  0.0    ...     0.0  0.0  0.0       9.010971     0      0        0   \n",
              "4151499  0.0    ...     3.0  0.0  1.0       8.486586     0      0        0   \n",
              "4151500  0.0    ...     0.0  0.0  2.0       9.691789     0      0        0   \n",
              "4151501  0.0    ...     1.0  0.0  0.0       4.790988     0      0        0   \n",
              "4151502  1.0    ...     0.0  0.0  0.0       4.630855     0      0        0   \n",
              "\n",
              "         t1000000  Prediction      send  \n",
              "4151498         0         NaN  1.002581  \n",
              "4151499         0         NaN  1.002581  \n",
              "4151500         0         NaN  1.002581  \n",
              "4151501         0         NaN  1.002581  \n",
              "4151502         1         NaN  2.575380  \n",
              "\n",
              "[5 rows x 74 columns]"
            ]
          },
          "metadata": {
            "tags": []
          },
          "execution_count": 61
        }
      ]
    },
    {
      "metadata": {
        "id": "ge8N5c59Z6ix",
        "colab_type": "code",
        "outputId": "14a5b456-11b8-4304-d590-1f69bc0fa871",
        "colab": {
          "base_uri": "https://localhost:8080/",
          "height": 195
        }
      },
      "cell_type": "code",
      "source": [
        "sample_subm.head()"
      ],
      "execution_count": 0,
      "outputs": [
        {
          "output_type": "execute_result",
          "data": {
            "text/html": [
              "<div>\n",
              "<style scoped>\n",
              "    .dataframe tbody tr th:only-of-type {\n",
              "        vertical-align: middle;\n",
              "    }\n",
              "\n",
              "    .dataframe tbody tr th {\n",
              "        vertical-align: top;\n",
              "    }\n",
              "\n",
              "    .dataframe thead th {\n",
              "        text-align: right;\n",
              "    }\n",
              "</style>\n",
              "<table border=\"1\" class=\"dataframe\">\n",
              "  <thead>\n",
              "    <tr style=\"text-align: right;\">\n",
              "      <th></th>\n",
              "      <th>Id</th>\n",
              "      <th>Times</th>\n",
              "    </tr>\n",
              "  </thead>\n",
              "  <tbody>\n",
              "    <tr>\n",
              "      <th>0</th>\n",
              "      <td>0</td>\n",
              "      <td>1.922133</td>\n",
              "    </tr>\n",
              "    <tr>\n",
              "      <th>1</th>\n",
              "      <td>1</td>\n",
              "      <td>1.922133</td>\n",
              "    </tr>\n",
              "    <tr>\n",
              "      <th>2</th>\n",
              "      <td>2</td>\n",
              "      <td>1.922133</td>\n",
              "    </tr>\n",
              "    <tr>\n",
              "      <th>3</th>\n",
              "      <td>3</td>\n",
              "      <td>1.922133</td>\n",
              "    </tr>\n",
              "    <tr>\n",
              "      <th>4</th>\n",
              "      <td>4</td>\n",
              "      <td>1.922133</td>\n",
              "    </tr>\n",
              "  </tbody>\n",
              "</table>\n",
              "</div>"
            ],
            "text/plain": [
              "   Id     Times\n",
              "0   0  1.922133\n",
              "1   1  1.922133\n",
              "2   2  1.922133\n",
              "3   3  1.922133\n",
              "4   4  1.922133"
            ]
          },
          "metadata": {
            "tags": []
          },
          "execution_count": 59
        }
      ]
    },
    {
      "metadata": {
        "id": "215ppHrXZoNY",
        "colab_type": "code",
        "colab": {}
      },
      "cell_type": "code",
      "source": [
        "pd.merge(test,subm[['Password','Times']]).drop('Password',axis=1).to_csv('/content/gdrive/My Drive/Холдинг/Mind-set/DMIA/dmia-sport-2019-spring/solution240219-1.csv',index=False)"
      ],
      "execution_count": 0,
      "outputs": []
    },
    {
      "metadata": {
        "id": "64TFSWwqcBWB",
        "colab_type": "code",
        "colab": {}
      },
      "cell_type": "code",
      "source": [
        ""
      ],
      "execution_count": 0,
      "outputs": []
    },
    {
      "metadata": {
        "id": "hPSHJavecBHc",
        "colab_type": "code",
        "colab": {}
      },
      "cell_type": "code",
      "source": [
        ""
      ],
      "execution_count": 0,
      "outputs": []
    },
    {
      "metadata": {
        "id": "uBODy6E_cA7i",
        "colab_type": "code",
        "colab": {}
      },
      "cell_type": "code",
      "source": [
        "# дальше треш и угар- не смотреть"
      ],
      "execution_count": 0,
      "outputs": []
    },
    {
      "metadata": {
        "id": "0lfa5WkNcAtB",
        "colab_type": "code",
        "colab": {}
      },
      "cell_type": "code",
      "source": [
        ""
      ],
      "execution_count": 0,
      "outputs": []
    },
    {
      "metadata": {
        "id": "CSytM5-PX5_J",
        "colab_type": "code",
        "colab": {}
      },
      "cell_type": "code",
      "source": [
        "import math"
      ],
      "execution_count": 0,
      "outputs": []
    },
    {
      "metadata": {
        "id": "wHvMhEng2K7R",
        "colab_type": "code",
        "colab": {}
      },
      "cell_type": "code",
      "source": [
        "trainExt=pd.read_csv('/content/gdrive/My Drive/Холдинг/Mind-set/DMIA/dmia-sport-2019-spring/TrainAndY_dump_full.csv', encoding='utf-8')"
      ],
      "execution_count": 0,
      "outputs": []
    },
    {
      "metadata": {
        "id": "SobL16uYOd5p",
        "colab_type": "code",
        "colab": {}
      },
      "cell_type": "code",
      "source": [
        "y=train['Times']"
      ],
      "execution_count": 0,
      "outputs": []
    },
    {
      "metadata": {
        "id": "lbzFCEg5ahLZ",
        "colab_type": "code",
        "colab": {}
      },
      "cell_type": "code",
      "source": [
        ""
      ],
      "execution_count": 0,
      "outputs": []
    },
    {
      "metadata": {
        "id": "vr_kXWTO20b7",
        "colab_type": "code",
        "outputId": "e54f9fed-8746-4cfb-d529-7463df434a43",
        "colab": {
          "base_uri": "https://localhost:8080/",
          "height": 298
        }
      },
      "cell_type": "code",
      "source": [
        "!pip install pymorphy2"
      ],
      "execution_count": 0,
      "outputs": [
        {
          "output_type": "stream",
          "text": [
            "Collecting pymorphy2\n",
            "\u001b[?25l  Downloading https://files.pythonhosted.org/packages/a3/33/fff9675c68b5f6c63ec8c6e6ff57827dda28a1fa5b2c2d727dffff92dd47/pymorphy2-0.8-py2.py3-none-any.whl (46kB)\n",
            "\u001b[K    100% |████████████████████████████████| 51kB 2.0MB/s \n",
            "\u001b[?25hCollecting dawg-python>=0.7 (from pymorphy2)\n",
            "  Downloading https://files.pythonhosted.org/packages/6a/84/ff1ce2071d4c650ec85745766c0047ccc3b5036f1d03559fd46bb38b5eeb/DAWG_Python-0.7.2-py2.py3-none-any.whl\n",
            "Collecting pymorphy2-dicts<3.0,>=2.4 (from pymorphy2)\n",
            "\u001b[?25l  Downloading https://files.pythonhosted.org/packages/02/51/2465fd4f72328ab50877b54777764d928da8cb15b74e2680fc1bd8cb3173/pymorphy2_dicts-2.4.393442.3710985-py2.py3-none-any.whl (7.1MB)\n",
            "\u001b[K    100% |████████████████████████████████| 7.1MB 4.5MB/s \n",
            "\u001b[?25hCollecting docopt>=0.6 (from pymorphy2)\n",
            "  Downloading https://files.pythonhosted.org/packages/a2/55/8f8cab2afd404cf578136ef2cc5dfb50baa1761b68c9da1fb1e4eed343c9/docopt-0.6.2.tar.gz\n",
            "Building wheels for collected packages: docopt\n",
            "  Building wheel for docopt (setup.py) ... \u001b[?25ldone\n",
            "\u001b[?25h  Stored in directory: /root/.cache/pip/wheels/9b/04/dd/7daf4150b6d9b12949298737de9431a324d4b797ffd63f526e\n",
            "Successfully built docopt\n",
            "Installing collected packages: dawg-python, pymorphy2-dicts, docopt, pymorphy2\n",
            "Successfully installed dawg-python-0.7.2 docopt-0.6.2 pymorphy2-0.8 pymorphy2-dicts-2.4.393442.3710985\n"
          ],
          "name": "stdout"
        }
      ]
    },
    {
      "metadata": {
        "id": "1LtgnPG43ZjD",
        "colab_type": "code",
        "outputId": "e05a1c32-cc05-497f-8fee-e12a827504bb",
        "colab": {
          "base_uri": "https://localhost:8080/",
          "height": 52
        }
      },
      "cell_type": "code",
      "source": [
        "import pymorphy2\n",
        "morph = pymorphy2.MorphAnalyzer()"
      ],
      "execution_count": 0,
      "outputs": [
        {
          "output_type": "stream",
          "text": [
            "2019-02-11 18:42:23,174 : INFO : Loading dictionaries from /usr/local/lib/python2.7/dist-packages/pymorphy2_dicts/data\n",
            "2019-02-11 18:42:23,233 : INFO : format: 2.4, revision: 393442, updated: 2015-01-17T16:03:56.586168\n"
          ],
          "name": "stderr"
        }
      ]
    },
    {
      "metadata": {
        "id": "6IdyJCg83iFu",
        "colab_type": "code",
        "colab": {}
      },
      "cell_type": "code",
      "source": [
        "\n",
        "\n",
        "def name_score(word):\n",
        "    for p in morph.parse(word):\n",
        "        if 'Name' in p.tag:\n",
        "            return p.score\n",
        "    return 0\n",
        "\n",
        "def surn_score(word):\n",
        "    for p in morph.parse(word):\n",
        "        if 'Surn' in p.tag:\n",
        "            return p.score\n",
        "    return 0"
      ],
      "execution_count": 0,
      "outputs": []
    },
    {
      "metadata": {
        "id": "GZlUIUl7nQSD",
        "colab_type": "code",
        "colab": {}
      },
      "cell_type": "code",
      "source": [
        ""
      ],
      "execution_count": 0,
      "outputs": []
    },
    {
      "metadata": {
        "id": "_npuY2la3kFP",
        "colab_type": "code",
        "colab": {}
      },
      "cell_type": "code",
      "source": [
        "trainExt['pymorphy_word_is_known'] = trainExt['Password'].astype('str').apply(morph.word_is_known).astype('int8')"
      ],
      "execution_count": 0,
      "outputs": []
    },
    {
      "metadata": {
        "id": "zVduYNwT84-z",
        "colab_type": "code",
        "colab": {}
      },
      "cell_type": "code",
      "source": [
        "lambda x: 1 if x == 0 else False"
      ],
      "execution_count": 0,
      "outputs": []
    },
    {
      "metadata": {
        "id": "S6zdC_6i4Gmj",
        "colab_type": "code",
        "outputId": "c00a127d-e42f-43e2-d22b-2217aa301faf",
        "colab": {
          "base_uri": "https://localhost:8080/",
          "height": 132
        }
      },
      "cell_type": "code",
      "source": [
        "trainExt['pymorphy_score'] = trainExt['pymorphy'].apply(lambda x: 1 if x=='OpencorporaTag('NUMB,intg')' else 0)"
      ],
      "execution_count": 0,
      "outputs": [
        {
          "output_type": "error",
          "ename": "SyntaxError",
          "evalue": "ignored",
          "traceback": [
            "\u001b[0;36m  File \u001b[0;32m\"<ipython-input-74-fdac415a6249>\"\u001b[0;36m, line \u001b[0;32m1\u001b[0m\n\u001b[0;31m    trainExt['pymorphy_score'] = trainExt['pymorphy'].apply(lambda x: 1 if x=='OpencorporaTag('NUMB,intg')' else 0)\u001b[0m\n\u001b[0m                                                                                                  ^\u001b[0m\n\u001b[0;31mSyntaxError\u001b[0m\u001b[0;31m:\u001b[0m invalid syntax\n"
          ]
        }
      ]
    },
    {
      "metadata": {
        "id": "r733Je086WJf",
        "colab_type": "code",
        "colab": {}
      },
      "cell_type": "code",
      "source": [
        "trainExt['pymorphy'] = trainExt['Password'].astype('str').apply(lambda x: morph.tag(x)[0])"
      ],
      "execution_count": 0,
      "outputs": []
    },
    {
      "metadata": {
        "id": "mGsiz2YM7zYe",
        "colab_type": "code",
        "outputId": "64e7046a-f8a1-43c1-dfb6-7d6604c0447e",
        "colab": {
          "base_uri": "https://localhost:8080/",
          "height": 122
        }
      },
      "cell_type": "code",
      "source": [
        "set(trainExt['pymorphy'])"
      ],
      "execution_count": 0,
      "outputs": [
        {
          "output_type": "execute_result",
          "data": {
            "text/plain": [
              "{OpencorporaTag('LATN'),\n",
              " OpencorporaTag('NUMB,intg'),\n",
              " OpencorporaTag('NUMB,real'),\n",
              " OpencorporaTag('PNCT'),\n",
              " OpencorporaTag('ROMN'),\n",
              " OpencorporaTag('UNKN')}"
            ]
          },
          "metadata": {
            "tags": []
          },
          "execution_count": 69
        }
      ]
    },
    {
      "metadata": {
        "id": "qP-EKjG86OLF",
        "colab_type": "code",
        "outputId": "e638c795-c720-4369-d267-b48c7b22eb0a",
        "colab": {
          "base_uri": "https://localhost:8080/",
          "height": 414
        }
      },
      "cell_type": "code",
      "source": [
        "\n",
        "trainExt['pymorphy_number'] = trainExt['pymorphy'].apply(lambda x: x.NUMB)"
      ],
      "execution_count": 0,
      "outputs": [
        {
          "output_type": "error",
          "ename": "AttributeError",
          "evalue": "ignored",
          "traceback": [
            "\u001b[0;31m\u001b[0m",
            "\u001b[0;31mAttributeError\u001b[0mTraceback (most recent call last)",
            "\u001b[0;32m<ipython-input-67-e6d580a7b165>\u001b[0m in \u001b[0;36m<module>\u001b[0;34m()\u001b[0m\n\u001b[1;32m      1\u001b[0m \u001b[0;34m\u001b[0m\u001b[0m\n\u001b[0;32m----> 2\u001b[0;31m \u001b[0mtrainExt\u001b[0m\u001b[0;34m[\u001b[0m\u001b[0;34m'pymorphy_number'\u001b[0m\u001b[0;34m]\u001b[0m \u001b[0;34m=\u001b[0m \u001b[0mtrainExt\u001b[0m\u001b[0;34m[\u001b[0m\u001b[0;34m'pymorphy'\u001b[0m\u001b[0;34m]\u001b[0m\u001b[0;34m.\u001b[0m\u001b[0mapply\u001b[0m\u001b[0;34m(\u001b[0m\u001b[0;32mlambda\u001b[0m \u001b[0mx\u001b[0m\u001b[0;34m:\u001b[0m \u001b[0mx\u001b[0m\u001b[0;34m.\u001b[0m\u001b[0mNUMB\u001b[0m\u001b[0;34m)\u001b[0m\u001b[0;34m\u001b[0m\u001b[0m\n\u001b[0m",
            "\u001b[0;32m/usr/local/lib/python2.7/dist-packages/pandas/core/series.pyc\u001b[0m in \u001b[0;36mapply\u001b[0;34m(self, func, convert_dtype, args, **kwds)\u001b[0m\n\u001b[1;32m   2549\u001b[0m             \u001b[0;32melse\u001b[0m\u001b[0;34m:\u001b[0m\u001b[0;34m\u001b[0m\u001b[0m\n\u001b[1;32m   2550\u001b[0m                 \u001b[0mvalues\u001b[0m \u001b[0;34m=\u001b[0m \u001b[0mself\u001b[0m\u001b[0;34m.\u001b[0m\u001b[0masobject\u001b[0m\u001b[0;34m\u001b[0m\u001b[0m\n\u001b[0;32m-> 2551\u001b[0;31m                 \u001b[0mmapped\u001b[0m \u001b[0;34m=\u001b[0m \u001b[0mlib\u001b[0m\u001b[0;34m.\u001b[0m\u001b[0mmap_infer\u001b[0m\u001b[0;34m(\u001b[0m\u001b[0mvalues\u001b[0m\u001b[0;34m,\u001b[0m \u001b[0mf\u001b[0m\u001b[0;34m,\u001b[0m \u001b[0mconvert\u001b[0m\u001b[0;34m=\u001b[0m\u001b[0mconvert_dtype\u001b[0m\u001b[0;34m)\u001b[0m\u001b[0;34m\u001b[0m\u001b[0m\n\u001b[0m\u001b[1;32m   2552\u001b[0m \u001b[0;34m\u001b[0m\u001b[0m\n\u001b[1;32m   2553\u001b[0m         \u001b[0;32mif\u001b[0m \u001b[0mlen\u001b[0m\u001b[0;34m(\u001b[0m\u001b[0mmapped\u001b[0m\u001b[0;34m)\u001b[0m \u001b[0;32mand\u001b[0m \u001b[0misinstance\u001b[0m\u001b[0;34m(\u001b[0m\u001b[0mmapped\u001b[0m\u001b[0;34m[\u001b[0m\u001b[0;36m0\u001b[0m\u001b[0;34m]\u001b[0m\u001b[0;34m,\u001b[0m \u001b[0mSeries\u001b[0m\u001b[0;34m)\u001b[0m\u001b[0;34m:\u001b[0m\u001b[0;34m\u001b[0m\u001b[0m\n",
            "\u001b[0;32mpandas/_libs/src/inference.pyx\u001b[0m in \u001b[0;36mpandas._libs.lib.map_infer\u001b[0;34m()\u001b[0m\n",
            "\u001b[0;32m<ipython-input-67-e6d580a7b165>\u001b[0m in \u001b[0;36m<lambda>\u001b[0;34m(x)\u001b[0m\n\u001b[1;32m      1\u001b[0m \u001b[0;34m\u001b[0m\u001b[0m\n\u001b[0;32m----> 2\u001b[0;31m \u001b[0mtrainExt\u001b[0m\u001b[0;34m[\u001b[0m\u001b[0;34m'pymorphy_number'\u001b[0m\u001b[0;34m]\u001b[0m \u001b[0;34m=\u001b[0m \u001b[0mtrainExt\u001b[0m\u001b[0;34m[\u001b[0m\u001b[0;34m'pymorphy'\u001b[0m\u001b[0;34m]\u001b[0m\u001b[0;34m.\u001b[0m\u001b[0mapply\u001b[0m\u001b[0;34m(\u001b[0m\u001b[0;32mlambda\u001b[0m \u001b[0mx\u001b[0m\u001b[0;34m:\u001b[0m \u001b[0mx\u001b[0m\u001b[0;34m.\u001b[0m\u001b[0mNUMB\u001b[0m\u001b[0;34m)\u001b[0m\u001b[0;34m\u001b[0m\u001b[0m\n\u001b[0m",
            "\u001b[0;31mAttributeError\u001b[0m: 'OpencorporaTag' object has no attribute 'NUMB'"
          ]
        }
      ]
    },
    {
      "metadata": {
        "id": "akTwfNxd7N9w",
        "colab_type": "code",
        "outputId": "7d6b6d2c-219c-4cde-bb56-cdcdeb189fb6",
        "colab": {
          "base_uri": "https://localhost:8080/",
          "height": 70
        }
      },
      "cell_type": "code",
      "source": [
        "trainExt['pymorphy_number'].describe()"
      ],
      "execution_count": 0,
      "outputs": [
        {
          "output_type": "execute_result",
          "data": {
            "text/plain": [
              "count     0\n",
              "unique    0\n",
              "Name: pymorphy_number, dtype: int64"
            ]
          },
          "metadata": {
            "tags": []
          },
          "execution_count": 65
        }
      ]
    },
    {
      "metadata": {
        "id": "E65p1b8B5cbY",
        "colab_type": "code",
        "outputId": "4fd73cc6-d57f-4b78-c5d9-654a85626c24",
        "colab": {
          "base_uri": "https://localhost:8080/",
          "height": 52
        }
      },
      "cell_type": "code",
      "source": [
        "np.corrcoef(trainExt['pymorphy_score'],y)"
      ],
      "execution_count": 0,
      "outputs": [
        {
          "output_type": "execute_result",
          "data": {
            "text/plain": [
              "array([[1.00000000e+00, 6.38735571e-05],\n",
              "       [6.38735571e-05, 1.00000000e+00]])"
            ]
          },
          "metadata": {
            "tags": []
          },
          "execution_count": 60
        }
      ]
    },
    {
      "metadata": {
        "id": "7BNiZujd2tj7",
        "colab_type": "code",
        "outputId": "d579fce4-6bb6-4f63-eb1d-06c138461b6b",
        "colab": {
          "base_uri": "https://localhost:8080/",
          "height": 519
        }
      },
      "cell_type": "code",
      "source": [
        "\n",
        "\n",
        "trainExt['pymorphy_word_is_known'] = trainExt['Password'].astype('str').apply(morph.word_is_known).astype('int8')\n",
        "trainExt['pymorphy_count_in_tag'] = trainExt['Password'].astype('str').apply(lambda x: len(morph.tag(x))).astype('int8')\n",
        "trainExt['pymorphy_score'] = trainExt['Password'].astype('str').apply(lambda x: morph.parse(x)[0].score)\n",
        "trainExt['pymorphy'] = trainExt['Password'].astype('str').apply(lambda x: morph.tag(x)[0])\n",
        "\n",
        "trainExt['pymorphy_animacy'] = trainExt['pymorphy'].astype('str').apply(lambda x: x.animacy)\n",
        "trainExt['pymorphy_POS'] = trainExt['pymorphy'].astype('str').apply(lambda x: x.POS)\n",
        "trainExt['pymorphy_case'] = trainExt['pymorphy'].astype('str').apply(lambda x: x.case)\n",
        "trainExt['pymorphy_number'] = trainExt['pymorphy'].astype('str').apply(lambda x: x.NUMB)\n",
        "\n",
        "trainExt['pymorphy_name_score'] = trainExt['Password'].astype('str').apply(name_score)\n",
        "trainExt['pymorphy_surn_score'] = trainExt['Password'].astype('str').apply(surn_score)\n",
        "\n",
        "columns_to_one_hot = ['pymorphy' , 'pymorphy_animacy', 'pymorphy_POS', 'pymorphy_case','pymorphy_number']\n",
        "\n",
        "for col in columns_to_one_hot:\n",
        "    trainExt[col] = LabelEncoder().fit_transform(list(trainExt[col].fillna('nan')))"
      ],
      "execution_count": 0,
      "outputs": [
        {
          "output_type": "error",
          "ename": "AttributeError",
          "evalue": "ignored",
          "traceback": [
            "\u001b[0;31m\u001b[0m",
            "\u001b[0;31mAttributeError\u001b[0mTraceback (most recent call last)",
            "\u001b[0;32m<ipython-input-54-a84ec8c4e2ff>\u001b[0m in \u001b[0;36m<module>\u001b[0;34m()\u001b[0m\n\u001b[1;32m      1\u001b[0m \u001b[0;34m\u001b[0m\u001b[0m\n\u001b[1;32m      2\u001b[0m \u001b[0;34m\u001b[0m\u001b[0m\n\u001b[0;32m----> 3\u001b[0;31m \u001b[0mtrainExt\u001b[0m\u001b[0;34m[\u001b[0m\u001b[0;34m'pymorphy_word_is_known'\u001b[0m\u001b[0;34m]\u001b[0m \u001b[0;34m=\u001b[0m \u001b[0mtrainExt\u001b[0m\u001b[0;34m[\u001b[0m\u001b[0;34m'Password'\u001b[0m\u001b[0;34m]\u001b[0m\u001b[0;34m.\u001b[0m\u001b[0mapply\u001b[0m\u001b[0;34m(\u001b[0m\u001b[0mmorph\u001b[0m\u001b[0;34m.\u001b[0m\u001b[0mword_is_known\u001b[0m\u001b[0;34m)\u001b[0m\u001b[0;34m.\u001b[0m\u001b[0mastype\u001b[0m\u001b[0;34m(\u001b[0m\u001b[0;34m'int8'\u001b[0m\u001b[0;34m)\u001b[0m\u001b[0;34m\u001b[0m\u001b[0m\n\u001b[0m\u001b[1;32m      4\u001b[0m \u001b[0mtrainExt\u001b[0m\u001b[0;34m[\u001b[0m\u001b[0;34m'pymorphy_count_in_tag'\u001b[0m\u001b[0;34m]\u001b[0m \u001b[0;34m=\u001b[0m \u001b[0mtrainExt\u001b[0m\u001b[0;34m[\u001b[0m\u001b[0;34m'Password'\u001b[0m\u001b[0;34m]\u001b[0m\u001b[0;34m.\u001b[0m\u001b[0mapply\u001b[0m\u001b[0;34m(\u001b[0m\u001b[0;32mlambda\u001b[0m \u001b[0mx\u001b[0m\u001b[0;34m:\u001b[0m \u001b[0mlen\u001b[0m\u001b[0;34m(\u001b[0m\u001b[0mmorph\u001b[0m\u001b[0;34m.\u001b[0m\u001b[0mtag\u001b[0m\u001b[0;34m(\u001b[0m\u001b[0mx\u001b[0m\u001b[0;34m)\u001b[0m\u001b[0;34m)\u001b[0m\u001b[0;34m)\u001b[0m\u001b[0;34m.\u001b[0m\u001b[0mastype\u001b[0m\u001b[0;34m(\u001b[0m\u001b[0;34m'int8'\u001b[0m\u001b[0;34m)\u001b[0m\u001b[0;34m\u001b[0m\u001b[0m\n\u001b[1;32m      5\u001b[0m \u001b[0mtrainExt\u001b[0m\u001b[0;34m[\u001b[0m\u001b[0;34m'pymorphy_score'\u001b[0m\u001b[0;34m]\u001b[0m \u001b[0;34m=\u001b[0m \u001b[0mtrainExt\u001b[0m\u001b[0;34m[\u001b[0m\u001b[0;34m'Password'\u001b[0m\u001b[0;34m]\u001b[0m\u001b[0;34m.\u001b[0m\u001b[0mapply\u001b[0m\u001b[0;34m(\u001b[0m\u001b[0;32mlambda\u001b[0m \u001b[0mx\u001b[0m\u001b[0;34m:\u001b[0m \u001b[0mmorph\u001b[0m\u001b[0;34m.\u001b[0m\u001b[0mparse\u001b[0m\u001b[0;34m(\u001b[0m\u001b[0mx\u001b[0m\u001b[0;34m)\u001b[0m\u001b[0;34m[\u001b[0m\u001b[0;36m0\u001b[0m\u001b[0;34m]\u001b[0m\u001b[0;34m.\u001b[0m\u001b[0mscore\u001b[0m\u001b[0;34m)\u001b[0m\u001b[0;34m\u001b[0m\u001b[0m\n",
            "\u001b[0;32m/usr/local/lib/python2.7/dist-packages/pandas/core/series.pyc\u001b[0m in \u001b[0;36mapply\u001b[0;34m(self, func, convert_dtype, args, **kwds)\u001b[0m\n\u001b[1;32m   2549\u001b[0m             \u001b[0;32melse\u001b[0m\u001b[0;34m:\u001b[0m\u001b[0;34m\u001b[0m\u001b[0m\n\u001b[1;32m   2550\u001b[0m                 \u001b[0mvalues\u001b[0m \u001b[0;34m=\u001b[0m \u001b[0mself\u001b[0m\u001b[0;34m.\u001b[0m\u001b[0masobject\u001b[0m\u001b[0;34m\u001b[0m\u001b[0m\n\u001b[0;32m-> 2551\u001b[0;31m                 \u001b[0mmapped\u001b[0m \u001b[0;34m=\u001b[0m \u001b[0mlib\u001b[0m\u001b[0;34m.\u001b[0m\u001b[0mmap_infer\u001b[0m\u001b[0;34m(\u001b[0m\u001b[0mvalues\u001b[0m\u001b[0;34m,\u001b[0m \u001b[0mf\u001b[0m\u001b[0;34m,\u001b[0m \u001b[0mconvert\u001b[0m\u001b[0;34m=\u001b[0m\u001b[0mconvert_dtype\u001b[0m\u001b[0;34m)\u001b[0m\u001b[0;34m\u001b[0m\u001b[0m\n\u001b[0m\u001b[1;32m   2552\u001b[0m \u001b[0;34m\u001b[0m\u001b[0m\n\u001b[1;32m   2553\u001b[0m         \u001b[0;32mif\u001b[0m \u001b[0mlen\u001b[0m\u001b[0;34m(\u001b[0m\u001b[0mmapped\u001b[0m\u001b[0;34m)\u001b[0m \u001b[0;32mand\u001b[0m \u001b[0misinstance\u001b[0m\u001b[0;34m(\u001b[0m\u001b[0mmapped\u001b[0m\u001b[0;34m[\u001b[0m\u001b[0;36m0\u001b[0m\u001b[0;34m]\u001b[0m\u001b[0;34m,\u001b[0m \u001b[0mSeries\u001b[0m\u001b[0;34m)\u001b[0m\u001b[0;34m:\u001b[0m\u001b[0;34m\u001b[0m\u001b[0m\n",
            "\u001b[0;32mpandas/_libs/src/inference.pyx\u001b[0m in \u001b[0;36mpandas._libs.lib.map_infer\u001b[0;34m()\u001b[0m\n",
            "\u001b[0;32m/usr/local/lib/python2.7/dist-packages/pymorphy2/analyzer.pyc\u001b[0m in \u001b[0;36mword_is_known\u001b[0;34m(self, word, strict_ee)\u001b[0m\n\u001b[1;32m    339\u001b[0m \u001b[0;34m\u001b[0m\u001b[0m\n\u001b[1;32m    340\u001b[0m         \"\"\"\n\u001b[0;32m--> 341\u001b[0;31m         \u001b[0;32mreturn\u001b[0m \u001b[0mself\u001b[0m\u001b[0;34m.\u001b[0m\u001b[0mdictionary\u001b[0m\u001b[0;34m.\u001b[0m\u001b[0mword_is_known\u001b[0m\u001b[0;34m(\u001b[0m\u001b[0mword\u001b[0m\u001b[0;34m.\u001b[0m\u001b[0mlower\u001b[0m\u001b[0;34m(\u001b[0m\u001b[0;34m)\u001b[0m\u001b[0;34m,\u001b[0m \u001b[0mstrict_ee\u001b[0m\u001b[0;34m)\u001b[0m\u001b[0;34m\u001b[0m\u001b[0m\n\u001b[0m\u001b[1;32m    342\u001b[0m \u001b[0;34m\u001b[0m\u001b[0m\n\u001b[1;32m    343\u001b[0m     \u001b[0;34m@\u001b[0m\u001b[0mproperty\u001b[0m\u001b[0;34m\u001b[0m\u001b[0m\n",
            "\u001b[0;31mAttributeError\u001b[0m: 'float' object has no attribute 'lower'"
          ]
        }
      ]
    },
    {
      "metadata": {
        "id": "AxGd8cn54EMB",
        "colab_type": "code",
        "outputId": "ee1b85f1-f689-493d-e70a-70ba9515422a",
        "colab": {
          "base_uri": "https://localhost:8080/",
          "height": 224
        }
      },
      "cell_type": "code",
      "source": [
        "trainExt.head()"
      ],
      "execution_count": 0,
      "outputs": [
        {
          "output_type": "execute_result",
          "data": {
            "text/html": [
              "<div>\n",
              "<style scoped>\n",
              "    .dataframe tbody tr th:only-of-type {\n",
              "        vertical-align: middle;\n",
              "    }\n",
              "\n",
              "    .dataframe tbody tr th {\n",
              "        vertical-align: top;\n",
              "    }\n",
              "\n",
              "    .dataframe thead th {\n",
              "        text-align: right;\n",
              "    }\n",
              "</style>\n",
              "<table border=\"1\" class=\"dataframe\">\n",
              "  <thead>\n",
              "    <tr style=\"text-align: right;\">\n",
              "      <th></th>\n",
              "      <th>Unnamed: 0</th>\n",
              "      <th>Password</th>\n",
              "      <th>len</th>\n",
              "      <th>a</th>\n",
              "      <th>b</th>\n",
              "      <th>c</th>\n",
              "      <th>d</th>\n",
              "      <th>e</th>\n",
              "      <th>f</th>\n",
              "      <th>g</th>\n",
              "      <th>...</th>\n",
              "      <th>4</th>\n",
              "      <th>5</th>\n",
              "      <th>6</th>\n",
              "      <th>7</th>\n",
              "      <th>8</th>\n",
              "      <th>9</th>\n",
              "      <th>pymorphy_word_is_known</th>\n",
              "      <th>pymorphy_score</th>\n",
              "      <th>pymorphy</th>\n",
              "      <th>pymorphy_number</th>\n",
              "    </tr>\n",
              "  </thead>\n",
              "  <tbody>\n",
              "    <tr>\n",
              "      <th>0</th>\n",
              "      <td>0</td>\n",
              "      <td>631XniVx2lS5I</td>\n",
              "      <td>13.0</td>\n",
              "      <td>0.0</td>\n",
              "      <td>0.0</td>\n",
              "      <td>0.0</td>\n",
              "      <td>0.0</td>\n",
              "      <td>0.0</td>\n",
              "      <td>0.0</td>\n",
              "      <td>0.0</td>\n",
              "      <td>...</td>\n",
              "      <td>0.0</td>\n",
              "      <td>1.0</td>\n",
              "      <td>1.0</td>\n",
              "      <td>0.0</td>\n",
              "      <td>0.0</td>\n",
              "      <td>0.0</td>\n",
              "      <td>0</td>\n",
              "      <td>1.0</td>\n",
              "      <td>LATN</td>\n",
              "      <td>None</td>\n",
              "    </tr>\n",
              "    <tr>\n",
              "      <th>1</th>\n",
              "      <td>1</td>\n",
              "      <td>LEGIT747</td>\n",
              "      <td>8.0</td>\n",
              "      <td>0.0</td>\n",
              "      <td>0.0</td>\n",
              "      <td>0.0</td>\n",
              "      <td>0.0</td>\n",
              "      <td>0.0</td>\n",
              "      <td>0.0</td>\n",
              "      <td>0.0</td>\n",
              "      <td>...</td>\n",
              "      <td>1.0</td>\n",
              "      <td>0.0</td>\n",
              "      <td>0.0</td>\n",
              "      <td>2.0</td>\n",
              "      <td>0.0</td>\n",
              "      <td>0.0</td>\n",
              "      <td>0</td>\n",
              "      <td>1.0</td>\n",
              "      <td>LATN</td>\n",
              "      <td>None</td>\n",
              "    </tr>\n",
              "    <tr>\n",
              "      <th>2</th>\n",
              "      <td>2</td>\n",
              "      <td>742364es</td>\n",
              "      <td>8.0</td>\n",
              "      <td>0.0</td>\n",
              "      <td>0.0</td>\n",
              "      <td>0.0</td>\n",
              "      <td>0.0</td>\n",
              "      <td>1.0</td>\n",
              "      <td>0.0</td>\n",
              "      <td>0.0</td>\n",
              "      <td>...</td>\n",
              "      <td>2.0</td>\n",
              "      <td>0.0</td>\n",
              "      <td>1.0</td>\n",
              "      <td>1.0</td>\n",
              "      <td>0.0</td>\n",
              "      <td>0.0</td>\n",
              "      <td>0</td>\n",
              "      <td>1.0</td>\n",
              "      <td>LATN</td>\n",
              "      <td>None</td>\n",
              "    </tr>\n",
              "    <tr>\n",
              "      <th>3</th>\n",
              "      <td>3</td>\n",
              "      <td>3846696477</td>\n",
              "      <td>10.0</td>\n",
              "      <td>0.0</td>\n",
              "      <td>0.0</td>\n",
              "      <td>0.0</td>\n",
              "      <td>0.0</td>\n",
              "      <td>0.0</td>\n",
              "      <td>0.0</td>\n",
              "      <td>0.0</td>\n",
              "      <td>...</td>\n",
              "      <td>2.0</td>\n",
              "      <td>0.0</td>\n",
              "      <td>3.0</td>\n",
              "      <td>2.0</td>\n",
              "      <td>1.0</td>\n",
              "      <td>1.0</td>\n",
              "      <td>0</td>\n",
              "      <td>1.0</td>\n",
              "      <td>NUMB,intg</td>\n",
              "      <td>None</td>\n",
              "    </tr>\n",
              "    <tr>\n",
              "      <th>4</th>\n",
              "      <td>4</td>\n",
              "      <td>laurahop</td>\n",
              "      <td>8.0</td>\n",
              "      <td>2.0</td>\n",
              "      <td>0.0</td>\n",
              "      <td>0.0</td>\n",
              "      <td>0.0</td>\n",
              "      <td>0.0</td>\n",
              "      <td>0.0</td>\n",
              "      <td>0.0</td>\n",
              "      <td>...</td>\n",
              "      <td>0.0</td>\n",
              "      <td>0.0</td>\n",
              "      <td>0.0</td>\n",
              "      <td>0.0</td>\n",
              "      <td>0.0</td>\n",
              "      <td>0.0</td>\n",
              "      <td>0</td>\n",
              "      <td>1.0</td>\n",
              "      <td>LATN</td>\n",
              "      <td>None</td>\n",
              "    </tr>\n",
              "  </tbody>\n",
              "</table>\n",
              "<p>5 rows × 69 columns</p>\n",
              "</div>"
            ],
            "text/plain": [
              "   Unnamed: 0       Password   len    a    b    c    d    e    f    g  \\\n",
              "0           0  631XniVx2lS5I  13.0  0.0  0.0  0.0  0.0  0.0  0.0  0.0   \n",
              "1           1       LEGIT747   8.0  0.0  0.0  0.0  0.0  0.0  0.0  0.0   \n",
              "2           2       742364es   8.0  0.0  0.0  0.0  0.0  1.0  0.0  0.0   \n",
              "3           3     3846696477  10.0  0.0  0.0  0.0  0.0  0.0  0.0  0.0   \n",
              "4           4       laurahop   8.0  2.0  0.0  0.0  0.0  0.0  0.0  0.0   \n",
              "\n",
              "        ...           4    5    6    7    8    9  pymorphy_word_is_known  \\\n",
              "0       ...         0.0  1.0  1.0  0.0  0.0  0.0                       0   \n",
              "1       ...         1.0  0.0  0.0  2.0  0.0  0.0                       0   \n",
              "2       ...         2.0  0.0  1.0  1.0  0.0  0.0                       0   \n",
              "3       ...         2.0  0.0  3.0  2.0  1.0  1.0                       0   \n",
              "4       ...         0.0  0.0  0.0  0.0  0.0  0.0                       0   \n",
              "\n",
              "   pymorphy_score   pymorphy  pymorphy_number  \n",
              "0             1.0       LATN             None  \n",
              "1             1.0       LATN             None  \n",
              "2             1.0       LATN             None  \n",
              "3             1.0  NUMB,intg             None  \n",
              "4             1.0       LATN             None  \n",
              "\n",
              "[5 rows x 69 columns]"
            ]
          },
          "metadata": {
            "tags": []
          },
          "execution_count": 89
        }
      ]
    },
    {
      "metadata": {
        "id": "bvzNp_86Od51",
        "colab_type": "code",
        "colab": {}
      },
      "cell_type": "code",
      "source": [
        "train=train.drop(('Times'), axis=1)"
      ],
      "execution_count": 0,
      "outputs": []
    },
    {
      "metadata": {
        "id": "-syioIxtOd6C",
        "colab_type": "code",
        "colab": {}
      },
      "cell_type": "code",
      "source": [
        "train.sort_values?"
      ],
      "execution_count": 0,
      "outputs": []
    },
    {
      "metadata": {
        "id": "LotFyuqEOd6L",
        "colab_type": "code",
        "colab": {}
      },
      "cell_type": "code",
      "source": [
        "train['len']=list(train['Password'].str.len())"
      ],
      "execution_count": 0,
      "outputs": []
    },
    {
      "metadata": {
        "id": "IPnvavpuOd6f",
        "colab_type": "code",
        "colab": {}
      },
      "cell_type": "code",
      "source": [
        ""
      ],
      "execution_count": 0,
      "outputs": []
    },
    {
      "metadata": {
        "id": "HyIhUNxaOd6l",
        "colab_type": "code",
        "outputId": "cff7921b-1ed0-4c6c-9ec4-abe9ac2a86f8",
        "colab": {
          "base_uri": "https://localhost:8080/",
          "height": 924
        }
      },
      "cell_type": "code",
      "source": [
        "s='abcdefghijklmnopqrstuvwxyzABCDEFGHIJKLMNOPQRSTUVWXYZ0123456789'\n",
        "for c in s:\n",
        "    print(c)\n",
        "    train[c]=list(train['Password'].str.count(c))"
      ],
      "execution_count": 0,
      "outputs": [
        {
          "output_type": "stream",
          "text": [
            "a\n",
            "b\n",
            "c\n",
            "d\n"
          ],
          "name": "stdout"
        },
        {
          "output_type": "error",
          "ename": "KeyboardInterrupt",
          "evalue": "ignored",
          "traceback": [
            "\u001b[0;31m\u001b[0m",
            "\u001b[0;31mKeyboardInterrupt\u001b[0mTraceback (most recent call last)",
            "\u001b[0;32m<ipython-input-27-e43df92f8464>\u001b[0m in \u001b[0;36m<module>\u001b[0;34m()\u001b[0m\n\u001b[1;32m      1\u001b[0m \u001b[0;32mfor\u001b[0m \u001b[0mc\u001b[0m \u001b[0;32min\u001b[0m \u001b[0ms\u001b[0m\u001b[0;34m:\u001b[0m\u001b[0;34m\u001b[0m\u001b[0m\n\u001b[1;32m      2\u001b[0m     \u001b[0;32mprint\u001b[0m\u001b[0;34m(\u001b[0m\u001b[0mc\u001b[0m\u001b[0;34m)\u001b[0m\u001b[0;34m\u001b[0m\u001b[0m\n\u001b[0;32m----> 3\u001b[0;31m     \u001b[0mtrain\u001b[0m\u001b[0;34m[\u001b[0m\u001b[0mc\u001b[0m\u001b[0;34m]\u001b[0m\u001b[0;34m=\u001b[0m\u001b[0mlist\u001b[0m\u001b[0;34m(\u001b[0m\u001b[0mtrain\u001b[0m\u001b[0;34m[\u001b[0m\u001b[0;34m'Password'\u001b[0m\u001b[0;34m]\u001b[0m\u001b[0;34m.\u001b[0m\u001b[0mstr\u001b[0m\u001b[0;34m.\u001b[0m\u001b[0mcount\u001b[0m\u001b[0;34m(\u001b[0m\u001b[0mc\u001b[0m\u001b[0;34m)\u001b[0m\u001b[0;34m)\u001b[0m\u001b[0;34m\u001b[0m\u001b[0m\n\u001b[0m",
            "\u001b[0;32m/usr/local/lib/python2.7/dist-packages/pandas/core/strings.pyc\u001b[0m in \u001b[0;36mwrapper2\u001b[0;34m(self, pat, flags, **kwargs)\u001b[0m\n\u001b[1;32m   1332\u001b[0m \u001b[0;34m\u001b[0m\u001b[0m\n\u001b[1;32m   1333\u001b[0m     \u001b[0;32mdef\u001b[0m \u001b[0mwrapper2\u001b[0m\u001b[0;34m(\u001b[0m\u001b[0mself\u001b[0m\u001b[0;34m,\u001b[0m \u001b[0mpat\u001b[0m\u001b[0;34m,\u001b[0m \u001b[0mflags\u001b[0m\u001b[0;34m=\u001b[0m\u001b[0;36m0\u001b[0m\u001b[0;34m,\u001b[0m \u001b[0;34m**\u001b[0m\u001b[0mkwargs\u001b[0m\u001b[0;34m)\u001b[0m\u001b[0;34m:\u001b[0m\u001b[0;34m\u001b[0m\u001b[0m\n\u001b[0;32m-> 1334\u001b[0;31m         \u001b[0mresult\u001b[0m \u001b[0;34m=\u001b[0m \u001b[0mf\u001b[0m\u001b[0;34m(\u001b[0m\u001b[0mself\u001b[0m\u001b[0;34m.\u001b[0m\u001b[0m_data\u001b[0m\u001b[0;34m,\u001b[0m \u001b[0mpat\u001b[0m\u001b[0;34m,\u001b[0m \u001b[0mflags\u001b[0m\u001b[0;34m=\u001b[0m\u001b[0mflags\u001b[0m\u001b[0;34m,\u001b[0m \u001b[0;34m**\u001b[0m\u001b[0mkwargs\u001b[0m\u001b[0;34m)\u001b[0m\u001b[0;34m\u001b[0m\u001b[0m\n\u001b[0m\u001b[1;32m   1335\u001b[0m         \u001b[0;32mreturn\u001b[0m \u001b[0mself\u001b[0m\u001b[0;34m.\u001b[0m\u001b[0m_wrap_result\u001b[0m\u001b[0;34m(\u001b[0m\u001b[0mresult\u001b[0m\u001b[0;34m)\u001b[0m\u001b[0;34m\u001b[0m\u001b[0m\n\u001b[1;32m   1336\u001b[0m \u001b[0;34m\u001b[0m\u001b[0m\n",
            "\u001b[0;32m/usr/local/lib/python2.7/dist-packages/pandas/core/strings.pyc\u001b[0m in \u001b[0;36mstr_count\u001b[0;34m(arr, pat, flags)\u001b[0m\n\u001b[1;32m    214\u001b[0m     \u001b[0mregex\u001b[0m \u001b[0;34m=\u001b[0m \u001b[0mre\u001b[0m\u001b[0;34m.\u001b[0m\u001b[0mcompile\u001b[0m\u001b[0;34m(\u001b[0m\u001b[0mpat\u001b[0m\u001b[0;34m,\u001b[0m \u001b[0mflags\u001b[0m\u001b[0;34m=\u001b[0m\u001b[0mflags\u001b[0m\u001b[0;34m)\u001b[0m\u001b[0;34m\u001b[0m\u001b[0m\n\u001b[1;32m    215\u001b[0m     \u001b[0mf\u001b[0m \u001b[0;34m=\u001b[0m \u001b[0;32mlambda\u001b[0m \u001b[0mx\u001b[0m\u001b[0;34m:\u001b[0m \u001b[0mlen\u001b[0m\u001b[0;34m(\u001b[0m\u001b[0mregex\u001b[0m\u001b[0;34m.\u001b[0m\u001b[0mfindall\u001b[0m\u001b[0;34m(\u001b[0m\u001b[0mx\u001b[0m\u001b[0;34m)\u001b[0m\u001b[0;34m)\u001b[0m\u001b[0;34m\u001b[0m\u001b[0m\n\u001b[0;32m--> 216\u001b[0;31m     \u001b[0;32mreturn\u001b[0m \u001b[0m_na_map\u001b[0m\u001b[0;34m(\u001b[0m\u001b[0mf\u001b[0m\u001b[0;34m,\u001b[0m \u001b[0marr\u001b[0m\u001b[0;34m,\u001b[0m \u001b[0mdtype\u001b[0m\u001b[0;34m=\u001b[0m\u001b[0mint\u001b[0m\u001b[0;34m)\u001b[0m\u001b[0;34m\u001b[0m\u001b[0m\n\u001b[0m\u001b[1;32m    217\u001b[0m \u001b[0;34m\u001b[0m\u001b[0m\n\u001b[1;32m    218\u001b[0m \u001b[0;34m\u001b[0m\u001b[0m\n",
            "\u001b[0;32m/usr/local/lib/python2.7/dist-packages/pandas/core/strings.pyc\u001b[0m in \u001b[0;36m_na_map\u001b[0;34m(f, arr, na_result, dtype)\u001b[0m\n\u001b[1;32m    154\u001b[0m \u001b[0;32mdef\u001b[0m \u001b[0m_na_map\u001b[0m\u001b[0;34m(\u001b[0m\u001b[0mf\u001b[0m\u001b[0;34m,\u001b[0m \u001b[0marr\u001b[0m\u001b[0;34m,\u001b[0m \u001b[0mna_result\u001b[0m\u001b[0;34m=\u001b[0m\u001b[0mnp\u001b[0m\u001b[0;34m.\u001b[0m\u001b[0mnan\u001b[0m\u001b[0;34m,\u001b[0m \u001b[0mdtype\u001b[0m\u001b[0;34m=\u001b[0m\u001b[0mobject\u001b[0m\u001b[0;34m)\u001b[0m\u001b[0;34m:\u001b[0m\u001b[0;34m\u001b[0m\u001b[0m\n\u001b[1;32m    155\u001b[0m     \u001b[0;31m# should really _check_ for NA\u001b[0m\u001b[0;34m\u001b[0m\u001b[0;34m\u001b[0m\u001b[0m\n\u001b[0;32m--> 156\u001b[0;31m     \u001b[0;32mreturn\u001b[0m \u001b[0m_map\u001b[0m\u001b[0;34m(\u001b[0m\u001b[0mf\u001b[0m\u001b[0;34m,\u001b[0m \u001b[0marr\u001b[0m\u001b[0;34m,\u001b[0m \u001b[0mna_mask\u001b[0m\u001b[0;34m=\u001b[0m\u001b[0mTrue\u001b[0m\u001b[0;34m,\u001b[0m \u001b[0mna_value\u001b[0m\u001b[0;34m=\u001b[0m\u001b[0mna_result\u001b[0m\u001b[0;34m,\u001b[0m \u001b[0mdtype\u001b[0m\u001b[0;34m=\u001b[0m\u001b[0mdtype\u001b[0m\u001b[0;34m)\u001b[0m\u001b[0;34m\u001b[0m\u001b[0m\n\u001b[0m\u001b[1;32m    157\u001b[0m \u001b[0;34m\u001b[0m\u001b[0m\n\u001b[1;32m    158\u001b[0m \u001b[0;34m\u001b[0m\u001b[0m\n",
            "\u001b[0;32m/usr/local/lib/python2.7/dist-packages/pandas/core/strings.pyc\u001b[0m in \u001b[0;36m_map\u001b[0;34m(f, arr, na_mask, na_value, dtype)\u001b[0m\n\u001b[1;32m    169\u001b[0m         \u001b[0;32mtry\u001b[0m\u001b[0;34m:\u001b[0m\u001b[0;34m\u001b[0m\u001b[0m\n\u001b[1;32m    170\u001b[0m             \u001b[0mconvert\u001b[0m \u001b[0;34m=\u001b[0m \u001b[0;32mnot\u001b[0m \u001b[0mall\u001b[0m\u001b[0;34m(\u001b[0m\u001b[0mmask\u001b[0m\u001b[0;34m)\u001b[0m\u001b[0;34m\u001b[0m\u001b[0m\n\u001b[0;32m--> 171\u001b[0;31m             \u001b[0mresult\u001b[0m \u001b[0;34m=\u001b[0m \u001b[0mlib\u001b[0m\u001b[0;34m.\u001b[0m\u001b[0mmap_infer_mask\u001b[0m\u001b[0;34m(\u001b[0m\u001b[0marr\u001b[0m\u001b[0;34m,\u001b[0m \u001b[0mf\u001b[0m\u001b[0;34m,\u001b[0m \u001b[0mmask\u001b[0m\u001b[0;34m.\u001b[0m\u001b[0mview\u001b[0m\u001b[0;34m(\u001b[0m\u001b[0mnp\u001b[0m\u001b[0;34m.\u001b[0m\u001b[0muint8\u001b[0m\u001b[0;34m)\u001b[0m\u001b[0;34m,\u001b[0m \u001b[0mconvert\u001b[0m\u001b[0;34m)\u001b[0m\u001b[0;34m\u001b[0m\u001b[0m\n\u001b[0m\u001b[1;32m    172\u001b[0m         \u001b[0;32mexcept\u001b[0m \u001b[0;34m(\u001b[0m\u001b[0mTypeError\u001b[0m\u001b[0;34m,\u001b[0m \u001b[0mAttributeError\u001b[0m\u001b[0;34m)\u001b[0m \u001b[0;32mas\u001b[0m \u001b[0me\u001b[0m\u001b[0;34m:\u001b[0m\u001b[0;34m\u001b[0m\u001b[0m\n\u001b[1;32m    173\u001b[0m             \u001b[0;31m# Reraise the exception if callable `f` got wrong number of args.\u001b[0m\u001b[0;34m\u001b[0m\u001b[0;34m\u001b[0m\u001b[0m\n",
            "\u001b[0;32mpandas/_libs/src/inference.pyx\u001b[0m in \u001b[0;36mpandas._libs.lib.map_infer_mask\u001b[0;34m()\u001b[0m\n",
            "\u001b[0;32m/usr/local/lib/python2.7/dist-packages/pandas/core/strings.pyc\u001b[0m in \u001b[0;36m<lambda>\u001b[0;34m(x)\u001b[0m\n\u001b[1;32m    213\u001b[0m     \"\"\"\n\u001b[1;32m    214\u001b[0m     \u001b[0mregex\u001b[0m \u001b[0;34m=\u001b[0m \u001b[0mre\u001b[0m\u001b[0;34m.\u001b[0m\u001b[0mcompile\u001b[0m\u001b[0;34m(\u001b[0m\u001b[0mpat\u001b[0m\u001b[0;34m,\u001b[0m \u001b[0mflags\u001b[0m\u001b[0;34m=\u001b[0m\u001b[0mflags\u001b[0m\u001b[0;34m)\u001b[0m\u001b[0;34m\u001b[0m\u001b[0m\n\u001b[0;32m--> 215\u001b[0;31m     \u001b[0mf\u001b[0m \u001b[0;34m=\u001b[0m \u001b[0;32mlambda\u001b[0m \u001b[0mx\u001b[0m\u001b[0;34m:\u001b[0m \u001b[0mlen\u001b[0m\u001b[0;34m(\u001b[0m\u001b[0mregex\u001b[0m\u001b[0;34m.\u001b[0m\u001b[0mfindall\u001b[0m\u001b[0;34m(\u001b[0m\u001b[0mx\u001b[0m\u001b[0;34m)\u001b[0m\u001b[0;34m)\u001b[0m\u001b[0;34m\u001b[0m\u001b[0m\n\u001b[0m\u001b[1;32m    216\u001b[0m     \u001b[0;32mreturn\u001b[0m \u001b[0m_na_map\u001b[0m\u001b[0;34m(\u001b[0m\u001b[0mf\u001b[0m\u001b[0;34m,\u001b[0m \u001b[0marr\u001b[0m\u001b[0;34m,\u001b[0m \u001b[0mdtype\u001b[0m\u001b[0;34m=\u001b[0m\u001b[0mint\u001b[0m\u001b[0;34m)\u001b[0m\u001b[0;34m\u001b[0m\u001b[0m\n\u001b[1;32m    217\u001b[0m \u001b[0;34m\u001b[0m\u001b[0m\n",
            "\u001b[0;31mKeyboardInterrupt\u001b[0m: "
          ]
        }
      ]
    },
    {
      "metadata": {
        "id": "-zcF-IVcXBHi",
        "colab_type": "code",
        "colab": {}
      },
      "cell_type": "code",
      "source": [
        "TrainAndY_dump=train.copy()"
      ],
      "execution_count": 0,
      "outputs": []
    },
    {
      "metadata": {
        "id": "QtN1ICbKXLON",
        "colab_type": "code",
        "colab": {}
      },
      "cell_type": "code",
      "source": [
        "TrainAndY_dump['Y']=y"
      ],
      "execution_count": 0,
      "outputs": []
    },
    {
      "metadata": {
        "id": "uGYvoakJXR13",
        "colab_type": "code",
        "colab": {}
      },
      "cell_type": "code",
      "source": [
        "TrainAndY_dump.to_csv('/content/gdrive/My Drive/Холдинг/Mind-set/DMIA/dmia-sport-2019-spring/TrainAndY_dump_full.csv')"
      ],
      "execution_count": 0,
      "outputs": []
    },
    {
      "metadata": {
        "id": "lIa1YscAX3sw",
        "colab_type": "code",
        "colab": {}
      },
      "cell_type": "code",
      "source": [
        "url = '/content/gdrive/My Drive/Холдинг/Mind-set/DMIA/dmia-sport-2019-spring/TrainAndY_dump_full.csv'\n",
        "train = pd.read_csv(url, encoding='utf-8')"
      ],
      "execution_count": 0,
      "outputs": []
    },
    {
      "metadata": {
        "id": "miF7XwzoDCbw",
        "colab_type": "code",
        "outputId": "555a05df-780b-4973-cfee-b6a66b4596ba",
        "colab": {
          "base_uri": "https://localhost:8080/",
          "height": 34
        }
      },
      "cell_type": "code",
      "source": [
        "train.shape"
      ],
      "execution_count": 0,
      "outputs": [
        {
          "output_type": "execute_result",
          "data": {
            "text/plain": [
              "(4151496, 65)"
            ]
          },
          "metadata": {
            "tags": []
          },
          "execution_count": 11
        }
      ]
    },
    {
      "metadata": {
        "id": "TvcgQafqZDJI",
        "colab_type": "code",
        "colab": {}
      },
      "cell_type": "code",
      "source": [
        "train=train[:100000]"
      ],
      "execution_count": 0,
      "outputs": []
    },
    {
      "metadata": {
        "id": "CqIsbI7VOd6y",
        "colab_type": "code",
        "outputId": "64df5f60-87be-4f74-8c50-bd4569a1a1a4",
        "colab": {
          "base_uri": "https://localhost:8080/",
          "height": 224
        }
      },
      "cell_type": "code",
      "source": [
        "train.head()"
      ],
      "execution_count": 0,
      "outputs": [
        {
          "output_type": "execute_result",
          "data": {
            "text/html": [
              "<div>\n",
              "<style scoped>\n",
              "    .dataframe tbody tr th:only-of-type {\n",
              "        vertical-align: middle;\n",
              "    }\n",
              "\n",
              "    .dataframe tbody tr th {\n",
              "        vertical-align: top;\n",
              "    }\n",
              "\n",
              "    .dataframe thead th {\n",
              "        text-align: right;\n",
              "    }\n",
              "</style>\n",
              "<table border=\"1\" class=\"dataframe\">\n",
              "  <thead>\n",
              "    <tr style=\"text-align: right;\">\n",
              "      <th></th>\n",
              "      <th>Unnamed: 0</th>\n",
              "      <th>Password</th>\n",
              "      <th>len</th>\n",
              "      <th>a</th>\n",
              "      <th>b</th>\n",
              "      <th>c</th>\n",
              "      <th>d</th>\n",
              "      <th>e</th>\n",
              "      <th>f</th>\n",
              "      <th>g</th>\n",
              "      <th>...</th>\n",
              "      <th>0</th>\n",
              "      <th>1</th>\n",
              "      <th>2</th>\n",
              "      <th>3</th>\n",
              "      <th>4</th>\n",
              "      <th>5</th>\n",
              "      <th>6</th>\n",
              "      <th>7</th>\n",
              "      <th>8</th>\n",
              "      <th>9</th>\n",
              "    </tr>\n",
              "  </thead>\n",
              "  <tbody>\n",
              "    <tr>\n",
              "      <th>0</th>\n",
              "      <td>0</td>\n",
              "      <td>631XniVx2lS5I</td>\n",
              "      <td>13.0</td>\n",
              "      <td>0.0</td>\n",
              "      <td>0.0</td>\n",
              "      <td>0.0</td>\n",
              "      <td>0.0</td>\n",
              "      <td>0.0</td>\n",
              "      <td>0.0</td>\n",
              "      <td>0.0</td>\n",
              "      <td>...</td>\n",
              "      <td>0.0</td>\n",
              "      <td>1.0</td>\n",
              "      <td>1.0</td>\n",
              "      <td>1.0</td>\n",
              "      <td>0.0</td>\n",
              "      <td>1.0</td>\n",
              "      <td>1.0</td>\n",
              "      <td>0.0</td>\n",
              "      <td>0.0</td>\n",
              "      <td>0.0</td>\n",
              "    </tr>\n",
              "    <tr>\n",
              "      <th>1</th>\n",
              "      <td>1</td>\n",
              "      <td>LEGIT747</td>\n",
              "      <td>8.0</td>\n",
              "      <td>0.0</td>\n",
              "      <td>0.0</td>\n",
              "      <td>0.0</td>\n",
              "      <td>0.0</td>\n",
              "      <td>0.0</td>\n",
              "      <td>0.0</td>\n",
              "      <td>0.0</td>\n",
              "      <td>...</td>\n",
              "      <td>0.0</td>\n",
              "      <td>0.0</td>\n",
              "      <td>0.0</td>\n",
              "      <td>0.0</td>\n",
              "      <td>1.0</td>\n",
              "      <td>0.0</td>\n",
              "      <td>0.0</td>\n",
              "      <td>2.0</td>\n",
              "      <td>0.0</td>\n",
              "      <td>0.0</td>\n",
              "    </tr>\n",
              "    <tr>\n",
              "      <th>2</th>\n",
              "      <td>2</td>\n",
              "      <td>742364es</td>\n",
              "      <td>8.0</td>\n",
              "      <td>0.0</td>\n",
              "      <td>0.0</td>\n",
              "      <td>0.0</td>\n",
              "      <td>0.0</td>\n",
              "      <td>1.0</td>\n",
              "      <td>0.0</td>\n",
              "      <td>0.0</td>\n",
              "      <td>...</td>\n",
              "      <td>0.0</td>\n",
              "      <td>0.0</td>\n",
              "      <td>1.0</td>\n",
              "      <td>1.0</td>\n",
              "      <td>2.0</td>\n",
              "      <td>0.0</td>\n",
              "      <td>1.0</td>\n",
              "      <td>1.0</td>\n",
              "      <td>0.0</td>\n",
              "      <td>0.0</td>\n",
              "    </tr>\n",
              "    <tr>\n",
              "      <th>3</th>\n",
              "      <td>3</td>\n",
              "      <td>3846696477</td>\n",
              "      <td>10.0</td>\n",
              "      <td>0.0</td>\n",
              "      <td>0.0</td>\n",
              "      <td>0.0</td>\n",
              "      <td>0.0</td>\n",
              "      <td>0.0</td>\n",
              "      <td>0.0</td>\n",
              "      <td>0.0</td>\n",
              "      <td>...</td>\n",
              "      <td>0.0</td>\n",
              "      <td>0.0</td>\n",
              "      <td>0.0</td>\n",
              "      <td>1.0</td>\n",
              "      <td>2.0</td>\n",
              "      <td>0.0</td>\n",
              "      <td>3.0</td>\n",
              "      <td>2.0</td>\n",
              "      <td>1.0</td>\n",
              "      <td>1.0</td>\n",
              "    </tr>\n",
              "    <tr>\n",
              "      <th>4</th>\n",
              "      <td>4</td>\n",
              "      <td>laurahop</td>\n",
              "      <td>8.0</td>\n",
              "      <td>2.0</td>\n",
              "      <td>0.0</td>\n",
              "      <td>0.0</td>\n",
              "      <td>0.0</td>\n",
              "      <td>0.0</td>\n",
              "      <td>0.0</td>\n",
              "      <td>0.0</td>\n",
              "      <td>...</td>\n",
              "      <td>0.0</td>\n",
              "      <td>0.0</td>\n",
              "      <td>0.0</td>\n",
              "      <td>0.0</td>\n",
              "      <td>0.0</td>\n",
              "      <td>0.0</td>\n",
              "      <td>0.0</td>\n",
              "      <td>0.0</td>\n",
              "      <td>0.0</td>\n",
              "      <td>0.0</td>\n",
              "    </tr>\n",
              "  </tbody>\n",
              "</table>\n",
              "<p>5 rows × 65 columns</p>\n",
              "</div>"
            ],
            "text/plain": [
              "   Unnamed: 0       Password   len    a    b    c    d    e    f    g ...   \\\n",
              "0           0  631XniVx2lS5I  13.0  0.0  0.0  0.0  0.0  0.0  0.0  0.0 ...    \n",
              "1           1       LEGIT747   8.0  0.0  0.0  0.0  0.0  0.0  0.0  0.0 ...    \n",
              "2           2       742364es   8.0  0.0  0.0  0.0  0.0  1.0  0.0  0.0 ...    \n",
              "3           3     3846696477  10.0  0.0  0.0  0.0  0.0  0.0  0.0  0.0 ...    \n",
              "4           4       laurahop   8.0  2.0  0.0  0.0  0.0  0.0  0.0  0.0 ...    \n",
              "\n",
              "     0    1    2    3    4    5    6    7    8    9  \n",
              "0  0.0  1.0  1.0  1.0  0.0  1.0  1.0  0.0  0.0  0.0  \n",
              "1  0.0  0.0  0.0  0.0  1.0  0.0  0.0  2.0  0.0  0.0  \n",
              "2  0.0  0.0  1.0  1.0  2.0  0.0  1.0  1.0  0.0  0.0  \n",
              "3  0.0  0.0  0.0  1.0  2.0  0.0  3.0  2.0  1.0  1.0  \n",
              "4  0.0  0.0  0.0  0.0  0.0  0.0  0.0  0.0  0.0  0.0  \n",
              "\n",
              "[5 rows x 65 columns]"
            ]
          },
          "metadata": {
            "tags": []
          },
          "execution_count": 31
        }
      ]
    },
    {
      "metadata": {
        "id": "hBD0su8COd7V",
        "colab_type": "code",
        "colab": {}
      },
      "cell_type": "code",
      "source": [
        "data_trained=trainExt.drop(('Password'), axis=1)\n",
        "data_trained.fillna(data_trained['len'].median(),inplace=True)"
      ],
      "execution_count": 0,
      "outputs": []
    },
    {
      "metadata": {
        "id": "64AWslC_iZyj",
        "colab_type": "code",
        "outputId": "e51dd9a9-d875-4058-ba6a-217ef9cc427a",
        "colab": {
          "base_uri": "https://localhost:8080/",
          "height": 265
        }
      },
      "cell_type": "code",
      "source": [
        "y[:10000].plot(kind='kde', linewidth=3);"
      ],
      "execution_count": 0,
      "outputs": [
        {
          "output_type": "display_data",
          "data": {
            "image/png": "[encoded data removed]",
            "text/plain": [
              "<Figure size 432x288 with 1 Axes>"
            ]
          },
          "metadata": {
            "tags": []
          }
        }
      ]
    },
    {
      "metadata": {
        "id": "6XzxIVZmqVs-",
        "colab_type": "code",
        "colab": {}
      },
      "cell_type": "code",
      "source": [
        ""
      ],
      "execution_count": 0,
      "outputs": []
    },
    {
      "metadata": {
        "id": "tm306WRgqOTy",
        "colab_type": "code",
        "colab": {}
      },
      "cell_type": "code",
      "source": [
        "difficulty=[]\n",
        "for ndx, member in enumerate(train['Password'][:100000]):\n",
        "   difficulty.append(zx.zxcvbn(str(member), user_inputs=[])['guesses_log10'])"
      ],
      "execution_count": 0,
      "outputs": []
    },
    {
      "metadata": {
        "id": "dKuVOcsTtHze",
        "colab_type": "code",
        "outputId": "a295f7f8-faaf-4d42-f09f-04b4e33c4ad3",
        "colab": {
          "base_uri": "https://localhost:8080/",
          "height": 34
        }
      },
      "cell_type": "code",
      "source": [
        "data_trained.shape"
      ],
      "execution_count": 0,
      "outputs": [
        {
          "output_type": "execute_result",
          "data": {
            "text/plain": [
              "(100000, 64)"
            ]
          },
          "metadata": {
            "tags": []
          },
          "execution_count": 36
        }
      ]
    },
    {
      "metadata": {
        "id": "pqi5NTxurIm8",
        "colab_type": "code",
        "colab": {}
      },
      "cell_type": "code",
      "source": [
        "data_trained['guess']=difficulty"
      ],
      "execution_count": 0,
      "outputs": []
    },
    {
      "metadata": {
        "id": "EjzpCBGGtjp7",
        "colab_type": "code",
        "outputId": "2c4906a1-4e2e-48b6-e510-77876d4f4b0b",
        "colab": {
          "base_uri": "https://localhost:8080/",
          "height": 167
        }
      },
      "cell_type": "code",
      "source": [
        "data_trained['guess'].head().sort()"
      ],
      "execution_count": 0,
      "outputs": [
        {
          "output_type": "error",
          "ename": "NameError",
          "evalue": "ignored",
          "traceback": [
            "\u001b[0;31m\u001b[0m",
            "\u001b[0;31mNameError\u001b[0mTraceback (most recent call last)",
            "\u001b[0;32m<ipython-input-12-4d70556e166d>\u001b[0m in \u001b[0;36m<module>\u001b[0;34m()\u001b[0m\n\u001b[0;32m----> 1\u001b[0;31m \u001b[0mdata_trained\u001b[0m\u001b[0;34m[\u001b[0m\u001b[0;34m'guess'\u001b[0m\u001b[0;34m]\u001b[0m\u001b[0;34m.\u001b[0m\u001b[0mhead\u001b[0m\u001b[0;34m(\u001b[0m\u001b[0;34m)\u001b[0m\u001b[0;34m.\u001b[0m\u001b[0msort\u001b[0m\u001b[0;34m(\u001b[0m\u001b[0;34m)\u001b[0m\u001b[0;34m\u001b[0m\u001b[0m\n\u001b[0m",
            "\u001b[0;31mNameError\u001b[0m: name 'data_trained' is not defined"
          ]
        }
      ]
    },
    {
      "metadata": {
        "id": "604qvGSTmf4G",
        "colab_type": "code",
        "colab": {}
      },
      "cell_type": "code",
      "source": [
        "#diff=zx.zxcvbn(train['Password'], user_inputs=[])['guesses_log10']"
      ],
      "execution_count": 0,
      "outputs": []
    },
    {
      "metadata": {
        "id": "f_m3puj9ZZJN",
        "colab_type": "code",
        "outputId": "6929d597-e635-4617-88d7-52a19ce19bf7",
        "colab": {
          "base_uri": "https://localhost:8080/",
          "height": 633
        }
      },
      "cell_type": "code",
      "source": [
        "data_trained.columns"
      ],
      "execution_count": 0,
      "outputs": [
        {
          "output_type": "execute_result",
          "data": {
            "text/plain": [
              "Index([            u'Unnamed: 0',                    u'len',\n",
              "                            u'a',                      u'b',\n",
              "                            u'c',                      u'd',\n",
              "                            u'e',                      u'f',\n",
              "                            u'g',                      u'h',\n",
              "                            u'i',                      u'j',\n",
              "                            u'k',                      u'l',\n",
              "                            u'm',                      u'n',\n",
              "                            u'o',                      u'p',\n",
              "                            u'q',                      u'r',\n",
              "                            u's',                      u't',\n",
              "                            u'u',                      u'v',\n",
              "                            u'w',                      u'x',\n",
              "                            u'y',                      u'z',\n",
              "                            u'A',                      u'B',\n",
              "                            u'C',                      u'D',\n",
              "                            u'E',                      u'F',\n",
              "                            u'G',                      u'H',\n",
              "                            u'I',                      u'J',\n",
              "                            u'K',                      u'L',\n",
              "                            u'M',                      u'N',\n",
              "                            u'O',                      u'P',\n",
              "                            u'Q',                      u'R',\n",
              "                            u'S',                      u'T',\n",
              "                            u'U',                      u'V',\n",
              "                            u'W',                      u'X',\n",
              "                            u'Y',                      u'Z',\n",
              "                            u'0',                      u'1',\n",
              "                            u'2',                      u'3',\n",
              "                            u'4',                      u'5',\n",
              "                            u'6',                      u'7',\n",
              "                            u'8',                      u'9',\n",
              "       u'pymorphy_word_is_known',         u'pymorphy_score',\n",
              "                     u'pymorphy',        u'pymorphy_number'],\n",
              "      dtype='object')"
            ]
          },
          "metadata": {
            "tags": []
          },
          "execution_count": 81
        }
      ]
    },
    {
      "metadata": {
        "id": "eL8c7dsUZVtT",
        "colab_type": "code",
        "colab": {}
      },
      "cell_type": "code",
      "source": [
        "data_trained=data_trained.drop('Unnamed: 0',axis=1)"
      ],
      "execution_count": 0,
      "outputs": []
    },
    {
      "metadata": {
        "id": "OYUwtTWOafMy",
        "colab_type": "code",
        "colab": {}
      },
      "cell_type": "code",
      "source": [
        "data_trained=data_trained.drop(u'pymorphy',axis=1)"
      ],
      "execution_count": 0,
      "outputs": []
    },
    {
      "metadata": {
        "id": "4jXHpFZw-Wov",
        "colab_type": "code",
        "colab": {}
      },
      "cell_type": "code",
      "source": [
        "data_trained=data_trained.drop(u'pymorphy_score',axis=1)"
      ],
      "execution_count": 0,
      "outputs": []
    },
    {
      "metadata": {
        "id": "_qkEVufI-bpz",
        "colab_type": "code",
        "colab": {}
      },
      "cell_type": "code",
      "source": [
        "data_trained=data_trained.drop(u'pymorphy_number',axis=1)"
      ],
      "execution_count": 0,
      "outputs": []
    },
    {
      "metadata": {
        "id": "J8-uevEX-St-",
        "colab_type": "code",
        "colab": {}
      },
      "cell_type": "code",
      "source": [
        "data_trained=data_trained.drop(u'pymorphy_word_is_known',axis=1)"
      ],
      "execution_count": 0,
      "outputs": []
    },
    {
      "metadata": {
        "id": "yqaBZS2-HTxR",
        "colab_type": "code",
        "outputId": "68f035d3-e8a5-4f9d-af89-7bc804296792",
        "colab": {
          "base_uri": "https://localhost:8080/",
          "height": 680
        }
      },
      "cell_type": "code",
      "source": [
        "data_trained.to_csv('/content/gdrive/My Drive/Холдинг/Mind-set/DMIA/dmia-sport-2019-spring/data_trained100k.csv')"
      ],
      "execution_count": 0,
      "outputs": [
        {
          "output_type": "error",
          "ename": "KeyboardInterrupt",
          "evalue": "ignored",
          "traceback": [
            "\u001b[0;31m\u001b[0m",
            "\u001b[0;31mKeyboardInterrupt\u001b[0mTraceback (most recent call last)",
            "\u001b[0;32m<ipython-input-75-cb4ec098bf4a>\u001b[0m in \u001b[0;36m<module>\u001b[0;34m()\u001b[0m\n\u001b[0;32m----> 1\u001b[0;31m \u001b[0mdata_trained\u001b[0m\u001b[0;34m.\u001b[0m\u001b[0mto_csv\u001b[0m\u001b[0;34m(\u001b[0m\u001b[0;34m'/content/gdrive/My Drive/Холдинг/Mind-set/DMIA/dmia-sport-2019-spring/data_trained100k.csv'\u001b[0m\u001b[0;34m)\u001b[0m\u001b[0;34m\u001b[0m\u001b[0m\n\u001b[0m",
            "\u001b[0;32m/usr/local/lib/python2.7/dist-packages/pandas/core/frame.pyc\u001b[0m in \u001b[0;36mto_csv\u001b[0;34m(self, path_or_buf, sep, na_rep, float_format, columns, header, index, index_label, mode, encoding, compression, quoting, quotechar, line_terminator, chunksize, tupleize_cols, date_format, doublequote, escapechar, decimal)\u001b[0m\n\u001b[1;32m   1522\u001b[0m                                      \u001b[0mdoublequote\u001b[0m\u001b[0;34m=\u001b[0m\u001b[0mdoublequote\u001b[0m\u001b[0;34m,\u001b[0m\u001b[0;34m\u001b[0m\u001b[0m\n\u001b[1;32m   1523\u001b[0m                                      escapechar=escapechar, decimal=decimal)\n\u001b[0;32m-> 1524\u001b[0;31m         \u001b[0mformatter\u001b[0m\u001b[0;34m.\u001b[0m\u001b[0msave\u001b[0m\u001b[0;34m(\u001b[0m\u001b[0;34m)\u001b[0m\u001b[0;34m\u001b[0m\u001b[0m\n\u001b[0m\u001b[1;32m   1525\u001b[0m \u001b[0;34m\u001b[0m\u001b[0m\n\u001b[1;32m   1526\u001b[0m         \u001b[0;32mif\u001b[0m \u001b[0mpath_or_buf\u001b[0m \u001b[0;32mis\u001b[0m \u001b[0mNone\u001b[0m\u001b[0;34m:\u001b[0m\u001b[0;34m\u001b[0m\u001b[0m\n",
            "\u001b[0;32m/usr/local/lib/python2.7/dist-packages/pandas/io/formats/format.pyc\u001b[0m in \u001b[0;36msave\u001b[0;34m(self)\u001b[0m\n\u001b[1;32m   1650\u001b[0m                 \u001b[0mself\u001b[0m\u001b[0;34m.\u001b[0m\u001b[0mwriter\u001b[0m \u001b[0;34m=\u001b[0m \u001b[0mUnicodeWriter\u001b[0m\u001b[0;34m(\u001b[0m\u001b[0mf\u001b[0m\u001b[0;34m,\u001b[0m \u001b[0;34m**\u001b[0m\u001b[0mwriter_kwargs\u001b[0m\u001b[0;34m)\u001b[0m\u001b[0;34m\u001b[0m\u001b[0m\n\u001b[1;32m   1651\u001b[0m \u001b[0;34m\u001b[0m\u001b[0m\n\u001b[0;32m-> 1652\u001b[0;31m             \u001b[0mself\u001b[0m\u001b[0;34m.\u001b[0m\u001b[0m_save\u001b[0m\u001b[0;34m(\u001b[0m\u001b[0;34m)\u001b[0m\u001b[0;34m\u001b[0m\u001b[0m\n\u001b[0m\u001b[1;32m   1653\u001b[0m \u001b[0;34m\u001b[0m\u001b[0m\n\u001b[1;32m   1654\u001b[0m         \u001b[0;32mfinally\u001b[0m\u001b[0;34m:\u001b[0m\u001b[0;34m\u001b[0m\u001b[0m\n",
            "\u001b[0;32m/usr/local/lib/python2.7/dist-packages/pandas/io/formats/format.pyc\u001b[0m in \u001b[0;36m_save\u001b[0;34m(self)\u001b[0m\n\u001b[1;32m   1752\u001b[0m                 \u001b[0;32mbreak\u001b[0m\u001b[0;34m\u001b[0m\u001b[0m\n\u001b[1;32m   1753\u001b[0m \u001b[0;34m\u001b[0m\u001b[0m\n\u001b[0;32m-> 1754\u001b[0;31m             \u001b[0mself\u001b[0m\u001b[0;34m.\u001b[0m\u001b[0m_save_chunk\u001b[0m\u001b[0;34m(\u001b[0m\u001b[0mstart_i\u001b[0m\u001b[0;34m,\u001b[0m \u001b[0mend_i\u001b[0m\u001b[0;34m)\u001b[0m\u001b[0;34m\u001b[0m\u001b[0m\n\u001b[0m\u001b[1;32m   1755\u001b[0m \u001b[0;34m\u001b[0m\u001b[0m\n\u001b[1;32m   1756\u001b[0m     \u001b[0;32mdef\u001b[0m \u001b[0m_save_chunk\u001b[0m\u001b[0;34m(\u001b[0m\u001b[0mself\u001b[0m\u001b[0;34m,\u001b[0m \u001b[0mstart_i\u001b[0m\u001b[0;34m,\u001b[0m \u001b[0mend_i\u001b[0m\u001b[0;34m)\u001b[0m\u001b[0;34m:\u001b[0m\u001b[0;34m\u001b[0m\u001b[0m\n",
            "\u001b[0;32m/usr/local/lib/python2.7/dist-packages/pandas/io/formats/format.pyc\u001b[0m in \u001b[0;36m_save_chunk\u001b[0;34m(self, start_i, end_i)\u001b[0m\n\u001b[1;32m   1778\u001b[0m                                         quoting=self.quoting)\n\u001b[1;32m   1779\u001b[0m \u001b[0;34m\u001b[0m\u001b[0m\n\u001b[0;32m-> 1780\u001b[0;31m         \u001b[0mlib\u001b[0m\u001b[0;34m.\u001b[0m\u001b[0mwrite_csv_rows\u001b[0m\u001b[0;34m(\u001b[0m\u001b[0mself\u001b[0m\u001b[0;34m.\u001b[0m\u001b[0mdata\u001b[0m\u001b[0;34m,\u001b[0m \u001b[0mix\u001b[0m\u001b[0;34m,\u001b[0m \u001b[0mself\u001b[0m\u001b[0;34m.\u001b[0m\u001b[0mnlevels\u001b[0m\u001b[0;34m,\u001b[0m \u001b[0mself\u001b[0m\u001b[0;34m.\u001b[0m\u001b[0mcols\u001b[0m\u001b[0;34m,\u001b[0m \u001b[0mself\u001b[0m\u001b[0;34m.\u001b[0m\u001b[0mwriter\u001b[0m\u001b[0;34m)\u001b[0m\u001b[0;34m\u001b[0m\u001b[0m\n\u001b[0m\u001b[1;32m   1781\u001b[0m \u001b[0;34m\u001b[0m\u001b[0m\n\u001b[1;32m   1782\u001b[0m \u001b[0;34m\u001b[0m\u001b[0m\n",
            "\u001b[0;31mKeyboardInterrupt\u001b[0m: "
          ]
        }
      ]
    },
    {
      "metadata": {
        "id": "0jaRx9lFsKA3",
        "colab_type": "code",
        "colab": {}
      },
      "cell_type": "code",
      "source": [
        "url='/content/gdrive/My Drive/Холдинг/Mind-set/DMIA/dmia-sport-2019-spring/data_trained100k.csv'"
      ],
      "execution_count": 0,
      "outputs": []
    },
    {
      "metadata": {
        "id": "wqM-Sv2Rs-zU",
        "colab_type": "code",
        "colab": {}
      },
      "cell_type": "code",
      "source": [
        "data_trained = pd.read_csv(url, encoding='utf-8')"
      ],
      "execution_count": 0,
      "outputs": []
    },
    {
      "metadata": {
        "id": "hsY38VvlX4M2",
        "colab_type": "code",
        "colab": {}
      },
      "cell_type": "code",
      "source": [
        "data_trained=data_trained.drop('Y',axis=1)"
      ],
      "execution_count": 0,
      "outputs": []
    },
    {
      "metadata": {
        "id": "l1T6fDJptGbZ",
        "colab_type": "code",
        "outputId": "b290d448-1763-488f-d12c-29d930a5fad9",
        "colab": {
          "base_uri": "https://localhost:8080/",
          "height": 1108
        }
      },
      "cell_type": "code",
      "source": [
        "data_trained['guess']"
      ],
      "execution_count": 0,
      "outputs": [
        {
          "output_type": "execute_result",
          "data": {
            "text/plain": [
              "0        13.000000\n",
              "1         7.129826\n",
              "2         8.000000\n",
              "3         9.283303\n",
              "4         5.041393\n",
              "5         5.426446\n",
              "6         8.000000\n",
              "7         7.000000\n",
              "8         8.000000\n",
              "9         5.271051\n",
              "10        7.155640\n",
              "11        8.000000\n",
              "12        8.013307\n",
              "13        3.589167\n",
              "14        7.290737\n",
              "15        4.000043\n",
              "16        5.222196\n",
              "17        6.000000\n",
              "18        6.004321\n",
              "19        5.527966\n",
              "20        4.942504\n",
              "21        7.000434\n",
              "22        6.000000\n",
              "23        7.411451\n",
              "24        6.000000\n",
              "25        4.185570\n",
              "26        6.072617\n",
              "27       13.000000\n",
              "28        8.045245\n",
              "29        7.000000\n",
              "           ...    \n",
              "95252     5.144885\n",
              "95253     5.834497\n",
              "95254    12.203876\n",
              "95255     5.436776\n",
              "95256    11.294202\n",
              "95257     7.000000\n",
              "95258     4.293650\n",
              "95259     8.746299\n",
              "95260     7.123721\n",
              "95261     8.394819\n",
              "95262     8.000000\n",
              "95263    10.124505\n",
              "95264     6.000000\n",
              "95265     8.000000\n",
              "95266     7.000434\n",
              "95267     6.000000\n",
              "95268     6.340444\n",
              "95269     7.876912\n",
              "95270     8.000000\n",
              "95271     7.231724\n",
              "95272     7.000434\n",
              "95273     9.278298\n",
              "95274     6.004321\n",
              "95275     7.000000\n",
              "95276     8.000000\n",
              "95277     6.327767\n",
              "95278    13.164353\n",
              "95279     6.000000\n",
              "95280     8.000043\n",
              "95281     7.501470\n",
              "Name: guess, Length: 95282, dtype: float64"
            ]
          },
          "metadata": {
            "tags": []
          },
          "execution_count": 92
        }
      ]
    },
    {
      "metadata": {
        "id": "ewr10eRGtiRV",
        "colab_type": "code",
        "colab": {}
      },
      "cell_type": "code",
      "source": [
        "#data_trained=data_trained.drop('Unnamed: 0',axis=1)"
      ],
      "execution_count": 0,
      "outputs": []
    },
    {
      "metadata": {
        "id": "g_m_Z_yots-4",
        "colab_type": "code",
        "colab": {}
      },
      "cell_type": "code",
      "source": [
        "#data_trained=data_trained.drop('Unnamed: 0.1',axis=1)"
      ],
      "execution_count": 0,
      "outputs": []
    },
    {
      "metadata": {
        "id": "VisvQZ3YuREe",
        "colab_type": "code",
        "outputId": "9b62c1f3-7118-4a7c-ca89-81f21f6e4a05",
        "colab": {
          "base_uri": "https://localhost:8080/",
          "height": 34
        }
      },
      "cell_type": "code",
      "source": [
        "data_trained.shape"
      ],
      "execution_count": 0,
      "outputs": [
        {
          "output_type": "execute_result",
          "data": {
            "text/plain": [
              "(95282, 65)"
            ]
          },
          "metadata": {
            "tags": []
          },
          "execution_count": 97
        }
      ]
    },
    {
      "metadata": {
        "id": "WMMv3MMjuUQ0",
        "colab_type": "code",
        "outputId": "ace98efa-5952-47a2-9aa4-20212207d9bb",
        "colab": {
          "base_uri": "https://localhost:8080/",
          "height": 34
        }
      },
      "cell_type": "code",
      "source": [
        "y.shape"
      ],
      "execution_count": 0,
      "outputs": [
        {
          "output_type": "execute_result",
          "data": {
            "text/plain": [
              "(4151496,)"
            ]
          },
          "metadata": {
            "tags": []
          },
          "execution_count": 96
        }
      ]
    },
    {
      "metadata": {
        "id": "xkk2l5owtziN",
        "colab_type": "code",
        "outputId": "68571e24-dbf0-4e5e-a25d-62f5a1489377",
        "colab": {
          "base_uri": "https://localhost:8080/",
          "height": 52
        }
      },
      "cell_type": "code",
      "source": [
        "print (numpy.corrcoef(data_trained['guess'],y[:95282]))"
      ],
      "execution_count": 0,
      "outputs": [
        {
          "output_type": "stream",
          "text": [
            "[[ 1.         -0.10392833]\n",
            " [-0.10392833  1.        ]]\n"
          ],
          "name": "stdout"
        }
      ]
    },
    {
      "metadata": {
        "id": "Zzldw35QtKj3",
        "colab_type": "code",
        "colab": {}
      },
      "cell_type": "code",
      "source": [
        "data_trained=data_trained.drop('Unnamed: 0',axis=1)"
      ],
      "execution_count": 0,
      "outputs": []
    },
    {
      "metadata": {
        "id": "bNfhKIr1fs84",
        "colab_type": "code",
        "colab": {}
      },
      "cell_type": "code",
      "source": [
        "for ndx, member in enumerate(data_trained['Password']):\n",
        "   difficulty.append(zx.zxcvbn(str(member), user_inputs=[])['guesses_log10'])"
      ],
      "execution_count": 0,
      "outputs": []
    },
    {
      "metadata": {
        "id": "qyzm0HhVu361",
        "colab_type": "code",
        "colab": {}
      },
      "cell_type": "code",
      "source": [
        "X_train, X_test, y_train, y_test = train_test_split(data_trained, y[:95282], test_size=0.3, random_state=1)\n",
        "X_train2, X_val, y_train2, y_val = train_test_split(X_test, y_test, test_size=0.9, random_state=1)"
      ],
      "execution_count": 0,
      "outputs": []
    },
    {
      "metadata": {
        "id": "GygzM-MoOd71",
        "colab_type": "code",
        "outputId": "835fcdea-7028-4be7-b9bb-297e22ac9d08",
        "colab": {
          "base_uri": "https://localhost:8080/",
          "height": 224
        }
      },
      "cell_type": "code",
      "source": [
        "X_train.head()"
      ],
      "execution_count": 0,
      "outputs": [
        {
          "output_type": "execute_result",
          "data": {
            "text/html": [
              "<div>\n",
              "<style scoped>\n",
              "    .dataframe tbody tr th:only-of-type {\n",
              "        vertical-align: middle;\n",
              "    }\n",
              "\n",
              "    .dataframe tbody tr th {\n",
              "        vertical-align: top;\n",
              "    }\n",
              "\n",
              "    .dataframe thead th {\n",
              "        text-align: right;\n",
              "    }\n",
              "</style>\n",
              "<table border=\"1\" class=\"dataframe\">\n",
              "  <thead>\n",
              "    <tr style=\"text-align: right;\">\n",
              "      <th></th>\n",
              "      <th>len</th>\n",
              "      <th>a</th>\n",
              "      <th>b</th>\n",
              "      <th>c</th>\n",
              "      <th>d</th>\n",
              "      <th>e</th>\n",
              "      <th>f</th>\n",
              "      <th>g</th>\n",
              "      <th>h</th>\n",
              "      <th>i</th>\n",
              "      <th>...</th>\n",
              "      <th>1</th>\n",
              "      <th>2</th>\n",
              "      <th>3</th>\n",
              "      <th>4</th>\n",
              "      <th>5</th>\n",
              "      <th>6</th>\n",
              "      <th>7</th>\n",
              "      <th>8</th>\n",
              "      <th>9</th>\n",
              "      <th>guess</th>\n",
              "    </tr>\n",
              "  </thead>\n",
              "  <tbody>\n",
              "    <tr>\n",
              "      <th>25363</th>\n",
              "      <td>11.0</td>\n",
              "      <td>0.0</td>\n",
              "      <td>3.0</td>\n",
              "      <td>1.0</td>\n",
              "      <td>0.0</td>\n",
              "      <td>0.0</td>\n",
              "      <td>0.0</td>\n",
              "      <td>2.0</td>\n",
              "      <td>2.0</td>\n",
              "      <td>0.0</td>\n",
              "      <td>...</td>\n",
              "      <td>0.0</td>\n",
              "      <td>0.0</td>\n",
              "      <td>0.0</td>\n",
              "      <td>0.0</td>\n",
              "      <td>0.0</td>\n",
              "      <td>0.0</td>\n",
              "      <td>0.0</td>\n",
              "      <td>0.0</td>\n",
              "      <td>0.0</td>\n",
              "      <td>11.000000</td>\n",
              "    </tr>\n",
              "    <tr>\n",
              "      <th>30536</th>\n",
              "      <td>8.0</td>\n",
              "      <td>2.0</td>\n",
              "      <td>0.0</td>\n",
              "      <td>0.0</td>\n",
              "      <td>0.0</td>\n",
              "      <td>0.0</td>\n",
              "      <td>0.0</td>\n",
              "      <td>0.0</td>\n",
              "      <td>0.0</td>\n",
              "      <td>1.0</td>\n",
              "      <td>...</td>\n",
              "      <td>0.0</td>\n",
              "      <td>0.0</td>\n",
              "      <td>0.0</td>\n",
              "      <td>0.0</td>\n",
              "      <td>0.0</td>\n",
              "      <td>0.0</td>\n",
              "      <td>0.0</td>\n",
              "      <td>0.0</td>\n",
              "      <td>0.0</td>\n",
              "      <td>8.000000</td>\n",
              "    </tr>\n",
              "    <tr>\n",
              "      <th>58786</th>\n",
              "      <td>10.0</td>\n",
              "      <td>1.0</td>\n",
              "      <td>0.0</td>\n",
              "      <td>0.0</td>\n",
              "      <td>1.0</td>\n",
              "      <td>0.0</td>\n",
              "      <td>0.0</td>\n",
              "      <td>0.0</td>\n",
              "      <td>1.0</td>\n",
              "      <td>1.0</td>\n",
              "      <td>...</td>\n",
              "      <td>1.0</td>\n",
              "      <td>0.0</td>\n",
              "      <td>0.0</td>\n",
              "      <td>0.0</td>\n",
              "      <td>0.0</td>\n",
              "      <td>0.0</td>\n",
              "      <td>0.0</td>\n",
              "      <td>0.0</td>\n",
              "      <td>0.0</td>\n",
              "      <td>9.113943</td>\n",
              "    </tr>\n",
              "    <tr>\n",
              "      <th>91937</th>\n",
              "      <td>7.0</td>\n",
              "      <td>0.0</td>\n",
              "      <td>0.0</td>\n",
              "      <td>1.0</td>\n",
              "      <td>0.0</td>\n",
              "      <td>0.0</td>\n",
              "      <td>0.0</td>\n",
              "      <td>0.0</td>\n",
              "      <td>0.0</td>\n",
              "      <td>0.0</td>\n",
              "      <td>...</td>\n",
              "      <td>1.0</td>\n",
              "      <td>1.0</td>\n",
              "      <td>0.0</td>\n",
              "      <td>1.0</td>\n",
              "      <td>1.0</td>\n",
              "      <td>0.0</td>\n",
              "      <td>0.0</td>\n",
              "      <td>0.0</td>\n",
              "      <td>0.0</td>\n",
              "      <td>7.000000</td>\n",
              "    </tr>\n",
              "    <tr>\n",
              "      <th>63598</th>\n",
              "      <td>10.0</td>\n",
              "      <td>0.0</td>\n",
              "      <td>2.0</td>\n",
              "      <td>1.0</td>\n",
              "      <td>1.0</td>\n",
              "      <td>1.0</td>\n",
              "      <td>0.0</td>\n",
              "      <td>1.0</td>\n",
              "      <td>0.0</td>\n",
              "      <td>0.0</td>\n",
              "      <td>...</td>\n",
              "      <td>0.0</td>\n",
              "      <td>0.0</td>\n",
              "      <td>0.0</td>\n",
              "      <td>0.0</td>\n",
              "      <td>0.0</td>\n",
              "      <td>0.0</td>\n",
              "      <td>0.0</td>\n",
              "      <td>0.0</td>\n",
              "      <td>0.0</td>\n",
              "      <td>9.975891</td>\n",
              "    </tr>\n",
              "  </tbody>\n",
              "</table>\n",
              "<p>5 rows × 64 columns</p>\n",
              "</div>"
            ],
            "text/plain": [
              "        len    a    b    c    d    e    f    g    h    i    ...        1    2  \\\n",
              "25363  11.0  0.0  3.0  1.0  0.0  0.0  0.0  2.0  2.0  0.0    ...      0.0  0.0   \n",
              "30536   8.0  2.0  0.0  0.0  0.0  0.0  0.0  0.0  0.0  1.0    ...      0.0  0.0   \n",
              "58786  10.0  1.0  0.0  0.0  1.0  0.0  0.0  0.0  1.0  1.0    ...      1.0  0.0   \n",
              "91937   7.0  0.0  0.0  1.0  0.0  0.0  0.0  0.0  0.0  0.0    ...      1.0  1.0   \n",
              "63598  10.0  0.0  2.0  1.0  1.0  1.0  0.0  1.0  0.0  0.0    ...      0.0  0.0   \n",
              "\n",
              "         3    4    5    6    7    8    9      guess  \n",
              "25363  0.0  0.0  0.0  0.0  0.0  0.0  0.0  11.000000  \n",
              "30536  0.0  0.0  0.0  0.0  0.0  0.0  0.0   8.000000  \n",
              "58786  0.0  0.0  0.0  0.0  0.0  0.0  0.0   9.113943  \n",
              "91937  0.0  1.0  1.0  0.0  0.0  0.0  0.0   7.000000  \n",
              "63598  0.0  0.0  0.0  0.0  0.0  0.0  0.0   9.975891  \n",
              "\n",
              "[5 rows x 64 columns]"
            ]
          },
          "metadata": {
            "tags": []
          },
          "execution_count": 192
        }
      ]
    },
    {
      "metadata": {
        "id": "PpMLL9IpOd78",
        "colab_type": "code",
        "outputId": "e56d3e71-06eb-41e2-8caa-9cc75d2a5fd5",
        "colab": {
          "base_uri": "https://localhost:8080/",
          "height": 224
        }
      },
      "cell_type": "code",
      "source": [
        "X_train.sort_values(by='len', ascending=False).tail()"
      ],
      "execution_count": 0,
      "outputs": [
        {
          "output_type": "execute_result",
          "data": {
            "text/html": [
              "<div>\n",
              "<style scoped>\n",
              "    .dataframe tbody tr th:only-of-type {\n",
              "        vertical-align: middle;\n",
              "    }\n",
              "\n",
              "    .dataframe tbody tr th {\n",
              "        vertical-align: top;\n",
              "    }\n",
              "\n",
              "    .dataframe thead th {\n",
              "        text-align: right;\n",
              "    }\n",
              "</style>\n",
              "<table border=\"1\" class=\"dataframe\">\n",
              "  <thead>\n",
              "    <tr style=\"text-align: right;\">\n",
              "      <th></th>\n",
              "      <th>len</th>\n",
              "      <th>a</th>\n",
              "      <th>b</th>\n",
              "      <th>c</th>\n",
              "      <th>d</th>\n",
              "      <th>e</th>\n",
              "      <th>f</th>\n",
              "      <th>g</th>\n",
              "      <th>h</th>\n",
              "      <th>i</th>\n",
              "      <th>...</th>\n",
              "      <th>0</th>\n",
              "      <th>1</th>\n",
              "      <th>2</th>\n",
              "      <th>3</th>\n",
              "      <th>4</th>\n",
              "      <th>5</th>\n",
              "      <th>6</th>\n",
              "      <th>7</th>\n",
              "      <th>8</th>\n",
              "      <th>9</th>\n",
              "    </tr>\n",
              "  </thead>\n",
              "  <tbody>\n",
              "    <tr>\n",
              "      <th>43117</th>\n",
              "      <td>3.0</td>\n",
              "      <td>0.0</td>\n",
              "      <td>0.0</td>\n",
              "      <td>0.0</td>\n",
              "      <td>0.0</td>\n",
              "      <td>0.0</td>\n",
              "      <td>0.0</td>\n",
              "      <td>0.0</td>\n",
              "      <td>0.0</td>\n",
              "      <td>0.0</td>\n",
              "      <td>...</td>\n",
              "      <td>0.0</td>\n",
              "      <td>0.0</td>\n",
              "      <td>0.0</td>\n",
              "      <td>1.0</td>\n",
              "      <td>0.0</td>\n",
              "      <td>0.0</td>\n",
              "      <td>0.0</td>\n",
              "      <td>0.0</td>\n",
              "      <td>0.0</td>\n",
              "      <td>0.0</td>\n",
              "    </tr>\n",
              "    <tr>\n",
              "      <th>20591</th>\n",
              "      <td>3.0</td>\n",
              "      <td>0.0</td>\n",
              "      <td>0.0</td>\n",
              "      <td>0.0</td>\n",
              "      <td>0.0</td>\n",
              "      <td>0.0</td>\n",
              "      <td>0.0</td>\n",
              "      <td>0.0</td>\n",
              "      <td>0.0</td>\n",
              "      <td>0.0</td>\n",
              "      <td>...</td>\n",
              "      <td>0.0</td>\n",
              "      <td>0.0</td>\n",
              "      <td>0.0</td>\n",
              "      <td>0.0</td>\n",
              "      <td>1.0</td>\n",
              "      <td>0.0</td>\n",
              "      <td>0.0</td>\n",
              "      <td>1.0</td>\n",
              "      <td>0.0</td>\n",
              "      <td>0.0</td>\n",
              "    </tr>\n",
              "    <tr>\n",
              "      <th>2749</th>\n",
              "      <td>3.0</td>\n",
              "      <td>0.0</td>\n",
              "      <td>0.0</td>\n",
              "      <td>0.0</td>\n",
              "      <td>0.0</td>\n",
              "      <td>0.0</td>\n",
              "      <td>0.0</td>\n",
              "      <td>0.0</td>\n",
              "      <td>0.0</td>\n",
              "      <td>0.0</td>\n",
              "      <td>...</td>\n",
              "      <td>0.0</td>\n",
              "      <td>0.0</td>\n",
              "      <td>1.0</td>\n",
              "      <td>0.0</td>\n",
              "      <td>0.0</td>\n",
              "      <td>0.0</td>\n",
              "      <td>0.0</td>\n",
              "      <td>0.0</td>\n",
              "      <td>0.0</td>\n",
              "      <td>0.0</td>\n",
              "    </tr>\n",
              "    <tr>\n",
              "      <th>58343</th>\n",
              "      <td>3.0</td>\n",
              "      <td>0.0</td>\n",
              "      <td>0.0</td>\n",
              "      <td>0.0</td>\n",
              "      <td>0.0</td>\n",
              "      <td>0.0</td>\n",
              "      <td>0.0</td>\n",
              "      <td>0.0</td>\n",
              "      <td>0.0</td>\n",
              "      <td>0.0</td>\n",
              "      <td>...</td>\n",
              "      <td>0.0</td>\n",
              "      <td>0.0</td>\n",
              "      <td>0.0</td>\n",
              "      <td>1.0</td>\n",
              "      <td>0.0</td>\n",
              "      <td>0.0</td>\n",
              "      <td>0.0</td>\n",
              "      <td>0.0</td>\n",
              "      <td>0.0</td>\n",
              "      <td>1.0</td>\n",
              "    </tr>\n",
              "    <tr>\n",
              "      <th>98298</th>\n",
              "      <td>3.0</td>\n",
              "      <td>0.0</td>\n",
              "      <td>0.0</td>\n",
              "      <td>0.0</td>\n",
              "      <td>0.0</td>\n",
              "      <td>0.0</td>\n",
              "      <td>0.0</td>\n",
              "      <td>0.0</td>\n",
              "      <td>0.0</td>\n",
              "      <td>0.0</td>\n",
              "      <td>...</td>\n",
              "      <td>0.0</td>\n",
              "      <td>1.0</td>\n",
              "      <td>0.0</td>\n",
              "      <td>0.0</td>\n",
              "      <td>0.0</td>\n",
              "      <td>1.0</td>\n",
              "      <td>0.0</td>\n",
              "      <td>0.0</td>\n",
              "      <td>0.0</td>\n",
              "      <td>1.0</td>\n",
              "    </tr>\n",
              "  </tbody>\n",
              "</table>\n",
              "<p>5 rows × 63 columns</p>\n",
              "</div>"
            ],
            "text/plain": [
              "       len    a    b    c    d    e    f    g    h    i ...     0    1    2  \\\n",
              "43117  3.0  0.0  0.0  0.0  0.0  0.0  0.0  0.0  0.0  0.0 ...   0.0  0.0  0.0   \n",
              "20591  3.0  0.0  0.0  0.0  0.0  0.0  0.0  0.0  0.0  0.0 ...   0.0  0.0  0.0   \n",
              "2749   3.0  0.0  0.0  0.0  0.0  0.0  0.0  0.0  0.0  0.0 ...   0.0  0.0  1.0   \n",
              "58343  3.0  0.0  0.0  0.0  0.0  0.0  0.0  0.0  0.0  0.0 ...   0.0  0.0  0.0   \n",
              "98298  3.0  0.0  0.0  0.0  0.0  0.0  0.0  0.0  0.0  0.0 ...   0.0  1.0  0.0   \n",
              "\n",
              "         3    4    5    6    7    8    9  \n",
              "43117  1.0  0.0  0.0  0.0  0.0  0.0  0.0  \n",
              "20591  0.0  1.0  0.0  0.0  1.0  0.0  0.0  \n",
              "2749   0.0  0.0  0.0  0.0  0.0  0.0  0.0  \n",
              "58343  1.0  0.0  0.0  0.0  0.0  0.0  1.0  \n",
              "98298  0.0  0.0  1.0  0.0  0.0  0.0  1.0  \n",
              "\n",
              "[5 rows x 63 columns]"
            ]
          },
          "metadata": {
            "tags": []
          },
          "execution_count": 38
        }
      ]
    },
    {
      "metadata": {
        "id": "vnjvO4FjOd8E",
        "colab_type": "code",
        "outputId": "51478cf2-5f34-4054-ecc7-06dbe540cb18",
        "colab": {
          "base_uri": "https://localhost:8080/",
          "height": 34
        }
      },
      "cell_type": "code",
      "source": [
        "print 1"
      ],
      "execution_count": 0,
      "outputs": [
        {
          "output_type": "stream",
          "text": [
            "1\n"
          ],
          "name": "stdout"
        }
      ]
    },
    {
      "metadata": {
        "id": "44n5c6clVFpb",
        "colab_type": "code",
        "outputId": "4ad51cdb-53f3-43b4-9e38-b4d1d4d86f13",
        "colab": {
          "base_uri": "https://localhost:8080/",
          "height": 224
        }
      },
      "cell_type": "code",
      "source": [
        "trainExt.head()\n"
      ],
      "execution_count": 0,
      "outputs": [
        {
          "output_type": "execute_result",
          "data": {
            "text/html": [
              "<div>\n",
              "<style scoped>\n",
              "    .dataframe tbody tr th:only-of-type {\n",
              "        vertical-align: middle;\n",
              "    }\n",
              "\n",
              "    .dataframe tbody tr th {\n",
              "        vertical-align: top;\n",
              "    }\n",
              "\n",
              "    .dataframe thead th {\n",
              "        text-align: right;\n",
              "    }\n",
              "</style>\n",
              "<table border=\"1\" class=\"dataframe\">\n",
              "  <thead>\n",
              "    <tr style=\"text-align: right;\">\n",
              "      <th></th>\n",
              "      <th>Unnamed: 0</th>\n",
              "      <th>Password</th>\n",
              "      <th>len</th>\n",
              "      <th>a</th>\n",
              "      <th>b</th>\n",
              "      <th>c</th>\n",
              "      <th>d</th>\n",
              "      <th>e</th>\n",
              "      <th>f</th>\n",
              "      <th>g</th>\n",
              "      <th>...</th>\n",
              "      <th>4</th>\n",
              "      <th>5</th>\n",
              "      <th>6</th>\n",
              "      <th>7</th>\n",
              "      <th>8</th>\n",
              "      <th>9</th>\n",
              "      <th>pymorphy_word_is_known</th>\n",
              "      <th>pymorphy_score</th>\n",
              "      <th>pymorphy</th>\n",
              "      <th>pymorphy_number</th>\n",
              "    </tr>\n",
              "  </thead>\n",
              "  <tbody>\n",
              "    <tr>\n",
              "      <th>0</th>\n",
              "      <td>0</td>\n",
              "      <td>631XniVx2lS5I</td>\n",
              "      <td>13.0</td>\n",
              "      <td>0.0</td>\n",
              "      <td>0.0</td>\n",
              "      <td>0.0</td>\n",
              "      <td>0.0</td>\n",
              "      <td>0.0</td>\n",
              "      <td>0.0</td>\n",
              "      <td>0.0</td>\n",
              "      <td>...</td>\n",
              "      <td>0.0</td>\n",
              "      <td>1.0</td>\n",
              "      <td>1.0</td>\n",
              "      <td>0.0</td>\n",
              "      <td>0.0</td>\n",
              "      <td>0.0</td>\n",
              "      <td>0</td>\n",
              "      <td>1.0</td>\n",
              "      <td>LATN</td>\n",
              "      <td>None</td>\n",
              "    </tr>\n",
              "    <tr>\n",
              "      <th>1</th>\n",
              "      <td>1</td>\n",
              "      <td>LEGIT747</td>\n",
              "      <td>8.0</td>\n",
              "      <td>0.0</td>\n",
              "      <td>0.0</td>\n",
              "      <td>0.0</td>\n",
              "      <td>0.0</td>\n",
              "      <td>0.0</td>\n",
              "      <td>0.0</td>\n",
              "      <td>0.0</td>\n",
              "      <td>...</td>\n",
              "      <td>1.0</td>\n",
              "      <td>0.0</td>\n",
              "      <td>0.0</td>\n",
              "      <td>2.0</td>\n",
              "      <td>0.0</td>\n",
              "      <td>0.0</td>\n",
              "      <td>0</td>\n",
              "      <td>1.0</td>\n",
              "      <td>LATN</td>\n",
              "      <td>None</td>\n",
              "    </tr>\n",
              "    <tr>\n",
              "      <th>2</th>\n",
              "      <td>2</td>\n",
              "      <td>742364es</td>\n",
              "      <td>8.0</td>\n",
              "      <td>0.0</td>\n",
              "      <td>0.0</td>\n",
              "      <td>0.0</td>\n",
              "      <td>0.0</td>\n",
              "      <td>1.0</td>\n",
              "      <td>0.0</td>\n",
              "      <td>0.0</td>\n",
              "      <td>...</td>\n",
              "      <td>2.0</td>\n",
              "      <td>0.0</td>\n",
              "      <td>1.0</td>\n",
              "      <td>1.0</td>\n",
              "      <td>0.0</td>\n",
              "      <td>0.0</td>\n",
              "      <td>0</td>\n",
              "      <td>1.0</td>\n",
              "      <td>LATN</td>\n",
              "      <td>None</td>\n",
              "    </tr>\n",
              "    <tr>\n",
              "      <th>3</th>\n",
              "      <td>3</td>\n",
              "      <td>3846696477</td>\n",
              "      <td>10.0</td>\n",
              "      <td>0.0</td>\n",
              "      <td>0.0</td>\n",
              "      <td>0.0</td>\n",
              "      <td>0.0</td>\n",
              "      <td>0.0</td>\n",
              "      <td>0.0</td>\n",
              "      <td>0.0</td>\n",
              "      <td>...</td>\n",
              "      <td>2.0</td>\n",
              "      <td>0.0</td>\n",
              "      <td>3.0</td>\n",
              "      <td>2.0</td>\n",
              "      <td>1.0</td>\n",
              "      <td>1.0</td>\n",
              "      <td>0</td>\n",
              "      <td>1.0</td>\n",
              "      <td>NUMB,intg</td>\n",
              "      <td>None</td>\n",
              "    </tr>\n",
              "    <tr>\n",
              "      <th>4</th>\n",
              "      <td>4</td>\n",
              "      <td>laurahop</td>\n",
              "      <td>8.0</td>\n",
              "      <td>2.0</td>\n",
              "      <td>0.0</td>\n",
              "      <td>0.0</td>\n",
              "      <td>0.0</td>\n",
              "      <td>0.0</td>\n",
              "      <td>0.0</td>\n",
              "      <td>0.0</td>\n",
              "      <td>...</td>\n",
              "      <td>0.0</td>\n",
              "      <td>0.0</td>\n",
              "      <td>0.0</td>\n",
              "      <td>0.0</td>\n",
              "      <td>0.0</td>\n",
              "      <td>0.0</td>\n",
              "      <td>0</td>\n",
              "      <td>1.0</td>\n",
              "      <td>LATN</td>\n",
              "      <td>None</td>\n",
              "    </tr>\n",
              "  </tbody>\n",
              "</table>\n",
              "<p>5 rows × 69 columns</p>\n",
              "</div>"
            ],
            "text/plain": [
              "   Unnamed: 0       Password   len    a    b    c    d    e    f    g  \\\n",
              "0           0  631XniVx2lS5I  13.0  0.0  0.0  0.0  0.0  0.0  0.0  0.0   \n",
              "1           1       LEGIT747   8.0  0.0  0.0  0.0  0.0  0.0  0.0  0.0   \n",
              "2           2       742364es   8.0  0.0  0.0  0.0  0.0  1.0  0.0  0.0   \n",
              "3           3     3846696477  10.0  0.0  0.0  0.0  0.0  0.0  0.0  0.0   \n",
              "4           4       laurahop   8.0  2.0  0.0  0.0  0.0  0.0  0.0  0.0   \n",
              "\n",
              "        ...           4    5    6    7    8    9  pymorphy_word_is_known  \\\n",
              "0       ...         0.0  1.0  1.0  0.0  0.0  0.0                       0   \n",
              "1       ...         1.0  0.0  0.0  2.0  0.0  0.0                       0   \n",
              "2       ...         2.0  0.0  1.0  1.0  0.0  0.0                       0   \n",
              "3       ...         2.0  0.0  3.0  2.0  1.0  1.0                       0   \n",
              "4       ...         0.0  0.0  0.0  0.0  0.0  0.0                       0   \n",
              "\n",
              "   pymorphy_score   pymorphy  pymorphy_number  \n",
              "0             1.0       LATN             None  \n",
              "1             1.0       LATN             None  \n",
              "2             1.0       LATN             None  \n",
              "3             1.0  NUMB,intg             None  \n",
              "4             1.0       LATN             None  \n",
              "\n",
              "[5 rows x 69 columns]"
            ]
          },
          "metadata": {
            "tags": []
          },
          "execution_count": 66
        }
      ]
    },
    {
      "metadata": {
        "id": "maVQBDWhObQT",
        "colab_type": "code",
        "colab": {}
      },
      "cell_type": "code",
      "source": [
        "from sklearn.ensemble import RandomForestRegressor"
      ],
      "execution_count": 0,
      "outputs": []
    },
    {
      "metadata": {
        "id": "tCsGnujfOkGR",
        "colab_type": "code",
        "colab": {}
      },
      "cell_type": "code",
      "source": [
        "regr = RandomForestRegressor(max_depth=10, random_state=0,  n_estimators=100)"
      ],
      "execution_count": 0,
      "outputs": []
    },
    {
      "metadata": {
        "id": "-bVKSr7QO8td",
        "colab_type": "code",
        "outputId": "506bb99f-b15a-4bdd-e920-bb49391dc41d",
        "colab": {
          "base_uri": "https://localhost:8080/",
          "height": 122
        }
      },
      "cell_type": "code",
      "source": [
        "regr.fit(X_train, y_train)"
      ],
      "execution_count": 0,
      "outputs": [
        {
          "output_type": "execute_result",
          "data": {
            "text/plain": [
              "RandomForestRegressor(bootstrap=True, criterion='mse', max_depth=10,\n",
              "           max_features='auto', max_leaf_nodes=None,\n",
              "           min_impurity_decrease=0.0, min_impurity_split=None,\n",
              "           min_samples_leaf=1, min_samples_split=2,\n",
              "           min_weight_fraction_leaf=0.0, n_estimators=100, n_jobs=None,\n",
              "           oob_score=False, random_state=0, verbose=0, warm_start=False)"
            ]
          },
          "metadata": {
            "tags": []
          },
          "execution_count": 274
        }
      ]
    },
    {
      "metadata": {
        "id": "cysauxNlPC0z",
        "colab_type": "code",
        "colab": {}
      },
      "cell_type": "code",
      "source": [
        "X_train, X_test, y_train, y_test = train_test_split(data_trained, y[:95282], test_size=0.3, random_state=1)\n",
        "from sklearn.ensemble import RandomForestRegressor\n",
        "regr = RandomForestRegressor(max_depth=10, random_state=0,  n_estimators=100)\n",
        "regr.fit(X_train, y_train)\n"
      ],
      "execution_count": 0,
      "outputs": []
    },
    {
      "metadata": {
        "id": "cgnb8-aIVQCb",
        "colab_type": "code",
        "colab": {}
      },
      "cell_type": "code",
      "source": [
        "dtrain = xgboost.DMatrix(X_train, y_train, missing=0.0, nthread=-1)"
      ],
      "execution_count": 0,
      "outputs": []
    },
    {
      "metadata": {
        "id": "dTgy5SgVaXXy",
        "colab_type": "code",
        "colab": {}
      },
      "cell_type": "code",
      "source": [
        ""
      ],
      "execution_count": 0,
      "outputs": []
    },
    {
      "metadata": {
        "id": "uTmMVkKlxLjL",
        "colab_type": "code",
        "colab": {}
      },
      "cell_type": "code",
      "source": [
        "dval = xgboost.DMatrix(X_val, y_val, missing=0.0, nthread=-1)"
      ],
      "execution_count": 0,
      "outputs": []
    },
    {
      "metadata": {
        "id": "Tzd5Eq3pyeT-",
        "colab_type": "code",
        "colab": {}
      },
      "cell_type": "code",
      "source": [
        "dtest = xgboost.DMatrix(X_test, y_test, missing=0.0, nthread=-1)"
      ],
      "execution_count": 0,
      "outputs": []
    },
    {
      "metadata": {
        "id": "sE9-E7a4Wac6",
        "colab_type": "code",
        "colab": {}
      },
      "cell_type": "code",
      "source": [
        "def rmsle(predictions, dmat):\n",
        "    labels = dmat.get_label()\n",
        "    diffs = numpy.log(predictions + 1) - numpy.log(labels + 1)\n",
        "    squared_diffs = numpy.square(diffs)\n",
        "    avg = numpy.mean(squared_diffs)\n",
        "    return ('RMSLE', numpy.sqrt(avg))"
      ],
      "execution_count": 0,
      "outputs": []
    },
    {
      "metadata": {
        "id": "WA0MGbqkhdwl",
        "colab_type": "code",
        "colab": {}
      },
      "cell_type": "code",
      "source": [
        "def rmsle2(predictions, dmat):\n",
        "    labels = dmat\n",
        "    diffs = numpy.log(predictions + 1) - numpy.log(labels + 1)\n",
        "    squared_diffs = numpy.square(diffs)\n",
        "    avg = numpy.mean(squared_diffs)\n",
        "    return ('RMSLE', numpy.sqrt(avg))"
      ],
      "execution_count": 0,
      "outputs": []
    },
    {
      "metadata": {
        "id": "F5RPb90Qg4sd",
        "colab_type": "code",
        "colab": {}
      },
      "cell_type": "code",
      "source": [
        "rmsle_score = make_scorer(rmsle2, greater_is_better=False)\n",
        " 'objective': 'reg:linear',"
      ],
      "execution_count": 0,
      "outputs": []
    },
    {
      "metadata": {
        "id": "PG6pN_J4Vfyc",
        "colab_type": "code",
        "colab": {}
      },
      "cell_type": "code",
      "source": [
        "params = {\n",
        "   \n",
        "    'max_depth': 30,\n",
        "    'learning_rate': .1,\n",
        "    'nthread':4,\n",
        "    'booster' : 'gbtree'\n",
        "    \n",
        "}\n"
      ],
      "execution_count": 0,
      "outputs": []
    },
    {
      "metadata": {
        "id": "bPvCckF_VmiM",
        "colab_type": "code",
        "outputId": "d9d5b511-9f30-4474-d39b-edb73d46c474",
        "colab": {
          "base_uri": "https://localhost:8080/",
          "height": 193
        }
      },
      "cell_type": "code",
      "source": [
        "\n",
        "results = xgboost.cv(params, dtrain, 10, early_stopping_rounds=10, feval=rmsle, nfold=10, verbose_eval=True, show_stdv=False)"
      ],
      "execution_count": 0,
      "outputs": [
        {
          "output_type": "stream",
          "text": [
            "[0]\ttrain-RMSLE:0.469673\ttrain-rmse:11.334\ttest-RMSLE:0.518148\ttest-rmse:10.7277\n",
            "[1]\ttrain-RMSLE:0.408427\ttrain-rmse:10.5973\ttest-RMSLE:0.485553\ttest-rmse:10.6913\n",
            "[2]\ttrain-RMSLE:0.361947\ttrain-rmse:9.91989\ttest-RMSLE:0.462127\ttest-rmse:10.6366\n",
            "[3]\ttrain-RMSLE:0.32434\ttrain-rmse:9.28563\ttest-RMSLE:0.444581\ttest-rmse:10.6171\n",
            "[4]\ttrain-RMSLE:0.292716\ttrain-rmse:8.69669\ttest-RMSLE:0.431635\ttest-rmse:10.6173\n",
            "[5]\ttrain-RMSLE:0.265794\ttrain-rmse:8.15043\ttest-RMSLE:0.421616\ttest-rmse:10.6337\n",
            "[6]\ttrain-RMSLE:0.242519\ttrain-rmse:7.6537\ttest-RMSLE:0.414104\ttest-rmse:10.6446\n",
            "[7]\ttrain-RMSLE:0.222244\ttrain-rmse:7.18135\ttest-RMSLE:0.408726\ttest-rmse:10.6843\n",
            "[8]\ttrain-RMSLE:0.204475\ttrain-rmse:6.74526\ttest-RMSLE:0.404861\ttest-rmse:10.6584\n",
            "[9]\ttrain-RMSLE:0.188582\ttrain-rmse:6.32728\ttest-RMSLE:0.40142\ttest-rmse:10.6458\n"
          ],
          "name": "stdout"
        }
      ]
    },
    {
      "metadata": {
        "id": "4kBRgFztvaOZ",
        "colab_type": "code",
        "colab": {}
      },
      "cell_type": "code",
      "source": [
        "evallist = [(dval, 'eval'), (dtrain, 'train')]"
      ],
      "execution_count": 0,
      "outputs": []
    },
    {
      "metadata": {
        "id": "unWB-Fz7FeZp",
        "colab_type": "code",
        "outputId": "48e856a3-b0a0-40a6-af51-7a97d46c509e",
        "colab": {
          "base_uri": "https://localhost:8080/",
          "height": 34
        }
      },
      "cell_type": "code",
      "source": [
        "dval.feature_names"
      ],
      "execution_count": 0,
      "outputs": [
        {
          "output_type": "execute_result",
          "data": {
            "text/plain": [
              "[u'guess', u'len']"
            ]
          },
          "metadata": {
            "tags": []
          },
          "execution_count": 185
        }
      ]
    },
    {
      "metadata": {
        "id": "ZMp0nHtXV9pS",
        "colab_type": "code",
        "outputId": "f9422562-05d6-43c9-dfad-0c2bf188e49d",
        "colab": {
          "base_uri": "https://localhost:8080/",
          "height": 193
        }
      },
      "cell_type": "code",
      "source": [
        "num_round = 10\n",
        "bst = xgboost.train(params, dtrain, num_round,evallist )"
      ],
      "execution_count": 0,
      "outputs": [
        {
          "output_type": "stream",
          "text": [
            "[0]\teval-rmse:8.57408\ttrain-rmse:11.3358\n",
            "[1]\teval-rmse:8.47357\ttrain-rmse:10.5834\n",
            "[2]\teval-rmse:8.4028\ttrain-rmse:9.89785\n",
            "[3]\teval-rmse:8.34014\ttrain-rmse:9.25154\n",
            "[4]\teval-rmse:8.28928\ttrain-rmse:8.65483\n",
            "[5]\teval-rmse:8.26553\ttrain-rmse:8.09995\n",
            "[6]\teval-rmse:8.20716\ttrain-rmse:7.59891\n",
            "[7]\teval-rmse:8.15667\ttrain-rmse:7.12358\n",
            "[8]\teval-rmse:8.14309\ttrain-rmse:6.68158\n",
            "[9]\teval-rmse:8.1138\ttrain-rmse:6.26535\n"
          ],
          "name": "stdout"
        }
      ]
    },
    {
      "metadata": {
        "id": "7UIJlPanVaab",
        "colab_type": "code",
        "colab": {}
      },
      "cell_type": "code",
      "source": [
        "bst.save_model('/content/gdrive/My Drive/final.model')"
      ],
      "execution_count": 0,
      "outputs": []
    },
    {
      "metadata": {
        "id": "BKGdUtNqY9iu",
        "colab_type": "code",
        "outputId": "9b30378c-136d-4aeb-e5cd-cd745426d914",
        "colab": {
          "base_uri": "https://localhost:8080/",
          "height": 537
        }
      },
      "cell_type": "code",
      "source": [
        "testF=testF.drop('Y')"
      ],
      "execution_count": 0,
      "outputs": [
        {
          "output_type": "error",
          "ename": "ValueError",
          "evalue": "ignored",
          "traceback": [
            "\u001b[0;31m\u001b[0m",
            "\u001b[0;31mValueError\u001b[0mTraceback (most recent call last)",
            "\u001b[0;32m<ipython-input-285-1bfe4d813efe>\u001b[0m in \u001b[0;36m<module>\u001b[0;34m()\u001b[0m\n\u001b[0;32m----> 1\u001b[0;31m \u001b[0mtestF\u001b[0m\u001b[0;34m=\u001b[0m\u001b[0mtestF\u001b[0m\u001b[0;34m.\u001b[0m\u001b[0mdrop\u001b[0m\u001b[0;34m(\u001b[0m\u001b[0;34m'Y'\u001b[0m\u001b[0;34m)\u001b[0m\u001b[0;34m\u001b[0m\u001b[0m\n\u001b[0m",
            "\u001b[0;32m/usr/local/lib/python2.7/dist-packages/pandas/core/generic.pyc\u001b[0m in \u001b[0;36mdrop\u001b[0;34m(self, labels, axis, index, columns, level, inplace, errors)\u001b[0m\n\u001b[1;32m   2528\u001b[0m         \u001b[0;32mfor\u001b[0m \u001b[0maxis\u001b[0m\u001b[0;34m,\u001b[0m \u001b[0mlabels\u001b[0m \u001b[0;32min\u001b[0m \u001b[0maxes\u001b[0m\u001b[0;34m.\u001b[0m\u001b[0mitems\u001b[0m\u001b[0;34m(\u001b[0m\u001b[0;34m)\u001b[0m\u001b[0;34m:\u001b[0m\u001b[0;34m\u001b[0m\u001b[0m\n\u001b[1;32m   2529\u001b[0m             \u001b[0;32mif\u001b[0m \u001b[0mlabels\u001b[0m \u001b[0;32mis\u001b[0m \u001b[0;32mnot\u001b[0m \u001b[0mNone\u001b[0m\u001b[0;34m:\u001b[0m\u001b[0;34m\u001b[0m\u001b[0m\n\u001b[0;32m-> 2530\u001b[0;31m                 \u001b[0mobj\u001b[0m \u001b[0;34m=\u001b[0m \u001b[0mobj\u001b[0m\u001b[0;34m.\u001b[0m\u001b[0m_drop_axis\u001b[0m\u001b[0;34m(\u001b[0m\u001b[0mlabels\u001b[0m\u001b[0;34m,\u001b[0m \u001b[0maxis\u001b[0m\u001b[0;34m,\u001b[0m \u001b[0mlevel\u001b[0m\u001b[0;34m=\u001b[0m\u001b[0mlevel\u001b[0m\u001b[0;34m,\u001b[0m \u001b[0merrors\u001b[0m\u001b[0;34m=\u001b[0m\u001b[0merrors\u001b[0m\u001b[0;34m)\u001b[0m\u001b[0;34m\u001b[0m\u001b[0m\n\u001b[0m\u001b[1;32m   2531\u001b[0m \u001b[0;34m\u001b[0m\u001b[0m\n\u001b[1;32m   2532\u001b[0m         \u001b[0;32mif\u001b[0m \u001b[0minplace\u001b[0m\u001b[0;34m:\u001b[0m\u001b[0;34m\u001b[0m\u001b[0m\n",
            "\u001b[0;32m/usr/local/lib/python2.7/dist-packages/pandas/core/generic.pyc\u001b[0m in \u001b[0;36m_drop_axis\u001b[0;34m(self, labels, axis, level, errors)\u001b[0m\n\u001b[1;32m   2560\u001b[0m                 \u001b[0mnew_axis\u001b[0m \u001b[0;34m=\u001b[0m \u001b[0maxis\u001b[0m\u001b[0;34m.\u001b[0m\u001b[0mdrop\u001b[0m\u001b[0;34m(\u001b[0m\u001b[0mlabels\u001b[0m\u001b[0;34m,\u001b[0m \u001b[0mlevel\u001b[0m\u001b[0;34m=\u001b[0m\u001b[0mlevel\u001b[0m\u001b[0;34m,\u001b[0m \u001b[0merrors\u001b[0m\u001b[0;34m=\u001b[0m\u001b[0merrors\u001b[0m\u001b[0;34m)\u001b[0m\u001b[0;34m\u001b[0m\u001b[0m\n\u001b[1;32m   2561\u001b[0m             \u001b[0;32melse\u001b[0m\u001b[0;34m:\u001b[0m\u001b[0;34m\u001b[0m\u001b[0m\n\u001b[0;32m-> 2562\u001b[0;31m                 \u001b[0mnew_axis\u001b[0m \u001b[0;34m=\u001b[0m \u001b[0maxis\u001b[0m\u001b[0;34m.\u001b[0m\u001b[0mdrop\u001b[0m\u001b[0;34m(\u001b[0m\u001b[0mlabels\u001b[0m\u001b[0;34m,\u001b[0m \u001b[0merrors\u001b[0m\u001b[0;34m=\u001b[0m\u001b[0merrors\u001b[0m\u001b[0;34m)\u001b[0m\u001b[0;34m\u001b[0m\u001b[0m\n\u001b[0m\u001b[1;32m   2563\u001b[0m             \u001b[0mdropped\u001b[0m \u001b[0;34m=\u001b[0m \u001b[0mself\u001b[0m\u001b[0;34m.\u001b[0m\u001b[0mreindex\u001b[0m\u001b[0;34m(\u001b[0m\u001b[0;34m**\u001b[0m\u001b[0;34m{\u001b[0m\u001b[0maxis_name\u001b[0m\u001b[0;34m:\u001b[0m \u001b[0mnew_axis\u001b[0m\u001b[0;34m}\u001b[0m\u001b[0;34m)\u001b[0m\u001b[0;34m\u001b[0m\u001b[0m\n\u001b[1;32m   2564\u001b[0m             \u001b[0;32mtry\u001b[0m\u001b[0;34m:\u001b[0m\u001b[0;34m\u001b[0m\u001b[0m\n",
            "\u001b[0;32m/usr/local/lib/python2.7/dist-packages/pandas/core/indexes/base.pyc\u001b[0m in \u001b[0;36mdrop\u001b[0;34m(self, labels, errors)\u001b[0m\n\u001b[1;32m   3742\u001b[0m             \u001b[0;32mif\u001b[0m \u001b[0merrors\u001b[0m \u001b[0;34m!=\u001b[0m \u001b[0;34m'ignore'\u001b[0m\u001b[0;34m:\u001b[0m\u001b[0;34m\u001b[0m\u001b[0m\n\u001b[1;32m   3743\u001b[0m                 raise ValueError('labels %s not contained in axis' %\n\u001b[0;32m-> 3744\u001b[0;31m                                  labels[mask])\n\u001b[0m\u001b[1;32m   3745\u001b[0m             \u001b[0mindexer\u001b[0m \u001b[0;34m=\u001b[0m \u001b[0mindexer\u001b[0m\u001b[0;34m[\u001b[0m\u001b[0;34m~\u001b[0m\u001b[0mmask\u001b[0m\u001b[0;34m]\u001b[0m\u001b[0;34m\u001b[0m\u001b[0m\n\u001b[1;32m   3746\u001b[0m         \u001b[0;32mreturn\u001b[0m \u001b[0mself\u001b[0m\u001b[0;34m.\u001b[0m\u001b[0mdelete\u001b[0m\u001b[0;34m(\u001b[0m\u001b[0mindexer\u001b[0m\u001b[0;34m)\u001b[0m\u001b[0;34m\u001b[0m\u001b[0m\n",
            "\u001b[0;31mValueError\u001b[0m: labels ['Y'] not contained in axis"
          ]
        }
      ]
    },
    {
      "metadata": {
        "id": "_EWQUpJuKr9F",
        "colab_type": "code",
        "outputId": "37c0baa7-4629-46fd-b310-f7412fe189f2",
        "colab": {
          "base_uri": "https://localhost:8080/",
          "height": 469
        }
      },
      "cell_type": "code",
      "source": [
        "testF['Times'] = bst.predict(dtestF)\n",
        "testF['Times'].plot()"
      ],
      "execution_count": 0,
      "outputs": [
        {
          "output_type": "error",
          "ename": "ValueError",
          "evalue": "ignored",
          "traceback": [
            "\u001b[0;31m\u001b[0m",
            "\u001b[0;31mValueError\u001b[0mTraceback (most recent call last)",
            "\u001b[0;32m<ipython-input-288-7884bbb7819b>\u001b[0m in \u001b[0;36m<module>\u001b[0;34m()\u001b[0m\n\u001b[0;32m----> 1\u001b[0;31m \u001b[0mtestF\u001b[0m\u001b[0;34m[\u001b[0m\u001b[0;34m'Times'\u001b[0m\u001b[0;34m]\u001b[0m \u001b[0;34m=\u001b[0m \u001b[0mbst\u001b[0m\u001b[0;34m.\u001b[0m\u001b[0mpredict\u001b[0m\u001b[0;34m(\u001b[0m\u001b[0mdtestF\u001b[0m\u001b[0;34m)\u001b[0m\u001b[0;34m\u001b[0m\u001b[0m\n\u001b[0m\u001b[1;32m      2\u001b[0m \u001b[0mtestF\u001b[0m\u001b[0;34m[\u001b[0m\u001b[0;34m'Times'\u001b[0m\u001b[0;34m]\u001b[0m\u001b[0;34m.\u001b[0m\u001b[0mplot\u001b[0m\u001b[0;34m(\u001b[0m\u001b[0;34m)\u001b[0m\u001b[0;34m\u001b[0m\u001b[0m\n",
            "\u001b[0;32m/usr/local/lib/python2.7/dist-packages/xgboost/core.pyc\u001b[0m in \u001b[0;36mpredict\u001b[0;34m(self, data, output_margin, ntree_limit, pred_leaf, pred_contribs, approx_contribs)\u001b[0m\n\u001b[1;32m   1042\u001b[0m             \u001b[0moption_mask\u001b[0m \u001b[0;34m|=\u001b[0m \u001b[0;36m0x08\u001b[0m\u001b[0;34m\u001b[0m\u001b[0m\n\u001b[1;32m   1043\u001b[0m \u001b[0;34m\u001b[0m\u001b[0m\n\u001b[0;32m-> 1044\u001b[0;31m         \u001b[0mself\u001b[0m\u001b[0;34m.\u001b[0m\u001b[0m_validate_features\u001b[0m\u001b[0;34m(\u001b[0m\u001b[0mdata\u001b[0m\u001b[0;34m)\u001b[0m\u001b[0;34m\u001b[0m\u001b[0m\n\u001b[0m\u001b[1;32m   1045\u001b[0m \u001b[0;34m\u001b[0m\u001b[0m\n\u001b[1;32m   1046\u001b[0m         \u001b[0mlength\u001b[0m \u001b[0;34m=\u001b[0m \u001b[0mc_bst_ulong\u001b[0m\u001b[0;34m(\u001b[0m\u001b[0;34m)\u001b[0m\u001b[0;34m\u001b[0m\u001b[0m\n",
            "\u001b[0;32m/usr/local/lib/python2.7/dist-packages/xgboost/core.pyc\u001b[0m in \u001b[0;36m_validate_features\u001b[0;34m(self, data)\u001b[0m\n\u001b[1;32m   1286\u001b[0m \u001b[0;34m\u001b[0m\u001b[0m\n\u001b[1;32m   1287\u001b[0m                 raise ValueError(msg.format(self.feature_names,\n\u001b[0;32m-> 1288\u001b[0;31m                                             data.feature_names))\n\u001b[0m\u001b[1;32m   1289\u001b[0m \u001b[0;34m\u001b[0m\u001b[0m\n\u001b[1;32m   1290\u001b[0m     \u001b[0;32mdef\u001b[0m \u001b[0mget_split_value_histogram\u001b[0m\u001b[0;34m(\u001b[0m\u001b[0mself\u001b[0m\u001b[0;34m,\u001b[0m \u001b[0mfeature\u001b[0m\u001b[0;34m,\u001b[0m \u001b[0mfmap\u001b[0m\u001b[0;34m=\u001b[0m\u001b[0;34m''\u001b[0m\u001b[0;34m,\u001b[0m \u001b[0mbins\u001b[0m\u001b[0;34m=\u001b[0m\u001b[0mNone\u001b[0m\u001b[0;34m,\u001b[0m \u001b[0mas_pandas\u001b[0m\u001b[0;34m=\u001b[0m\u001b[0mTrue\u001b[0m\u001b[0;34m)\u001b[0m\u001b[0;34m:\u001b[0m\u001b[0;34m\u001b[0m\u001b[0m\n",
            "\u001b[0;31mValueError\u001b[0m: feature_names mismatch: [u'len', u'a', u'b', u'c', u'd', u'e', u'f', u'g', u'h', u'i', u'j', u'k', u'l', u'm', u'n', u'o', u'p', u'q', u'r', u's', u't', u'u', u'v', u'w', u'x', u'y', u'z', u'A', u'B', u'C', u'D', u'E', u'F', u'G', u'H', u'I', u'J', u'K', u'L', u'M', u'N', u'O', u'P', u'Q', u'R', u'S', u'T', u'U', u'V', u'W', u'X', u'Z', u'0', u'1', u'2', u'3', u'4', u'5', u'6', u'7', u'8', u'9', u'guess'] [u'len', u'a', u'b', u'c', u'd', u'e', u'f', u'g', u'h', u'i', u'j', u'k', u'l', u'm', u'n', u'o', u'p', u'q', u'r', u's', u't', u'u', u'v', u'w', u'x', u'y', u'z', u'A', u'B', u'C', u'D', u'E', u'F', u'G', u'H', u'I', u'J', u'K', u'L', u'M', u'N', u'O', u'P', u'Q', u'R', u'S', u'T', u'U', u'V', u'W', u'X', u'Y', u'Z', u'0', u'1', u'2', u'3', u'4', u'5', u'6', u'7', u'8', u'9', u'guess']\ntraining data did not have the following fields: Y"
          ]
        }
      ]
    },
    {
      "metadata": {
        "id": "Bj_1ojkSPwGI",
        "colab_type": "code",
        "colab": {}
      },
      "cell_type": "code",
      "source": [
        "rfresult=X_test.copy()"
      ],
      "execution_count": 0,
      "outputs": []
    },
    {
      "metadata": {
        "id": "EA0Jft4IPZTo",
        "colab_type": "code",
        "outputId": "3d89a291-7059-418d-f3e1-4fc1d905aff1",
        "colab": {
          "base_uri": "https://localhost:8080/",
          "height": 282
        }
      },
      "cell_type": "code",
      "source": [
        "rfresult['rf']=regr.predict(X_test)\n",
        "rfresult['rf'].plot()"
      ],
      "execution_count": 0,
      "outputs": [
        {
          "output_type": "execute_result",
          "data": {
            "text/plain": [
              "<matplotlib.axes._subplots.AxesSubplot at 0x7f712349a890>"
            ]
          },
          "metadata": {
            "tags": []
          },
          "execution_count": 243
        },
        {
          "output_type": "display_data",
          "data": {
            "image/png": "[encoded data removed]",
            "text/plain": [
              "<Figure size 432x288 with 1 Axes>"
            ]
          },
          "metadata": {
            "tags": []
          }
        }
      ]
    },
    {
      "metadata": {
        "id": "B0CwPzVuK0eh",
        "colab_type": "code",
        "outputId": "635cd3d1-254f-42bf-ab33-aee2ba601cbf",
        "colab": {
          "base_uri": "https://localhost:8080/",
          "height": 1882
        }
      },
      "cell_type": "code",
      "source": [
        "testF"
      ],
      "execution_count": 0,
      "outputs": [
        {
          "output_type": "execute_result",
          "data": {
            "text/html": [
              "<div>\n",
              "<style scoped>\n",
              "    .dataframe tbody tr th:only-of-type {\n",
              "        vertical-align: middle;\n",
              "    }\n",
              "\n",
              "    .dataframe tbody tr th {\n",
              "        vertical-align: top;\n",
              "    }\n",
              "\n",
              "    .dataframe thead th {\n",
              "        text-align: right;\n",
              "    }\n",
              "</style>\n",
              "<table border=\"1\" class=\"dataframe\">\n",
              "  <thead>\n",
              "    <tr style=\"text-align: right;\">\n",
              "      <th></th>\n",
              "      <th>len</th>\n",
              "      <th>a</th>\n",
              "      <th>b</th>\n",
              "      <th>c</th>\n",
              "      <th>d</th>\n",
              "      <th>e</th>\n",
              "      <th>f</th>\n",
              "      <th>g</th>\n",
              "      <th>h</th>\n",
              "      <th>i</th>\n",
              "      <th>...</th>\n",
              "      <th>2</th>\n",
              "      <th>3</th>\n",
              "      <th>4</th>\n",
              "      <th>5</th>\n",
              "      <th>6</th>\n",
              "      <th>7</th>\n",
              "      <th>8</th>\n",
              "      <th>9</th>\n",
              "      <th>guess</th>\n",
              "      <th>Times</th>\n",
              "    </tr>\n",
              "  </thead>\n",
              "  <tbody>\n",
              "    <tr>\n",
              "      <th>0</th>\n",
              "      <td>10.0</td>\n",
              "      <td>2.0</td>\n",
              "      <td>0.0</td>\n",
              "      <td>0.0</td>\n",
              "      <td>0.0</td>\n",
              "      <td>0.0</td>\n",
              "      <td>0.0</td>\n",
              "      <td>0.0</td>\n",
              "      <td>2.0</td>\n",
              "      <td>1.0</td>\n",
              "      <td>...</td>\n",
              "      <td>0.0</td>\n",
              "      <td>0.0</td>\n",
              "      <td>0.0</td>\n",
              "      <td>0.0</td>\n",
              "      <td>0.0</td>\n",
              "      <td>0.0</td>\n",
              "      <td>0.0</td>\n",
              "      <td>0.0</td>\n",
              "      <td>9.010971</td>\n",
              "      <td>1.000052</td>\n",
              "    </tr>\n",
              "    <tr>\n",
              "      <th>1</th>\n",
              "      <td>9.0</td>\n",
              "      <td>0.0</td>\n",
              "      <td>0.0</td>\n",
              "      <td>0.0</td>\n",
              "      <td>0.0</td>\n",
              "      <td>0.0</td>\n",
              "      <td>0.0</td>\n",
              "      <td>0.0</td>\n",
              "      <td>0.0</td>\n",
              "      <td>0.0</td>\n",
              "      <td>...</td>\n",
              "      <td>0.0</td>\n",
              "      <td>1.0</td>\n",
              "      <td>0.0</td>\n",
              "      <td>1.0</td>\n",
              "      <td>1.0</td>\n",
              "      <td>3.0</td>\n",
              "      <td>0.0</td>\n",
              "      <td>1.0</td>\n",
              "      <td>8.486586</td>\n",
              "      <td>1.000052</td>\n",
              "    </tr>\n",
              "    <tr>\n",
              "      <th>2</th>\n",
              "      <td>10.0</td>\n",
              "      <td>2.0</td>\n",
              "      <td>0.0</td>\n",
              "      <td>0.0</td>\n",
              "      <td>0.0</td>\n",
              "      <td>0.0</td>\n",
              "      <td>0.0</td>\n",
              "      <td>0.0</td>\n",
              "      <td>0.0</td>\n",
              "      <td>0.0</td>\n",
              "      <td>...</td>\n",
              "      <td>4.0</td>\n",
              "      <td>0.0</td>\n",
              "      <td>0.0</td>\n",
              "      <td>0.0</td>\n",
              "      <td>1.0</td>\n",
              "      <td>0.0</td>\n",
              "      <td>0.0</td>\n",
              "      <td>2.0</td>\n",
              "      <td>9.691789</td>\n",
              "      <td>1.000052</td>\n",
              "    </tr>\n",
              "    <tr>\n",
              "      <th>3</th>\n",
              "      <td>6.0</td>\n",
              "      <td>1.0</td>\n",
              "      <td>0.0</td>\n",
              "      <td>0.0</td>\n",
              "      <td>1.0</td>\n",
              "      <td>0.0</td>\n",
              "      <td>0.0</td>\n",
              "      <td>0.0</td>\n",
              "      <td>0.0</td>\n",
              "      <td>0.0</td>\n",
              "      <td>...</td>\n",
              "      <td>0.0</td>\n",
              "      <td>0.0</td>\n",
              "      <td>1.0</td>\n",
              "      <td>0.0</td>\n",
              "      <td>0.0</td>\n",
              "      <td>1.0</td>\n",
              "      <td>0.0</td>\n",
              "      <td>0.0</td>\n",
              "      <td>4.790988</td>\n",
              "      <td>1.000052</td>\n",
              "    </tr>\n",
              "    <tr>\n",
              "      <th>4</th>\n",
              "      <td>7.0</td>\n",
              "      <td>1.0</td>\n",
              "      <td>0.0</td>\n",
              "      <td>1.0</td>\n",
              "      <td>0.0</td>\n",
              "      <td>1.0</td>\n",
              "      <td>0.0</td>\n",
              "      <td>0.0</td>\n",
              "      <td>0.0</td>\n",
              "      <td>0.0</td>\n",
              "      <td>...</td>\n",
              "      <td>0.0</td>\n",
              "      <td>0.0</td>\n",
              "      <td>0.0</td>\n",
              "      <td>0.0</td>\n",
              "      <td>0.0</td>\n",
              "      <td>0.0</td>\n",
              "      <td>0.0</td>\n",
              "      <td>0.0</td>\n",
              "      <td>4.630855</td>\n",
              "      <td>1.000052</td>\n",
              "    </tr>\n",
              "    <tr>\n",
              "      <th>5</th>\n",
              "      <td>11.0</td>\n",
              "      <td>1.0</td>\n",
              "      <td>0.0</td>\n",
              "      <td>0.0</td>\n",
              "      <td>1.0</td>\n",
              "      <td>0.0</td>\n",
              "      <td>0.0</td>\n",
              "      <td>0.0</td>\n",
              "      <td>0.0</td>\n",
              "      <td>1.0</td>\n",
              "      <td>...</td>\n",
              "      <td>1.0</td>\n",
              "      <td>0.0</td>\n",
              "      <td>2.0</td>\n",
              "      <td>0.0</td>\n",
              "      <td>0.0</td>\n",
              "      <td>0.0</td>\n",
              "      <td>1.0</td>\n",
              "      <td>0.0</td>\n",
              "      <td>8.093737</td>\n",
              "      <td>1.000052</td>\n",
              "    </tr>\n",
              "    <tr>\n",
              "      <th>6</th>\n",
              "      <td>6.0</td>\n",
              "      <td>1.0</td>\n",
              "      <td>0.0</td>\n",
              "      <td>0.0</td>\n",
              "      <td>0.0</td>\n",
              "      <td>0.0</td>\n",
              "      <td>0.0</td>\n",
              "      <td>0.0</td>\n",
              "      <td>0.0</td>\n",
              "      <td>0.0</td>\n",
              "      <td>...</td>\n",
              "      <td>0.0</td>\n",
              "      <td>0.0</td>\n",
              "      <td>0.0</td>\n",
              "      <td>0.0</td>\n",
              "      <td>0.0</td>\n",
              "      <td>0.0</td>\n",
              "      <td>0.0</td>\n",
              "      <td>0.0</td>\n",
              "      <td>4.990339</td>\n",
              "      <td>1.000052</td>\n",
              "    </tr>\n",
              "    <tr>\n",
              "      <th>7</th>\n",
              "      <td>6.0</td>\n",
              "      <td>1.0</td>\n",
              "      <td>0.0</td>\n",
              "      <td>0.0</td>\n",
              "      <td>0.0</td>\n",
              "      <td>1.0</td>\n",
              "      <td>0.0</td>\n",
              "      <td>0.0</td>\n",
              "      <td>1.0</td>\n",
              "      <td>0.0</td>\n",
              "      <td>...</td>\n",
              "      <td>0.0</td>\n",
              "      <td>0.0</td>\n",
              "      <td>0.0</td>\n",
              "      <td>0.0</td>\n",
              "      <td>0.0</td>\n",
              "      <td>0.0</td>\n",
              "      <td>0.0</td>\n",
              "      <td>0.0</td>\n",
              "      <td>6.000000</td>\n",
              "      <td>1.000052</td>\n",
              "    </tr>\n",
              "    <tr>\n",
              "      <th>8</th>\n",
              "      <td>9.0</td>\n",
              "      <td>1.0</td>\n",
              "      <td>0.0</td>\n",
              "      <td>0.0</td>\n",
              "      <td>0.0</td>\n",
              "      <td>1.0</td>\n",
              "      <td>0.0</td>\n",
              "      <td>0.0</td>\n",
              "      <td>0.0</td>\n",
              "      <td>0.0</td>\n",
              "      <td>...</td>\n",
              "      <td>0.0</td>\n",
              "      <td>1.0</td>\n",
              "      <td>0.0</td>\n",
              "      <td>0.0</td>\n",
              "      <td>0.0</td>\n",
              "      <td>1.0</td>\n",
              "      <td>0.0</td>\n",
              "      <td>0.0</td>\n",
              "      <td>9.000000</td>\n",
              "      <td>1.000052</td>\n",
              "    </tr>\n",
              "    <tr>\n",
              "      <th>9</th>\n",
              "      <td>9.0</td>\n",
              "      <td>1.0</td>\n",
              "      <td>0.0</td>\n",
              "      <td>0.0</td>\n",
              "      <td>0.0</td>\n",
              "      <td>0.0</td>\n",
              "      <td>0.0</td>\n",
              "      <td>0.0</td>\n",
              "      <td>0.0</td>\n",
              "      <td>0.0</td>\n",
              "      <td>...</td>\n",
              "      <td>0.0</td>\n",
              "      <td>0.0</td>\n",
              "      <td>0.0</td>\n",
              "      <td>0.0</td>\n",
              "      <td>0.0</td>\n",
              "      <td>1.0</td>\n",
              "      <td>1.0</td>\n",
              "      <td>2.0</td>\n",
              "      <td>5.498504</td>\n",
              "      <td>1.000052</td>\n",
              "    </tr>\n",
              "    <tr>\n",
              "      <th>10</th>\n",
              "      <td>12.0</td>\n",
              "      <td>0.0</td>\n",
              "      <td>0.0</td>\n",
              "      <td>0.0</td>\n",
              "      <td>0.0</td>\n",
              "      <td>0.0</td>\n",
              "      <td>0.0</td>\n",
              "      <td>0.0</td>\n",
              "      <td>0.0</td>\n",
              "      <td>0.0</td>\n",
              "      <td>...</td>\n",
              "      <td>1.0</td>\n",
              "      <td>0.0</td>\n",
              "      <td>0.0</td>\n",
              "      <td>0.0</td>\n",
              "      <td>1.0</td>\n",
              "      <td>0.0</td>\n",
              "      <td>0.0</td>\n",
              "      <td>1.0</td>\n",
              "      <td>10.294687</td>\n",
              "      <td>1.000052</td>\n",
              "    </tr>\n",
              "    <tr>\n",
              "      <th>11</th>\n",
              "      <td>9.0</td>\n",
              "      <td>1.0</td>\n",
              "      <td>0.0</td>\n",
              "      <td>0.0</td>\n",
              "      <td>0.0</td>\n",
              "      <td>2.0</td>\n",
              "      <td>1.0</td>\n",
              "      <td>0.0</td>\n",
              "      <td>0.0</td>\n",
              "      <td>0.0</td>\n",
              "      <td>...</td>\n",
              "      <td>0.0</td>\n",
              "      <td>1.0</td>\n",
              "      <td>0.0</td>\n",
              "      <td>0.0</td>\n",
              "      <td>0.0</td>\n",
              "      <td>0.0</td>\n",
              "      <td>0.0</td>\n",
              "      <td>0.0</td>\n",
              "      <td>8.416707</td>\n",
              "      <td>1.000052</td>\n",
              "    </tr>\n",
              "    <tr>\n",
              "      <th>12</th>\n",
              "      <td>8.0</td>\n",
              "      <td>1.0</td>\n",
              "      <td>0.0</td>\n",
              "      <td>0.0</td>\n",
              "      <td>0.0</td>\n",
              "      <td>0.0</td>\n",
              "      <td>0.0</td>\n",
              "      <td>0.0</td>\n",
              "      <td>0.0</td>\n",
              "      <td>1.0</td>\n",
              "      <td>...</td>\n",
              "      <td>0.0</td>\n",
              "      <td>0.0</td>\n",
              "      <td>0.0</td>\n",
              "      <td>0.0</td>\n",
              "      <td>1.0</td>\n",
              "      <td>0.0</td>\n",
              "      <td>0.0</td>\n",
              "      <td>1.0</td>\n",
              "      <td>5.527393</td>\n",
              "      <td>1.000052</td>\n",
              "    </tr>\n",
              "    <tr>\n",
              "      <th>13</th>\n",
              "      <td>13.0</td>\n",
              "      <td>0.0</td>\n",
              "      <td>0.0</td>\n",
              "      <td>0.0</td>\n",
              "      <td>0.0</td>\n",
              "      <td>1.0</td>\n",
              "      <td>0.0</td>\n",
              "      <td>0.0</td>\n",
              "      <td>0.0</td>\n",
              "      <td>1.0</td>\n",
              "      <td>...</td>\n",
              "      <td>0.0</td>\n",
              "      <td>2.0</td>\n",
              "      <td>0.0</td>\n",
              "      <td>0.0</td>\n",
              "      <td>1.0</td>\n",
              "      <td>1.0</td>\n",
              "      <td>0.0</td>\n",
              "      <td>0.0</td>\n",
              "      <td>13.000000</td>\n",
              "      <td>1.000052</td>\n",
              "    </tr>\n",
              "    <tr>\n",
              "      <th>14</th>\n",
              "      <td>8.0</td>\n",
              "      <td>0.0</td>\n",
              "      <td>0.0</td>\n",
              "      <td>0.0</td>\n",
              "      <td>1.0</td>\n",
              "      <td>1.0</td>\n",
              "      <td>0.0</td>\n",
              "      <td>1.0</td>\n",
              "      <td>0.0</td>\n",
              "      <td>1.0</td>\n",
              "      <td>...</td>\n",
              "      <td>0.0</td>\n",
              "      <td>0.0</td>\n",
              "      <td>0.0</td>\n",
              "      <td>0.0</td>\n",
              "      <td>0.0</td>\n",
              "      <td>0.0</td>\n",
              "      <td>0.0</td>\n",
              "      <td>0.0</td>\n",
              "      <td>6.833478</td>\n",
              "      <td>1.000052</td>\n",
              "    </tr>\n",
              "    <tr>\n",
              "      <th>15</th>\n",
              "      <td>6.0</td>\n",
              "      <td>0.0</td>\n",
              "      <td>0.0</td>\n",
              "      <td>1.0</td>\n",
              "      <td>0.0</td>\n",
              "      <td>2.0</td>\n",
              "      <td>0.0</td>\n",
              "      <td>0.0</td>\n",
              "      <td>0.0</td>\n",
              "      <td>0.0</td>\n",
              "      <td>...</td>\n",
              "      <td>0.0</td>\n",
              "      <td>0.0</td>\n",
              "      <td>0.0</td>\n",
              "      <td>0.0</td>\n",
              "      <td>0.0</td>\n",
              "      <td>0.0</td>\n",
              "      <td>0.0</td>\n",
              "      <td>0.0</td>\n",
              "      <td>4.825088</td>\n",
              "      <td>1.000052</td>\n",
              "    </tr>\n",
              "    <tr>\n",
              "      <th>16</th>\n",
              "      <td>10.0</td>\n",
              "      <td>0.0</td>\n",
              "      <td>0.0</td>\n",
              "      <td>0.0</td>\n",
              "      <td>2.0</td>\n",
              "      <td>1.0</td>\n",
              "      <td>1.0</td>\n",
              "      <td>0.0</td>\n",
              "      <td>0.0</td>\n",
              "      <td>0.0</td>\n",
              "      <td>...</td>\n",
              "      <td>0.0</td>\n",
              "      <td>2.0</td>\n",
              "      <td>0.0</td>\n",
              "      <td>0.0</td>\n",
              "      <td>0.0</td>\n",
              "      <td>0.0</td>\n",
              "      <td>0.0</td>\n",
              "      <td>0.0</td>\n",
              "      <td>5.102969</td>\n",
              "      <td>1.000052</td>\n",
              "    </tr>\n",
              "    <tr>\n",
              "      <th>17</th>\n",
              "      <td>7.0</td>\n",
              "      <td>0.0</td>\n",
              "      <td>0.0</td>\n",
              "      <td>0.0</td>\n",
              "      <td>0.0</td>\n",
              "      <td>1.0</td>\n",
              "      <td>1.0</td>\n",
              "      <td>0.0</td>\n",
              "      <td>0.0</td>\n",
              "      <td>1.0</td>\n",
              "      <td>...</td>\n",
              "      <td>0.0</td>\n",
              "      <td>0.0</td>\n",
              "      <td>0.0</td>\n",
              "      <td>0.0</td>\n",
              "      <td>0.0</td>\n",
              "      <td>0.0</td>\n",
              "      <td>0.0</td>\n",
              "      <td>0.0</td>\n",
              "      <td>4.703197</td>\n",
              "      <td>1.000052</td>\n",
              "    </tr>\n",
              "    <tr>\n",
              "      <th>18</th>\n",
              "      <td>6.0</td>\n",
              "      <td>1.0</td>\n",
              "      <td>0.0</td>\n",
              "      <td>0.0</td>\n",
              "      <td>0.0</td>\n",
              "      <td>1.0</td>\n",
              "      <td>0.0</td>\n",
              "      <td>0.0</td>\n",
              "      <td>0.0</td>\n",
              "      <td>0.0</td>\n",
              "      <td>...</td>\n",
              "      <td>0.0</td>\n",
              "      <td>0.0</td>\n",
              "      <td>0.0</td>\n",
              "      <td>0.0</td>\n",
              "      <td>0.0</td>\n",
              "      <td>0.0</td>\n",
              "      <td>0.0</td>\n",
              "      <td>0.0</td>\n",
              "      <td>6.000000</td>\n",
              "      <td>1.000052</td>\n",
              "    </tr>\n",
              "    <tr>\n",
              "      <th>19</th>\n",
              "      <td>8.0</td>\n",
              "      <td>0.0</td>\n",
              "      <td>0.0</td>\n",
              "      <td>0.0</td>\n",
              "      <td>0.0</td>\n",
              "      <td>0.0</td>\n",
              "      <td>0.0</td>\n",
              "      <td>0.0</td>\n",
              "      <td>0.0</td>\n",
              "      <td>0.0</td>\n",
              "      <td>...</td>\n",
              "      <td>1.0</td>\n",
              "      <td>0.0</td>\n",
              "      <td>0.0</td>\n",
              "      <td>2.0</td>\n",
              "      <td>0.0</td>\n",
              "      <td>1.0</td>\n",
              "      <td>2.0</td>\n",
              "      <td>2.0</td>\n",
              "      <td>7.333468</td>\n",
              "      <td>1.000052</td>\n",
              "    </tr>\n",
              "    <tr>\n",
              "      <th>20</th>\n",
              "      <td>12.0</td>\n",
              "      <td>1.0</td>\n",
              "      <td>0.0</td>\n",
              "      <td>0.0</td>\n",
              "      <td>1.0</td>\n",
              "      <td>1.0</td>\n",
              "      <td>0.0</td>\n",
              "      <td>1.0</td>\n",
              "      <td>0.0</td>\n",
              "      <td>1.0</td>\n",
              "      <td>...</td>\n",
              "      <td>2.0</td>\n",
              "      <td>1.0</td>\n",
              "      <td>0.0</td>\n",
              "      <td>0.0</td>\n",
              "      <td>0.0</td>\n",
              "      <td>0.0</td>\n",
              "      <td>1.0</td>\n",
              "      <td>0.0</td>\n",
              "      <td>7.963534</td>\n",
              "      <td>1.000052</td>\n",
              "    </tr>\n",
              "    <tr>\n",
              "      <th>21</th>\n",
              "      <td>12.0</td>\n",
              "      <td>1.0</td>\n",
              "      <td>2.0</td>\n",
              "      <td>0.0</td>\n",
              "      <td>0.0</td>\n",
              "      <td>2.0</td>\n",
              "      <td>0.0</td>\n",
              "      <td>0.0</td>\n",
              "      <td>0.0</td>\n",
              "      <td>0.0</td>\n",
              "      <td>...</td>\n",
              "      <td>0.0</td>\n",
              "      <td>0.0</td>\n",
              "      <td>0.0</td>\n",
              "      <td>0.0</td>\n",
              "      <td>1.0</td>\n",
              "      <td>0.0</td>\n",
              "      <td>0.0</td>\n",
              "      <td>1.0</td>\n",
              "      <td>11.648750</td>\n",
              "      <td>1.000052</td>\n",
              "    </tr>\n",
              "    <tr>\n",
              "      <th>22</th>\n",
              "      <td>7.0</td>\n",
              "      <td>1.0</td>\n",
              "      <td>0.0</td>\n",
              "      <td>0.0</td>\n",
              "      <td>0.0</td>\n",
              "      <td>0.0</td>\n",
              "      <td>0.0</td>\n",
              "      <td>0.0</td>\n",
              "      <td>0.0</td>\n",
              "      <td>0.0</td>\n",
              "      <td>...</td>\n",
              "      <td>0.0</td>\n",
              "      <td>0.0</td>\n",
              "      <td>0.0</td>\n",
              "      <td>0.0</td>\n",
              "      <td>0.0</td>\n",
              "      <td>0.0</td>\n",
              "      <td>0.0</td>\n",
              "      <td>1.0</td>\n",
              "      <td>6.469822</td>\n",
              "      <td>1.000052</td>\n",
              "    </tr>\n",
              "    <tr>\n",
              "      <th>23</th>\n",
              "      <td>7.0</td>\n",
              "      <td>0.0</td>\n",
              "      <td>0.0</td>\n",
              "      <td>0.0</td>\n",
              "      <td>0.0</td>\n",
              "      <td>1.0</td>\n",
              "      <td>0.0</td>\n",
              "      <td>0.0</td>\n",
              "      <td>0.0</td>\n",
              "      <td>1.0</td>\n",
              "      <td>...</td>\n",
              "      <td>0.0</td>\n",
              "      <td>0.0</td>\n",
              "      <td>0.0</td>\n",
              "      <td>0.0</td>\n",
              "      <td>0.0</td>\n",
              "      <td>0.0</td>\n",
              "      <td>0.0</td>\n",
              "      <td>0.0</td>\n",
              "      <td>3.606489</td>\n",
              "      <td>1.000052</td>\n",
              "    </tr>\n",
              "    <tr>\n",
              "      <th>24</th>\n",
              "      <td>8.0</td>\n",
              "      <td>0.0</td>\n",
              "      <td>1.0</td>\n",
              "      <td>0.0</td>\n",
              "      <td>0.0</td>\n",
              "      <td>0.0</td>\n",
              "      <td>0.0</td>\n",
              "      <td>0.0</td>\n",
              "      <td>0.0</td>\n",
              "      <td>1.0</td>\n",
              "      <td>...</td>\n",
              "      <td>0.0</td>\n",
              "      <td>0.0</td>\n",
              "      <td>0.0</td>\n",
              "      <td>0.0</td>\n",
              "      <td>0.0</td>\n",
              "      <td>0.0</td>\n",
              "      <td>0.0</td>\n",
              "      <td>0.0</td>\n",
              "      <td>5.661623</td>\n",
              "      <td>1.000052</td>\n",
              "    </tr>\n",
              "    <tr>\n",
              "      <th>25</th>\n",
              "      <td>7.0</td>\n",
              "      <td>0.0</td>\n",
              "      <td>0.0</td>\n",
              "      <td>0.0</td>\n",
              "      <td>0.0</td>\n",
              "      <td>0.0</td>\n",
              "      <td>0.0</td>\n",
              "      <td>0.0</td>\n",
              "      <td>0.0</td>\n",
              "      <td>0.0</td>\n",
              "      <td>...</td>\n",
              "      <td>0.0</td>\n",
              "      <td>0.0</td>\n",
              "      <td>0.0</td>\n",
              "      <td>1.0</td>\n",
              "      <td>1.0</td>\n",
              "      <td>0.0</td>\n",
              "      <td>1.0</td>\n",
              "      <td>1.0</td>\n",
              "      <td>6.167317</td>\n",
              "      <td>1.000052</td>\n",
              "    </tr>\n",
              "    <tr>\n",
              "      <th>26</th>\n",
              "      <td>7.0</td>\n",
              "      <td>1.0</td>\n",
              "      <td>1.0</td>\n",
              "      <td>1.0</td>\n",
              "      <td>0.0</td>\n",
              "      <td>1.0</td>\n",
              "      <td>0.0</td>\n",
              "      <td>0.0</td>\n",
              "      <td>1.0</td>\n",
              "      <td>0.0</td>\n",
              "      <td>...</td>\n",
              "      <td>2.0</td>\n",
              "      <td>0.0</td>\n",
              "      <td>0.0</td>\n",
              "      <td>0.0</td>\n",
              "      <td>0.0</td>\n",
              "      <td>0.0</td>\n",
              "      <td>0.0</td>\n",
              "      <td>0.0</td>\n",
              "      <td>4.960946</td>\n",
              "      <td>1.000052</td>\n",
              "    </tr>\n",
              "    <tr>\n",
              "      <th>27</th>\n",
              "      <td>8.0</td>\n",
              "      <td>0.0</td>\n",
              "      <td>0.0</td>\n",
              "      <td>1.0</td>\n",
              "      <td>0.0</td>\n",
              "      <td>0.0</td>\n",
              "      <td>0.0</td>\n",
              "      <td>0.0</td>\n",
              "      <td>0.0</td>\n",
              "      <td>1.0</td>\n",
              "      <td>...</td>\n",
              "      <td>2.0</td>\n",
              "      <td>0.0</td>\n",
              "      <td>0.0</td>\n",
              "      <td>0.0</td>\n",
              "      <td>0.0</td>\n",
              "      <td>1.0</td>\n",
              "      <td>1.0</td>\n",
              "      <td>0.0</td>\n",
              "      <td>8.000000</td>\n",
              "      <td>1.000052</td>\n",
              "    </tr>\n",
              "    <tr>\n",
              "      <th>28</th>\n",
              "      <td>17.0</td>\n",
              "      <td>1.0</td>\n",
              "      <td>0.0</td>\n",
              "      <td>0.0</td>\n",
              "      <td>1.0</td>\n",
              "      <td>2.0</td>\n",
              "      <td>1.0</td>\n",
              "      <td>0.0</td>\n",
              "      <td>0.0</td>\n",
              "      <td>1.0</td>\n",
              "      <td>...</td>\n",
              "      <td>0.0</td>\n",
              "      <td>0.0</td>\n",
              "      <td>0.0</td>\n",
              "      <td>2.0</td>\n",
              "      <td>0.0</td>\n",
              "      <td>2.0</td>\n",
              "      <td>0.0</td>\n",
              "      <td>0.0</td>\n",
              "      <td>11.000000</td>\n",
              "      <td>1.000052</td>\n",
              "    </tr>\n",
              "    <tr>\n",
              "      <th>29</th>\n",
              "      <td>9.0</td>\n",
              "      <td>1.0</td>\n",
              "      <td>1.0</td>\n",
              "      <td>0.0</td>\n",
              "      <td>0.0</td>\n",
              "      <td>1.0</td>\n",
              "      <td>0.0</td>\n",
              "      <td>0.0</td>\n",
              "      <td>0.0</td>\n",
              "      <td>0.0</td>\n",
              "      <td>...</td>\n",
              "      <td>0.0</td>\n",
              "      <td>0.0</td>\n",
              "      <td>1.0</td>\n",
              "      <td>0.0</td>\n",
              "      <td>0.0</td>\n",
              "      <td>1.0</td>\n",
              "      <td>0.0</td>\n",
              "      <td>1.0</td>\n",
              "      <td>6.648204</td>\n",
              "      <td>1.000052</td>\n",
              "    </tr>\n",
              "    <tr>\n",
              "      <th>...</th>\n",
              "      <td>...</td>\n",
              "      <td>...</td>\n",
              "      <td>...</td>\n",
              "      <td>...</td>\n",
              "      <td>...</td>\n",
              "      <td>...</td>\n",
              "      <td>...</td>\n",
              "      <td>...</td>\n",
              "      <td>...</td>\n",
              "      <td>...</td>\n",
              "      <td>...</td>\n",
              "      <td>...</td>\n",
              "      <td>...</td>\n",
              "      <td>...</td>\n",
              "      <td>...</td>\n",
              "      <td>...</td>\n",
              "      <td>...</td>\n",
              "      <td>...</td>\n",
              "      <td>...</td>\n",
              "      <td>...</td>\n",
              "      <td>...</td>\n",
              "    </tr>\n",
              "    <tr>\n",
              "      <th>1037845</th>\n",
              "      <td>7.0</td>\n",
              "      <td>1.0</td>\n",
              "      <td>0.0</td>\n",
              "      <td>0.0</td>\n",
              "      <td>0.0</td>\n",
              "      <td>0.0</td>\n",
              "      <td>0.0</td>\n",
              "      <td>0.0</td>\n",
              "      <td>0.0</td>\n",
              "      <td>1.0</td>\n",
              "      <td>...</td>\n",
              "      <td>0.0</td>\n",
              "      <td>0.0</td>\n",
              "      <td>0.0</td>\n",
              "      <td>0.0</td>\n",
              "      <td>0.0</td>\n",
              "      <td>0.0</td>\n",
              "      <td>1.0</td>\n",
              "      <td>0.0</td>\n",
              "      <td>7.000000</td>\n",
              "      <td>1.000052</td>\n",
              "    </tr>\n",
              "    <tr>\n",
              "      <th>1037846</th>\n",
              "      <td>8.0</td>\n",
              "      <td>1.0</td>\n",
              "      <td>0.0</td>\n",
              "      <td>0.0</td>\n",
              "      <td>0.0</td>\n",
              "      <td>2.0</td>\n",
              "      <td>0.0</td>\n",
              "      <td>0.0</td>\n",
              "      <td>2.0</td>\n",
              "      <td>0.0</td>\n",
              "      <td>...</td>\n",
              "      <td>0.0</td>\n",
              "      <td>0.0</td>\n",
              "      <td>0.0</td>\n",
              "      <td>0.0</td>\n",
              "      <td>0.0</td>\n",
              "      <td>0.0</td>\n",
              "      <td>0.0</td>\n",
              "      <td>0.0</td>\n",
              "      <td>4.047898</td>\n",
              "      <td>1.000052</td>\n",
              "    </tr>\n",
              "    <tr>\n",
              "      <th>1037847</th>\n",
              "      <td>8.0</td>\n",
              "      <td>1.0</td>\n",
              "      <td>2.0</td>\n",
              "      <td>0.0</td>\n",
              "      <td>0.0</td>\n",
              "      <td>0.0</td>\n",
              "      <td>0.0</td>\n",
              "      <td>0.0</td>\n",
              "      <td>0.0</td>\n",
              "      <td>0.0</td>\n",
              "      <td>...</td>\n",
              "      <td>0.0</td>\n",
              "      <td>0.0</td>\n",
              "      <td>0.0</td>\n",
              "      <td>0.0</td>\n",
              "      <td>0.0</td>\n",
              "      <td>0.0</td>\n",
              "      <td>0.0</td>\n",
              "      <td>1.0</td>\n",
              "      <td>5.009366</td>\n",
              "      <td>1.000052</td>\n",
              "    </tr>\n",
              "    <tr>\n",
              "      <th>1037848</th>\n",
              "      <td>6.0</td>\n",
              "      <td>0.0</td>\n",
              "      <td>0.0</td>\n",
              "      <td>0.0</td>\n",
              "      <td>0.0</td>\n",
              "      <td>1.0</td>\n",
              "      <td>0.0</td>\n",
              "      <td>0.0</td>\n",
              "      <td>0.0</td>\n",
              "      <td>1.0</td>\n",
              "      <td>...</td>\n",
              "      <td>0.0</td>\n",
              "      <td>1.0</td>\n",
              "      <td>0.0</td>\n",
              "      <td>0.0</td>\n",
              "      <td>0.0</td>\n",
              "      <td>0.0</td>\n",
              "      <td>0.0</td>\n",
              "      <td>0.0</td>\n",
              "      <td>6.000000</td>\n",
              "      <td>1.000052</td>\n",
              "    </tr>\n",
              "    <tr>\n",
              "      <th>1037849</th>\n",
              "      <td>8.0</td>\n",
              "      <td>0.0</td>\n",
              "      <td>0.0</td>\n",
              "      <td>0.0</td>\n",
              "      <td>0.0</td>\n",
              "      <td>0.0</td>\n",
              "      <td>0.0</td>\n",
              "      <td>0.0</td>\n",
              "      <td>0.0</td>\n",
              "      <td>0.0</td>\n",
              "      <td>...</td>\n",
              "      <td>3.0</td>\n",
              "      <td>0.0</td>\n",
              "      <td>1.0</td>\n",
              "      <td>0.0</td>\n",
              "      <td>0.0</td>\n",
              "      <td>0.0</td>\n",
              "      <td>0.0</td>\n",
              "      <td>0.0</td>\n",
              "      <td>7.164650</td>\n",
              "      <td>1.000052</td>\n",
              "    </tr>\n",
              "    <tr>\n",
              "      <th>1037850</th>\n",
              "      <td>9.0</td>\n",
              "      <td>0.0</td>\n",
              "      <td>0.0</td>\n",
              "      <td>0.0</td>\n",
              "      <td>0.0</td>\n",
              "      <td>1.0</td>\n",
              "      <td>0.0</td>\n",
              "      <td>0.0</td>\n",
              "      <td>0.0</td>\n",
              "      <td>0.0</td>\n",
              "      <td>...</td>\n",
              "      <td>1.0</td>\n",
              "      <td>0.0</td>\n",
              "      <td>0.0</td>\n",
              "      <td>0.0</td>\n",
              "      <td>0.0</td>\n",
              "      <td>2.0</td>\n",
              "      <td>0.0</td>\n",
              "      <td>0.0</td>\n",
              "      <td>7.535547</td>\n",
              "      <td>1.000052</td>\n",
              "    </tr>\n",
              "    <tr>\n",
              "      <th>1037851</th>\n",
              "      <td>8.0</td>\n",
              "      <td>1.0</td>\n",
              "      <td>1.0</td>\n",
              "      <td>1.0</td>\n",
              "      <td>1.0</td>\n",
              "      <td>0.0</td>\n",
              "      <td>0.0</td>\n",
              "      <td>0.0</td>\n",
              "      <td>0.0</td>\n",
              "      <td>0.0</td>\n",
              "      <td>...</td>\n",
              "      <td>0.0</td>\n",
              "      <td>0.0</td>\n",
              "      <td>0.0</td>\n",
              "      <td>0.0</td>\n",
              "      <td>0.0</td>\n",
              "      <td>0.0</td>\n",
              "      <td>0.0</td>\n",
              "      <td>0.0</td>\n",
              "      <td>8.000000</td>\n",
              "      <td>1.000052</td>\n",
              "    </tr>\n",
              "    <tr>\n",
              "      <th>1037852</th>\n",
              "      <td>8.0</td>\n",
              "      <td>0.0</td>\n",
              "      <td>0.0</td>\n",
              "      <td>0.0</td>\n",
              "      <td>0.0</td>\n",
              "      <td>0.0</td>\n",
              "      <td>0.0</td>\n",
              "      <td>0.0</td>\n",
              "      <td>0.0</td>\n",
              "      <td>0.0</td>\n",
              "      <td>...</td>\n",
              "      <td>1.0</td>\n",
              "      <td>0.0</td>\n",
              "      <td>1.0</td>\n",
              "      <td>0.0</td>\n",
              "      <td>0.0</td>\n",
              "      <td>0.0</td>\n",
              "      <td>1.0</td>\n",
              "      <td>0.0</td>\n",
              "      <td>8.000000</td>\n",
              "      <td>1.000052</td>\n",
              "    </tr>\n",
              "    <tr>\n",
              "      <th>1037853</th>\n",
              "      <td>7.0</td>\n",
              "      <td>2.0</td>\n",
              "      <td>0.0</td>\n",
              "      <td>0.0</td>\n",
              "      <td>3.0</td>\n",
              "      <td>0.0</td>\n",
              "      <td>0.0</td>\n",
              "      <td>0.0</td>\n",
              "      <td>0.0</td>\n",
              "      <td>0.0</td>\n",
              "      <td>...</td>\n",
              "      <td>0.0</td>\n",
              "      <td>0.0</td>\n",
              "      <td>0.0</td>\n",
              "      <td>0.0</td>\n",
              "      <td>0.0</td>\n",
              "      <td>0.0</td>\n",
              "      <td>0.0</td>\n",
              "      <td>0.0</td>\n",
              "      <td>7.000000</td>\n",
              "      <td>1.000052</td>\n",
              "    </tr>\n",
              "    <tr>\n",
              "      <th>1037854</th>\n",
              "      <td>8.0</td>\n",
              "      <td>0.0</td>\n",
              "      <td>0.0</td>\n",
              "      <td>0.0</td>\n",
              "      <td>0.0</td>\n",
              "      <td>0.0</td>\n",
              "      <td>0.0</td>\n",
              "      <td>0.0</td>\n",
              "      <td>0.0</td>\n",
              "      <td>0.0</td>\n",
              "      <td>...</td>\n",
              "      <td>0.0</td>\n",
              "      <td>0.0</td>\n",
              "      <td>0.0</td>\n",
              "      <td>0.0</td>\n",
              "      <td>2.0</td>\n",
              "      <td>0.0</td>\n",
              "      <td>1.0</td>\n",
              "      <td>1.0</td>\n",
              "      <td>5.605811</td>\n",
              "      <td>1.000052</td>\n",
              "    </tr>\n",
              "    <tr>\n",
              "      <th>1037855</th>\n",
              "      <td>6.0</td>\n",
              "      <td>0.0</td>\n",
              "      <td>0.0</td>\n",
              "      <td>0.0</td>\n",
              "      <td>1.0</td>\n",
              "      <td>0.0</td>\n",
              "      <td>0.0</td>\n",
              "      <td>0.0</td>\n",
              "      <td>0.0</td>\n",
              "      <td>1.0</td>\n",
              "      <td>...</td>\n",
              "      <td>1.0</td>\n",
              "      <td>0.0</td>\n",
              "      <td>0.0</td>\n",
              "      <td>0.0</td>\n",
              "      <td>0.0</td>\n",
              "      <td>1.0</td>\n",
              "      <td>0.0</td>\n",
              "      <td>0.0</td>\n",
              "      <td>6.000000</td>\n",
              "      <td>1.000052</td>\n",
              "    </tr>\n",
              "    <tr>\n",
              "      <th>1037856</th>\n",
              "      <td>6.0</td>\n",
              "      <td>0.0</td>\n",
              "      <td>0.0</td>\n",
              "      <td>0.0</td>\n",
              "      <td>0.0</td>\n",
              "      <td>0.0</td>\n",
              "      <td>0.0</td>\n",
              "      <td>0.0</td>\n",
              "      <td>0.0</td>\n",
              "      <td>0.0</td>\n",
              "      <td>...</td>\n",
              "      <td>0.0</td>\n",
              "      <td>0.0</td>\n",
              "      <td>0.0</td>\n",
              "      <td>1.0</td>\n",
              "      <td>1.0</td>\n",
              "      <td>0.0</td>\n",
              "      <td>1.0</td>\n",
              "      <td>1.0</td>\n",
              "      <td>5.698822</td>\n",
              "      <td>1.000052</td>\n",
              "    </tr>\n",
              "    <tr>\n",
              "      <th>1037857</th>\n",
              "      <td>7.0</td>\n",
              "      <td>0.0</td>\n",
              "      <td>0.0</td>\n",
              "      <td>0.0</td>\n",
              "      <td>0.0</td>\n",
              "      <td>0.0</td>\n",
              "      <td>0.0</td>\n",
              "      <td>0.0</td>\n",
              "      <td>0.0</td>\n",
              "      <td>0.0</td>\n",
              "      <td>...</td>\n",
              "      <td>0.0</td>\n",
              "      <td>1.0</td>\n",
              "      <td>1.0</td>\n",
              "      <td>0.0</td>\n",
              "      <td>0.0</td>\n",
              "      <td>2.0</td>\n",
              "      <td>1.0</td>\n",
              "      <td>1.0</td>\n",
              "      <td>6.013680</td>\n",
              "      <td>1.000052</td>\n",
              "    </tr>\n",
              "    <tr>\n",
              "      <th>1037858</th>\n",
              "      <td>8.0</td>\n",
              "      <td>1.0</td>\n",
              "      <td>1.0</td>\n",
              "      <td>0.0</td>\n",
              "      <td>0.0</td>\n",
              "      <td>0.0</td>\n",
              "      <td>2.0</td>\n",
              "      <td>0.0</td>\n",
              "      <td>0.0</td>\n",
              "      <td>0.0</td>\n",
              "      <td>...</td>\n",
              "      <td>0.0</td>\n",
              "      <td>0.0</td>\n",
              "      <td>0.0</td>\n",
              "      <td>1.0</td>\n",
              "      <td>1.0</td>\n",
              "      <td>0.0</td>\n",
              "      <td>0.0</td>\n",
              "      <td>0.0</td>\n",
              "      <td>7.151370</td>\n",
              "      <td>1.000052</td>\n",
              "    </tr>\n",
              "    <tr>\n",
              "      <th>1037859</th>\n",
              "      <td>8.0</td>\n",
              "      <td>0.0</td>\n",
              "      <td>0.0</td>\n",
              "      <td>0.0</td>\n",
              "      <td>0.0</td>\n",
              "      <td>0.0</td>\n",
              "      <td>0.0</td>\n",
              "      <td>0.0</td>\n",
              "      <td>0.0</td>\n",
              "      <td>0.0</td>\n",
              "      <td>...</td>\n",
              "      <td>2.0</td>\n",
              "      <td>0.0</td>\n",
              "      <td>2.0</td>\n",
              "      <td>0.0</td>\n",
              "      <td>0.0</td>\n",
              "      <td>0.0</td>\n",
              "      <td>1.0</td>\n",
              "      <td>1.0</td>\n",
              "      <td>6.370328</td>\n",
              "      <td>1.000052</td>\n",
              "    </tr>\n",
              "    <tr>\n",
              "      <th>1037860</th>\n",
              "      <td>8.0</td>\n",
              "      <td>2.0</td>\n",
              "      <td>0.0</td>\n",
              "      <td>0.0</td>\n",
              "      <td>0.0</td>\n",
              "      <td>0.0</td>\n",
              "      <td>0.0</td>\n",
              "      <td>0.0</td>\n",
              "      <td>0.0</td>\n",
              "      <td>0.0</td>\n",
              "      <td>...</td>\n",
              "      <td>0.0</td>\n",
              "      <td>0.0</td>\n",
              "      <td>0.0</td>\n",
              "      <td>0.0</td>\n",
              "      <td>0.0</td>\n",
              "      <td>0.0</td>\n",
              "      <td>0.0</td>\n",
              "      <td>0.0</td>\n",
              "      <td>8.000000</td>\n",
              "      <td>1.000052</td>\n",
              "    </tr>\n",
              "    <tr>\n",
              "      <th>1037861</th>\n",
              "      <td>8.0</td>\n",
              "      <td>1.0</td>\n",
              "      <td>0.0</td>\n",
              "      <td>0.0</td>\n",
              "      <td>1.0</td>\n",
              "      <td>0.0</td>\n",
              "      <td>1.0</td>\n",
              "      <td>0.0</td>\n",
              "      <td>0.0</td>\n",
              "      <td>0.0</td>\n",
              "      <td>...</td>\n",
              "      <td>0.0</td>\n",
              "      <td>0.0</td>\n",
              "      <td>0.0</td>\n",
              "      <td>0.0</td>\n",
              "      <td>1.0</td>\n",
              "      <td>0.0</td>\n",
              "      <td>0.0</td>\n",
              "      <td>0.0</td>\n",
              "      <td>8.000000</td>\n",
              "      <td>1.000052</td>\n",
              "    </tr>\n",
              "    <tr>\n",
              "      <th>1037862</th>\n",
              "      <td>8.0</td>\n",
              "      <td>0.0</td>\n",
              "      <td>0.0</td>\n",
              "      <td>0.0</td>\n",
              "      <td>0.0</td>\n",
              "      <td>0.0</td>\n",
              "      <td>0.0</td>\n",
              "      <td>0.0</td>\n",
              "      <td>0.0</td>\n",
              "      <td>0.0</td>\n",
              "      <td>...</td>\n",
              "      <td>0.0</td>\n",
              "      <td>0.0</td>\n",
              "      <td>0.0</td>\n",
              "      <td>0.0</td>\n",
              "      <td>0.0</td>\n",
              "      <td>0.0</td>\n",
              "      <td>0.0</td>\n",
              "      <td>0.0</td>\n",
              "      <td>6.389166</td>\n",
              "      <td>1.000052</td>\n",
              "    </tr>\n",
              "    <tr>\n",
              "      <th>1037863</th>\n",
              "      <td>6.0</td>\n",
              "      <td>1.0</td>\n",
              "      <td>0.0</td>\n",
              "      <td>0.0</td>\n",
              "      <td>0.0</td>\n",
              "      <td>1.0</td>\n",
              "      <td>1.0</td>\n",
              "      <td>0.0</td>\n",
              "      <td>1.0</td>\n",
              "      <td>0.0</td>\n",
              "      <td>...</td>\n",
              "      <td>0.0</td>\n",
              "      <td>0.0</td>\n",
              "      <td>0.0</td>\n",
              "      <td>0.0</td>\n",
              "      <td>0.0</td>\n",
              "      <td>0.0</td>\n",
              "      <td>0.0</td>\n",
              "      <td>0.0</td>\n",
              "      <td>6.000000</td>\n",
              "      <td>1.000052</td>\n",
              "    </tr>\n",
              "    <tr>\n",
              "      <th>1037864</th>\n",
              "      <td>8.0</td>\n",
              "      <td>0.0</td>\n",
              "      <td>0.0</td>\n",
              "      <td>0.0</td>\n",
              "      <td>2.0</td>\n",
              "      <td>0.0</td>\n",
              "      <td>0.0</td>\n",
              "      <td>0.0</td>\n",
              "      <td>0.0</td>\n",
              "      <td>0.0</td>\n",
              "      <td>...</td>\n",
              "      <td>0.0</td>\n",
              "      <td>0.0</td>\n",
              "      <td>0.0</td>\n",
              "      <td>0.0</td>\n",
              "      <td>0.0</td>\n",
              "      <td>0.0</td>\n",
              "      <td>0.0</td>\n",
              "      <td>0.0</td>\n",
              "      <td>8.000000</td>\n",
              "      <td>1.000052</td>\n",
              "    </tr>\n",
              "    <tr>\n",
              "      <th>1037865</th>\n",
              "      <td>9.0</td>\n",
              "      <td>0.0</td>\n",
              "      <td>0.0</td>\n",
              "      <td>0.0</td>\n",
              "      <td>0.0</td>\n",
              "      <td>1.0</td>\n",
              "      <td>0.0</td>\n",
              "      <td>1.0</td>\n",
              "      <td>1.0</td>\n",
              "      <td>0.0</td>\n",
              "      <td>...</td>\n",
              "      <td>0.0</td>\n",
              "      <td>0.0</td>\n",
              "      <td>0.0</td>\n",
              "      <td>0.0</td>\n",
              "      <td>0.0</td>\n",
              "      <td>1.0</td>\n",
              "      <td>0.0</td>\n",
              "      <td>0.0</td>\n",
              "      <td>8.000043</td>\n",
              "      <td>1.000052</td>\n",
              "    </tr>\n",
              "    <tr>\n",
              "      <th>1037866</th>\n",
              "      <td>8.0</td>\n",
              "      <td>0.0</td>\n",
              "      <td>0.0</td>\n",
              "      <td>0.0</td>\n",
              "      <td>0.0</td>\n",
              "      <td>1.0</td>\n",
              "      <td>3.0</td>\n",
              "      <td>0.0</td>\n",
              "      <td>0.0</td>\n",
              "      <td>2.0</td>\n",
              "      <td>...</td>\n",
              "      <td>0.0</td>\n",
              "      <td>0.0</td>\n",
              "      <td>0.0</td>\n",
              "      <td>0.0</td>\n",
              "      <td>0.0</td>\n",
              "      <td>0.0</td>\n",
              "      <td>0.0</td>\n",
              "      <td>0.0</td>\n",
              "      <td>8.000000</td>\n",
              "      <td>1.000052</td>\n",
              "    </tr>\n",
              "    <tr>\n",
              "      <th>1037867</th>\n",
              "      <td>7.0</td>\n",
              "      <td>0.0</td>\n",
              "      <td>0.0</td>\n",
              "      <td>0.0</td>\n",
              "      <td>1.0</td>\n",
              "      <td>2.0</td>\n",
              "      <td>0.0</td>\n",
              "      <td>0.0</td>\n",
              "      <td>0.0</td>\n",
              "      <td>1.0</td>\n",
              "      <td>...</td>\n",
              "      <td>0.0</td>\n",
              "      <td>0.0</td>\n",
              "      <td>0.0</td>\n",
              "      <td>0.0</td>\n",
              "      <td>0.0</td>\n",
              "      <td>0.0</td>\n",
              "      <td>0.0</td>\n",
              "      <td>0.0</td>\n",
              "      <td>4.974051</td>\n",
              "      <td>1.000052</td>\n",
              "    </tr>\n",
              "    <tr>\n",
              "      <th>1037868</th>\n",
              "      <td>10.0</td>\n",
              "      <td>1.0</td>\n",
              "      <td>1.0</td>\n",
              "      <td>1.0</td>\n",
              "      <td>0.0</td>\n",
              "      <td>0.0</td>\n",
              "      <td>0.0</td>\n",
              "      <td>0.0</td>\n",
              "      <td>0.0</td>\n",
              "      <td>2.0</td>\n",
              "      <td>...</td>\n",
              "      <td>0.0</td>\n",
              "      <td>1.0</td>\n",
              "      <td>0.0</td>\n",
              "      <td>0.0</td>\n",
              "      <td>0.0</td>\n",
              "      <td>0.0</td>\n",
              "      <td>0.0</td>\n",
              "      <td>0.0</td>\n",
              "      <td>4.976047</td>\n",
              "      <td>1.000052</td>\n",
              "    </tr>\n",
              "    <tr>\n",
              "      <th>1037869</th>\n",
              "      <td>6.0</td>\n",
              "      <td>2.0</td>\n",
              "      <td>0.0</td>\n",
              "      <td>0.0</td>\n",
              "      <td>0.0</td>\n",
              "      <td>0.0</td>\n",
              "      <td>0.0</td>\n",
              "      <td>0.0</td>\n",
              "      <td>0.0</td>\n",
              "      <td>0.0</td>\n",
              "      <td>...</td>\n",
              "      <td>0.0</td>\n",
              "      <td>0.0</td>\n",
              "      <td>0.0</td>\n",
              "      <td>0.0</td>\n",
              "      <td>0.0</td>\n",
              "      <td>0.0</td>\n",
              "      <td>0.0</td>\n",
              "      <td>0.0</td>\n",
              "      <td>6.000000</td>\n",
              "      <td>1.000052</td>\n",
              "    </tr>\n",
              "    <tr>\n",
              "      <th>1037870</th>\n",
              "      <td>6.0</td>\n",
              "      <td>0.0</td>\n",
              "      <td>0.0</td>\n",
              "      <td>0.0</td>\n",
              "      <td>0.0</td>\n",
              "      <td>0.0</td>\n",
              "      <td>0.0</td>\n",
              "      <td>0.0</td>\n",
              "      <td>0.0</td>\n",
              "      <td>0.0</td>\n",
              "      <td>...</td>\n",
              "      <td>0.0</td>\n",
              "      <td>3.0</td>\n",
              "      <td>0.0</td>\n",
              "      <td>0.0</td>\n",
              "      <td>0.0</td>\n",
              "      <td>0.0</td>\n",
              "      <td>0.0</td>\n",
              "      <td>0.0</td>\n",
              "      <td>5.041393</td>\n",
              "      <td>1.000052</td>\n",
              "    </tr>\n",
              "    <tr>\n",
              "      <th>1037871</th>\n",
              "      <td>6.0</td>\n",
              "      <td>0.0</td>\n",
              "      <td>0.0</td>\n",
              "      <td>0.0</td>\n",
              "      <td>0.0</td>\n",
              "      <td>0.0</td>\n",
              "      <td>0.0</td>\n",
              "      <td>0.0</td>\n",
              "      <td>0.0</td>\n",
              "      <td>0.0</td>\n",
              "      <td>...</td>\n",
              "      <td>0.0</td>\n",
              "      <td>0.0</td>\n",
              "      <td>0.0</td>\n",
              "      <td>0.0</td>\n",
              "      <td>0.0</td>\n",
              "      <td>0.0</td>\n",
              "      <td>0.0</td>\n",
              "      <td>0.0</td>\n",
              "      <td>5.155336</td>\n",
              "      <td>1.000052</td>\n",
              "    </tr>\n",
              "    <tr>\n",
              "      <th>1037872</th>\n",
              "      <td>9.0</td>\n",
              "      <td>0.0</td>\n",
              "      <td>1.0</td>\n",
              "      <td>0.0</td>\n",
              "      <td>0.0</td>\n",
              "      <td>2.0</td>\n",
              "      <td>0.0</td>\n",
              "      <td>2.0</td>\n",
              "      <td>0.0</td>\n",
              "      <td>1.0</td>\n",
              "      <td>...</td>\n",
              "      <td>0.0</td>\n",
              "      <td>0.0</td>\n",
              "      <td>0.0</td>\n",
              "      <td>0.0</td>\n",
              "      <td>0.0</td>\n",
              "      <td>0.0</td>\n",
              "      <td>0.0</td>\n",
              "      <td>0.0</td>\n",
              "      <td>5.041393</td>\n",
              "      <td>1.000052</td>\n",
              "    </tr>\n",
              "    <tr>\n",
              "      <th>1037873</th>\n",
              "      <td>8.0</td>\n",
              "      <td>0.0</td>\n",
              "      <td>0.0</td>\n",
              "      <td>0.0</td>\n",
              "      <td>0.0</td>\n",
              "      <td>0.0</td>\n",
              "      <td>0.0</td>\n",
              "      <td>0.0</td>\n",
              "      <td>0.0</td>\n",
              "      <td>0.0</td>\n",
              "      <td>...</td>\n",
              "      <td>0.0</td>\n",
              "      <td>0.0</td>\n",
              "      <td>0.0</td>\n",
              "      <td>0.0</td>\n",
              "      <td>0.0</td>\n",
              "      <td>0.0</td>\n",
              "      <td>0.0</td>\n",
              "      <td>0.0</td>\n",
              "      <td>8.000000</td>\n",
              "      <td>1.000052</td>\n",
              "    </tr>\n",
              "    <tr>\n",
              "      <th>1037874</th>\n",
              "      <td>8.0</td>\n",
              "      <td>2.0</td>\n",
              "      <td>0.0</td>\n",
              "      <td>0.0</td>\n",
              "      <td>0.0</td>\n",
              "      <td>0.0</td>\n",
              "      <td>0.0</td>\n",
              "      <td>0.0</td>\n",
              "      <td>0.0</td>\n",
              "      <td>0.0</td>\n",
              "      <td>...</td>\n",
              "      <td>1.0</td>\n",
              "      <td>1.0</td>\n",
              "      <td>0.0</td>\n",
              "      <td>0.0</td>\n",
              "      <td>0.0</td>\n",
              "      <td>0.0</td>\n",
              "      <td>0.0</td>\n",
              "      <td>0.0</td>\n",
              "      <td>8.000000</td>\n",
              "      <td>1.000052</td>\n",
              "    </tr>\n",
              "  </tbody>\n",
              "</table>\n",
              "<p>1037875 rows × 65 columns</p>\n",
              "</div>"
            ],
            "text/plain": [
              "          len    a    b    c    d    e    f    g    h    i    ...       2  \\\n",
              "0        10.0  2.0  0.0  0.0  0.0  0.0  0.0  0.0  2.0  1.0    ...     0.0   \n",
              "1         9.0  0.0  0.0  0.0  0.0  0.0  0.0  0.0  0.0  0.0    ...     0.0   \n",
              "2        10.0  2.0  0.0  0.0  0.0  0.0  0.0  0.0  0.0  0.0    ...     4.0   \n",
              "3         6.0  1.0  0.0  0.0  1.0  0.0  0.0  0.0  0.0  0.0    ...     0.0   \n",
              "4         7.0  1.0  0.0  1.0  0.0  1.0  0.0  0.0  0.0  0.0    ...     0.0   \n",
              "5        11.0  1.0  0.0  0.0  1.0  0.0  0.0  0.0  0.0  1.0    ...     1.0   \n",
              "6         6.0  1.0  0.0  0.0  0.0  0.0  0.0  0.0  0.0  0.0    ...     0.0   \n",
              "7         6.0  1.0  0.0  0.0  0.0  1.0  0.0  0.0  1.0  0.0    ...     0.0   \n",
              "8         9.0  1.0  0.0  0.0  0.0  1.0  0.0  0.0  0.0  0.0    ...     0.0   \n",
              "9         9.0  1.0  0.0  0.0  0.0  0.0  0.0  0.0  0.0  0.0    ...     0.0   \n",
              "10       12.0  0.0  0.0  0.0  0.0  0.0  0.0  0.0  0.0  0.0    ...     1.0   \n",
              "11        9.0  1.0  0.0  0.0  0.0  2.0  1.0  0.0  0.0  0.0    ...     0.0   \n",
              "12        8.0  1.0  0.0  0.0  0.0  0.0  0.0  0.0  0.0  1.0    ...     0.0   \n",
              "13       13.0  0.0  0.0  0.0  0.0  1.0  0.0  0.0  0.0  1.0    ...     0.0   \n",
              "14        8.0  0.0  0.0  0.0  1.0  1.0  0.0  1.0  0.0  1.0    ...     0.0   \n",
              "15        6.0  0.0  0.0  1.0  0.0  2.0  0.0  0.0  0.0  0.0    ...     0.0   \n",
              "16       10.0  0.0  0.0  0.0  2.0  1.0  1.0  0.0  0.0  0.0    ...     0.0   \n",
              "17        7.0  0.0  0.0  0.0  0.0  1.0  1.0  0.0  0.0  1.0    ...     0.0   \n",
              "18        6.0  1.0  0.0  0.0  0.0  1.0  0.0  0.0  0.0  0.0    ...     0.0   \n",
              "19        8.0  0.0  0.0  0.0  0.0  0.0  0.0  0.0  0.0  0.0    ...     1.0   \n",
              "20       12.0  1.0  0.0  0.0  1.0  1.0  0.0  1.0  0.0  1.0    ...     2.0   \n",
              "21       12.0  1.0  2.0  0.0  0.0  2.0  0.0  0.0  0.0  0.0    ...     0.0   \n",
              "22        7.0  1.0  0.0  0.0  0.0  0.0  0.0  0.0  0.0  0.0    ...     0.0   \n",
              "23        7.0  0.0  0.0  0.0  0.0  1.0  0.0  0.0  0.0  1.0    ...     0.0   \n",
              "24        8.0  0.0  1.0  0.0  0.0  0.0  0.0  0.0  0.0  1.0    ...     0.0   \n",
              "25        7.0  0.0  0.0  0.0  0.0  0.0  0.0  0.0  0.0  0.0    ...     0.0   \n",
              "26        7.0  1.0  1.0  1.0  0.0  1.0  0.0  0.0  1.0  0.0    ...     2.0   \n",
              "27        8.0  0.0  0.0  1.0  0.0  0.0  0.0  0.0  0.0  1.0    ...     2.0   \n",
              "28       17.0  1.0  0.0  0.0  1.0  2.0  1.0  0.0  0.0  1.0    ...     0.0   \n",
              "29        9.0  1.0  1.0  0.0  0.0  1.0  0.0  0.0  0.0  0.0    ...     0.0   \n",
              "...       ...  ...  ...  ...  ...  ...  ...  ...  ...  ...    ...     ...   \n",
              "1037845   7.0  1.0  0.0  0.0  0.0  0.0  0.0  0.0  0.0  1.0    ...     0.0   \n",
              "1037846   8.0  1.0  0.0  0.0  0.0  2.0  0.0  0.0  2.0  0.0    ...     0.0   \n",
              "1037847   8.0  1.0  2.0  0.0  0.0  0.0  0.0  0.0  0.0  0.0    ...     0.0   \n",
              "1037848   6.0  0.0  0.0  0.0  0.0  1.0  0.0  0.0  0.0  1.0    ...     0.0   \n",
              "1037849   8.0  0.0  0.0  0.0  0.0  0.0  0.0  0.0  0.0  0.0    ...     3.0   \n",
              "1037850   9.0  0.0  0.0  0.0  0.0  1.0  0.0  0.0  0.0  0.0    ...     1.0   \n",
              "1037851   8.0  1.0  1.0  1.0  1.0  0.0  0.0  0.0  0.0  0.0    ...     0.0   \n",
              "1037852   8.0  0.0  0.0  0.0  0.0  0.0  0.0  0.0  0.0  0.0    ...     1.0   \n",
              "1037853   7.0  2.0  0.0  0.0  3.0  0.0  0.0  0.0  0.0  0.0    ...     0.0   \n",
              "1037854   8.0  0.0  0.0  0.0  0.0  0.0  0.0  0.0  0.0  0.0    ...     0.0   \n",
              "1037855   6.0  0.0  0.0  0.0  1.0  0.0  0.0  0.0  0.0  1.0    ...     1.0   \n",
              "1037856   6.0  0.0  0.0  0.0  0.0  0.0  0.0  0.0  0.0  0.0    ...     0.0   \n",
              "1037857   7.0  0.0  0.0  0.0  0.0  0.0  0.0  0.0  0.0  0.0    ...     0.0   \n",
              "1037858   8.0  1.0  1.0  0.0  0.0  0.0  2.0  0.0  0.0  0.0    ...     0.0   \n",
              "1037859   8.0  0.0  0.0  0.0  0.0  0.0  0.0  0.0  0.0  0.0    ...     2.0   \n",
              "1037860   8.0  2.0  0.0  0.0  0.0  0.0  0.0  0.0  0.0  0.0    ...     0.0   \n",
              "1037861   8.0  1.0  0.0  0.0  1.0  0.0  1.0  0.0  0.0  0.0    ...     0.0   \n",
              "1037862   8.0  0.0  0.0  0.0  0.0  0.0  0.0  0.0  0.0  0.0    ...     0.0   \n",
              "1037863   6.0  1.0  0.0  0.0  0.0  1.0  1.0  0.0  1.0  0.0    ...     0.0   \n",
              "1037864   8.0  0.0  0.0  0.0  2.0  0.0  0.0  0.0  0.0  0.0    ...     0.0   \n",
              "1037865   9.0  0.0  0.0  0.0  0.0  1.0  0.0  1.0  1.0  0.0    ...     0.0   \n",
              "1037866   8.0  0.0  0.0  0.0  0.0  1.0  3.0  0.0  0.0  2.0    ...     0.0   \n",
              "1037867   7.0  0.0  0.0  0.0  1.0  2.0  0.0  0.0  0.0  1.0    ...     0.0   \n",
              "1037868  10.0  1.0  1.0  1.0  0.0  0.0  0.0  0.0  0.0  2.0    ...     0.0   \n",
              "1037869   6.0  2.0  0.0  0.0  0.0  0.0  0.0  0.0  0.0  0.0    ...     0.0   \n",
              "1037870   6.0  0.0  0.0  0.0  0.0  0.0  0.0  0.0  0.0  0.0    ...     0.0   \n",
              "1037871   6.0  0.0  0.0  0.0  0.0  0.0  0.0  0.0  0.0  0.0    ...     0.0   \n",
              "1037872   9.0  0.0  1.0  0.0  0.0  2.0  0.0  2.0  0.0  1.0    ...     0.0   \n",
              "1037873   8.0  0.0  0.0  0.0  0.0  0.0  0.0  0.0  0.0  0.0    ...     0.0   \n",
              "1037874   8.0  2.0  0.0  0.0  0.0  0.0  0.0  0.0  0.0  0.0    ...     1.0   \n",
              "\n",
              "           3    4    5    6    7    8    9      guess     Times  \n",
              "0        0.0  0.0  0.0  0.0  0.0  0.0  0.0   9.010971  1.000052  \n",
              "1        1.0  0.0  1.0  1.0  3.0  0.0  1.0   8.486586  1.000052  \n",
              "2        0.0  0.0  0.0  1.0  0.0  0.0  2.0   9.691789  1.000052  \n",
              "3        0.0  1.0  0.0  0.0  1.0  0.0  0.0   4.790988  1.000052  \n",
              "4        0.0  0.0  0.0  0.0  0.0  0.0  0.0   4.630855  1.000052  \n",
              "5        0.0  2.0  0.0  0.0  0.0  1.0  0.0   8.093737  1.000052  \n",
              "6        0.0  0.0  0.0  0.0  0.0  0.0  0.0   4.990339  1.000052  \n",
              "7        0.0  0.0  0.0  0.0  0.0  0.0  0.0   6.000000  1.000052  \n",
              "8        1.0  0.0  0.0  0.0  1.0  0.0  0.0   9.000000  1.000052  \n",
              "9        0.0  0.0  0.0  0.0  1.0  1.0  2.0   5.498504  1.000052  \n",
              "10       0.0  0.0  0.0  1.0  0.0  0.0  1.0  10.294687  1.000052  \n",
              "11       1.0  0.0  0.0  0.0  0.0  0.0  0.0   8.416707  1.000052  \n",
              "12       0.0  0.0  0.0  1.0  0.0  0.0  1.0   5.527393  1.000052  \n",
              "13       2.0  0.0  0.0  1.0  1.0  0.0  0.0  13.000000  1.000052  \n",
              "14       0.0  0.0  0.0  0.0  0.0  0.0  0.0   6.833478  1.000052  \n",
              "15       0.0  0.0  0.0  0.0  0.0  0.0  0.0   4.825088  1.000052  \n",
              "16       2.0  0.0  0.0  0.0  0.0  0.0  0.0   5.102969  1.000052  \n",
              "17       0.0  0.0  0.0  0.0  0.0  0.0  0.0   4.703197  1.000052  \n",
              "18       0.0  0.0  0.0  0.0  0.0  0.0  0.0   6.000000  1.000052  \n",
              "19       0.0  0.0  2.0  0.0  1.0  2.0  2.0   7.333468  1.000052  \n",
              "20       1.0  0.0  0.0  0.0  0.0  1.0  0.0   7.963534  1.000052  \n",
              "21       0.0  0.0  0.0  1.0  0.0  0.0  1.0  11.648750  1.000052  \n",
              "22       0.0  0.0  0.0  0.0  0.0  0.0  1.0   6.469822  1.000052  \n",
              "23       0.0  0.0  0.0  0.0  0.0  0.0  0.0   3.606489  1.000052  \n",
              "24       0.0  0.0  0.0  0.0  0.0  0.0  0.0   5.661623  1.000052  \n",
              "25       0.0  0.0  1.0  1.0  0.0  1.0  1.0   6.167317  1.000052  \n",
              "26       0.0  0.0  0.0  0.0  0.0  0.0  0.0   4.960946  1.000052  \n",
              "27       0.0  0.0  0.0  0.0  1.0  1.0  0.0   8.000000  1.000052  \n",
              "28       0.0  0.0  2.0  0.0  2.0  0.0  0.0  11.000000  1.000052  \n",
              "29       0.0  1.0  0.0  0.0  1.0  0.0  1.0   6.648204  1.000052  \n",
              "...      ...  ...  ...  ...  ...  ...  ...        ...       ...  \n",
              "1037845  0.0  0.0  0.0  0.0  0.0  1.0  0.0   7.000000  1.000052  \n",
              "1037846  0.0  0.0  0.0  0.0  0.0  0.0  0.0   4.047898  1.000052  \n",
              "1037847  0.0  0.0  0.0  0.0  0.0  0.0  1.0   5.009366  1.000052  \n",
              "1037848  1.0  0.0  0.0  0.0  0.0  0.0  0.0   6.000000  1.000052  \n",
              "1037849  0.0  1.0  0.0  0.0  0.0  0.0  0.0   7.164650  1.000052  \n",
              "1037850  0.0  0.0  0.0  0.0  2.0  0.0  0.0   7.535547  1.000052  \n",
              "1037851  0.0  0.0  0.0  0.0  0.0  0.0  0.0   8.000000  1.000052  \n",
              "1037852  0.0  1.0  0.0  0.0  0.0  1.0  0.0   8.000000  1.000052  \n",
              "1037853  0.0  0.0  0.0  0.0  0.0  0.0  0.0   7.000000  1.000052  \n",
              "1037854  0.0  0.0  0.0  2.0  0.0  1.0  1.0   5.605811  1.000052  \n",
              "1037855  0.0  0.0  0.0  0.0  1.0  0.0  0.0   6.000000  1.000052  \n",
              "1037856  0.0  0.0  1.0  1.0  0.0  1.0  1.0   5.698822  1.000052  \n",
              "1037857  1.0  1.0  0.0  0.0  2.0  1.0  1.0   6.013680  1.000052  \n",
              "1037858  0.0  0.0  1.0  1.0  0.0  0.0  0.0   7.151370  1.000052  \n",
              "1037859  0.0  2.0  0.0  0.0  0.0  1.0  1.0   6.370328  1.000052  \n",
              "1037860  0.0  0.0  0.0  0.0  0.0  0.0  0.0   8.000000  1.000052  \n",
              "1037861  0.0  0.0  0.0  1.0  0.0  0.0  0.0   8.000000  1.000052  \n",
              "1037862  0.0  0.0  0.0  0.0  0.0  0.0  0.0   6.389166  1.000052  \n",
              "1037863  0.0  0.0  0.0  0.0  0.0  0.0  0.0   6.000000  1.000052  \n",
              "1037864  0.0  0.0  0.0  0.0  0.0  0.0  0.0   8.000000  1.000052  \n",
              "1037865  0.0  0.0  0.0  0.0  1.0  0.0  0.0   8.000043  1.000052  \n",
              "1037866  0.0  0.0  0.0  0.0  0.0  0.0  0.0   8.000000  1.000052  \n",
              "1037867  0.0  0.0  0.0  0.0  0.0  0.0  0.0   4.974051  1.000052  \n",
              "1037868  1.0  0.0  0.0  0.0  0.0  0.0  0.0   4.976047  1.000052  \n",
              "1037869  0.0  0.0  0.0  0.0  0.0  0.0  0.0   6.000000  1.000052  \n",
              "1037870  3.0  0.0  0.0  0.0  0.0  0.0  0.0   5.041393  1.000052  \n",
              "1037871  0.0  0.0  0.0  0.0  0.0  0.0  0.0   5.155336  1.000052  \n",
              "1037872  0.0  0.0  0.0  0.0  0.0  0.0  0.0   5.041393  1.000052  \n",
              "1037873  0.0  0.0  0.0  0.0  0.0  0.0  0.0   8.000000  1.000052  \n",
              "1037874  1.0  0.0  0.0  0.0  0.0  0.0  0.0   8.000000  1.000052  \n",
              "\n",
              "[1037875 rows x 65 columns]"
            ]
          },
          "metadata": {
            "tags": []
          },
          "execution_count": 227
        }
      ]
    },
    {
      "metadata": {
        "id": "qO72Zd4iAtl1",
        "colab_type": "code",
        "colab": {}
      },
      "cell_type": "code",
      "source": [
        "bst = xgboost.Booster({'nthread': 4})"
      ],
      "execution_count": 0,
      "outputs": []
    },
    {
      "metadata": {
        "id": "8gxMI-6VBH_k",
        "colab_type": "code",
        "outputId": "c10417ae-70d5-42b2-eced-26c411c2b507",
        "colab": {
          "base_uri": "https://localhost:8080/",
          "height": 625
        }
      },
      "cell_type": "code",
      "source": [
        "bst.load_model('model.bin')"
      ],
      "execution_count": 0,
      "outputs": [
        {
          "output_type": "error",
          "ename": "XGBoostError",
          "evalue": "ignored",
          "traceback": [
            "\u001b[0;31m\u001b[0m",
            "\u001b[0;31mXGBoostError\u001b[0mTraceback (most recent call last)",
            "\u001b[0;32m<ipython-input-13-f96f6836706b>\u001b[0m in \u001b[0;36m<module>\u001b[0;34m()\u001b[0m\n\u001b[0;32m----> 1\u001b[0;31m \u001b[0mbst\u001b[0m\u001b[0;34m.\u001b[0m\u001b[0mload_model\u001b[0m\u001b[0;34m(\u001b[0m\u001b[0;34m'model.bin'\u001b[0m\u001b[0;34m)\u001b[0m\u001b[0;34m\u001b[0m\u001b[0m\n\u001b[0m",
            "\u001b[0;32m/usr/local/lib/python2.7/dist-packages/xgboost/core.pyc\u001b[0m in \u001b[0;36mload_model\u001b[0;34m(self, fname)\u001b[0m\n\u001b[1;32m   1100\u001b[0m         \u001b[0;32mif\u001b[0m \u001b[0misinstance\u001b[0m\u001b[0;34m(\u001b[0m\u001b[0mfname\u001b[0m\u001b[0;34m,\u001b[0m \u001b[0mSTRING_TYPES\u001b[0m\u001b[0;34m)\u001b[0m\u001b[0;34m:\u001b[0m\u001b[0;34m\u001b[0m\u001b[0m\n\u001b[1;32m   1101\u001b[0m             \u001b[0;31m# assume file name, cannot use os.path.exist to check, file can be from URL.\u001b[0m\u001b[0;34m\u001b[0m\u001b[0;34m\u001b[0m\u001b[0m\n\u001b[0;32m-> 1102\u001b[0;31m             \u001b[0m_check_call\u001b[0m\u001b[0;34m(\u001b[0m\u001b[0m_LIB\u001b[0m\u001b[0;34m.\u001b[0m\u001b[0mXGBoosterLoadModel\u001b[0m\u001b[0;34m(\u001b[0m\u001b[0mself\u001b[0m\u001b[0;34m.\u001b[0m\u001b[0mhandle\u001b[0m\u001b[0;34m,\u001b[0m \u001b[0mc_str\u001b[0m\u001b[0;34m(\u001b[0m\u001b[0mfname\u001b[0m\u001b[0;34m)\u001b[0m\u001b[0;34m)\u001b[0m\u001b[0;34m)\u001b[0m\u001b[0;34m\u001b[0m\u001b[0m\n\u001b[0m\u001b[1;32m   1103\u001b[0m         \u001b[0;32melse\u001b[0m\u001b[0;34m:\u001b[0m\u001b[0;34m\u001b[0m\u001b[0m\n\u001b[1;32m   1104\u001b[0m             \u001b[0mbuf\u001b[0m \u001b[0;34m=\u001b[0m \u001b[0mfname\u001b[0m\u001b[0;34m\u001b[0m\u001b[0m\n",
            "\u001b[0;32m/usr/local/lib/python2.7/dist-packages/xgboost/core.pyc\u001b[0m in \u001b[0;36m_check_call\u001b[0;34m(ret)\u001b[0m\n\u001b[1;32m    128\u001b[0m     \"\"\"\n\u001b[1;32m    129\u001b[0m     \u001b[0;32mif\u001b[0m \u001b[0mret\u001b[0m \u001b[0;34m!=\u001b[0m \u001b[0;36m0\u001b[0m\u001b[0;34m:\u001b[0m\u001b[0;34m\u001b[0m\u001b[0m\n\u001b[0;32m--> 130\u001b[0;31m         \u001b[0;32mraise\u001b[0m \u001b[0mXGBoostError\u001b[0m\u001b[0;34m(\u001b[0m\u001b[0m_LIB\u001b[0m\u001b[0;34m.\u001b[0m\u001b[0mXGBGetLastError\u001b[0m\u001b[0;34m(\u001b[0m\u001b[0;34m)\u001b[0m\u001b[0;34m)\u001b[0m\u001b[0;34m\u001b[0m\u001b[0m\n\u001b[0m\u001b[1;32m    131\u001b[0m \u001b[0;34m\u001b[0m\u001b[0m\n\u001b[1;32m    132\u001b[0m \u001b[0;34m\u001b[0m\u001b[0m\n",
            "\u001b[0;31mXGBoostError\u001b[0m: [05:25:34] src/io/local_filesys.cc:154: Check failed: allow_null  LocalFileSystem: fail to open \"model.bin\"\n\nStack trace returned 10 entries:\n[bt] (0) /usr/local/lib/python2.7/dist-packages/xgboost/./lib/libxgboost.so(_ZN4dmlc2io15LocalFileSystem4OpenERKNS0_3URIEPKcb+0x614) [0x7fac281d8554]\n[bt] (1) /usr/local/lib/python2.7/dist-packages/xgboost/./lib/libxgboost.so(_ZN4dmlc6Stream6CreateEPKcS2_b+0x27a) [0x7fac281c98ca]\n[bt] (2) /usr/local/lib/python2.7/dist-packages/xgboost/./lib/libxgboost.so(XGBoosterLoadModel+0x18) [0x7fac281b8ae8]\n[bt] (3) /usr/lib/x86_64-linux-gnu/libffi.so.6(ffi_call_unix64+0x4c) [0x7fac5aa27dae]\n[bt] (4) /usr/lib/x86_64-linux-gnu/libffi.so.6(ffi_call+0x22f) [0x7fac5aa2771f]\n[bt] (5) /usr/lib/python2.7/lib-dynload/_ctypes.x86_64-linux-gnu.so(_ctypes_callproc+0x2a4) [0x7fac5ac3ab04]\n[bt] (6) /usr/lib/python2.7/lib-dynload/_ctypes.x86_64-linux-gnu.so(+0x10505) [0x7fac5ac3a505]\n[bt] (7) /usr/bin/python2(PyEval_EvalFrameEx+0x54a0) [0x55d7c8a12420]\n[bt] (8) /usr/bin/python2(PyEval_EvalCodeEx+0x6da) [0x55d7c8a0ad0a]\n[bt] (9) /usr/bin/python2(PyEval_EvalFrameEx+0x5cb8) [0x55d7c8a12c38]\n"
          ]
        }
      ]
    },
    {
      "metadata": {
        "id": "rrxk5sFT_OJf",
        "colab_type": "code",
        "outputId": "24ac0ab4-6207-46d9-ff7c-eebb1233d55b",
        "colab": {
          "base_uri": "https://localhost:8080/",
          "height": 625
        }
      },
      "cell_type": "code",
      "source": [
        "bst.load_model('0001.model') "
      ],
      "execution_count": 0,
      "outputs": [
        {
          "output_type": "error",
          "ename": "XGBoostError",
          "evalue": "ignored",
          "traceback": [
            "\u001b[0;31m\u001b[0m",
            "\u001b[0;31mXGBoostError\u001b[0mTraceback (most recent call last)",
            "\u001b[0;32m<ipython-input-12-fbf6e8a7efe3>\u001b[0m in \u001b[0;36m<module>\u001b[0;34m()\u001b[0m\n\u001b[0;32m----> 1\u001b[0;31m \u001b[0mbst\u001b[0m\u001b[0;34m.\u001b[0m\u001b[0mload_model\u001b[0m\u001b[0;34m(\u001b[0m\u001b[0;34m'0001.model'\u001b[0m\u001b[0;34m)\u001b[0m\u001b[0;34m\u001b[0m\u001b[0m\n\u001b[0m",
            "\u001b[0;32m/usr/local/lib/python2.7/dist-packages/xgboost/core.pyc\u001b[0m in \u001b[0;36mload_model\u001b[0;34m(self, fname)\u001b[0m\n\u001b[1;32m   1100\u001b[0m         \u001b[0;32mif\u001b[0m \u001b[0misinstance\u001b[0m\u001b[0;34m(\u001b[0m\u001b[0mfname\u001b[0m\u001b[0;34m,\u001b[0m \u001b[0mSTRING_TYPES\u001b[0m\u001b[0;34m)\u001b[0m\u001b[0;34m:\u001b[0m\u001b[0;34m\u001b[0m\u001b[0m\n\u001b[1;32m   1101\u001b[0m             \u001b[0;31m# assume file name, cannot use os.path.exist to check, file can be from URL.\u001b[0m\u001b[0;34m\u001b[0m\u001b[0;34m\u001b[0m\u001b[0m\n\u001b[0;32m-> 1102\u001b[0;31m             \u001b[0m_check_call\u001b[0m\u001b[0;34m(\u001b[0m\u001b[0m_LIB\u001b[0m\u001b[0;34m.\u001b[0m\u001b[0mXGBoosterLoadModel\u001b[0m\u001b[0;34m(\u001b[0m\u001b[0mself\u001b[0m\u001b[0;34m.\u001b[0m\u001b[0mhandle\u001b[0m\u001b[0;34m,\u001b[0m \u001b[0mc_str\u001b[0m\u001b[0;34m(\u001b[0m\u001b[0mfname\u001b[0m\u001b[0;34m)\u001b[0m\u001b[0;34m)\u001b[0m\u001b[0;34m)\u001b[0m\u001b[0;34m\u001b[0m\u001b[0m\n\u001b[0m\u001b[1;32m   1103\u001b[0m         \u001b[0;32melse\u001b[0m\u001b[0;34m:\u001b[0m\u001b[0;34m\u001b[0m\u001b[0m\n\u001b[1;32m   1104\u001b[0m             \u001b[0mbuf\u001b[0m \u001b[0;34m=\u001b[0m \u001b[0mfname\u001b[0m\u001b[0;34m\u001b[0m\u001b[0m\n",
            "\u001b[0;32m/usr/local/lib/python2.7/dist-packages/xgboost/core.pyc\u001b[0m in \u001b[0;36m_check_call\u001b[0;34m(ret)\u001b[0m\n\u001b[1;32m    128\u001b[0m     \"\"\"\n\u001b[1;32m    129\u001b[0m     \u001b[0;32mif\u001b[0m \u001b[0mret\u001b[0m \u001b[0;34m!=\u001b[0m \u001b[0;36m0\u001b[0m\u001b[0;34m:\u001b[0m\u001b[0;34m\u001b[0m\u001b[0m\n\u001b[0;32m--> 130\u001b[0;31m         \u001b[0;32mraise\u001b[0m \u001b[0mXGBoostError\u001b[0m\u001b[0;34m(\u001b[0m\u001b[0m_LIB\u001b[0m\u001b[0;34m.\u001b[0m\u001b[0mXGBGetLastError\u001b[0m\u001b[0;34m(\u001b[0m\u001b[0;34m)\u001b[0m\u001b[0;34m)\u001b[0m\u001b[0;34m\u001b[0m\u001b[0m\n\u001b[0m\u001b[1;32m    131\u001b[0m \u001b[0;34m\u001b[0m\u001b[0m\n\u001b[1;32m    132\u001b[0m \u001b[0;34m\u001b[0m\u001b[0m\n",
            "\u001b[0;31mXGBoostError\u001b[0m: [05:24:56] src/io/local_filesys.cc:154: Check failed: allow_null  LocalFileSystem: fail to open \"0001.model\"\n\nStack trace returned 10 entries:\n[bt] (0) /usr/local/lib/python2.7/dist-packages/xgboost/./lib/libxgboost.so(_ZN4dmlc2io15LocalFileSystem4OpenERKNS0_3URIEPKcb+0x614) [0x7fac281d8554]\n[bt] (1) /usr/local/lib/python2.7/dist-packages/xgboost/./lib/libxgboost.so(_ZN4dmlc6Stream6CreateEPKcS2_b+0x27a) [0x7fac281c98ca]\n[bt] (2) /usr/local/lib/python2.7/dist-packages/xgboost/./lib/libxgboost.so(XGBoosterLoadModel+0x18) [0x7fac281b8ae8]\n[bt] (3) /usr/lib/x86_64-linux-gnu/libffi.so.6(ffi_call_unix64+0x4c) [0x7fac5aa27dae]\n[bt] (4) /usr/lib/x86_64-linux-gnu/libffi.so.6(ffi_call+0x22f) [0x7fac5aa2771f]\n[bt] (5) /usr/lib/python2.7/lib-dynload/_ctypes.x86_64-linux-gnu.so(_ctypes_callproc+0x2a4) [0x7fac5ac3ab04]\n[bt] (6) /usr/lib/python2.7/lib-dynload/_ctypes.x86_64-linux-gnu.so(+0x10505) [0x7fac5ac3a505]\n[bt] (7) /usr/bin/python2(PyEval_EvalFrameEx+0x54a0) [0x55d7c8a12420]\n[bt] (8) /usr/bin/python2(PyEval_EvalCodeEx+0x6da) [0x55d7c8a0ad0a]\n[bt] (9) /usr/bin/python2(PyEval_EvalFrameEx+0x5cb8) [0x55d7c8a12c38]\n"
          ]
        }
      ]
    },
    {
      "metadata": {
        "id": "vJk06wwKyX4w",
        "colab_type": "code",
        "colab": {}
      },
      "cell_type": "code",
      "source": [
        "#dtest = xgb.DMatrix(data)\n",
        "ypred = bst.predict(dtrain)"
      ],
      "execution_count": 0,
      "outputs": []
    },
    {
      "metadata": {
        "id": "hCbTYiCIymI8",
        "colab_type": "code",
        "outputId": "edbd7ec2-1609-4ecf-9855-ff9a72bcb843",
        "colab": {
          "base_uri": "https://localhost:8080/",
          "height": 285
        }
      },
      "cell_type": "code",
      "source": [
        "plt.plot(ypred)"
      ],
      "execution_count": 0,
      "outputs": [
        {
          "output_type": "execute_result",
          "data": {
            "text/plain": [
              "[<matplotlib.lines.Line2D at 0x7f711185e710>]"
            ]
          },
          "metadata": {
            "tags": []
          },
          "execution_count": 225
        },
        {
          "output_type": "display_data",
          "data": {
            "image/png": "[encoded data removed]",
            "text/plain": [
              "<Figure size 432x288 with 1 Axes>"
            ]
          },
          "metadata": {
            "tags": []
          }
        }
      ]
    },
    {
      "metadata": {
        "id": "bqDAg8v4ytdc",
        "colab_type": "code",
        "outputId": "5e206dd6-4f3b-43b5-9185-4f3b2db876ca",
        "colab": {
          "base_uri": "https://localhost:8080/",
          "height": 34
        }
      },
      "cell_type": "code",
      "source": [
        "ypred.mean()"
      ],
      "execution_count": 0,
      "outputs": [
        {
          "output_type": "execute_result",
          "data": {
            "text/plain": [
              "1.8010702"
            ]
          },
          "metadata": {
            "tags": []
          },
          "execution_count": 203
        }
      ]
    },
    {
      "metadata": {
        "id": "TFO_JFBqVyLe",
        "colab_type": "code",
        "outputId": "adb60b43-e3c7-4db4-9d1c-fc1178643200",
        "colab": {
          "base_uri": "https://localhost:8080/",
          "height": 282
        }
      },
      "cell_type": "code",
      "source": [
        "results[['train-RMSLE-mean', 'test-RMSLE-mean']].plot()"
      ],
      "execution_count": 0,
      "outputs": [
        {
          "output_type": "execute_result",
          "data": {
            "text/plain": [
              "<matplotlib.axes._subplots.AxesSubplot at 0x7f712387d0d0>"
            ]
          },
          "metadata": {
            "tags": []
          },
          "execution_count": 152
        },
        {
          "output_type": "display_data",
          "data": {
            "image/png": "[encoded data removed]",
            "text/plain": [
              "<Figure size 432x288 with 1 Axes>"
            ]
          },
          "metadata": {
            "tags": []
          }
        }
      ]
    },
    {
      "metadata": {
        "id": "5c-8MvdZfPqy",
        "colab_type": "code",
        "colab": {}
      },
      "cell_type": "code",
      "source": [
        "import pandas as pd\n",
        "from lightgbm import LGBMRegressor\n",
        "from xgboost import XGBRegressor\n",
        "from sklearn.model_selection import cross_val_score , StratifiedKFold\n",
        "\n",
        "#import pymorphy2\n",
        "import pymystem3\n",
        "#from natasha import NamesExtractor\n",
        "from sklearn.preprocessing import LabelEncoder\n",
        "from tqdm._tqdm_notebook import tqdm_notebook\n",
        "tqdm_notebook.pandas(desc=\"apply\")\n",
        "\n",
        "%matplotlib inline"
      ],
      "execution_count": 0,
      "outputs": []
    },
    {
      "metadata": {
        "id": "v1z0_TySdzQ9",
        "colab_type": "code",
        "colab": {}
      },
      "cell_type": "code",
      "source": [
        "def validate(x , y):\n",
        "    model = LGBMRegressor(n_estimators=670 ,learning_rate=0.09 , num_leaves=53 , subsample=0.9 , subsample_for_bin=60000 , min_child_samples = 10 , random_state = 42)\n",
        "    cv = StratifiedKFold(4 ,shuffle=True, random_state=99)\n",
        "    score = cross_val_score(model , x , y , scoring=rmsle_score , cv=cv)\n",
        "    return score.mean() , score.std()\n",
        "new_train = all_data[all_data['Label'].notnull()]\n",
        "validate(new_train.drop(['Label' , 'Word' ] , axis=1) , new_train['Label'])"
      ],
      "execution_count": 0,
      "outputs": []
    },
    {
      "metadata": {
        "id": "cNoeO5ENd6Z3",
        "colab_type": "code",
        "outputId": "daef6f52-7062-4e9c-ce25-48848e2475b1",
        "colab": {
          "base_uri": "https://localhost:8080/",
          "height": 185
        }
      },
      "cell_type": "code",
      "source": [
        ""
      ],
      "execution_count": 0,
      "outputs": [
        {
          "output_type": "error",
          "ename": "NameError",
          "evalue": "ignored",
          "traceback": [
            "\u001b[0;31m\u001b[0m",
            "\u001b[0;31mNameError\u001b[0mTraceback (most recent call last)",
            "\u001b[0;32m<ipython-input-64-c007f94c187e>\u001b[0m in \u001b[0;36m<module>\u001b[0;34m()\u001b[0m\n\u001b[0;32m----> 1\u001b[0;31m \u001b[0mnew_train\u001b[0m \u001b[0;34m=\u001b[0m \u001b[0mall_data\u001b[0m\u001b[0;34m[\u001b[0m\u001b[0mall_data\u001b[0m\u001b[0;34m[\u001b[0m\u001b[0;34m'Label'\u001b[0m\u001b[0;34m]\u001b[0m\u001b[0;34m.\u001b[0m\u001b[0mnotnull\u001b[0m\u001b[0;34m(\u001b[0m\u001b[0;34m)\u001b[0m\u001b[0;34m]\u001b[0m\u001b[0;34m\u001b[0m\u001b[0m\n\u001b[0m\u001b[1;32m      2\u001b[0m \u001b[0mvalidate\u001b[0m\u001b[0;34m(\u001b[0m\u001b[0mnew_train\u001b[0m\u001b[0;34m.\u001b[0m\u001b[0mdrop\u001b[0m\u001b[0;34m(\u001b[0m\u001b[0;34m[\u001b[0m\u001b[0;34m'Label'\u001b[0m \u001b[0;34m,\u001b[0m \u001b[0;34m'Word'\u001b[0m \u001b[0;34m]\u001b[0m \u001b[0;34m,\u001b[0m \u001b[0maxis\u001b[0m\u001b[0;34m=\u001b[0m\u001b[0;36m1\u001b[0m\u001b[0;34m)\u001b[0m \u001b[0;34m,\u001b[0m \u001b[0mnew_train\u001b[0m\u001b[0;34m[\u001b[0m\u001b[0;34m'Label'\u001b[0m\u001b[0;34m]\u001b[0m\u001b[0;34m)\u001b[0m\u001b[0;34m\u001b[0m\u001b[0m\n",
            "\u001b[0;31mNameError\u001b[0m: name 'all_data' is not defined"
          ]
        }
      ]
    },
    {
      "metadata": {
        "id": "PKCbcIU7emR1",
        "colab_type": "code",
        "colab": {}
      },
      "cell_type": "code",
      "source": [
        "#validate(X_train , y_train)"
      ],
      "execution_count": 0,
      "outputs": []
    },
    {
      "metadata": {
        "id": "RfjYJkuJgqtG",
        "colab_type": "code",
        "colab": {}
      },
      "cell_type": "code",
      "source": [
        ""
      ],
      "execution_count": 0,
      "outputs": []
    },
    {
      "metadata": {
        "id": "SKUT5hlVdXV8",
        "colab_type": "code",
        "colab": {}
      },
      "cell_type": "code",
      "source": [
        "import pymystem3"
      ],
      "execution_count": 0,
      "outputs": []
    },
    {
      "metadata": {
        "id": "8tfNW1iUchEE",
        "colab_type": "code",
        "outputId": "904aa12a-033e-433d-a92e-2c8fb112f351",
        "colab": {
          "base_uri": "https://localhost:8080/",
          "height": 378
        }
      },
      "cell_type": "code",
      "source": [
        "import pandas as pd\n",
        "from lightgbm import LGBMClassifier\n",
        "from xgboost import XGBClassifier\n",
        "from sklearn.model_selection import cross_val_score , StratifiedKFold\n",
        "\n",
        "import pymorphy\n",
        "import pymystem3\n",
        "from natasha import NamesExtractor\n",
        "from sklearn.preprocessing import LabelEncoder\n",
        "from tqdm._tqdm_notebook import tqdm_notebook\n",
        "tqdm_notebook.pandas(desc=\"apply\")\n",
        "\n",
        "%matplotlib inline"
      ],
      "execution_count": 0,
      "outputs": [
        {
          "output_type": "error",
          "ename": "ImportError",
          "evalue": "ignored",
          "traceback": [
            "\u001b[0;31m\u001b[0m",
            "\u001b[0;31mImportError\u001b[0mTraceback (most recent call last)",
            "\u001b[0;32m<ipython-input-49-caf72baef03b>\u001b[0m in \u001b[0;36m<module>\u001b[0;34m()\u001b[0m\n\u001b[1;32m      4\u001b[0m \u001b[0;32mfrom\u001b[0m \u001b[0msklearn\u001b[0m\u001b[0;34m.\u001b[0m\u001b[0mmodel_selection\u001b[0m \u001b[0;32mimport\u001b[0m \u001b[0mcross_val_score\u001b[0m \u001b[0;34m,\u001b[0m \u001b[0mStratifiedKFold\u001b[0m\u001b[0;34m\u001b[0m\u001b[0m\n\u001b[1;32m      5\u001b[0m \u001b[0;34m\u001b[0m\u001b[0m\n\u001b[0;32m----> 6\u001b[0;31m \u001b[0;32mimport\u001b[0m \u001b[0mpymorphy\u001b[0m\u001b[0;34m\u001b[0m\u001b[0m\n\u001b[0m\u001b[1;32m      7\u001b[0m \u001b[0;32mimport\u001b[0m \u001b[0mpymystem3\u001b[0m\u001b[0;34m\u001b[0m\u001b[0m\n\u001b[1;32m      8\u001b[0m \u001b[0;32mfrom\u001b[0m \u001b[0mnatasha\u001b[0m \u001b[0;32mimport\u001b[0m \u001b[0mNamesExtractor\u001b[0m\u001b[0;34m\u001b[0m\u001b[0m\n",
            "\u001b[0;31mImportError\u001b[0m: No module named pymorphy",
            "",
            "\u001b[0;31m---------------------------------------------------------------------------\u001b[0;32m\nNOTE: If your import is failing due to a missing package, you can\nmanually install dependencies using either !pip or !apt.\n\nTo view examples of installing some common dependencies, click the\n\"Open Examples\" button below.\n\u001b[0;31m---------------------------------------------------------------------------\u001b[0m\n"
          ]
        }
      ]
    },
    {
      "metadata": {
        "id": "kzYlvcwpTJYh",
        "colab_type": "code",
        "colab": {}
      },
      "cell_type": "code",
      "source": [
        "morph = pymorphy2.MorphAnalyzer()\n",
        "\n",
        "def name_score(word):\n",
        "    for p in morph.parse(word):\n",
        "        if 'Name' in p.tag:\n",
        "            return p.score\n",
        "    return 0\n",
        "\n",
        "def surn_score(word):\n",
        "    for p in morph.parse(word):\n",
        "        if 'Surn' in p.tag:\n",
        "            return p.score\n",
        "    return 0\n",
        "\n",
        "all_data['pymorphy_word_is_known'] = all_data['Word'].apply(morph.word_is_known).astype('int8')\n",
        "all_data['pymorphy_count_in_tag'] = all_data['Word'].apply(lambda x: len(morph.tag(x))).astype('int8')\n",
        "all_data['pymorphy_score'] = all_data['Word'].apply(lambda x: morph.parse(x)[0].score)\n",
        "all_data['pymorphy'] = all_data['Word'].apply(lambda x: morph.tag(x)[0])\n",
        "\n",
        "all_data['pymorphy_animacy'] = all_data['pymorphy'].apply(lambda x: x.animacy)\n",
        "all_data['pymorphy_POS'] = all_data['pymorphy'].apply(lambda x: x.POS)\n",
        "all_data['pymorphy_case'] = all_data['pymorphy'].apply(lambda x: x.case)\n",
        "all_data['pymorphy_number'] = all_data['pymorphy'].apply(lambda x: x.number)\n",
        "all_data['pymorphy_gender'] = all_data['pymorphy'].apply(lambda x: x.gender)\n",
        "\n",
        "all_data['pymorphy_name_score'] = all_data['Word'].apply(name_score)\n",
        "all_data['pymorphy_surn_score'] = all_data['Word'].apply(surn_score)\n",
        "\n",
        "columns_to_one_hot = ['pymorphy' , 'pymorphy_animacy', 'pymorphy_POS', 'pymorphy_case','pymorphy_number', 'pymorphy_gender']\n",
        "\n",
        "for col in columns_to_one_hot:\n",
        "    all_data[col] = LabelEncoder().fit_transform(list(all_data[col].fillna('nan')))"
      ],
      "execution_count": 0,
      "outputs": []
    },
    {
      "metadata": {
        "id": "-bEQEuZyOd8S",
        "colab_type": "code",
        "colab": {}
      },
      "cell_type": "code",
      "source": [
        "\n",
        "#\n",
        "from sklearn.tree import DecisionTreeRegressor\n",
        "tree = DecisionTreeRegressor(max_depth=3).fit(X_train, y_train)\n",
        "\n",
        "#print(\"Test set predictions:\\n\", tree.predict(X_test))\n",
        "print(\"Test set R^2: {:.2f}\".format(tree.score(X_test, y_test)))\n"
      ],
      "execution_count": 0,
      "outputs": []
    },
    {
      "metadata": {
        "id": "5Hf-QJmZOd8Z",
        "colab_type": "code",
        "colab": {}
      },
      "cell_type": "code",
      "source": [
        "\n",
        "\n",
        "from sklearn.linear_model import LinearRegression\n",
        "lr = LinearRegression()\n",
        "lr.fit(X=X_train, y=y_train)\n",
        "\n",
        "#print(\"Test set predictions:\\n\", lr.predict(X_test))\n",
        "print(\"Test set R^2: {:.2f}\".format(lr.score(X_test, y_test)))\n"
      ],
      "execution_count": 0,
      "outputs": []
    },
    {
      "metadata": {
        "id": "67KbgikMOd8k",
        "colab_type": "code",
        "colab": {}
      },
      "cell_type": "code",
      "source": [
        "from sklearn.linear_model import Lasso\n",
        "from sklearn.linear_model import LinearRegression\n",
        "from sklearn.linear_model import Ridge"
      ],
      "execution_count": 0,
      "outputs": []
    },
    {
      "metadata": {
        "id": "OVyZ4ybyOd8u",
        "colab_type": "code",
        "colab": {}
      },
      "cell_type": "code",
      "source": [
        "rr = Ridge(alpha=0.01) \n",
        "rr.fit(X_train, y_train)\n",
        "rr100 = Ridge(alpha=100) \n",
        "rr100.fit(X_train, y_train)\n",
        "train_score=lr.score(X_train, y_train)\n",
        "test_score=lr.score(X_test, y_test)\n",
        "Ridge_train_score = rr.score(X_train,y_train)\n",
        "Ridge_test_score = rr.score(X_test, y_test)\n",
        "Ridge_train_score100 = rr100.score(X_train,y_train)\n",
        "Ridge_test_score100 = rr100.score(X_test, y_test)\n",
        "print (\"linear regression train score:\", train_score)\n",
        "print (\"linear regression test score:\", test_score)\n",
        "print (\"ridge regression train score low alpha:\", Ridge_train_score)\n",
        "print (\"ridge regression test score low alpha:\", Ridge_test_score)\n",
        "print (\"ridge regression train score high alpha:\", Ridge_train_score100)\n",
        "print (\"ridge regression test score high alpha:\", Ridge_test_score100)"
      ],
      "execution_count": 0,
      "outputs": []
    },
    {
      "metadata": {
        "id": "jchbfwfpOd9F",
        "colab_type": "code",
        "colab": {}
      },
      "cell_type": "code",
      "source": [
        ""
      ],
      "execution_count": 0,
      "outputs": []
    },
    {
      "metadata": {
        "id": "I1x971PYOd9S",
        "colab_type": "code",
        "colab": {}
      },
      "cell_type": "code",
      "source": [
        "lasso = Lasso()\n",
        "lasso.fit(X_train,y_train)\n",
        "train_score=lasso.score(X_train,y_train)\n",
        "test_score=lasso.score(X_test,y_test)\n",
        "coeff_used = np.sum(lasso.coef_!=0)\n",
        "print (\"training score:\", train_score )\n",
        "print (\"test score: \", test_score)\n",
        "print (\"number of features used: \", coeff_used)\n",
        "lasso001 = Lasso(alpha=0.01, max_iter=10e5)\n",
        "lasso001.fit(X_train,y_train)\n",
        "train_score001=lasso001.score(X_train,y_train)\n",
        "test_score001=lasso001.score(X_test,y_test)\n",
        "coeff_used001 = np.sum(lasso001.coef_!=0)\n",
        "print (\"training score for alpha=0.01:\", train_score001 )\n",
        "print (\"test score for alpha =0.01: \", test_score001)\n",
        "print (\"number of features used: for alpha =0.01:\", coeff_used001)\n",
        "lasso00001 = Lasso(alpha=0.0001, max_iter=10e5)\n",
        "lasso00001.fit(X_train,y_train)\n",
        "train_score00001=lasso00001.score(X_train,y_train)\n",
        "test_score00001=lasso00001.score(X_test,y_test)\n",
        "coeff_used00001 = np.sum(lasso00001.coef_!=0)\n",
        "print (\"training score for alpha=0.0001:\", train_score00001 )\n",
        "print (\"test score for alpha =0.0001: \", test_score00001)\n",
        "print (\"number of features used: for alpha =0.0001:\", coeff_used00001)"
      ],
      "execution_count": 0,
      "outputs": []
    },
    {
      "metadata": {
        "id": "DoSdruWVOd9d",
        "colab_type": "code",
        "colab": {}
      },
      "cell_type": "code",
      "source": [
        "X_test.head()"
      ],
      "execution_count": 0,
      "outputs": []
    },
    {
      "metadata": {
        "id": "woAaHoKiOd9p",
        "colab_type": "code",
        "colab": {}
      },
      "cell_type": "code",
      "source": [
        "y_test.head()"
      ],
      "execution_count": 0,
      "outputs": []
    },
    {
      "metadata": {
        "id": "SkPUaT24Od9v",
        "colab_type": "code",
        "colab": {}
      },
      "cell_type": "code",
      "source": [
        "rr100.predict(X_test)"
      ],
      "execution_count": 0,
      "outputs": []
    },
    {
      "metadata": {
        "id": "BMyygnWjOd99",
        "colab_type": "code",
        "outputId": "cf0a1e91-11d4-4e88-b666-21924e1466d4",
        "colab": {
          "base_uri": "https://localhost:8080/",
          "height": 195
        }
      },
      "cell_type": "code",
      "source": [
        "test.head()"
      ],
      "execution_count": 0,
      "outputs": [
        {
          "output_type": "execute_result",
          "data": {
            "text/html": [
              "<div>\n",
              "<style scoped>\n",
              "    .dataframe tbody tr th:only-of-type {\n",
              "        vertical-align: middle;\n",
              "    }\n",
              "\n",
              "    .dataframe tbody tr th {\n",
              "        vertical-align: top;\n",
              "    }\n",
              "\n",
              "    .dataframe thead th {\n",
              "        text-align: right;\n",
              "    }\n",
              "</style>\n",
              "<table border=\"1\" class=\"dataframe\">\n",
              "  <thead>\n",
              "    <tr style=\"text-align: right;\">\n",
              "      <th></th>\n",
              "      <th>Id</th>\n",
              "      <th>Password</th>\n",
              "    </tr>\n",
              "  </thead>\n",
              "  <tbody>\n",
              "    <tr>\n",
              "      <th>0</th>\n",
              "      <td>0</td>\n",
              "      <td>ThaisCunha</td>\n",
              "    </tr>\n",
              "    <tr>\n",
              "      <th>1</th>\n",
              "      <td>1</td>\n",
              "      <td>697775113</td>\n",
              "    </tr>\n",
              "    <tr>\n",
              "      <th>2</th>\n",
              "      <td>2</td>\n",
              "      <td>922a16922a</td>\n",
              "    </tr>\n",
              "    <tr>\n",
              "      <th>3</th>\n",
              "      <td>3</td>\n",
              "      <td>andy74</td>\n",
              "    </tr>\n",
              "    <tr>\n",
              "      <th>4</th>\n",
              "      <td>4</td>\n",
              "      <td>joemack</td>\n",
              "    </tr>\n",
              "  </tbody>\n",
              "</table>\n",
              "</div>"
            ],
            "text/plain": [
              "   Id    Password\n",
              "0   0  ThaisCunha\n",
              "1   1   697775113\n",
              "2   2  922a16922a\n",
              "3   3      andy74\n",
              "4   4     joemack"
            ]
          },
          "metadata": {
            "tags": []
          },
          "execution_count": 60
        }
      ]
    },
    {
      "metadata": {
        "id": "GCn7Q_OizEyn",
        "colab_type": "code",
        "outputId": "85041136-f91c-4335-f26f-8f666f787497",
        "colab": {
          "base_uri": "https://localhost:8080/",
          "height": 34
        }
      },
      "cell_type": "code",
      "source": [
        "test.shape"
      ],
      "execution_count": 0,
      "outputs": [
        {
          "output_type": "execute_result",
          "data": {
            "text/plain": [
              "(1037875, 2)"
            ]
          },
          "metadata": {
            "tags": []
          },
          "execution_count": 61
        }
      ]
    },
    {
      "metadata": {
        "id": "ASDFViCCOd-H",
        "colab_type": "code",
        "colab": {}
      },
      "cell_type": "code",
      "source": [
        "test['len']=list(test['Password'].str.len())"
      ],
      "execution_count": 0,
      "outputs": []
    },
    {
      "metadata": {
        "id": "WAn7cCI8Od-T",
        "colab_type": "code",
        "outputId": "376b9e8c-5b73-490b-ee8e-5868e3aa5822",
        "colab": {
          "base_uri": "https://localhost:8080/",
          "height": 1108
        }
      },
      "cell_type": "code",
      "source": [
        "for c in s:\n",
        "    print(c)\n",
        "    test[c]=list(test['Password'].str.count(c))"
      ],
      "execution_count": 0,
      "outputs": [
        {
          "output_type": "stream",
          "text": [
            "a\n",
            "b\n",
            "c\n",
            "d\n",
            "e\n",
            "f\n",
            "g\n",
            "h\n",
            "i\n",
            "j\n",
            "k\n",
            "l\n",
            "m\n",
            "n\n",
            "o\n",
            "p\n",
            "q\n",
            "r\n",
            "s\n",
            "t\n",
            "u\n",
            "v\n",
            "w\n",
            "x\n",
            "y\n",
            "z\n",
            "A\n",
            "B\n",
            "C\n",
            "D\n",
            "E\n",
            "F\n",
            "G\n",
            "H\n",
            "I\n",
            "J\n",
            "K\n",
            "L\n",
            "M\n",
            "N\n",
            "O\n",
            "P\n",
            "Q\n",
            "R\n",
            "S\n",
            "T\n",
            "U\n",
            "V\n",
            "W\n",
            "X\n",
            "Y\n",
            "Z\n",
            "0\n",
            "1\n",
            "2\n",
            "3\n",
            "4\n",
            "5\n",
            "6\n",
            "7\n",
            "8\n",
            "9\n"
          ],
          "name": "stdout"
        }
      ]
    },
    {
      "metadata": {
        "id": "h2-ZvWOmOd-b",
        "colab_type": "code",
        "outputId": "b90edf8f-94a7-4ecc-ad0b-2f39989d3491",
        "colab": {
          "base_uri": "https://localhost:8080/",
          "height": 224
        }
      },
      "cell_type": "code",
      "source": [
        "test.head()"
      ],
      "execution_count": 0,
      "outputs": [
        {
          "output_type": "execute_result",
          "data": {
            "text/html": [
              "<div>\n",
              "<style scoped>\n",
              "    .dataframe tbody tr th:only-of-type {\n",
              "        vertical-align: middle;\n",
              "    }\n",
              "\n",
              "    .dataframe tbody tr th {\n",
              "        vertical-align: top;\n",
              "    }\n",
              "\n",
              "    .dataframe thead th {\n",
              "        text-align: right;\n",
              "    }\n",
              "</style>\n",
              "<table border=\"1\" class=\"dataframe\">\n",
              "  <thead>\n",
              "    <tr style=\"text-align: right;\">\n",
              "      <th></th>\n",
              "      <th>Id</th>\n",
              "      <th>Password</th>\n",
              "      <th>len</th>\n",
              "      <th>a</th>\n",
              "      <th>b</th>\n",
              "      <th>c</th>\n",
              "      <th>d</th>\n",
              "      <th>e</th>\n",
              "      <th>f</th>\n",
              "      <th>g</th>\n",
              "      <th>...</th>\n",
              "      <th>0</th>\n",
              "      <th>1</th>\n",
              "      <th>2</th>\n",
              "      <th>3</th>\n",
              "      <th>4</th>\n",
              "      <th>5</th>\n",
              "      <th>6</th>\n",
              "      <th>7</th>\n",
              "      <th>8</th>\n",
              "      <th>9</th>\n",
              "    </tr>\n",
              "  </thead>\n",
              "  <tbody>\n",
              "    <tr>\n",
              "      <th>0</th>\n",
              "      <td>0</td>\n",
              "      <td>ThaisCunha</td>\n",
              "      <td>10.0</td>\n",
              "      <td>2.0</td>\n",
              "      <td>0.0</td>\n",
              "      <td>0.0</td>\n",
              "      <td>0.0</td>\n",
              "      <td>0.0</td>\n",
              "      <td>0.0</td>\n",
              "      <td>0.0</td>\n",
              "      <td>...</td>\n",
              "      <td>0.0</td>\n",
              "      <td>0.0</td>\n",
              "      <td>0.0</td>\n",
              "      <td>0.0</td>\n",
              "      <td>0.0</td>\n",
              "      <td>0.0</td>\n",
              "      <td>0.0</td>\n",
              "      <td>0.0</td>\n",
              "      <td>0.0</td>\n",
              "      <td>0.0</td>\n",
              "    </tr>\n",
              "    <tr>\n",
              "      <th>1</th>\n",
              "      <td>1</td>\n",
              "      <td>697775113</td>\n",
              "      <td>9.0</td>\n",
              "      <td>0.0</td>\n",
              "      <td>0.0</td>\n",
              "      <td>0.0</td>\n",
              "      <td>0.0</td>\n",
              "      <td>0.0</td>\n",
              "      <td>0.0</td>\n",
              "      <td>0.0</td>\n",
              "      <td>...</td>\n",
              "      <td>0.0</td>\n",
              "      <td>2.0</td>\n",
              "      <td>0.0</td>\n",
              "      <td>1.0</td>\n",
              "      <td>0.0</td>\n",
              "      <td>1.0</td>\n",
              "      <td>1.0</td>\n",
              "      <td>3.0</td>\n",
              "      <td>0.0</td>\n",
              "      <td>1.0</td>\n",
              "    </tr>\n",
              "    <tr>\n",
              "      <th>2</th>\n",
              "      <td>2</td>\n",
              "      <td>922a16922a</td>\n",
              "      <td>10.0</td>\n",
              "      <td>2.0</td>\n",
              "      <td>0.0</td>\n",
              "      <td>0.0</td>\n",
              "      <td>0.0</td>\n",
              "      <td>0.0</td>\n",
              "      <td>0.0</td>\n",
              "      <td>0.0</td>\n",
              "      <td>...</td>\n",
              "      <td>0.0</td>\n",
              "      <td>1.0</td>\n",
              "      <td>4.0</td>\n",
              "      <td>0.0</td>\n",
              "      <td>0.0</td>\n",
              "      <td>0.0</td>\n",
              "      <td>1.0</td>\n",
              "      <td>0.0</td>\n",
              "      <td>0.0</td>\n",
              "      <td>2.0</td>\n",
              "    </tr>\n",
              "    <tr>\n",
              "      <th>3</th>\n",
              "      <td>3</td>\n",
              "      <td>andy74</td>\n",
              "      <td>6.0</td>\n",
              "      <td>1.0</td>\n",
              "      <td>0.0</td>\n",
              "      <td>0.0</td>\n",
              "      <td>1.0</td>\n",
              "      <td>0.0</td>\n",
              "      <td>0.0</td>\n",
              "      <td>0.0</td>\n",
              "      <td>...</td>\n",
              "      <td>0.0</td>\n",
              "      <td>0.0</td>\n",
              "      <td>0.0</td>\n",
              "      <td>0.0</td>\n",
              "      <td>1.0</td>\n",
              "      <td>0.0</td>\n",
              "      <td>0.0</td>\n",
              "      <td>1.0</td>\n",
              "      <td>0.0</td>\n",
              "      <td>0.0</td>\n",
              "    </tr>\n",
              "    <tr>\n",
              "      <th>4</th>\n",
              "      <td>4</td>\n",
              "      <td>joemack</td>\n",
              "      <td>7.0</td>\n",
              "      <td>1.0</td>\n",
              "      <td>0.0</td>\n",
              "      <td>1.0</td>\n",
              "      <td>0.0</td>\n",
              "      <td>1.0</td>\n",
              "      <td>0.0</td>\n",
              "      <td>0.0</td>\n",
              "      <td>...</td>\n",
              "      <td>0.0</td>\n",
              "      <td>0.0</td>\n",
              "      <td>0.0</td>\n",
              "      <td>0.0</td>\n",
              "      <td>0.0</td>\n",
              "      <td>0.0</td>\n",
              "      <td>0.0</td>\n",
              "      <td>0.0</td>\n",
              "      <td>0.0</td>\n",
              "      <td>0.0</td>\n",
              "    </tr>\n",
              "  </tbody>\n",
              "</table>\n",
              "<p>5 rows × 65 columns</p>\n",
              "</div>"
            ],
            "text/plain": [
              "   Id    Password   len    a    b    c    d    e    f    g ...     0    1  \\\n",
              "0   0  ThaisCunha  10.0  2.0  0.0  0.0  0.0  0.0  0.0  0.0 ...   0.0  0.0   \n",
              "1   1   697775113   9.0  0.0  0.0  0.0  0.0  0.0  0.0  0.0 ...   0.0  2.0   \n",
              "2   2  922a16922a  10.0  2.0  0.0  0.0  0.0  0.0  0.0  0.0 ...   0.0  1.0   \n",
              "3   3      andy74   6.0  1.0  0.0  0.0  1.0  0.0  0.0  0.0 ...   0.0  0.0   \n",
              "4   4     joemack   7.0  1.0  0.0  1.0  0.0  1.0  0.0  0.0 ...   0.0  0.0   \n",
              "\n",
              "     2    3    4    5    6    7    8    9  \n",
              "0  0.0  0.0  0.0  0.0  0.0  0.0  0.0  0.0  \n",
              "1  0.0  1.0  0.0  1.0  1.0  3.0  0.0  1.0  \n",
              "2  4.0  0.0  0.0  0.0  1.0  0.0  0.0  2.0  \n",
              "3  0.0  0.0  1.0  0.0  0.0  1.0  0.0  0.0  \n",
              "4  0.0  0.0  0.0  0.0  0.0  0.0  0.0  0.0  \n",
              "\n",
              "[5 rows x 65 columns]"
            ]
          },
          "metadata": {
            "tags": []
          },
          "execution_count": 64
        }
      ]
    },
    {
      "metadata": {
        "id": "7tq95APJzmXb",
        "colab_type": "code",
        "colab": {}
      },
      "cell_type": "code",
      "source": [
        "difficultyt=[]"
      ],
      "execution_count": 0,
      "outputs": []
    },
    {
      "metadata": {
        "id": "POQH18Sjzegf",
        "colab_type": "code",
        "colab": {}
      },
      "cell_type": "code",
      "source": [
        "for ndx, member in enumerate(test['Password']):\n",
        "   #print (member)\n",
        "   difficultyt.append(zx.zxcvbn(str(member), user_inputs=[])['guesses_log10'])\n"
      ],
      "execution_count": 0,
      "outputs": []
    },
    {
      "metadata": {
        "id": "7mE-D-22zqp6",
        "colab_type": "code",
        "colab": {}
      },
      "cell_type": "code",
      "source": [
        "test['guess']=difficultyt"
      ],
      "execution_count": 0,
      "outputs": []
    },
    {
      "metadata": {
        "id": "xU7BCh000fnm",
        "colab_type": "code",
        "colab": {}
      },
      "cell_type": "code",
      "source": [
        "test.drop(('Password'),axis=1, inplace=True)"
      ],
      "execution_count": 0,
      "outputs": []
    },
    {
      "metadata": {
        "id": "jGLkUQaq4MQh",
        "colab_type": "code",
        "colab": {}
      },
      "cell_type": "code",
      "source": [
        "test.drop(('Id'),axis=1, inplace=True)"
      ],
      "execution_count": 0,
      "outputs": []
    },
    {
      "metadata": {
        "id": "qAqdkAAfY_a-",
        "colab_type": "code",
        "colab": {}
      },
      "cell_type": "code",
      "source": [
        ""
      ],
      "execution_count": 0,
      "outputs": []
    },
    {
      "metadata": {
        "id": "Dm35UvIEUpUP",
        "colab_type": "code",
        "outputId": "dcb1f301-d59b-4676-a031-f4bc2b810962",
        "colab": {
          "base_uri": "https://localhost:8080/",
          "height": 224
        }
      },
      "cell_type": "code",
      "source": [
        "test.head()"
      ],
      "execution_count": 0,
      "outputs": [
        {
          "output_type": "execute_result",
          "data": {
            "text/html": [
              "<div>\n",
              "<style scoped>\n",
              "    .dataframe tbody tr th:only-of-type {\n",
              "        vertical-align: middle;\n",
              "    }\n",
              "\n",
              "    .dataframe tbody tr th {\n",
              "        vertical-align: top;\n",
              "    }\n",
              "\n",
              "    .dataframe thead th {\n",
              "        text-align: right;\n",
              "    }\n",
              "</style>\n",
              "<table border=\"1\" class=\"dataframe\">\n",
              "  <thead>\n",
              "    <tr style=\"text-align: right;\">\n",
              "      <th></th>\n",
              "      <th>len</th>\n",
              "      <th>a</th>\n",
              "      <th>b</th>\n",
              "      <th>c</th>\n",
              "      <th>d</th>\n",
              "      <th>e</th>\n",
              "      <th>f</th>\n",
              "      <th>g</th>\n",
              "      <th>h</th>\n",
              "      <th>i</th>\n",
              "      <th>...</th>\n",
              "      <th>1</th>\n",
              "      <th>2</th>\n",
              "      <th>3</th>\n",
              "      <th>4</th>\n",
              "      <th>5</th>\n",
              "      <th>6</th>\n",
              "      <th>7</th>\n",
              "      <th>8</th>\n",
              "      <th>9</th>\n",
              "      <th>guess</th>\n",
              "    </tr>\n",
              "  </thead>\n",
              "  <tbody>\n",
              "    <tr>\n",
              "      <th>0</th>\n",
              "      <td>10.0</td>\n",
              "      <td>2.0</td>\n",
              "      <td>0.0</td>\n",
              "      <td>0.0</td>\n",
              "      <td>0.0</td>\n",
              "      <td>0.0</td>\n",
              "      <td>0.0</td>\n",
              "      <td>0.0</td>\n",
              "      <td>2.0</td>\n",
              "      <td>1.0</td>\n",
              "      <td>...</td>\n",
              "      <td>0.0</td>\n",
              "      <td>0.0</td>\n",
              "      <td>0.0</td>\n",
              "      <td>0.0</td>\n",
              "      <td>0.0</td>\n",
              "      <td>0.0</td>\n",
              "      <td>0.0</td>\n",
              "      <td>0.0</td>\n",
              "      <td>0.0</td>\n",
              "      <td>9.010971</td>\n",
              "    </tr>\n",
              "    <tr>\n",
              "      <th>1</th>\n",
              "      <td>9.0</td>\n",
              "      <td>0.0</td>\n",
              "      <td>0.0</td>\n",
              "      <td>0.0</td>\n",
              "      <td>0.0</td>\n",
              "      <td>0.0</td>\n",
              "      <td>0.0</td>\n",
              "      <td>0.0</td>\n",
              "      <td>0.0</td>\n",
              "      <td>0.0</td>\n",
              "      <td>...</td>\n",
              "      <td>2.0</td>\n",
              "      <td>0.0</td>\n",
              "      <td>1.0</td>\n",
              "      <td>0.0</td>\n",
              "      <td>1.0</td>\n",
              "      <td>1.0</td>\n",
              "      <td>3.0</td>\n",
              "      <td>0.0</td>\n",
              "      <td>1.0</td>\n",
              "      <td>8.486586</td>\n",
              "    </tr>\n",
              "    <tr>\n",
              "      <th>2</th>\n",
              "      <td>10.0</td>\n",
              "      <td>2.0</td>\n",
              "      <td>0.0</td>\n",
              "      <td>0.0</td>\n",
              "      <td>0.0</td>\n",
              "      <td>0.0</td>\n",
              "      <td>0.0</td>\n",
              "      <td>0.0</td>\n",
              "      <td>0.0</td>\n",
              "      <td>0.0</td>\n",
              "      <td>...</td>\n",
              "      <td>1.0</td>\n",
              "      <td>4.0</td>\n",
              "      <td>0.0</td>\n",
              "      <td>0.0</td>\n",
              "      <td>0.0</td>\n",
              "      <td>1.0</td>\n",
              "      <td>0.0</td>\n",
              "      <td>0.0</td>\n",
              "      <td>2.0</td>\n",
              "      <td>9.691789</td>\n",
              "    </tr>\n",
              "    <tr>\n",
              "      <th>3</th>\n",
              "      <td>6.0</td>\n",
              "      <td>1.0</td>\n",
              "      <td>0.0</td>\n",
              "      <td>0.0</td>\n",
              "      <td>1.0</td>\n",
              "      <td>0.0</td>\n",
              "      <td>0.0</td>\n",
              "      <td>0.0</td>\n",
              "      <td>0.0</td>\n",
              "      <td>0.0</td>\n",
              "      <td>...</td>\n",
              "      <td>0.0</td>\n",
              "      <td>0.0</td>\n",
              "      <td>0.0</td>\n",
              "      <td>1.0</td>\n",
              "      <td>0.0</td>\n",
              "      <td>0.0</td>\n",
              "      <td>1.0</td>\n",
              "      <td>0.0</td>\n",
              "      <td>0.0</td>\n",
              "      <td>4.790988</td>\n",
              "    </tr>\n",
              "    <tr>\n",
              "      <th>4</th>\n",
              "      <td>7.0</td>\n",
              "      <td>1.0</td>\n",
              "      <td>0.0</td>\n",
              "      <td>1.0</td>\n",
              "      <td>0.0</td>\n",
              "      <td>1.0</td>\n",
              "      <td>0.0</td>\n",
              "      <td>0.0</td>\n",
              "      <td>0.0</td>\n",
              "      <td>0.0</td>\n",
              "      <td>...</td>\n",
              "      <td>0.0</td>\n",
              "      <td>0.0</td>\n",
              "      <td>0.0</td>\n",
              "      <td>0.0</td>\n",
              "      <td>0.0</td>\n",
              "      <td>0.0</td>\n",
              "      <td>0.0</td>\n",
              "      <td>0.0</td>\n",
              "      <td>0.0</td>\n",
              "      <td>4.630855</td>\n",
              "    </tr>\n",
              "  </tbody>\n",
              "</table>\n",
              "<p>5 rows × 64 columns</p>\n",
              "</div>"
            ],
            "text/plain": [
              "    len    a    b    c    d    e    f    g    h    i    ...       1    2    3  \\\n",
              "0  10.0  2.0  0.0  0.0  0.0  0.0  0.0  0.0  2.0  1.0    ...     0.0  0.0  0.0   \n",
              "1   9.0  0.0  0.0  0.0  0.0  0.0  0.0  0.0  0.0  0.0    ...     2.0  0.0  1.0   \n",
              "2  10.0  2.0  0.0  0.0  0.0  0.0  0.0  0.0  0.0  0.0    ...     1.0  4.0  0.0   \n",
              "3   6.0  1.0  0.0  0.0  1.0  0.0  0.0  0.0  0.0  0.0    ...     0.0  0.0  0.0   \n",
              "4   7.0  1.0  0.0  1.0  0.0  1.0  0.0  0.0  0.0  0.0    ...     0.0  0.0  0.0   \n",
              "\n",
              "     4    5    6    7    8    9     guess  \n",
              "0  0.0  0.0  0.0  0.0  0.0  0.0  9.010971  \n",
              "1  0.0  1.0  1.0  3.0  0.0  1.0  8.486586  \n",
              "2  0.0  0.0  1.0  0.0  0.0  2.0  9.691789  \n",
              "3  1.0  0.0  0.0  1.0  0.0  0.0  4.790988  \n",
              "4  0.0  0.0  0.0  0.0  0.0  0.0  4.630855  \n",
              "\n",
              "[5 rows x 64 columns]"
            ]
          },
          "metadata": {
            "tags": []
          },
          "execution_count": 88
        }
      ]
    },
    {
      "metadata": {
        "id": "mVlezO7YVPWw",
        "colab_type": "code",
        "colab": {}
      },
      "cell_type": "code",
      "source": [
        "test.to_csv('/content/gdrive/My Drive/Холдинг/Mind-set/DMIA/dmia-sport-2019-spring/data_test.csv')"
      ],
      "execution_count": 0,
      "outputs": []
    },
    {
      "metadata": {
        "id": "08NI6oHtB2GQ",
        "colab_type": "code",
        "colab": {}
      },
      "cell_type": "code",
      "source": [
        "testF=pd.read_csv('/content/gdrive/My Drive/Холдинг/Mind-set/DMIA/dmia-sport-2019-spring/data_test.csv')"
      ],
      "execution_count": 0,
      "outputs": []
    },
    {
      "metadata": {
        "id": "RlBCd3pKVi88",
        "colab_type": "code",
        "colab": {}
      },
      "cell_type": "code",
      "source": [
        "testF.fillna(0,inplace=True)"
      ],
      "execution_count": 0,
      "outputs": []
    },
    {
      "metadata": {
        "id": "XWsArAlUCD9b",
        "colab_type": "code",
        "colab": {}
      },
      "cell_type": "code",
      "source": [
        "testF=testF.drop(u'Unnamed: 0',axis=1)"
      ],
      "execution_count": 0,
      "outputs": []
    },
    {
      "metadata": {
        "id": "ZBtnNii5ZzJ8",
        "colab_type": "code",
        "colab": {}
      },
      "cell_type": "code",
      "source": [
        "testF=testF.drop(u'Y',axis=1)"
      ],
      "execution_count": 0,
      "outputs": []
    },
    {
      "metadata": {
        "id": "YJ5qVOsHZ2JG",
        "colab_type": "code",
        "colab": {}
      },
      "cell_type": "code",
      "source": [
        "testF=testF.drop(u'Times',axis=1)"
      ],
      "execution_count": 0,
      "outputs": []
    },
    {
      "metadata": {
        "id": "Z-PomE93EViQ",
        "colab_type": "code",
        "outputId": "46141bf3-d622-4dac-d472-92bad6e32b4f",
        "colab": {
          "base_uri": "https://localhost:8080/",
          "height": 34
        }
      },
      "cell_type": "code",
      "source": [
        "testF.shape"
      ],
      "execution_count": 0,
      "outputs": [
        {
          "output_type": "execute_result",
          "data": {
            "text/plain": [
              "(1037875, 65)"
            ]
          },
          "metadata": {
            "tags": []
          },
          "execution_count": 290
        }
      ]
    },
    {
      "metadata": {
        "id": "EiPPPL2bYkKv",
        "colab_type": "code",
        "outputId": "1f4cfe3b-7fa3-41d6-8812-99023ee07407",
        "colab": {
          "base_uri": "https://localhost:8080/",
          "height": 140
        }
      },
      "cell_type": "code",
      "source": [
        "test.columns"
      ],
      "execution_count": 0,
      "outputs": [
        {
          "output_type": "execute_result",
          "data": {
            "text/plain": [
              "Index([u'Unnamed: 0', u'len', u'a', u'b', u'c', u'd', u'e', u'f', u'g', u'h',\n",
              "       u'i', u'j', u'k', u'l', u'm', u'n', u'o', u'p', u'q', u'r', u's', u't',\n",
              "       u'u', u'v', u'w', u'x', u'y', u'z', u'A', u'B', u'C', u'D', u'E', u'F',\n",
              "       u'G', u'H', u'I', u'J', u'K', u'L', u'M', u'N', u'O', u'P', u'Q', u'R',\n",
              "       u'S', u'T', u'U', u'V', u'W', u'X', u'Y', u'Z', u'0', u'1', u'2', u'3',\n",
              "       u'4', u'5', u'6', u'7', u'8', u'9', u'guess'],\n",
              "      dtype='object')"
            ]
          },
          "metadata": {
            "tags": []
          },
          "execution_count": 122
        }
      ]
    },
    {
      "metadata": {
        "id": "ku8lbjToYtQ9",
        "colab_type": "code",
        "outputId": "340f93da-01ec-4ad8-a10a-e73dbd464d94",
        "colab": {
          "base_uri": "https://localhost:8080/",
          "height": 334
        }
      },
      "cell_type": "code",
      "source": [
        "data_trained.columns"
      ],
      "execution_count": 0,
      "outputs": [
        {
          "output_type": "execute_result",
          "data": {
            "text/plain": [
              "Index([u'Unnamed: 0',        u'len',          u'a',          u'b',\n",
              "                u'c',          u'd',          u'e',          u'f',\n",
              "                u'g',          u'h',          u'i',          u'j',\n",
              "                u'k',          u'l',          u'm',          u'n',\n",
              "                u'o',          u'p',          u'q',          u'r',\n",
              "                u's',          u't',          u'u',          u'v',\n",
              "                u'w',          u'x',          u'y',          u'z',\n",
              "                u'A',          u'B',          u'C',          u'D',\n",
              "                u'E',          u'F',          u'G',          u'H',\n",
              "                u'I',          u'J',          u'K',          u'L',\n",
              "                u'M',          u'N',          u'O',          u'P',\n",
              "                u'Q',          u'R',          u'S',          u'T',\n",
              "                u'U',          u'V',          u'W',          u'X',\n",
              "                u'Y',          u'Z',          u'0',          u'1',\n",
              "                u'2',          u'3',          u'4',          u'5',\n",
              "                u'6',          u'7',          u'8',          u'9',\n",
              "            u'guess'],\n",
              "      dtype='object')"
            ]
          },
          "metadata": {
            "tags": []
          },
          "execution_count": 90
        }
      ]
    },
    {
      "metadata": {
        "id": "m7LE_Jn40lQM",
        "colab_type": "code",
        "colab": {}
      },
      "cell_type": "code",
      "source": [
        "dtestF = xgboost.DMatrix(testF, missing=0, nthread=-1)"
      ],
      "execution_count": 0,
      "outputs": []
    },
    {
      "metadata": {
        "id": "QxT2GJmrQf5N",
        "colab_type": "code",
        "colab": {}
      },
      "cell_type": "code",
      "source": [
        "testF=testF.drop('Times',axis=1)"
      ],
      "execution_count": 0,
      "outputs": []
    },
    {
      "metadata": {
        "id": "wPeL5FL6QKWp",
        "colab_type": "code",
        "colab": {}
      },
      "cell_type": "code",
      "source": [
        "testF['Times']=regr.predict(testF)"
      ],
      "execution_count": 0,
      "outputs": []
    },
    {
      "metadata": {
        "id": "NAd9lZEcaNhs",
        "colab_type": "code",
        "outputId": "871eb050-64c6-4dbd-be92-a2f04714e64e",
        "colab": {
          "base_uri": "https://localhost:8080/",
          "height": 286
        }
      },
      "cell_type": "code",
      "source": [
        "testF['Times'].plot()"
      ],
      "execution_count": 0,
      "outputs": [
        {
          "output_type": "execute_result",
          "data": {
            "text/plain": [
              "<matplotlib.axes._subplots.AxesSubplot at 0x7f7121ba5190>"
            ]
          },
          "metadata": {
            "tags": []
          },
          "execution_count": 306
        },
        {
          "output_type": "display_data",
          "data": {
            "image/png": "[encoded data removed]",
            "text/plain": [
              "<Figure size 432x288 with 1 Axes>"
            ]
          },
          "metadata": {
            "tags": []
          }
        }
      ]
    },
    {
      "metadata": {
        "id": "yW7PNOFjYBc1",
        "colab_type": "code",
        "outputId": "9244a484-c4af-4d2e-f552-4df3f4f974a5",
        "colab": {
          "base_uri": "https://localhost:8080/",
          "height": 1143
        }
      },
      "cell_type": "code",
      "source": [
        "dtest.feature_names"
      ],
      "execution_count": 0,
      "outputs": [
        {
          "output_type": "execute_result",
          "data": {
            "text/plain": [
              "[u'len',\n",
              " u'a',\n",
              " u'b',\n",
              " u'c',\n",
              " u'd',\n",
              " u'e',\n",
              " u'f',\n",
              " u'g',\n",
              " u'h',\n",
              " u'i',\n",
              " u'j',\n",
              " u'k',\n",
              " u'l',\n",
              " u'm',\n",
              " u'n',\n",
              " u'o',\n",
              " u'p',\n",
              " u'q',\n",
              " u'r',\n",
              " u's',\n",
              " u't',\n",
              " u'u',\n",
              " u'v',\n",
              " u'w',\n",
              " u'x',\n",
              " u'y',\n",
              " u'z',\n",
              " u'A',\n",
              " u'B',\n",
              " u'C',\n",
              " u'D',\n",
              " u'E',\n",
              " u'F',\n",
              " u'G',\n",
              " u'H',\n",
              " u'I',\n",
              " u'J',\n",
              " u'K',\n",
              " u'L',\n",
              " u'M',\n",
              " u'N',\n",
              " u'O',\n",
              " u'P',\n",
              " u'Q',\n",
              " u'R',\n",
              " u'S',\n",
              " u'T',\n",
              " u'U',\n",
              " u'V',\n",
              " u'W',\n",
              " u'X',\n",
              " u'Y',\n",
              " u'Z',\n",
              " u'0',\n",
              " u'1',\n",
              " u'2',\n",
              " u'3',\n",
              " u'4',\n",
              " u'5',\n",
              " u'6',\n",
              " u'7',\n",
              " u'8',\n",
              " u'9',\n",
              " u'guess']"
            ]
          },
          "metadata": {
            "tags": []
          },
          "execution_count": 155
        }
      ]
    },
    {
      "metadata": {
        "id": "3qzEJHoq0eD3",
        "colab_type": "code",
        "colab": {}
      },
      "cell_type": "code",
      "source": [
        ""
      ],
      "execution_count": 0,
      "outputs": []
    },
    {
      "metadata": {
        "id": "uxikASSI0N9u",
        "colab_type": "code",
        "outputId": "070c6f4e-acbe-47d9-9ec6-d679b8ad05f9",
        "colab": {
          "base_uri": "https://localhost:8080/",
          "height": 2252
        }
      },
      "cell_type": "code",
      "source": [
        "testF.head"
      ],
      "execution_count": 0,
      "outputs": [
        {
          "output_type": "execute_result",
          "data": {
            "text/plain": [
              "<bound method DataFrame.head of           len    a    b    c    d    e    f    g    h    i    ...        1  \\\n",
              "0        10.0  2.0  0.0  0.0  0.0  0.0  0.0  0.0  2.0  1.0    ...      0.0   \n",
              "1         9.0  0.0  0.0  0.0  0.0  0.0  0.0  0.0  0.0  0.0    ...      2.0   \n",
              "2        10.0  2.0  0.0  0.0  0.0  0.0  0.0  0.0  0.0  0.0    ...      1.0   \n",
              "3         6.0  1.0  0.0  0.0  1.0  0.0  0.0  0.0  0.0  0.0    ...      0.0   \n",
              "4         7.0  1.0  0.0  1.0  0.0  1.0  0.0  0.0  0.0  0.0    ...      0.0   \n",
              "5        11.0  1.0  0.0  0.0  1.0  0.0  0.0  0.0  0.0  1.0    ...      0.0   \n",
              "6         6.0  1.0  0.0  0.0  0.0  0.0  0.0  0.0  0.0  0.0    ...      0.0   \n",
              "7         6.0  1.0  0.0  0.0  0.0  1.0  0.0  0.0  1.0  0.0    ...      0.0   \n",
              "8         9.0  1.0  0.0  0.0  0.0  1.0  0.0  0.0  0.0  0.0    ...      0.0   \n",
              "9         9.0  1.0  0.0  0.0  0.0  0.0  0.0  0.0  0.0  0.0    ...      2.0   \n",
              "10       12.0  0.0  0.0  0.0  0.0  0.0  0.0  0.0  0.0  0.0    ...      2.0   \n",
              "11        9.0  1.0  0.0  0.0  0.0  2.0  1.0  0.0  0.0  0.0    ...      1.0   \n",
              "12        8.0  1.0  0.0  0.0  0.0  0.0  0.0  0.0  0.0  1.0    ...      2.0   \n",
              "13       13.0  0.0  0.0  0.0  0.0  1.0  0.0  0.0  0.0  1.0    ...      0.0   \n",
              "14        8.0  0.0  0.0  0.0  1.0  1.0  0.0  1.0  0.0  1.0    ...      0.0   \n",
              "15        6.0  0.0  0.0  1.0  0.0  2.0  0.0  0.0  0.0  0.0    ...      0.0   \n",
              "16       10.0  0.0  0.0  0.0  2.0  1.0  1.0  0.0  0.0  0.0    ...      2.0   \n",
              "17        7.0  0.0  0.0  0.0  0.0  1.0  1.0  0.0  0.0  1.0    ...      0.0   \n",
              "18        6.0  1.0  0.0  0.0  0.0  1.0  0.0  0.0  0.0  0.0    ...      0.0   \n",
              "19        8.0  0.0  0.0  0.0  0.0  0.0  0.0  0.0  0.0  0.0    ...      0.0   \n",
              "20       12.0  1.0  0.0  0.0  1.0  1.0  0.0  1.0  0.0  1.0    ...      0.0   \n",
              "21       12.0  1.0  2.0  0.0  0.0  2.0  0.0  0.0  0.0  0.0    ...      0.0   \n",
              "22        7.0  1.0  0.0  0.0  0.0  0.0  0.0  0.0  0.0  0.0    ...      1.0   \n",
              "23        7.0  0.0  0.0  0.0  0.0  1.0  0.0  0.0  0.0  1.0    ...      0.0   \n",
              "24        8.0  0.0  1.0  0.0  0.0  0.0  0.0  0.0  0.0  1.0    ...      0.0   \n",
              "25        7.0  0.0  0.0  0.0  0.0  0.0  0.0  0.0  0.0  0.0    ...      2.0   \n",
              "26        7.0  1.0  1.0  1.0  0.0  1.0  0.0  0.0  1.0  0.0    ...      0.0   \n",
              "27        8.0  0.0  0.0  1.0  0.0  0.0  0.0  0.0  0.0  1.0    ...      0.0   \n",
              "28       17.0  1.0  0.0  0.0  1.0  2.0  1.0  0.0  0.0  1.0    ...      0.0   \n",
              "29        9.0  1.0  1.0  0.0  0.0  1.0  0.0  0.0  0.0  0.0    ...      1.0   \n",
              "...       ...  ...  ...  ...  ...  ...  ...  ...  ...  ...    ...      ...   \n",
              "1037845   7.0  1.0  0.0  0.0  0.0  0.0  0.0  0.0  0.0  1.0    ...      0.0   \n",
              "1037846   8.0  1.0  0.0  0.0  0.0  2.0  0.0  0.0  2.0  0.0    ...      0.0   \n",
              "1037847   8.0  1.0  2.0  0.0  0.0  0.0  0.0  0.0  0.0  0.0    ...      0.0   \n",
              "1037848   6.0  0.0  0.0  0.0  0.0  1.0  0.0  0.0  0.0  1.0    ...      0.0   \n",
              "1037849   8.0  0.0  0.0  0.0  0.0  0.0  0.0  0.0  0.0  0.0    ...      0.0   \n",
              "1037850   9.0  0.0  0.0  0.0  0.0  1.0  0.0  0.0  0.0  0.0    ...      1.0   \n",
              "1037851   8.0  1.0  1.0  1.0  1.0  0.0  0.0  0.0  0.0  0.0    ...      1.0   \n",
              "1037852   8.0  0.0  0.0  0.0  0.0  0.0  0.0  0.0  0.0  0.0    ...      0.0   \n",
              "1037853   7.0  2.0  0.0  0.0  3.0  0.0  0.0  0.0  0.0  0.0    ...      0.0   \n",
              "1037854   8.0  0.0  0.0  0.0  0.0  0.0  0.0  0.0  0.0  0.0    ...      2.0   \n",
              "1037855   6.0  0.0  0.0  0.0  1.0  0.0  0.0  0.0  0.0  1.0    ...      0.0   \n",
              "1037856   6.0  0.0  0.0  0.0  0.0  0.0  0.0  0.0  0.0  0.0    ...      1.0   \n",
              "1037857   7.0  0.0  0.0  0.0  0.0  0.0  0.0  0.0  0.0  0.0    ...      1.0   \n",
              "1037858   8.0  1.0  1.0  0.0  0.0  0.0  2.0  0.0  0.0  0.0    ...      0.0   \n",
              "1037859   8.0  0.0  0.0  0.0  0.0  0.0  0.0  0.0  0.0  0.0    ...      2.0   \n",
              "1037860   8.0  2.0  0.0  0.0  0.0  0.0  0.0  0.0  0.0  0.0    ...      0.0   \n",
              "1037861   8.0  1.0  0.0  0.0  1.0  0.0  1.0  0.0  0.0  0.0    ...      0.0   \n",
              "1037862   8.0  0.0  0.0  0.0  0.0  0.0  0.0  0.0  0.0  0.0    ...      0.0   \n",
              "1037863   6.0  1.0  0.0  0.0  0.0  1.0  1.0  0.0  1.0  0.0    ...      0.0   \n",
              "1037864   8.0  0.0  0.0  0.0  2.0  0.0  0.0  0.0  0.0  0.0    ...      0.0   \n",
              "1037865   9.0  0.0  0.0  0.0  0.0  1.0  0.0  1.0  1.0  0.0    ...      0.0   \n",
              "1037866   8.0  0.0  0.0  0.0  0.0  1.0  3.0  0.0  0.0  2.0    ...      0.0   \n",
              "1037867   7.0  0.0  0.0  0.0  1.0  2.0  0.0  0.0  0.0  1.0    ...      0.0   \n",
              "1037868  10.0  1.0  1.0  1.0  0.0  0.0  0.0  0.0  0.0  2.0    ...      0.0   \n",
              "1037869   6.0  2.0  0.0  0.0  0.0  0.0  0.0  0.0  0.0  0.0    ...      0.0   \n",
              "1037870   6.0  0.0  0.0  0.0  0.0  0.0  0.0  0.0  0.0  0.0    ...      0.0   \n",
              "1037871   6.0  0.0  0.0  0.0  0.0  0.0  0.0  0.0  0.0  0.0    ...      0.0   \n",
              "1037872   9.0  0.0  1.0  0.0  0.0  2.0  0.0  2.0  0.0  1.0    ...      0.0   \n",
              "1037873   8.0  0.0  0.0  0.0  0.0  0.0  0.0  0.0  0.0  0.0    ...      0.0   \n",
              "1037874   8.0  2.0  0.0  0.0  0.0  0.0  0.0  0.0  0.0  0.0    ...      0.0   \n",
              "\n",
              "           2    3    4    5    6    7    8    9      guess  \n",
              "0        0.0  0.0  0.0  0.0  0.0  0.0  0.0  0.0   9.010971  \n",
              "1        0.0  1.0  0.0  1.0  1.0  3.0  0.0  1.0   8.486586  \n",
              "2        4.0  0.0  0.0  0.0  1.0  0.0  0.0  2.0   9.691789  \n",
              "3        0.0  0.0  1.0  0.0  0.0  1.0  0.0  0.0   4.790988  \n",
              "4        0.0  0.0  0.0  0.0  0.0  0.0  0.0  0.0   4.630855  \n",
              "5        1.0  0.0  2.0  0.0  0.0  0.0  1.0  0.0   8.093737  \n",
              "6        0.0  0.0  0.0  0.0  0.0  0.0  0.0  0.0   4.990339  \n",
              "7        0.0  0.0  0.0  0.0  0.0  0.0  0.0  0.0   6.000000  \n",
              "8        0.0  1.0  0.0  0.0  0.0  1.0  0.0  0.0   9.000000  \n",
              "9        0.0  0.0  0.0  0.0  0.0  1.0  1.0  2.0   5.498504  \n",
              "10       1.0  0.0  0.0  0.0  1.0  0.0  0.0  1.0  10.294687  \n",
              "11       0.0  1.0  0.0  0.0  0.0  0.0  0.0  0.0   8.416707  \n",
              "12       0.0  0.0  0.0  0.0  1.0  0.0  0.0  1.0   5.527393  \n",
              "13       0.0  2.0  0.0  0.0  1.0  1.0  0.0  0.0  13.000000  \n",
              "14       0.0  0.0  0.0  0.0  0.0  0.0  0.0  0.0   6.833478  \n",
              "15       0.0  0.0  0.0  0.0  0.0  0.0  0.0  0.0   4.825088  \n",
              "16       0.0  2.0  0.0  0.0  0.0  0.0  0.0  0.0   5.102969  \n",
              "17       0.0  0.0  0.0  0.0  0.0  0.0  0.0  0.0   4.703197  \n",
              "18       0.0  0.0  0.0  0.0  0.0  0.0  0.0  0.0   6.000000  \n",
              "19       1.0  0.0  0.0  2.0  0.0  1.0  2.0  2.0   7.333468  \n",
              "20       2.0  1.0  0.0  0.0  0.0  0.0  1.0  0.0   7.963534  \n",
              "21       0.0  0.0  0.0  0.0  1.0  0.0  0.0  1.0  11.648750  \n",
              "22       0.0  0.0  0.0  0.0  0.0  0.0  0.0  1.0   6.469822  \n",
              "23       0.0  0.0  0.0  0.0  0.0  0.0  0.0  0.0   3.606489  \n",
              "24       0.0  0.0  0.0  0.0  0.0  0.0  0.0  0.0   5.661623  \n",
              "25       0.0  0.0  0.0  1.0  1.0  0.0  1.0  1.0   6.167317  \n",
              "26       2.0  0.0  0.0  0.0  0.0  0.0  0.0  0.0   4.960946  \n",
              "27       2.0  0.0  0.0  0.0  0.0  1.0  1.0  0.0   8.000000  \n",
              "28       0.0  0.0  0.0  2.0  0.0  2.0  0.0  0.0  11.000000  \n",
              "29       0.0  0.0  1.0  0.0  0.0  1.0  0.0  1.0   6.648204  \n",
              "...      ...  ...  ...  ...  ...  ...  ...  ...        ...  \n",
              "1037845  0.0  0.0  0.0  0.0  0.0  0.0  1.0  0.0   7.000000  \n",
              "1037846  0.0  0.0  0.0  0.0  0.0  0.0  0.0  0.0   4.047898  \n",
              "1037847  0.0  0.0  0.0  0.0  0.0  0.0  0.0  1.0   5.009366  \n",
              "1037848  0.0  1.0  0.0  0.0  0.0  0.0  0.0  0.0   6.000000  \n",
              "1037849  3.0  0.0  1.0  0.0  0.0  0.0  0.0  0.0   7.164650  \n",
              "1037850  1.0  0.0  0.0  0.0  0.0  2.0  0.0  0.0   7.535547  \n",
              "1037851  0.0  0.0  0.0  0.0  0.0  0.0  0.0  0.0   8.000000  \n",
              "1037852  1.0  0.0  1.0  0.0  0.0  0.0  1.0  0.0   8.000000  \n",
              "1037853  0.0  0.0  0.0  0.0  0.0  0.0  0.0  0.0   7.000000  \n",
              "1037854  0.0  0.0  0.0  0.0  2.0  0.0  1.0  1.0   5.605811  \n",
              "1037855  1.0  0.0  0.0  0.0  0.0  1.0  0.0  0.0   6.000000  \n",
              "1037856  0.0  0.0  0.0  1.0  1.0  0.0  1.0  1.0   5.698822  \n",
              "1037857  0.0  1.0  1.0  0.0  0.0  2.0  1.0  1.0   6.013680  \n",
              "1037858  0.0  0.0  0.0  1.0  1.0  0.0  0.0  0.0   7.151370  \n",
              "1037859  2.0  0.0  2.0  0.0  0.0  0.0  1.0  1.0   6.370328  \n",
              "1037860  0.0  0.0  0.0  0.0  0.0  0.0  0.0  0.0   8.000000  \n",
              "1037861  0.0  0.0  0.0  0.0  1.0  0.0  0.0  0.0   8.000000  \n",
              "1037862  0.0  0.0  0.0  0.0  0.0  0.0  0.0  0.0   6.389166  \n",
              "1037863  0.0  0.0  0.0  0.0  0.0  0.0  0.0  0.0   6.000000  \n",
              "1037864  0.0  0.0  0.0  0.0  0.0  0.0  0.0  0.0   8.000000  \n",
              "1037865  0.0  0.0  0.0  0.0  0.0  1.0  0.0  0.0   8.000043  \n",
              "1037866  0.0  0.0  0.0  0.0  0.0  0.0  0.0  0.0   8.000000  \n",
              "1037867  0.0  0.0  0.0  0.0  0.0  0.0  0.0  0.0   4.974051  \n",
              "1037868  0.0  1.0  0.0  0.0  0.0  0.0  0.0  0.0   4.976047  \n",
              "1037869  0.0  0.0  0.0  0.0  0.0  0.0  0.0  0.0   6.000000  \n",
              "1037870  0.0  3.0  0.0  0.0  0.0  0.0  0.0  0.0   5.041393  \n",
              "1037871  0.0  0.0  0.0  0.0  0.0  0.0  0.0  0.0   5.155336  \n",
              "1037872  0.0  0.0  0.0  0.0  0.0  0.0  0.0  0.0   5.041393  \n",
              "1037873  0.0  0.0  0.0  0.0  0.0  0.0  0.0  0.0   8.000000  \n",
              "1037874  1.0  1.0  0.0  0.0  0.0  0.0  0.0  0.0   8.000000  \n",
              "\n",
              "[1037875 rows x 64 columns]>"
            ]
          },
          "metadata": {
            "tags": []
          },
          "execution_count": 211
        }
      ]
    },
    {
      "metadata": {
        "id": "i4_LftfbOd-o",
        "colab_type": "code",
        "outputId": "5ba6c66c-f6d6-48ed-b65b-eff5b3f486ae",
        "colab": {
          "base_uri": "https://localhost:8080/",
          "height": 224
        }
      },
      "cell_type": "code",
      "source": [
        "testF.head()"
      ],
      "execution_count": 0,
      "outputs": [
        {
          "output_type": "execute_result",
          "data": {
            "text/html": [
              "<div>\n",
              "<style scoped>\n",
              "    .dataframe tbody tr th:only-of-type {\n",
              "        vertical-align: middle;\n",
              "    }\n",
              "\n",
              "    .dataframe tbody tr th {\n",
              "        vertical-align: top;\n",
              "    }\n",
              "\n",
              "    .dataframe thead th {\n",
              "        text-align: right;\n",
              "    }\n",
              "</style>\n",
              "<table border=\"1\" class=\"dataframe\">\n",
              "  <thead>\n",
              "    <tr style=\"text-align: right;\">\n",
              "      <th></th>\n",
              "      <th>len</th>\n",
              "      <th>a</th>\n",
              "      <th>b</th>\n",
              "      <th>c</th>\n",
              "      <th>d</th>\n",
              "      <th>e</th>\n",
              "      <th>f</th>\n",
              "      <th>g</th>\n",
              "      <th>h</th>\n",
              "      <th>i</th>\n",
              "      <th>...</th>\n",
              "      <th>2</th>\n",
              "      <th>3</th>\n",
              "      <th>4</th>\n",
              "      <th>5</th>\n",
              "      <th>6</th>\n",
              "      <th>7</th>\n",
              "      <th>8</th>\n",
              "      <th>9</th>\n",
              "      <th>guess</th>\n",
              "      <th>Times</th>\n",
              "    </tr>\n",
              "  </thead>\n",
              "  <tbody>\n",
              "    <tr>\n",
              "      <th>0</th>\n",
              "      <td>10.0</td>\n",
              "      <td>2.0</td>\n",
              "      <td>0.0</td>\n",
              "      <td>0.0</td>\n",
              "      <td>0.0</td>\n",
              "      <td>0.0</td>\n",
              "      <td>0.0</td>\n",
              "      <td>0.0</td>\n",
              "      <td>2.0</td>\n",
              "      <td>1.0</td>\n",
              "      <td>...</td>\n",
              "      <td>0.0</td>\n",
              "      <td>0.0</td>\n",
              "      <td>0.0</td>\n",
              "      <td>0.0</td>\n",
              "      <td>0.0</td>\n",
              "      <td>0.0</td>\n",
              "      <td>0.0</td>\n",
              "      <td>0.0</td>\n",
              "      <td>9.010971</td>\n",
              "      <td>1.0</td>\n",
              "    </tr>\n",
              "    <tr>\n",
              "      <th>1</th>\n",
              "      <td>9.0</td>\n",
              "      <td>0.0</td>\n",
              "      <td>0.0</td>\n",
              "      <td>0.0</td>\n",
              "      <td>0.0</td>\n",
              "      <td>0.0</td>\n",
              "      <td>0.0</td>\n",
              "      <td>0.0</td>\n",
              "      <td>0.0</td>\n",
              "      <td>0.0</td>\n",
              "      <td>...</td>\n",
              "      <td>0.0</td>\n",
              "      <td>1.0</td>\n",
              "      <td>0.0</td>\n",
              "      <td>1.0</td>\n",
              "      <td>1.0</td>\n",
              "      <td>3.0</td>\n",
              "      <td>0.0</td>\n",
              "      <td>1.0</td>\n",
              "      <td>8.486586</td>\n",
              "      <td>1.0</td>\n",
              "    </tr>\n",
              "    <tr>\n",
              "      <th>2</th>\n",
              "      <td>10.0</td>\n",
              "      <td>2.0</td>\n",
              "      <td>0.0</td>\n",
              "      <td>0.0</td>\n",
              "      <td>0.0</td>\n",
              "      <td>0.0</td>\n",
              "      <td>0.0</td>\n",
              "      <td>0.0</td>\n",
              "      <td>0.0</td>\n",
              "      <td>0.0</td>\n",
              "      <td>...</td>\n",
              "      <td>4.0</td>\n",
              "      <td>0.0</td>\n",
              "      <td>0.0</td>\n",
              "      <td>0.0</td>\n",
              "      <td>1.0</td>\n",
              "      <td>0.0</td>\n",
              "      <td>0.0</td>\n",
              "      <td>2.0</td>\n",
              "      <td>9.691789</td>\n",
              "      <td>1.0</td>\n",
              "    </tr>\n",
              "    <tr>\n",
              "      <th>3</th>\n",
              "      <td>6.0</td>\n",
              "      <td>1.0</td>\n",
              "      <td>0.0</td>\n",
              "      <td>0.0</td>\n",
              "      <td>1.0</td>\n",
              "      <td>0.0</td>\n",
              "      <td>0.0</td>\n",
              "      <td>0.0</td>\n",
              "      <td>0.0</td>\n",
              "      <td>0.0</td>\n",
              "      <td>...</td>\n",
              "      <td>0.0</td>\n",
              "      <td>0.0</td>\n",
              "      <td>1.0</td>\n",
              "      <td>0.0</td>\n",
              "      <td>0.0</td>\n",
              "      <td>1.0</td>\n",
              "      <td>0.0</td>\n",
              "      <td>0.0</td>\n",
              "      <td>4.790988</td>\n",
              "      <td>1.0</td>\n",
              "    </tr>\n",
              "    <tr>\n",
              "      <th>4</th>\n",
              "      <td>7.0</td>\n",
              "      <td>1.0</td>\n",
              "      <td>0.0</td>\n",
              "      <td>1.0</td>\n",
              "      <td>0.0</td>\n",
              "      <td>1.0</td>\n",
              "      <td>0.0</td>\n",
              "      <td>0.0</td>\n",
              "      <td>0.0</td>\n",
              "      <td>0.0</td>\n",
              "      <td>...</td>\n",
              "      <td>0.0</td>\n",
              "      <td>0.0</td>\n",
              "      <td>0.0</td>\n",
              "      <td>0.0</td>\n",
              "      <td>0.0</td>\n",
              "      <td>0.0</td>\n",
              "      <td>0.0</td>\n",
              "      <td>0.0</td>\n",
              "      <td>4.630855</td>\n",
              "      <td>1.0</td>\n",
              "    </tr>\n",
              "  </tbody>\n",
              "</table>\n",
              "<p>5 rows × 65 columns</p>\n",
              "</div>"
            ],
            "text/plain": [
              "    len    a    b    c    d    e    f    g    h    i  ...      2    3    4  \\\n",
              "0  10.0  2.0  0.0  0.0  0.0  0.0  0.0  0.0  2.0  1.0  ...    0.0  0.0  0.0   \n",
              "1   9.0  0.0  0.0  0.0  0.0  0.0  0.0  0.0  0.0  0.0  ...    0.0  1.0  0.0   \n",
              "2  10.0  2.0  0.0  0.0  0.0  0.0  0.0  0.0  0.0  0.0  ...    4.0  0.0  0.0   \n",
              "3   6.0  1.0  0.0  0.0  1.0  0.0  0.0  0.0  0.0  0.0  ...    0.0  0.0  1.0   \n",
              "4   7.0  1.0  0.0  1.0  0.0  1.0  0.0  0.0  0.0  0.0  ...    0.0  0.0  0.0   \n",
              "\n",
              "     5    6    7    8    9     guess  Times  \n",
              "0  0.0  0.0  0.0  0.0  0.0  9.010971    1.0  \n",
              "1  1.0  1.0  3.0  0.0  1.0  8.486586    1.0  \n",
              "2  0.0  1.0  0.0  0.0  2.0  9.691789    1.0  \n",
              "3  0.0  0.0  1.0  0.0  0.0  4.790988    1.0  \n",
              "4  0.0  0.0  0.0  0.0  0.0  4.630855    1.0  \n",
              "\n",
              "[5 rows x 65 columns]"
            ]
          },
          "metadata": {
            "tags": []
          },
          "execution_count": 258
        }
      ]
    },
    {
      "metadata": {
        "id": "NhlAQM9HOd-u",
        "colab_type": "code",
        "colab": {}
      },
      "cell_type": "code",
      "source": [
        ""
      ],
      "execution_count": 0,
      "outputs": []
    },
    {
      "metadata": {
        "id": "yjT_j7KPOd-3",
        "colab_type": "code",
        "colab": {}
      },
      "cell_type": "code",
      "source": [
        "test.head()"
      ],
      "execution_count": 0,
      "outputs": []
    },
    {
      "metadata": {
        "id": "wADtVBXSOd--",
        "colab_type": "code",
        "colab": {}
      },
      "cell_type": "code",
      "source": [
        ""
      ],
      "execution_count": 0,
      "outputs": []
    },
    {
      "metadata": {
        "id": "isxPMiUAOd_F",
        "colab_type": "code",
        "colab": {}
      },
      "cell_type": "code",
      "source": [
        "#test['Times']=rr100.predict(test)"
      ],
      "execution_count": 0,
      "outputs": []
    },
    {
      "metadata": {
        "id": "hVVeQDQoX2sS",
        "colab_type": "code",
        "outputId": "40d91cda-46f4-4994-c339-ea162dcaf5a0",
        "colab": {
          "base_uri": "https://localhost:8080/",
          "height": 924
        }
      },
      "cell_type": "code",
      "source": [
        "test['Times']"
      ],
      "execution_count": 0,
      "outputs": [
        {
          "output_type": "error",
          "ename": "KeyError",
          "evalue": "ignored",
          "traceback": [
            "\u001b[0;31m\u001b[0m",
            "\u001b[0;31mKeyError\u001b[0mTraceback (most recent call last)",
            "\u001b[0;32m<ipython-input-82-6dc192e30a53>\u001b[0m in \u001b[0;36m<module>\u001b[0;34m()\u001b[0m\n\u001b[0;32m----> 1\u001b[0;31m \u001b[0mtest\u001b[0m\u001b[0;34m[\u001b[0m\u001b[0;34m'Times'\u001b[0m\u001b[0;34m]\u001b[0m\u001b[0;34m\u001b[0m\u001b[0m\n\u001b[0m",
            "\u001b[0;32m/usr/local/lib/python2.7/dist-packages/pandas/core/frame.pyc\u001b[0m in \u001b[0;36m__getitem__\u001b[0;34m(self, key)\u001b[0m\n\u001b[1;32m   2137\u001b[0m             \u001b[0;32mreturn\u001b[0m \u001b[0mself\u001b[0m\u001b[0;34m.\u001b[0m\u001b[0m_getitem_multilevel\u001b[0m\u001b[0;34m(\u001b[0m\u001b[0mkey\u001b[0m\u001b[0;34m)\u001b[0m\u001b[0;34m\u001b[0m\u001b[0m\n\u001b[1;32m   2138\u001b[0m         \u001b[0;32melse\u001b[0m\u001b[0;34m:\u001b[0m\u001b[0;34m\u001b[0m\u001b[0m\n\u001b[0;32m-> 2139\u001b[0;31m             \u001b[0;32mreturn\u001b[0m \u001b[0mself\u001b[0m\u001b[0;34m.\u001b[0m\u001b[0m_getitem_column\u001b[0m\u001b[0;34m(\u001b[0m\u001b[0mkey\u001b[0m\u001b[0;34m)\u001b[0m\u001b[0;34m\u001b[0m\u001b[0m\n\u001b[0m\u001b[1;32m   2140\u001b[0m \u001b[0;34m\u001b[0m\u001b[0m\n\u001b[1;32m   2141\u001b[0m     \u001b[0;32mdef\u001b[0m \u001b[0m_getitem_column\u001b[0m\u001b[0;34m(\u001b[0m\u001b[0mself\u001b[0m\u001b[0;34m,\u001b[0m \u001b[0mkey\u001b[0m\u001b[0;34m)\u001b[0m\u001b[0;34m:\u001b[0m\u001b[0;34m\u001b[0m\u001b[0m\n",
            "\u001b[0;32m/usr/local/lib/python2.7/dist-packages/pandas/core/frame.pyc\u001b[0m in \u001b[0;36m_getitem_column\u001b[0;34m(self, key)\u001b[0m\n\u001b[1;32m   2144\u001b[0m         \u001b[0;31m# get column\u001b[0m\u001b[0;34m\u001b[0m\u001b[0;34m\u001b[0m\u001b[0m\n\u001b[1;32m   2145\u001b[0m         \u001b[0;32mif\u001b[0m \u001b[0mself\u001b[0m\u001b[0;34m.\u001b[0m\u001b[0mcolumns\u001b[0m\u001b[0;34m.\u001b[0m\u001b[0mis_unique\u001b[0m\u001b[0;34m:\u001b[0m\u001b[0;34m\u001b[0m\u001b[0m\n\u001b[0;32m-> 2146\u001b[0;31m             \u001b[0;32mreturn\u001b[0m \u001b[0mself\u001b[0m\u001b[0;34m.\u001b[0m\u001b[0m_get_item_cache\u001b[0m\u001b[0;34m(\u001b[0m\u001b[0mkey\u001b[0m\u001b[0;34m)\u001b[0m\u001b[0;34m\u001b[0m\u001b[0m\n\u001b[0m\u001b[1;32m   2147\u001b[0m \u001b[0;34m\u001b[0m\u001b[0m\n\u001b[1;32m   2148\u001b[0m         \u001b[0;31m# duplicate columns & possible reduce dimensionality\u001b[0m\u001b[0;34m\u001b[0m\u001b[0;34m\u001b[0m\u001b[0m\n",
            "\u001b[0;32m/usr/local/lib/python2.7/dist-packages/pandas/core/generic.pyc\u001b[0m in \u001b[0;36m_get_item_cache\u001b[0;34m(self, item)\u001b[0m\n\u001b[1;32m   1840\u001b[0m         \u001b[0mres\u001b[0m \u001b[0;34m=\u001b[0m \u001b[0mcache\u001b[0m\u001b[0;34m.\u001b[0m\u001b[0mget\u001b[0m\u001b[0;34m(\u001b[0m\u001b[0mitem\u001b[0m\u001b[0;34m)\u001b[0m\u001b[0;34m\u001b[0m\u001b[0m\n\u001b[1;32m   1841\u001b[0m         \u001b[0;32mif\u001b[0m \u001b[0mres\u001b[0m \u001b[0;32mis\u001b[0m \u001b[0mNone\u001b[0m\u001b[0;34m:\u001b[0m\u001b[0;34m\u001b[0m\u001b[0m\n\u001b[0;32m-> 1842\u001b[0;31m             \u001b[0mvalues\u001b[0m \u001b[0;34m=\u001b[0m \u001b[0mself\u001b[0m\u001b[0;34m.\u001b[0m\u001b[0m_data\u001b[0m\u001b[0;34m.\u001b[0m\u001b[0mget\u001b[0m\u001b[0;34m(\u001b[0m\u001b[0mitem\u001b[0m\u001b[0;34m)\u001b[0m\u001b[0;34m\u001b[0m\u001b[0m\n\u001b[0m\u001b[1;32m   1843\u001b[0m             \u001b[0mres\u001b[0m \u001b[0;34m=\u001b[0m \u001b[0mself\u001b[0m\u001b[0;34m.\u001b[0m\u001b[0m_box_item_values\u001b[0m\u001b[0;34m(\u001b[0m\u001b[0mitem\u001b[0m\u001b[0;34m,\u001b[0m \u001b[0mvalues\u001b[0m\u001b[0;34m)\u001b[0m\u001b[0;34m\u001b[0m\u001b[0m\n\u001b[1;32m   1844\u001b[0m             \u001b[0mcache\u001b[0m\u001b[0;34m[\u001b[0m\u001b[0mitem\u001b[0m\u001b[0;34m]\u001b[0m \u001b[0;34m=\u001b[0m \u001b[0mres\u001b[0m\u001b[0;34m\u001b[0m\u001b[0m\n",
            "\u001b[0;32m/usr/local/lib/python2.7/dist-packages/pandas/core/internals.pyc\u001b[0m in \u001b[0;36mget\u001b[0;34m(self, item, fastpath)\u001b[0m\n\u001b[1;32m   3841\u001b[0m \u001b[0;34m\u001b[0m\u001b[0m\n\u001b[1;32m   3842\u001b[0m             \u001b[0;32mif\u001b[0m \u001b[0;32mnot\u001b[0m \u001b[0misna\u001b[0m\u001b[0;34m(\u001b[0m\u001b[0mitem\u001b[0m\u001b[0;34m)\u001b[0m\u001b[0;34m:\u001b[0m\u001b[0;34m\u001b[0m\u001b[0m\n\u001b[0;32m-> 3843\u001b[0;31m                 \u001b[0mloc\u001b[0m \u001b[0;34m=\u001b[0m \u001b[0mself\u001b[0m\u001b[0;34m.\u001b[0m\u001b[0mitems\u001b[0m\u001b[0;34m.\u001b[0m\u001b[0mget_loc\u001b[0m\u001b[0;34m(\u001b[0m\u001b[0mitem\u001b[0m\u001b[0;34m)\u001b[0m\u001b[0;34m\u001b[0m\u001b[0m\n\u001b[0m\u001b[1;32m   3844\u001b[0m             \u001b[0;32melse\u001b[0m\u001b[0;34m:\u001b[0m\u001b[0;34m\u001b[0m\u001b[0m\n\u001b[1;32m   3845\u001b[0m                 \u001b[0mindexer\u001b[0m \u001b[0;34m=\u001b[0m \u001b[0mnp\u001b[0m\u001b[0;34m.\u001b[0m\u001b[0marange\u001b[0m\u001b[0;34m(\u001b[0m\u001b[0mlen\u001b[0m\u001b[0;34m(\u001b[0m\u001b[0mself\u001b[0m\u001b[0;34m.\u001b[0m\u001b[0mitems\u001b[0m\u001b[0;34m)\u001b[0m\u001b[0;34m)\u001b[0m\u001b[0;34m[\u001b[0m\u001b[0misna\u001b[0m\u001b[0;34m(\u001b[0m\u001b[0mself\u001b[0m\u001b[0;34m.\u001b[0m\u001b[0mitems\u001b[0m\u001b[0;34m)\u001b[0m\u001b[0;34m]\u001b[0m\u001b[0;34m\u001b[0m\u001b[0m\n",
            "\u001b[0;32m/usr/local/lib/python2.7/dist-packages/pandas/core/indexes/base.pyc\u001b[0m in \u001b[0;36mget_loc\u001b[0;34m(self, key, method, tolerance)\u001b[0m\n\u001b[1;32m   2525\u001b[0m                 \u001b[0;32mreturn\u001b[0m \u001b[0mself\u001b[0m\u001b[0;34m.\u001b[0m\u001b[0m_engine\u001b[0m\u001b[0;34m.\u001b[0m\u001b[0mget_loc\u001b[0m\u001b[0;34m(\u001b[0m\u001b[0mkey\u001b[0m\u001b[0;34m)\u001b[0m\u001b[0;34m\u001b[0m\u001b[0m\n\u001b[1;32m   2526\u001b[0m             \u001b[0;32mexcept\u001b[0m \u001b[0mKeyError\u001b[0m\u001b[0;34m:\u001b[0m\u001b[0;34m\u001b[0m\u001b[0m\n\u001b[0;32m-> 2527\u001b[0;31m                 \u001b[0;32mreturn\u001b[0m \u001b[0mself\u001b[0m\u001b[0;34m.\u001b[0m\u001b[0m_engine\u001b[0m\u001b[0;34m.\u001b[0m\u001b[0mget_loc\u001b[0m\u001b[0;34m(\u001b[0m\u001b[0mself\u001b[0m\u001b[0;34m.\u001b[0m\u001b[0m_maybe_cast_indexer\u001b[0m\u001b[0;34m(\u001b[0m\u001b[0mkey\u001b[0m\u001b[0;34m)\u001b[0m\u001b[0;34m)\u001b[0m\u001b[0;34m\u001b[0m\u001b[0m\n\u001b[0m\u001b[1;32m   2528\u001b[0m \u001b[0;34m\u001b[0m\u001b[0m\n\u001b[1;32m   2529\u001b[0m         \u001b[0mindexer\u001b[0m \u001b[0;34m=\u001b[0m \u001b[0mself\u001b[0m\u001b[0;34m.\u001b[0m\u001b[0mget_indexer\u001b[0m\u001b[0;34m(\u001b[0m\u001b[0;34m[\u001b[0m\u001b[0mkey\u001b[0m\u001b[0;34m]\u001b[0m\u001b[0;34m,\u001b[0m \u001b[0mmethod\u001b[0m\u001b[0;34m=\u001b[0m\u001b[0mmethod\u001b[0m\u001b[0;34m,\u001b[0m \u001b[0mtolerance\u001b[0m\u001b[0;34m=\u001b[0m\u001b[0mtolerance\u001b[0m\u001b[0;34m)\u001b[0m\u001b[0;34m\u001b[0m\u001b[0m\n",
            "\u001b[0;32mpandas/_libs/index.pyx\u001b[0m in \u001b[0;36mpandas._libs.index.IndexEngine.get_loc\u001b[0;34m()\u001b[0m\n",
            "\u001b[0;32mpandas/_libs/index.pyx\u001b[0m in \u001b[0;36mpandas._libs.index.IndexEngine.get_loc\u001b[0;34m()\u001b[0m\n",
            "\u001b[0;32mpandas/_libs/hashtable_class_helper.pxi\u001b[0m in \u001b[0;36mpandas._libs.hashtable.PyObjectHashTable.get_item\u001b[0;34m()\u001b[0m\n",
            "\u001b[0;32mpandas/_libs/hashtable_class_helper.pxi\u001b[0m in \u001b[0;36mpandas._libs.hashtable.PyObjectHashTable.get_item\u001b[0;34m()\u001b[0m\n",
            "\u001b[0;31mKeyError\u001b[0m: 'Times'"
          ]
        }
      ]
    },
    {
      "metadata": {
        "id": "PbmbrnvoOd_N",
        "colab_type": "code",
        "colab": {}
      },
      "cell_type": "code",
      "source": [
        "df = testF.loc[:,['Times']]"
      ],
      "execution_count": 0,
      "outputs": []
    },
    {
      "metadata": {
        "id": "ELleNg2FOd_W",
        "colab_type": "code",
        "colab": {}
      },
      "cell_type": "code",
      "source": [
        "df.head()"
      ],
      "execution_count": 0,
      "outputs": []
    },
    {
      "metadata": {
        "scrolled": true,
        "id": "-7NVhIGoOd_c",
        "colab_type": "code",
        "colab": {}
      },
      "cell_type": "code",
      "source": [
        "#df['Times'].apply(lambda x: x if (x > 0) else 1)"
      ],
      "execution_count": 0,
      "outputs": []
    },
    {
      "metadata": {
        "id": "nZK90rTCOd_k",
        "colab_type": "code",
        "colab": {}
      },
      "cell_type": "code",
      "source": [
        "fileW=open('/content/gdrive/My Drive/Холдинг/Mind-set/DMIA/dmia-sport-2019-spring/DMIARF.csv','w')\n",
        "df.to_csv(fileW)"
      ],
      "execution_count": 0,
      "outputs": []
    },
    {
      "metadata": {
        "id": "31eN5B4x17dZ",
        "colab_type": "code",
        "colab": {}
      },
      "cell_type": "code",
      "source": [
        "fileW.close()"
      ],
      "execution_count": 0,
      "outputs": []
    },
    {
      "metadata": {
        "id": "-ax7ZVoL17mm",
        "colab_type": "code",
        "colab": {}
      },
      "cell_type": "code",
      "source": [
        ""
      ],
      "execution_count": 0,
      "outputs": []
    },
    {
      "metadata": {
        "id": "D-cg8fujOd_o",
        "colab_type": "code",
        "colab": {}
      },
      "cell_type": "code",
      "source": [
        "morph = pymorphy2.MorphAnalyzer()\n",
        "\n",
        "def name_score(word):\n",
        "    for p in morph.parse(word):\n",
        "        if 'Name' in p.tag:\n",
        "            return p.score\n",
        "    return 0\n",
        "\n",
        "def surn_score(word):\n",
        "    for p in morph.parse(word):\n",
        "        if 'Surn' in p.tag:\n",
        "            return p.score\n",
        "    return 0\n",
        "\n",
        "trainD['pymorphy_word_is_known'] = all_data['Word'].apply(morph.word_is_known).astype('int8')\n",
        "trainD['pymorphy_count_in_tag'] = all_data['Word'].apply(lambda x: len(morph.tag(x))).astype('int8')\n",
        "trainD['pymorphy_score'] = all_data['Word'].apply(lambda x: morph.parse(x)[0].score)\n",
        "trainD['pymorphy'] = all_data['Word'].apply(lambda x: morph.tag(x)[0])\n",
        "\n",
        "trainD['pymorphy_animacy'] = all_data['pymorphy'].apply(lambda x: x.animacy)\n",
        "trainD['pymorphy_POS'] = all_data['pymorphy'].apply(lambda x: x.POS)\n",
        "trainD['pymorphy_case'] = all_data['pymorphy'].apply(lambda x: x.case)\n",
        "trainD['pymorphy_number'] = all_data['pymorphy'].apply(lambda x: x.number)\n",
        "\n",
        "trainD['pymorphy_name_score'] = all_data['Word'].apply(name_score)\n",
        "trainD['pymorphy_surn_score'] = all_data['Word'].apply(surn_score)\n",
        "\n",
        "columns_to_one_hot = ['pymorphy' , 'pymorphy_animacy', 'pymorphy_POS', 'pymorphy_case','pymorphy_number']\n",
        "\n",
        "for col in columns_to_one_hot:\n",
        "    all_data[col] = LabelEncoder().fit_transform(list(all_data[col].fillna('nan')))"
      ],
      "execution_count": 0,
      "outputs": []
    }
  ]
}
