{
 "cells": [
  {
   "cell_type": "code",
   "execution_count": 1,
   "metadata": {},
   "outputs": [],
   "source": [
    "import numpy as np\n",
    "import pandas as pd\n",
    "import matplotlib.pyplot as plt\n",
    "import seaborn as sns\n",
    "from sklearn.model_selection import train_test_split, GridSearchCV\n",
    "from sklearn.preprocessing import StandardScaler, MinMaxScaler, LabelEncoder\n",
    "from sklearn.linear_model import LinearRegression, Lasso, Ridge, LogisticRegressionCV\n",
    "from sklearn.metrics import mean_squared_log_error, mean_squared_error\n",
    "from sklearn.tree import DecisionTreeRegressor\n",
    "from sklearn.ensemble import RandomForestRegressor, RandomForestClassifier\n",
    "from time import time\n",
    "import lightgbm as lgb\n",
    "from nltk.corpus import wordnet\n",
    "from sklearn.feature_extraction.text import CountVectorizer\n",
    "%matplotlib inline\n",
    "\n",
    "seed = 10"
   ]
  },
  {
   "cell_type": "markdown",
   "metadata": {},
   "source": [
    "#### Загрузка датасета"
   ]
  },
  {
   "cell_type": "code",
   "execution_count": 2,
   "metadata": {},
   "outputs": [],
   "source": [
    "train = pd.read_csv('data/train.csv')\n",
    "test = pd.read_csv('data/Xtest.csv')\n",
    "sample = pd.read_csv('data/sample_submission.csv')"
   ]
  },
  {
   "cell_type": "code",
   "execution_count": 3,
   "metadata": {},
   "outputs": [],
   "source": [
    "train['Password'] = train['Password'].astype(str)\n",
    "test['Password'] = test['Password'].astype(str)"
   ]
  },
  {
   "cell_type": "markdown",
   "metadata": {},
   "source": [
    "#### Генерация признаков в трейне"
   ]
  },
  {
   "cell_type": "code",
   "execution_count": 4,
   "metadata": {},
   "outputs": [],
   "source": [
    "train['len'] = train['Password'].map(lambda x: len(x))\n",
    "train['cnt_let'] = train['Password'].map(lambda x: sum(c.isalpha() for c in x))\n",
    "train['cnt_dig'] = train['Password'].map(lambda x: sum(c.isdigit() for c in x))\n",
    "train['cnt_other'] = train['len'] - train['cnt_let'] - train['cnt_dig']\n",
    "train['cnt_up'] = train['Password'].map(lambda x: sum(c.isupper() for c in x))\n",
    "train['cnt_low'] = train['Password'].map(lambda x: sum(c.islower() for c in x))\n",
    "\n",
    "train['123456'] = train['Password'].map(lambda x: 1 if x.find('123456') != -1 else 0)\n",
    "train['654321'] = train['Password'].map(lambda x: 1 if x.find('654321') != -1 else 0)\n",
    "train['qwerty'] = train['Password'].map(lambda x: 1 if x.find('qwerty') != -1 else 0)\n",
    "train['ytrewq'] = train['Password'].map(lambda x: 1 if x.find('ytrewq') != -1 else 0)\n",
    "train['word'] = train['Password'].map(lambda x: 1 if wordnet.synsets(x) else 0)\n",
    "train['1symb'] = train['Password'].map(lambda x: 1 if x.count(x[0]) == len(x) else 0)\n",
    "train['asdf'] = train['Password'].map(lambda x: 1 if x.find('asdf') != -1 else 0)\n",
    "train['fdsa'] = train['Password'].map(lambda x: 1 if x.find('fdsa') != -1 else 0)\n",
    "train['zxcv'] = train['Password'].map(lambda x: 1 if x.find('zxcv') != -1 else 0)\n",
    "train['vcxz'] = train['Password'].map(lambda x: 1 if x.find('vcxz') != -1 else 0)\n",
    "train['qaz'] = train['Password'].map(lambda x: 1 if x.find('qaz') != -1 else 0)\n",
    "train['zaq'] = train['Password'].map(lambda x: 1 if x.find('zaq') != -1 else 0)\n",
    "train['wsx'] = train['Password'].map(lambda x: 1 if x.find('wsx') != -1 else 0)\n",
    "train['xsw'] = train['Password'].map(lambda x: 1 if x.find('xsw') != -1 else 0)\n",
    "train['edc'] = train['Password'].map(lambda x: 1 if x.find('edc') != -1 else 0)\n",
    "train['cde'] = train['Password'].map(lambda x: 1 if x.find('cde') != -1 else 0)"
   ]
  },
  {
   "cell_type": "markdown",
   "metadata": {},
   "source": [
    "#### Генерация признаков в тесте"
   ]
  },
  {
   "cell_type": "code",
   "execution_count": 5,
   "metadata": {},
   "outputs": [],
   "source": [
    "test['len'] = test['Password'].map(lambda x: len(x))\n",
    "test['cnt_let'] = test['Password'].map(lambda x: sum(c.isalpha() for c in x))\n",
    "test['cnt_dig'] = test['Password'].map(lambda x: sum(c.isdigit() for c in x))\n",
    "test['cnt_other'] = test['len'] - test['cnt_let'] - test['cnt_dig']\n",
    "test['cnt_up'] = test['Password'].map(lambda x: sum(c.isupper() for c in x))\n",
    "test['cnt_low'] = test['Password'].map(lambda x: sum(c.islower() for c in x))\n",
    "\n",
    "test['123456'] = test['Password'].map(lambda x: 1 if x.find('123456') != -1 else 0)\n",
    "test['654321'] = test['Password'].map(lambda x: 1 if x.find('654321') != -1 else 0)\n",
    "test['qwerty'] = test['Password'].map(lambda x: 1 if x.find('qwerty') != -1 else 0)\n",
    "test['ytrewq'] = test['Password'].map(lambda x: 1 if x.find('ytrewq') != -1 else 0)\n",
    "test['word'] = test['Password'].map(lambda x: 1 if wordnet.synsets(x) else 0)\n",
    "test['1symb'] = test['Password'].map(lambda x: 1 if x.count(x[0]) == len(x) else 0)\n",
    "test['asdf'] = test['Password'].map(lambda x: 1 if x.find('asdf') != -1 else 0)\n",
    "test['fdsa'] = test['Password'].map(lambda x: 1 if x.find('fdsa') != -1 else 0)\n",
    "test['zxcv'] = test['Password'].map(lambda x: 1 if x.find('zxcv') != -1 else 0)\n",
    "test['vcxz'] = test['Password'].map(lambda x: 1 if x.find('vcxz') != -1 else 0)\n",
    "test['qaz'] = test['Password'].map(lambda x: 1 if x.find('qaz') != -1 else 0)\n",
    "test['zaq'] = test['Password'].map(lambda x: 1 if x.find('zaq') != -1 else 0)\n",
    "test['wsx'] = test['Password'].map(lambda x: 1 if x.find('wsx') != -1 else 0)\n",
    "test['xsw'] = test['Password'].map(lambda x: 1 if x.find('xsw') != -1 else 0)\n",
    "test['edc'] = test['Password'].map(lambda x: 1 if x.find('edc') != -1 else 0)\n",
    "test['cde'] = test['Password'].map(lambda x: 1 if x.find('cde') != -1 else 0)"
   ]
  },
  {
   "cell_type": "markdown",
   "metadata": {},
   "source": [
    "#### Разделим выборку на трейн, валидацию и тест"
   ]
  },
  {
   "cell_type": "code",
   "execution_count": 6,
   "metadata": {},
   "outputs": [],
   "source": [
    "X_test = test.drop(['Id', 'Password'], axis=1)\n",
    "X = train.drop(['Times', 'Password'], axis=1)\n",
    "y = train['Times']\n",
    "X_train, X_val, y_train, y_val = train_test_split(X, y, test_size=0.3, random_state=seed, shuffle=True)\n",
    "y_train_log, y_val_log = np.log1p(y_train), np.log1p(y_val)"
   ]
  },
  {
   "cell_type": "markdown",
   "metadata": {},
   "source": [
    "### Случайный лес"
   ]
  },
  {
   "cell_type": "code",
   "execution_count": 7,
   "metadata": {},
   "outputs": [
    {
     "name": "stdout",
     "output_type": "stream",
     "text": [
      "лучшие параметры: {'n_estimators': 10}\n",
      "mae на трейне: 0.3752669802696074\n",
      "mae на внутренней проверке: 0.1412571907211412\n",
      "mae на валидации: 0.3762676395826177\n",
      "Wall time: 1min 38s\n"
     ]
    }
   ],
   "source": [
    "%%time \n",
    "tree = RandomForestRegressor(random_state=seed, n_jobs=-1)\n",
    "#tree_params = {'n_estimators': list(range(100,200,100))}\n",
    "tree_params = {'n_estimators': [10]}\n",
    "\n",
    "grid = GridSearchCV(tree, tree_params, scoring='neg_mean_squared_error', n_jobs=-1, cv=3)\n",
    "grid.fit(X_train, y_train_log)\n",
    "\n",
    "print('лучшие параметры:', grid.best_params_)\n",
    "print('mae на трейне:', np.sqrt(mean_squared_error(y_train_log, grid.best_estimator_.predict(X_train))))\n",
    "print('mae на внутренней проверке:', grid.best_score_*(-1))\n",
    "print('mae на валидации:', np.sqrt(mean_squared_error(y_val_log, grid.best_estimator_.predict(X_val))))"
   ]
  },
  {
   "cell_type": "markdown",
   "metadata": {},
   "source": [
    "#### Предикт"
   ]
  },
  {
   "cell_type": "code",
   "execution_count": 8,
   "metadata": {},
   "outputs": [],
   "source": [
    "y_test_log = grid.best_estimator_.predict(X_test)\n",
    "y_test = np.expm1(y_test_log)\n",
    "\n",
    "sample['Times'] = y_test\n",
    "sample.to_csv('rf_log_submit.csv', index=False) "
   ]
  }
 ],
 "metadata": {
  "kernelspec": {
   "display_name": "Python 3",
   "language": "python",
   "name": "python3"
  },
  "language_info": {
   "codemirror_mode": {
    "name": "ipython",
    "version": 3
   },
   "file_extension": ".py",
   "mimetype": "text/x-python",
   "name": "python",
   "nbconvert_exporter": "python",
   "pygments_lexer": "ipython3",
   "version": "3.6.6"
  }
 },
 "nbformat": 4,
 "nbformat_minor": 2
}
