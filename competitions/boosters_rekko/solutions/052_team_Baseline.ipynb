{
 "cells": [
  {
   "cell_type": "code",
   "execution_count": 1,
   "metadata": {},
   "outputs": [],
   "source": [
    "import os\n",
    "import json\n",
    "import pandas as pd\n",
    "import numpy as np\n",
    "import tqdm\n",
    "import scipy.sparse as sp\n",
    "\n",
    "from implicit.nearest_neighbours import TFIDFRecommender\n",
    "from pprint import pprint"
   ]
  },
  {
   "cell_type": "code",
   "execution_count": 4,
   "metadata": {},
   "outputs": [
    {
     "name": "stdout",
     "output_type": "stream",
     "text": [
      "Collecting Cython\n",
      "\u001b[?25l  Downloading https://files.pythonhosted.org/packages/b2/20/46a78072ecd4fda072c3791a257b03af99b64673671663067d18bc4935ec/Cython-0.29.7-cp36-cp36m-manylinux1_x86_64.whl (2.1MB)\n",
      "\u001b[K    100% |████████████████████████████████| 2.1MB 759kB/s ta 0:00:01\n",
      "\u001b[?25hInstalling collected packages: Cython\n",
      "Successfully installed Cython-0.29.7\n"
     ]
    }
   ],
   "source": [
    "!pip install Cython"
   ]
  },
  {
   "cell_type": "code",
   "execution_count": 3,
   "metadata": {},
   "outputs": [],
   "source": [
    "%load_ext cython"
   ]
  },
  {
   "cell_type": "code",
   "execution_count": 4,
   "metadata": {},
   "outputs": [],
   "source": [
    "%%cython\n",
    "def average_precision(\n",
    "        dict data_true,\n",
    "        dict data_predicted,\n",
    "        const unsigned long int k\n",
    ") -> float:\n",
    "    cdef:\n",
    "        unsigned long int n_items_predicted\n",
    "        unsigned long int n_items_true\n",
    "        unsigned long int n_correct_items\n",
    "        unsigned long int item_idx\n",
    "\n",
    "        double average_precision_sum\n",
    "        double precision\n",
    "\n",
    "        set items_true\n",
    "        list items_predicted\n",
    "\n",
    "    if not data_true:\n",
    "        raise ValueError('data_true is empty')\n",
    "\n",
    "    average_precision_sum = 0.0\n",
    "\n",
    "    for key, items_true in data_true.items():\n",
    "        items_predicted = data_predicted.get(key, [])\n",
    "\n",
    "        n_items_true = len(items_true)\n",
    "        n_items_predicted = min(len(items_predicted), k)\n",
    "\n",
    "        if n_items_true == 0 or n_items_predicted == 0:\n",
    "            continue\n",
    "\n",
    "        n_correct_items = 0\n",
    "        precision = 0.0\n",
    "\n",
    "        for item_idx in range(n_items_predicted):\n",
    "            if items_predicted[item_idx] in items_true:\n",
    "                n_correct_items += 1\n",
    "                precision += <double>n_correct_items / <double>(item_idx + 1)\n",
    "\n",
    "        average_precision_sum += <double>precision / <double>min(n_items_true, k)\n",
    "\n",
    "    return average_precision_sum / <double>len(data_true)\n",
    "\n",
    "def metric(true_data, predicted_data, k=20):\n",
    "    true_data_set = {k: set(v) for k, v in true_data.items()}\n",
    "\n",
    "    return average_precision(true_data_set, predicted_data, k=k)"
   ]
  },
  {
   "cell_type": "code",
   "execution_count": 5,
   "metadata": {},
   "outputs": [],
   "source": [
    "DATA_PATH = './data/'"
   ]
  },
  {
   "cell_type": "code",
   "execution_count": 6,
   "metadata": {},
   "outputs": [],
   "source": [
    "def watch2(row):\n",
    "    if row['consumption_mode'] != 'S':\n",
    "        return 1\n",
    "    \n",
    "    duration = row['duration'] \n",
    "    \n",
    "    \n",
    "    if row['type'] != 'series' and row['watched_time']/30 > duration: # row['watched_time']/60 > duration / 2\n",
    "        return 1\n",
    "    \n",
    "    if row['type'] == 'series' and row['watched_time']/20 > duration: # row['watched_time']/60 > duration / 3\n",
    "        return 1\n",
    "    \n",
    "    return 0"
   ]
  },
  {
   "cell_type": "code",
   "execution_count": 7,
   "metadata": {},
   "outputs": [],
   "source": [
    "with open(os.path.join(DATA_PATH, 'catalogue.json'), 'r') as f:\n",
    "    catalogue = json.load(f)\n",
    "    \n",
    "catalogue = {int(k): v for k, v in catalogue.items()}"
   ]
  },
  {
   "cell_type": "code",
   "execution_count": 8,
   "metadata": {},
   "outputs": [
    {
     "name": "stdout",
     "output_type": "stream",
     "text": [
      "CPU times: user 6.41 s, sys: 273 ms, total: 6.68 s\n",
      "Wall time: 6.68 s\n"
     ]
    }
   ],
   "source": [
    "%%time\n",
    "transactions = pd.read_csv(\n",
    "    os.path.join(DATA_PATH, 'transactions.csv'),\n",
    "    dtype={\n",
    "        'element_uid': np.uint16,\n",
    "        'user_uid': np.uint32,\n",
    "        'consumption_mode': 'category',\n",
    "        'ts': np.float64,\n",
    "        'watched_time': np.uint64,\n",
    "        'device_type': np.uint8,\n",
    "        'device_manufacturer': np.uint8\n",
    "    }\n",
    ")"
   ]
  },
  {
   "cell_type": "code",
   "execution_count": 14,
   "metadata": {},
   "outputs": [],
   "source": [
    "with open(os.path.join(DATA_PATH, 'test_users.json'), 'r') as f:\n",
    "    test_users = set(json.load(f)['users'])"
   ]
  },
  {
   "cell_type": "code",
   "execution_count": 9,
   "metadata": {},
   "outputs": [],
   "source": [
    "transactions['duration'] = transactions.element_uid.apply(lambda x: catalogue[x]['duration'])\n",
    "transactions['type'] = transactions.element_uid.apply(lambda x: catalogue[x]['type'])"
   ]
  },
  {
   "cell_type": "code",
   "execution_count": 10,
   "metadata": {},
   "outputs": [
    {
     "name": "stdout",
     "output_type": "stream",
     "text": [
      "CPU times: user 5min 39s, sys: 864 ms, total: 5min 40s\n",
      "Wall time: 5min 41s\n"
     ]
    }
   ],
   "source": [
    "%%time\n",
    "transactions['my_target'] = transactions[['consumption_mode', 'watched_time',  'duration', 'type']].apply(watch2, axis=1)"
   ]
  },
  {
   "cell_type": "code",
   "execution_count": 16,
   "metadata": {
    "scrolled": true
   },
   "outputs": [
    {
     "name": "stderr",
     "output_type": "stream",
     "text": [
      "100%|██████████| 9643012/9643012 [00:18<00:00, 524192.20it/s]\n"
     ]
    }
   ],
   "source": [
    "from collections import defaultdict\n",
    "\n",
    "filtered_elements = defaultdict(set)\n",
    "\n",
    "for user_uid, element_uid in tqdm.tqdm(transactions.loc[:, ['user_uid', 'element_uid']].values):\n",
    "    if user_uid not in test_users:\n",
    "        continue\n",
    "    filtered_elements[user_uid].add(element_uid)"
   ]
  },
  {
   "cell_type": "code",
   "execution_count": 17,
   "metadata": {},
   "outputs": [],
   "source": [
    "def to_cat(uid):\n",
    "    uid_to_cat = dict(zip(\n",
    "        uid.cat.categories,\n",
    "        range(len(uid.cat.categories))\n",
    "    ))\n",
    "    return uid_to_cat"
   ]
  },
  {
   "cell_type": "code",
   "execution_count": 20,
   "metadata": {},
   "outputs": [],
   "source": [
    "def tfd(rat, col):\n",
    "    rat['user_uid'] = rat['user_uid'].astype('category')\n",
    "    rat['element_uid'] = rat['element_uid'].astype('category')\n",
    "\n",
    "    fmatrix = sp.coo_matrix(\n",
    "        (rat[col].astype(np.float32) + 1,\n",
    "            (\n",
    "                rat['element_uid'].cat.codes.copy(),\n",
    "                rat['user_uid'].cat.codes.copy()\n",
    "            )\n",
    "        )\n",
    "    )\n",
    "\n",
    "    fmatrix = fmatrix.tocsr()\n",
    "\n",
    "\n",
    "    model_f = TFIDFRecommender(K=19)\n",
    "    model_f.fit(fmatrix)\n",
    "\n",
    "    fmatrix_T = fmatrix.T.tocsr()\n",
    "\n",
    "    user_uid_to_cat = to_cat(rat['user_uid'])\n",
    "\n",
    "    element_uid_to_cat = to_cat(rat['element_uid'])\n",
    "\n",
    "    filtered_elements_cat_f = {k: [element_uid_to_cat.get(x, None) for x in v] for k, v in filtered_elements.items()}\n",
    "\n",
    "    result = {}\n",
    "\n",
    "    for user_uid in tqdm.tqdm(test_users):\n",
    "        # transform user_uid to model's internal user category\n",
    "        try:\n",
    "            user_cat = user_uid_to_cat[user_uid]\n",
    "        except LookupError:\n",
    "            continue\n",
    "\n",
    "        # perform inference\n",
    "        recs = model_f.recommend(\n",
    "            user_cat,\n",
    "            fmatrix_T,\n",
    "            N=20,\n",
    "            filter_already_liked_items=True,\n",
    "            filter_items=filtered_elements_cat_f.get(user_uid, set())\n",
    "        )\n",
    "\n",
    "        # drop scores and transform model's internal elelemnt category to element_uid for every prediction\n",
    "        # also convert np.uint64 to int so it could be json serialized later\n",
    "        result[user_uid] = [int(rat['element_uid'].cat.categories[i]) for i, _ in recs]\n",
    "    return result"
   ]
  },
  {
   "cell_type": "code",
   "execution_count": 21,
   "metadata": {
    "scrolled": true
   },
   "outputs": [
    {
     "name": "stderr",
     "output_type": "stream",
     "text": [
      "100%|██████████| 8296/8296 [00:02<00:00, 3846.46it/s]\n",
      "100%|██████████| 50000/50000 [00:18<00:00, 2681.27it/s]\n"
     ]
    }
   ],
   "source": [
    "result = tfd(transactions, 'my_target')"
   ]
  },
  {
   "cell_type": "code",
   "execution_count": 22,
   "metadata": {},
   "outputs": [],
   "source": [
    "with open('submissions/watch2_tfidf19.json', 'w') as f:\n",
    "    json.dump(result, f)"
   ]
  }
 ],
 "metadata": {
  "kernelspec": {
   "display_name": "Python 3",
   "language": "python",
   "name": "python3"
  },
  "language_info": {
   "codemirror_mode": {
    "name": "ipython",
    "version": 3
   },
   "file_extension": ".py",
   "mimetype": "text/x-python",
   "name": "python",
   "nbconvert_exporter": "python",
   "pygments_lexer": "ipython3",
   "version": "3.6.7"
  }
 },
 "nbformat": 4,
 "nbformat_minor": 2
}
