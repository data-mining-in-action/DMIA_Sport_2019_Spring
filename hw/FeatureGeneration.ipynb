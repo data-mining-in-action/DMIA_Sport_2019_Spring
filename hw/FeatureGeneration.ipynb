{
 "cells": [
  {
   "cell_type": "markdown",
   "metadata": {
    "collapsed": true
   },
   "source": [
    "В этом задании надо разобраться с тем, какие признаки есть в датасете, как их надо готовить для конкретных моделей (пропуски, выбросы, различные преобразования). \n",
    "Результат работы надо сохранить - на семинаре будет активность, для которой блоки фичей, подготовленные для разных моделей, будут очень полезны. "
   ]
  },
  {
   "cell_type": "code",
   "execution_count": null,
   "metadata": {},
   "outputs": [],
   "source": [
    "import numpy as np\n",
    "import pandas as pd\n",
    "pd.set_option('display.max_rows', 100)\n",
    "pd.set_option('display.max_columns', 100)\n",
    "\n",
    "import seaborn as sns\n",
    "from matplotlib import pyplot as plt\n",
    "%matplotlib inline"
   ]
  },
  {
   "cell_type": "code",
   "execution_count": 4,
   "metadata": {
    "collapsed": true
   },
   "outputs": [],
   "source": [
    "train = pd.read_csv('train.csv')\n",
    "test = pd.read_csv('test.csv')"
   ]
  },
  {
   "cell_type": "markdown",
   "metadata": {},
   "source": [
    "### Признаков много, надо их разделить на группы"
   ]
  },
  {
   "cell_type": "code",
   "execution_count": 5,
   "metadata": {},
   "outputs": [
    {
     "data": {
      "text/plain": [
       "name                                 object\n",
       "summary                              object\n",
       "space                                object\n",
       "description                          object\n",
       "experiences_offered                  object\n",
       "neighborhood_overview                object\n",
       "notes                                object\n",
       "transit                              object\n",
       "access                               object\n",
       "interaction                          object\n",
       "house_rules                          object\n",
       "host_id                               int64\n",
       "host_since                           object\n",
       "host_about                           object\n",
       "host_response_time                   object\n",
       "host_response_rate                   object\n",
       "host_is_superhost                    object\n",
       "host_has_profile_pic                 object\n",
       "host_identity_verified               object\n",
       "neighbourhood_cleansed               object\n",
       "zipcode                              object\n",
       "latitude                            float64\n",
       "longitude                           float64\n",
       "is_location_exact                    object\n",
       "property_type                        object\n",
       "room_type                            object\n",
       "accommodates                          int64\n",
       "bathrooms                           float64\n",
       "bedrooms                            float64\n",
       "beds                                float64\n",
       "bed_type                             object\n",
       "amenities                            object\n",
       "square_feet                         float64\n",
       "security_deposit                    float64\n",
       "cleaning_fee                        float64\n",
       "guests_included                       int64\n",
       "extra_people                        float64\n",
       "minimum_nights                        int64\n",
       "cancellation_policy                  object\n",
       "require_guest_profile_picture        object\n",
       "require_guest_phone_verification     object\n",
       "price                               float64\n",
       "dtype: object"
      ]
     },
     "execution_count": 5,
     "metadata": {},
     "output_type": "execute_result"
    }
   ],
   "source": [
    "train.dtypes"
   ]
  },
  {
   "cell_type": "code",
   "execution_count": 6,
   "metadata": {
    "collapsed": true
   },
   "outputs": [],
   "source": [
    "# Сначала выделим текст и даты. dtypes нам на них не указал - придется находить их глазами"
   ]
  },
  {
   "cell_type": "code",
   "execution_count": 7,
   "metadata": {},
   "outputs": [
    {
     "data": {
      "text/html": [
       "<div>\n",
       "<style>\n",
       "    .dataframe thead tr:only-child th {\n",
       "        text-align: right;\n",
       "    }\n",
       "\n",
       "    .dataframe thead th {\n",
       "        text-align: left;\n",
       "    }\n",
       "\n",
       "    .dataframe tbody tr th {\n",
       "        vertical-align: top;\n",
       "    }\n",
       "</style>\n",
       "<table border=\"1\" class=\"dataframe\">\n",
       "  <thead>\n",
       "    <tr style=\"text-align: right;\">\n",
       "      <th></th>\n",
       "      <th>name</th>\n",
       "      <th>summary</th>\n",
       "      <th>space</th>\n",
       "      <th>description</th>\n",
       "      <th>experiences_offered</th>\n",
       "      <th>neighborhood_overview</th>\n",
       "      <th>notes</th>\n",
       "      <th>transit</th>\n",
       "      <th>access</th>\n",
       "      <th>interaction</th>\n",
       "      <th>house_rules</th>\n",
       "      <th>host_id</th>\n",
       "      <th>host_since</th>\n",
       "      <th>host_about</th>\n",
       "      <th>host_response_time</th>\n",
       "      <th>host_response_rate</th>\n",
       "      <th>host_is_superhost</th>\n",
       "      <th>host_has_profile_pic</th>\n",
       "      <th>host_identity_verified</th>\n",
       "      <th>neighbourhood_cleansed</th>\n",
       "      <th>zipcode</th>\n",
       "      <th>latitude</th>\n",
       "      <th>longitude</th>\n",
       "      <th>is_location_exact</th>\n",
       "      <th>property_type</th>\n",
       "      <th>room_type</th>\n",
       "      <th>accommodates</th>\n",
       "      <th>bathrooms</th>\n",
       "      <th>bedrooms</th>\n",
       "      <th>beds</th>\n",
       "      <th>bed_type</th>\n",
       "      <th>amenities</th>\n",
       "      <th>square_feet</th>\n",
       "      <th>security_deposit</th>\n",
       "      <th>cleaning_fee</th>\n",
       "      <th>guests_included</th>\n",
       "      <th>extra_people</th>\n",
       "      <th>minimum_nights</th>\n",
       "      <th>cancellation_policy</th>\n",
       "      <th>require_guest_profile_picture</th>\n",
       "      <th>require_guest_phone_verification</th>\n",
       "      <th>price</th>\n",
       "    </tr>\n",
       "  </thead>\n",
       "  <tbody>\n",
       "    <tr>\n",
       "      <th>0</th>\n",
       "      <td>Double bedroom in cottage Twickenham (sleeps 1-2)</td>\n",
       "      <td>One gorgeous, light-filled double bedroom (sle...</td>\n",
       "      <td>A beautiful, light-filled double bedroom is ou...</td>\n",
       "      <td>One gorgeous, light-filled double bedroom (sle...</td>\n",
       "      <td>none</td>\n",
       "      <td>Very, very safe area, great transport links an...</td>\n",
       "      <td>We have a super-gorgeous cat</td>\n",
       "      <td>Twickenham Rugby Stadium is 15 mins walk Water...</td>\n",
       "      <td>You'll have full use of the cottage, two recep...</td>\n",
       "      <td>The host (Andy) is usually in residence, but m...</td>\n",
       "      <td>While the house is a great space to entertain,...</td>\n",
       "      <td>161720</td>\n",
       "      <td>2010-07-09</td>\n",
       "      <td>My wife and I work in property development.  S...</td>\n",
       "      <td>NaN</td>\n",
       "      <td>NaN</td>\n",
       "      <td>f</td>\n",
       "      <td>t</td>\n",
       "      <td>t</td>\n",
       "      <td>Richmond upon Thames</td>\n",
       "      <td>TW2 6</td>\n",
       "      <td>51.447147</td>\n",
       "      <td>-0.339253</td>\n",
       "      <td>t</td>\n",
       "      <td>House</td>\n",
       "      <td>Private room</td>\n",
       "      <td>2</td>\n",
       "      <td>1.0</td>\n",
       "      <td>1.0</td>\n",
       "      <td>1.0</td>\n",
       "      <td>Real Bed</td>\n",
       "      <td>{TV,\"Cable TV\",Internet,Wifi,Kitchen,Breakfast...</td>\n",
       "      <td>NaN</td>\n",
       "      <td>300.0</td>\n",
       "      <td>10.0</td>\n",
       "      <td>1</td>\n",
       "      <td>10.0</td>\n",
       "      <td>2</td>\n",
       "      <td>strict_14_with_grace_period</td>\n",
       "      <td>f</td>\n",
       "      <td>f</td>\n",
       "      <td>1000.0</td>\n",
       "    </tr>\n",
       "    <tr>\n",
       "      <th>1</th>\n",
       "      <td>Big House for Olympics sleeps 6 to8</td>\n",
       "      <td>NaN</td>\n",
       "      <td>A beautiful, modern, art-filled and clean 4 st...</td>\n",
       "      <td>A beautiful, modern, art-filled and clean 4 st...</td>\n",
       "      <td>none</td>\n",
       "      <td>NaN</td>\n",
       "      <td>NaN</td>\n",
       "      <td>NaN</td>\n",
       "      <td>NaN</td>\n",
       "      <td>NaN</td>\n",
       "      <td>A copy of your passports or Id cards will be r...</td>\n",
       "      <td>1666422</td>\n",
       "      <td>2012-01-28</td>\n",
       "      <td>Hi there,\\r\\n\\r\\nI'm a music artist manager an...</td>\n",
       "      <td>NaN</td>\n",
       "      <td>NaN</td>\n",
       "      <td>f</td>\n",
       "      <td>t</td>\n",
       "      <td>f</td>\n",
       "      <td>Camden</td>\n",
       "      <td>NW3 6NE</td>\n",
       "      <td>51.549993</td>\n",
       "      <td>-0.184546</td>\n",
       "      <td>t</td>\n",
       "      <td>House</td>\n",
       "      <td>Entire home/apt</td>\n",
       "      <td>8</td>\n",
       "      <td>2.5</td>\n",
       "      <td>3.0</td>\n",
       "      <td>4.0</td>\n",
       "      <td>Real Bed</td>\n",
       "      <td>{\"Cable TV\",Internet,Wifi,Kitchen,\"Free parkin...</td>\n",
       "      <td>1400.0</td>\n",
       "      <td>771.0</td>\n",
       "      <td>NaN</td>\n",
       "      <td>1</td>\n",
       "      <td>0.0</td>\n",
       "      <td>14</td>\n",
       "      <td>strict_14_with_grace_period</td>\n",
       "      <td>f</td>\n",
       "      <td>f</td>\n",
       "      <td>771.0</td>\n",
       "    </tr>\n",
       "    <tr>\n",
       "      <th>2</th>\n",
       "      <td>The Old Coach House (Olympics)</td>\n",
       "      <td>NaN</td>\n",
       "      <td>Fabulous, recently refurbished original Victor...</td>\n",
       "      <td>Fabulous, recently refurbished original Victor...</td>\n",
       "      <td>none</td>\n",
       "      <td>NaN</td>\n",
       "      <td>NaN</td>\n",
       "      <td>NaN</td>\n",
       "      <td>NaN</td>\n",
       "      <td>NaN</td>\n",
       "      <td>NaN</td>\n",
       "      <td>2132532</td>\n",
       "      <td>2012-04-13</td>\n",
       "      <td>I am making available a fabulous, recently ref...</td>\n",
       "      <td>NaN</td>\n",
       "      <td>NaN</td>\n",
       "      <td>f</td>\n",
       "      <td>t</td>\n",
       "      <td>f</td>\n",
       "      <td>Lewisham</td>\n",
       "      <td>SE10</td>\n",
       "      <td>51.469213</td>\n",
       "      <td>-0.007671</td>\n",
       "      <td>t</td>\n",
       "      <td>House</td>\n",
       "      <td>Entire home/apt</td>\n",
       "      <td>6</td>\n",
       "      <td>3.0</td>\n",
       "      <td>3.0</td>\n",
       "      <td>3.0</td>\n",
       "      <td>Real Bed</td>\n",
       "      <td>{TV,Internet,Wifi,Kitchen,\"Free parking on pre...</td>\n",
       "      <td>1800.0</td>\n",
       "      <td>600.0</td>\n",
       "      <td>NaN</td>\n",
       "      <td>1</td>\n",
       "      <td>0.0</td>\n",
       "      <td>14</td>\n",
       "      <td>strict_14_with_grace_period</td>\n",
       "      <td>f</td>\n",
       "      <td>f</td>\n",
       "      <td>1500.0</td>\n",
       "    </tr>\n",
       "  </tbody>\n",
       "</table>\n",
       "</div>"
      ],
      "text/plain": [
       "                                                name  \\\n",
       "0  Double bedroom in cottage Twickenham (sleeps 1-2)   \n",
       "1                Big House for Olympics sleeps 6 to8   \n",
       "2                     The Old Coach House (Olympics)   \n",
       "\n",
       "                                             summary  \\\n",
       "0  One gorgeous, light-filled double bedroom (sle...   \n",
       "1                                                NaN   \n",
       "2                                                NaN   \n",
       "\n",
       "                                               space  \\\n",
       "0  A beautiful, light-filled double bedroom is ou...   \n",
       "1  A beautiful, modern, art-filled and clean 4 st...   \n",
       "2  Fabulous, recently refurbished original Victor...   \n",
       "\n",
       "                                         description experiences_offered  \\\n",
       "0  One gorgeous, light-filled double bedroom (sle...                none   \n",
       "1  A beautiful, modern, art-filled and clean 4 st...                none   \n",
       "2  Fabulous, recently refurbished original Victor...                none   \n",
       "\n",
       "                               neighborhood_overview  \\\n",
       "0  Very, very safe area, great transport links an...   \n",
       "1                                                NaN   \n",
       "2                                                NaN   \n",
       "\n",
       "                          notes  \\\n",
       "0  We have a super-gorgeous cat   \n",
       "1                           NaN   \n",
       "2                           NaN   \n",
       "\n",
       "                                             transit  \\\n",
       "0  Twickenham Rugby Stadium is 15 mins walk Water...   \n",
       "1                                                NaN   \n",
       "2                                                NaN   \n",
       "\n",
       "                                              access  \\\n",
       "0  You'll have full use of the cottage, two recep...   \n",
       "1                                                NaN   \n",
       "2                                                NaN   \n",
       "\n",
       "                                         interaction  \\\n",
       "0  The host (Andy) is usually in residence, but m...   \n",
       "1                                                NaN   \n",
       "2                                                NaN   \n",
       "\n",
       "                                         house_rules  host_id  host_since  \\\n",
       "0  While the house is a great space to entertain,...   161720  2010-07-09   \n",
       "1  A copy of your passports or Id cards will be r...  1666422  2012-01-28   \n",
       "2                                                NaN  2132532  2012-04-13   \n",
       "\n",
       "                                          host_about host_response_time  \\\n",
       "0  My wife and I work in property development.  S...                NaN   \n",
       "1  Hi there,\\r\\n\\r\\nI'm a music artist manager an...                NaN   \n",
       "2  I am making available a fabulous, recently ref...                NaN   \n",
       "\n",
       "  host_response_rate host_is_superhost host_has_profile_pic  \\\n",
       "0                NaN                 f                    t   \n",
       "1                NaN                 f                    t   \n",
       "2                NaN                 f                    t   \n",
       "\n",
       "  host_identity_verified neighbourhood_cleansed  zipcode   latitude  \\\n",
       "0                      t   Richmond upon Thames    TW2 6  51.447147   \n",
       "1                      f                 Camden  NW3 6NE  51.549993   \n",
       "2                      f               Lewisham     SE10  51.469213   \n",
       "\n",
       "   longitude is_location_exact property_type        room_type  accommodates  \\\n",
       "0  -0.339253                 t         House     Private room             2   \n",
       "1  -0.184546                 t         House  Entire home/apt             8   \n",
       "2  -0.007671                 t         House  Entire home/apt             6   \n",
       "\n",
       "   bathrooms  bedrooms  beds  bed_type  \\\n",
       "0        1.0       1.0   1.0  Real Bed   \n",
       "1        2.5       3.0   4.0  Real Bed   \n",
       "2        3.0       3.0   3.0  Real Bed   \n",
       "\n",
       "                                           amenities  square_feet  \\\n",
       "0  {TV,\"Cable TV\",Internet,Wifi,Kitchen,Breakfast...          NaN   \n",
       "1  {\"Cable TV\",Internet,Wifi,Kitchen,\"Free parkin...       1400.0   \n",
       "2  {TV,Internet,Wifi,Kitchen,\"Free parking on pre...       1800.0   \n",
       "\n",
       "   security_deposit  cleaning_fee  guests_included  extra_people  \\\n",
       "0             300.0          10.0                1          10.0   \n",
       "1             771.0           NaN                1           0.0   \n",
       "2             600.0           NaN                1           0.0   \n",
       "\n",
       "   minimum_nights          cancellation_policy require_guest_profile_picture  \\\n",
       "0               2  strict_14_with_grace_period                             f   \n",
       "1              14  strict_14_with_grace_period                             f   \n",
       "2              14  strict_14_with_grace_period                             f   \n",
       "\n",
       "  require_guest_phone_verification   price  \n",
       "0                                f  1000.0  \n",
       "1                                f   771.0  \n",
       "2                                f  1500.0  "
      ]
     },
     "execution_count": 7,
     "metadata": {},
     "output_type": "execute_result"
    }
   ],
   "source": [
    "train.head(3)"
   ]
  },
  {
   "cell_type": "code",
   "execution_count": 8,
   "metadata": {
    "collapsed": true
   },
   "outputs": [],
   "source": [
    "text_cols = ['name', 'summary', 'space', 'description', 'experiences_offered',\n",
    "             'neighborhood_overview', 'notes', 'transit', 'access', 'interaction', 'house_rules', 'host_about']\n",
    "\n",
    "date_cols = ['host_since']"
   ]
  },
  {
   "cell_type": "code",
   "execution_count": 9,
   "metadata": {
    "collapsed": true
   },
   "outputs": [],
   "source": [
    "# Выделим числовые признаки"
   ]
  },
  {
   "cell_type": "code",
   "execution_count": 10,
   "metadata": {},
   "outputs": [
    {
     "data": {
      "text/html": [
       "<div>\n",
       "<style>\n",
       "    .dataframe thead tr:only-child th {\n",
       "        text-align: right;\n",
       "    }\n",
       "\n",
       "    .dataframe thead th {\n",
       "        text-align: left;\n",
       "    }\n",
       "\n",
       "    .dataframe tbody tr th {\n",
       "        vertical-align: top;\n",
       "    }\n",
       "</style>\n",
       "<table border=\"1\" class=\"dataframe\">\n",
       "  <thead>\n",
       "    <tr style=\"text-align: right;\">\n",
       "      <th></th>\n",
       "      <th>host_id</th>\n",
       "      <th>latitude</th>\n",
       "      <th>longitude</th>\n",
       "      <th>accommodates</th>\n",
       "      <th>bathrooms</th>\n",
       "      <th>bedrooms</th>\n",
       "      <th>beds</th>\n",
       "      <th>square_feet</th>\n",
       "      <th>security_deposit</th>\n",
       "      <th>cleaning_fee</th>\n",
       "      <th>guests_included</th>\n",
       "      <th>extra_people</th>\n",
       "      <th>minimum_nights</th>\n",
       "      <th>price</th>\n",
       "    </tr>\n",
       "  </thead>\n",
       "  <tbody>\n",
       "    <tr>\n",
       "      <th>0</th>\n",
       "      <td>161720</td>\n",
       "      <td>51.447147</td>\n",
       "      <td>-0.339253</td>\n",
       "      <td>2</td>\n",
       "      <td>1.0</td>\n",
       "      <td>1.0</td>\n",
       "      <td>1.0</td>\n",
       "      <td>NaN</td>\n",
       "      <td>300.0</td>\n",
       "      <td>10.0</td>\n",
       "      <td>1</td>\n",
       "      <td>10.0</td>\n",
       "      <td>2</td>\n",
       "      <td>1000.0</td>\n",
       "    </tr>\n",
       "    <tr>\n",
       "      <th>1</th>\n",
       "      <td>1666422</td>\n",
       "      <td>51.549993</td>\n",
       "      <td>-0.184546</td>\n",
       "      <td>8</td>\n",
       "      <td>2.5</td>\n",
       "      <td>3.0</td>\n",
       "      <td>4.0</td>\n",
       "      <td>1400.0</td>\n",
       "      <td>771.0</td>\n",
       "      <td>NaN</td>\n",
       "      <td>1</td>\n",
       "      <td>0.0</td>\n",
       "      <td>14</td>\n",
       "      <td>771.0</td>\n",
       "    </tr>\n",
       "    <tr>\n",
       "      <th>2</th>\n",
       "      <td>2132532</td>\n",
       "      <td>51.469213</td>\n",
       "      <td>-0.007671</td>\n",
       "      <td>6</td>\n",
       "      <td>3.0</td>\n",
       "      <td>3.0</td>\n",
       "      <td>3.0</td>\n",
       "      <td>1800.0</td>\n",
       "      <td>600.0</td>\n",
       "      <td>NaN</td>\n",
       "      <td>1</td>\n",
       "      <td>0.0</td>\n",
       "      <td>14</td>\n",
       "      <td>1500.0</td>\n",
       "    </tr>\n",
       "  </tbody>\n",
       "</table>\n",
       "</div>"
      ],
      "text/plain": [
       "   host_id   latitude  longitude  accommodates  bathrooms  bedrooms  beds  \\\n",
       "0   161720  51.447147  -0.339253             2        1.0       1.0   1.0   \n",
       "1  1666422  51.549993  -0.184546             8        2.5       3.0   4.0   \n",
       "2  2132532  51.469213  -0.007671             6        3.0       3.0   3.0   \n",
       "\n",
       "   square_feet  security_deposit  cleaning_fee  guests_included  extra_people  \\\n",
       "0          NaN             300.0          10.0                1          10.0   \n",
       "1       1400.0             771.0           NaN                1           0.0   \n",
       "2       1800.0             600.0           NaN                1           0.0   \n",
       "\n",
       "   minimum_nights   price  \n",
       "0               2  1000.0  \n",
       "1              14   771.0  \n",
       "2              14  1500.0  "
      ]
     },
     "execution_count": 10,
     "metadata": {},
     "output_type": "execute_result"
    }
   ],
   "source": [
    "train.select_dtypes(include=['float64', 'int64'])\n",
    "\n",
    "num_cols = train.select_dtypes(include=['float64', 'int64']).index\n",
    "train[num_cols].head(3)"
   ]
  },
  {
   "cell_type": "code",
   "execution_count": 11,
   "metadata": {
    "collapsed": true
   },
   "outputs": [],
   "source": [
    "# Числовыми оказались не все признаки:\n",
    "num_cols = num_cols.drop(['host_id', 'latitude', 'longitude'])\n",
    "geo_cols = ['latitude', 'longitude']\n",
    "# host_id - категориальный признак"
   ]
  },
  {
   "cell_type": "code",
   "execution_count": null,
   "metadata": {
    "collapsed": true
   },
   "outputs": [],
   "source": [
    "# Выделим категориальные признаки"
   ]
  },
  {
   "cell_type": "code",
   "execution_count": 5,
   "metadata": {},
   "outputs": [
    {
     "data": {
      "text/html": [
       "<div>\n",
       "<style>\n",
       "    .dataframe thead tr:only-child th {\n",
       "        text-align: right;\n",
       "    }\n",
       "\n",
       "    .dataframe thead th {\n",
       "        text-align: left;\n",
       "    }\n",
       "\n",
       "    .dataframe tbody tr th {\n",
       "        vertical-align: top;\n",
       "    }\n",
       "</style>\n",
       "<table border=\"1\" class=\"dataframe\">\n",
       "  <thead>\n",
       "    <tr style=\"text-align: right;\">\n",
       "      <th></th>\n",
       "      <th>amenities</th>\n",
       "      <th>bed_type</th>\n",
       "      <th>cancellation_policy</th>\n",
       "      <th>host_has_profile_pic</th>\n",
       "      <th>host_identity_verified</th>\n",
       "      <th>host_is_superhost</th>\n",
       "      <th>host_response_rate</th>\n",
       "      <th>host_response_time</th>\n",
       "      <th>is_location_exact</th>\n",
       "      <th>neighbourhood_cleansed</th>\n",
       "      <th>property_type</th>\n",
       "      <th>require_guest_phone_verification</th>\n",
       "      <th>require_guest_profile_picture</th>\n",
       "      <th>room_type</th>\n",
       "      <th>zipcode</th>\n",
       "    </tr>\n",
       "  </thead>\n",
       "  <tbody>\n",
       "    <tr>\n",
       "      <th>0</th>\n",
       "      <td>{TV,\"Cable TV\",Internet,Wifi,Kitchen,Breakfast...</td>\n",
       "      <td>Real Bed</td>\n",
       "      <td>strict_14_with_grace_period</td>\n",
       "      <td>t</td>\n",
       "      <td>t</td>\n",
       "      <td>f</td>\n",
       "      <td>NaN</td>\n",
       "      <td>NaN</td>\n",
       "      <td>t</td>\n",
       "      <td>Richmond upon Thames</td>\n",
       "      <td>House</td>\n",
       "      <td>f</td>\n",
       "      <td>f</td>\n",
       "      <td>Private room</td>\n",
       "      <td>TW2 6</td>\n",
       "    </tr>\n",
       "    <tr>\n",
       "      <th>1</th>\n",
       "      <td>{\"Cable TV\",Internet,Wifi,Kitchen,\"Free parkin...</td>\n",
       "      <td>Real Bed</td>\n",
       "      <td>strict_14_with_grace_period</td>\n",
       "      <td>t</td>\n",
       "      <td>f</td>\n",
       "      <td>f</td>\n",
       "      <td>NaN</td>\n",
       "      <td>NaN</td>\n",
       "      <td>t</td>\n",
       "      <td>Camden</td>\n",
       "      <td>House</td>\n",
       "      <td>f</td>\n",
       "      <td>f</td>\n",
       "      <td>Entire home/apt</td>\n",
       "      <td>NW3 6NE</td>\n",
       "    </tr>\n",
       "    <tr>\n",
       "      <th>2</th>\n",
       "      <td>{TV,Internet,Wifi,Kitchen,\"Free parking on pre...</td>\n",
       "      <td>Real Bed</td>\n",
       "      <td>strict_14_with_grace_period</td>\n",
       "      <td>t</td>\n",
       "      <td>f</td>\n",
       "      <td>f</td>\n",
       "      <td>NaN</td>\n",
       "      <td>NaN</td>\n",
       "      <td>t</td>\n",
       "      <td>Lewisham</td>\n",
       "      <td>House</td>\n",
       "      <td>f</td>\n",
       "      <td>f</td>\n",
       "      <td>Entire home/apt</td>\n",
       "      <td>SE10</td>\n",
       "    </tr>\n",
       "  </tbody>\n",
       "</table>\n",
       "</div>"
      ],
      "text/plain": [
       "                                           amenities  bed_type  \\\n",
       "0  {TV,\"Cable TV\",Internet,Wifi,Kitchen,Breakfast...  Real Bed   \n",
       "1  {\"Cable TV\",Internet,Wifi,Kitchen,\"Free parkin...  Real Bed   \n",
       "2  {TV,Internet,Wifi,Kitchen,\"Free parking on pre...  Real Bed   \n",
       "\n",
       "           cancellation_policy host_has_profile_pic host_identity_verified  \\\n",
       "0  strict_14_with_grace_period                    t                      t   \n",
       "1  strict_14_with_grace_period                    t                      f   \n",
       "2  strict_14_with_grace_period                    t                      f   \n",
       "\n",
       "  host_is_superhost host_response_rate host_response_time is_location_exact  \\\n",
       "0                 f                NaN                NaN                 t   \n",
       "1                 f                NaN                NaN                 t   \n",
       "2                 f                NaN                NaN                 t   \n",
       "\n",
       "  neighbourhood_cleansed property_type require_guest_phone_verification  \\\n",
       "0   Richmond upon Thames         House                                f   \n",
       "1                 Camden         House                                f   \n",
       "2               Lewisham         House                                f   \n",
       "\n",
       "  require_guest_profile_picture        room_type  zipcode  \n",
       "0                             f     Private room    TW2 6  \n",
       "1                             f  Entire home/apt  NW3 6NE  \n",
       "2                             f  Entire home/apt     SE10  "
      ]
     },
     "execution_count": 5,
     "metadata": {},
     "output_type": "execute_result"
    }
   ],
   "source": [
    "cat_cols = np.setdiff1d(train.select_dtypes(include=['object']).index, text_cols+date_cols)\n",
    "train[cat_cols].head(3)"
   ]
  },
  {
   "cell_type": "code",
   "execution_count": 10,
   "metadata": {},
   "outputs": [
    {
     "data": {
      "text/plain": [
       "(74,)"
      ]
     },
     "execution_count": 10,
     "metadata": {},
     "output_type": "execute_result"
    }
   ],
   "source": [
    "# Все-таки host_response_rate - числовой признак: \n",
    "train.host_response_rate.value_counts().shape"
   ]
  },
  {
   "cell_type": "code",
   "execution_count": 6,
   "metadata": {
    "collapsed": true
   },
   "outputs": [],
   "source": [
    "train['host_response_rate'] = train['host_response_rate'].str[:-1].astype(float)\n",
    "test['host_response_rate'] = test['host_response_rate'].str[:-1].astype(float)\n",
    "num_cols = num_cols.tolist() + ['host_response_rate']"
   ]
  },
  {
   "cell_type": "markdown",
   "metadata": {
    "collapsed": true
   },
   "source": [
    "amenities - признак который нельзя просто засунуть в модель, подумайте, что с ним делать"
   ]
  },
  {
   "cell_type": "code",
   "execution_count": 7,
   "metadata": {
    "collapsed": true
   },
   "outputs": [],
   "source": [
    "cat_cols = cat_cols.tolist() + ['host_id']\n",
    "cat_cols.remove('amenities')\n",
    "cat_cols.remove('host_response_rate')"
   ]
  },
  {
   "cell_type": "code",
   "execution_count": null,
   "metadata": {
    "collapsed": true
   },
   "outputs": [],
   "source": [
    "# Что еще важно знать про категориальные признаки"
   ]
  },
  {
   "cell_type": "code",
   "execution_count": 8,
   "metadata": {},
   "outputs": [
    {
     "data": {
      "text/plain": [
       "bed_type                                5\n",
       "cancellation_policy                     6\n",
       "host_has_profile_pic                    2\n",
       "host_identity_verified                  2\n",
       "host_is_superhost                       2\n",
       "host_response_time                      4\n",
       "is_location_exact                       2\n",
       "neighbourhood_cleansed                 33\n",
       "property_type                          42\n",
       "require_guest_phone_verification        2\n",
       "require_guest_profile_picture           2\n",
       "room_type                               3\n",
       "zipcode                             31278\n",
       "host_id                             48941\n",
       "dtype: int64"
      ]
     },
     "execution_count": 8,
     "metadata": {},
     "output_type": "execute_result"
    }
   ],
   "source": [
    "train.drop('price', axis=1).append(test)[cat_cols].nunique()"
   ]
  },
  {
   "cell_type": "markdown",
   "metadata": {},
   "source": [
    "Категориальные признаки удобно разделять по мощности - вряд ли вы захотите сделать one hot encoding для признака zipcode"
   ]
  },
  {
   "cell_type": "code",
   "execution_count": 9,
   "metadata": {
    "collapsed": true
   },
   "outputs": [],
   "source": [
    "# Заполнять пропуски для категориальных признаков сплошное удовольствие, сделаем это сразу\n",
    "train[cat_cols] = train[cat_cols].fillna('other')\n",
    "test[cat_cols] = test[cat_cols].fillna('other')"
   ]
  },
  {
   "cell_type": "code",
   "execution_count": null,
   "metadata": {
    "collapsed": true
   },
   "outputs": [],
   "source": [
    "# В eda мы находили порядковые признаки"
   ]
  },
  {
   "cell_type": "code",
   "execution_count": 10,
   "metadata": {},
   "outputs": [
    {
     "data": {
      "text/plain": [
       "Entire home/apt    29567\n",
       "Private room       21732\n",
       "Shared room          516\n",
       "Name: room_type, dtype: int64"
      ]
     },
     "execution_count": 10,
     "metadata": {},
     "output_type": "execute_result"
    }
   ],
   "source": [
    "train.room_type.value_counts(dropna=False)"
   ]
  },
  {
   "cell_type": "code",
   "execution_count": 22,
   "metadata": {},
   "outputs": [
    {
     "data": {
      "text/plain": [
       "Entire home/apt    11568\n",
       "Private room       11232\n",
       "Shared room          200\n",
       "Name: room_type, dtype: int64"
      ]
     },
     "execution_count": 22,
     "metadata": {},
     "output_type": "execute_result"
    }
   ],
   "source": [
    "test.room_type.value_counts(dropna=False)"
   ]
  },
  {
   "cell_type": "markdown",
   "metadata": {},
   "source": [
    "В pandas есть возможность указать, что признак является категориальным (это существенно экономит память)\n",
    "Порядок в котором кодируются категории задается вот так:"
   ]
  },
  {
   "cell_type": "code",
   "execution_count": 25,
   "metadata": {
    "collapsed": true
   },
   "outputs": [],
   "source": [
    "train.room_type = train.room_type.astype('category').cat.set_categories(['Shared room', \n",
    "                                                                         'Private room', 'Entire home/apt'], ordered=True)\n",
    "test.room_type = test.room_type.astype('category').cat.set_categories(['Shared room', \n",
    "                                                                       'Private room', 'Entire home/apt'], ordered=True)"
   ]
  },
  {
   "cell_type": "code",
   "execution_count": 28,
   "metadata": {},
   "outputs": [
    {
     "data": {
      "text/plain": [
       "Index(['Shared room', 'Private room', 'Entire home/apt'], dtype='object')"
      ]
     },
     "execution_count": 28,
     "metadata": {},
     "output_type": "execute_result"
    }
   ],
   "source": [
    "train.room_type.cat.categories"
   ]
  },
  {
   "cell_type": "code",
   "execution_count": 30,
   "metadata": {},
   "outputs": [
    {
     "data": {
      "text/plain": [
       "0    1\n",
       "1    2\n",
       "2    2\n",
       "3    2\n",
       "4    2\n",
       "dtype: int8"
      ]
     },
     "execution_count": 30,
     "metadata": {},
     "output_type": "execute_result"
    }
   ],
   "source": [
    "# Так можно перейти к кодам, не используя label encoding\n",
    "\n",
    "train.room_type.cat.codes[:5]"
   ]
  },
  {
   "cell_type": "markdown",
   "metadata": {},
   "source": [
    " Найдите еще какие-нибудь порядковые признаки и задайте им порядок"
   ]
  },
  {
   "cell_type": "markdown",
   "metadata": {},
   "source": [
    "### Обработайте числовые признаки. Подумайте как бы вы заполнили пропуски, если бы готовили признаки для линейной модели,  для деревьев итд. \n",
    "Ищите вдохновение в классе sklearn.preprocessing (StandardScaler, PolynomialFeatures... - вот это вот все). Блоки фичей (для деревьев, для линейных моделей) сохраните."
   ]
  },
  {
   "cell_type": "code",
   "execution_count": null,
   "metadata": {
    "collapsed": true
   },
   "outputs": [],
   "source": [
    "# ваш код"
   ]
  },
  {
   "cell_type": "markdown",
   "metadata": {},
   "source": [
    "### Обработайте категориальные признаки. Попробуйте разные способы: OneHotEncoder, LabelEncoder, проекции числовых признаков на категориальные, кодирование частотой или чем-нибудь еще\n",
    "Блоки фичей (для деревьев, для линейных моделей) сохраните. Заранее подумайте о том, как дальше работать с этими блоками, как вы будете их собирать в датасет, что будет, если вы захотите посмотреть на важность признаков и понять, что это за фича номер 8 в топе."
   ]
  },
  {
   "cell_type": "code",
   "execution_count": null,
   "metadata": {
    "collapsed": true
   },
   "outputs": [],
   "source": [
    "# ваш код"
   ]
  },
  {
   "cell_type": "markdown",
   "metadata": {},
   "source": [
    "### Даты модель обрабатывать не умеет, сделайте это для нее. \n",
    "Можно кодировать даты количеством времени до-после какого-то события, или извлекать признаки, связанные календарной с датой: день недели, месяц время года, декада луны. \n",
    "Не забудьте сохранить"
   ]
  },
  {
   "cell_type": "code",
   "execution_count": null,
   "metadata": {
    "collapsed": true
   },
   "outputs": [],
   "source": [
    "# ваш код"
   ]
  },
  {
   "cell_type": "markdown",
   "metadata": {},
   "source": [
    "### И наконец обработайте тексты: можно попробовать все вот отсюда sklearn.feature_extraction.text, можно разобраться с эмбеддингами (взять из fastText). \n",
    "Сохраните"
   ]
  },
  {
   "cell_type": "code",
   "execution_count": null,
   "metadata": {
    "collapsed": true
   },
   "outputs": [],
   "source": [
    "# Ваш код"
   ]
  },
  {
   "cell_type": "code",
   "execution_count": null,
   "metadata": {
    "collapsed": true
   },
   "outputs": [],
   "source": []
  },
  {
   "cell_type": "code",
   "execution_count": null,
   "metadata": {
    "collapsed": true
   },
   "outputs": [],
   "source": []
  }
 ],
 "metadata": {
  "kernelspec": {
   "display_name": "Python 3",
   "language": "python",
   "name": "python3"
  },
  "language_info": {
   "codemirror_mode": {
    "name": "ipython",
    "version": 3
   },
   "file_extension": ".py",
   "mimetype": "text/x-python",
   "name": "python",
   "nbconvert_exporter": "python",
   "pygments_lexer": "ipython3",
   "version": "3.7.1"
  }
 },
 "nbformat": 4,
 "nbformat_minor": 2
}
