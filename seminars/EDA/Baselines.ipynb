{
 "cells": [
  {
   "cell_type": "markdown",
   "metadata": {},
   "source": [
    "https://github.com/Kaggle/kaggle-api\n",
    "\n",
    "https://www.kaggle.com/c/airbnb-pricing/data"
   ]
  },
  {
   "cell_type": "code",
   "execution_count": null,
   "metadata": {},
   "outputs": [],
   "source": [
    "%%bash\n",
    "\n",
    "rm -rf data\n",
    "kaggle competitions download -c airbnb-pricing -p data/\n"
   ]
  },
  {
   "cell_type": "code",
   "execution_count": null,
   "metadata": {},
   "outputs": [],
   "source": [
    "import numpy as np\n",
    "import pandas as pd\n",
    "pd.set_option('display.max_rows', 100)\n",
    "pd.set_option('display.max_columns', 100)\n",
    "import warnings\n",
    "warnings.filterwarnings('ignore')\n",
    "\n",
    "import seaborn as sns\n",
    "from matplotlib import pyplot as plt\n",
    "%matplotlib inline"
   ]
  },
  {
   "cell_type": "code",
   "execution_count": null,
   "metadata": {},
   "outputs": [],
   "source": [
    "train = pd.read_csv('data/train.csv.gz', compression='gzip')\n",
    "test = pd.read_csv('data/test.csv.gz', compression='gzip')\n",
    "\n",
    "subm = pd.read_csv('data/sample_submission.csv.gz', compression='gzip')"
   ]
  },
  {
   "cell_type": "code",
   "execution_count": null,
   "metadata": {},
   "outputs": [],
   "source": [
    "# Удаляем квартиры с нулевой ценой\n",
    "\n",
    "train = train.drop(train[train.price == 0].index)"
   ]
  },
  {
   "cell_type": "markdown",
   "metadata": {},
   "source": [
    "### метрика MAPE"
   ]
  },
  {
   "cell_type": "code",
   "execution_count": null,
   "metadata": {},
   "outputs": [],
   "source": [
    "def MAPE(y_true, y_pred):\n",
    "    return np.mean(np.abs((y_true-y_pred) / (y_true)).replace([-np.inf, np.inf], np.nan).dropna())*100"
   ]
  },
  {
   "cell_type": "markdown",
   "metadata": {},
   "source": [
    "### константный бейзлайн"
   ]
  },
  {
   "cell_type": "code",
   "execution_count": null,
   "metadata": {},
   "outputs": [],
   "source": [
    "# Медиана"
   ]
  },
  {
   "cell_type": "code",
   "execution_count": null,
   "metadata": {},
   "outputs": [],
   "source": [
    "np.median(train.price)"
   ]
  },
  {
   "cell_type": "code",
   "execution_count": null,
   "metadata": {},
   "outputs": [],
   "source": [
    "# Качество на трейне с константой \n",
    "MAPE(train.price, 80)"
   ]
  },
  {
   "cell_type": "code",
   "execution_count": null,
   "metadata": {},
   "outputs": [],
   "source": [
    "# Отправим константное решение \n",
    "subm['price'] = 80\n",
    "#subm.to_csv('./submissions/const.csv', index=False)\n",
    "\n",
    "MAPE(y_test[y_test.is_public == 1].price, [80])"
   ]
  },
  {
   "cell_type": "code",
   "execution_count": null,
   "metadata": {},
   "outputs": [],
   "source": [
    "# Взвешенная медиана "
   ]
  },
  {
   "cell_type": "code",
   "execution_count": null,
   "metadata": {},
   "outputs": [],
   "source": [
    "# Вектор нормализованных весов для y_train\n",
    "\n",
    "inv_y = 1 / train.price[train.price != 0].values\n",
    "\n",
    "w = inv_y / sum(inv_y)"
   ]
  },
  {
   "cell_type": "code",
   "execution_count": null,
   "metadata": {},
   "outputs": [],
   "source": [
    "#сортируем веса\n",
    "idxs = np.argsort(w)\n",
    "sorted_w = w[idxs]\n",
    "\n",
    "# Вычисляем накопительную сумму\n",
    "sorted_w_cumsum = np.cumsum(sorted_w)\n",
    "\n",
    "# находим индекс, для которого накопительная сумма становится больше 0.5\n",
    "idx = np.where(sorted_w_cumsum > 0.5)[0][0]\n",
    "\n",
    "# находим индекс искомого значения\n",
    "pos = idxs[idx]\n",
    "train.price[train.price != 0].values[pos]"
   ]
  },
  {
   "cell_type": "code",
   "execution_count": null,
   "metadata": {},
   "outputs": [],
   "source": [
    "# качество на трейне с константой \n",
    "MAPE(train.price, 45)"
   ]
  },
  {
   "cell_type": "code",
   "execution_count": null,
   "metadata": {},
   "outputs": [],
   "source": [
    "# отправим константное решение \n",
    "subm['price'] = 45\n",
    "subm.to_csv('./submissions/const.csv', index=False)"
   ]
  },
  {
   "cell_type": "code",
   "execution_count": null,
   "metadata": {},
   "outputs": [],
   "source": [
    "# Если Вы счастливый обладатель невинды отправлять решения можно вот так "
   ]
  },
  {
   "cell_type": "code",
   "execution_count": null,
   "metadata": {
    "scrolled": true
   },
   "outputs": [],
   "source": [
    "%%bash\n",
    "\n",
    "kaggle competitions submit -f ./submissions/const.csv -m constant_submission -c airbnb-pricing"
   ]
  },
  {
   "cell_type": "code",
   "execution_count": null,
   "metadata": {},
   "outputs": [],
   "source": [
    "%%bash\n",
    "\n",
    "kaggle competitions airbnb-pricing"
   ]
  },
  {
   "cell_type": "markdown",
   "metadata": {},
   "source": [
    "### кросс валидация"
   ]
  },
  {
   "cell_type": "code",
   "execution_count": null,
   "metadata": {},
   "outputs": [],
   "source": [
    "# Объединим трейн и тест\n",
    "\n",
    "test['price'] = -1\n",
    "\n",
    "data = pd.concat([train, test], 0)\n",
    "data.reset_index(drop=True, inplace=True)"
   ]
  },
  {
   "cell_type": "code",
   "execution_count": null,
   "metadata": {},
   "outputs": [],
   "source": [
    "from sklearn.model_selection import KFold"
   ]
  },
  {
   "cell_type": "code",
   "execution_count": null,
   "metadata": {},
   "outputs": [],
   "source": [
    "# Эта функция определяет что нам сейчас нужно на некотором наборе данных. Кросс валидация, или предсказания для теста.\n",
    "\n",
    "def cv_mode(CV):\n",
    "    \n",
    "    if CV:\n",
    "    \n",
    "        cv = KFold(n_splits=5, shuffle=False, random_state=42).split(data.iloc[:train.shape[0]])\n",
    "    \n",
    "    else:\n",
    "        i_tr = data.iloc[:train.shape[0]].index\n",
    "        i_tst = data.iloc[train.shape[0]:].index\n",
    "        cv = (i_tr, i_tst)\n",
    "    \n",
    "    return cv"
   ]
  },
  {
   "cell_type": "code",
   "execution_count": null,
   "metadata": {},
   "outputs": [],
   "source": [
    "# Получить предсказания, кросс-валидация, файл с решением\n",
    "\n",
    "def make_prediction(model, X, y, i_tr, i_tst):\n",
    "    X_train, X_test = X.iloc[i_tr, :], X.iloc[i_tst, :]\n",
    "    y_train, y_test = y.iloc[i_tr], y.iloc[i_tst]\n",
    "    model.fit(X_train, y_train)\n",
    "    prediction = model.predict(X_test)\n",
    "    return prediction, MAPE(y_test, prediction)\n",
    "        \n",
    "    \n",
    "def cross_val(model, X, y, CV=True):\n",
    "    cv = cv_mode(CV)\n",
    "    scores = []\n",
    "    for i_tr, i_tst in cv:\n",
    "        _, score = make_prediction(model, X, y, i_tr, i_tst)\n",
    "        scores.append(score)\n",
    "    return np.mean(scores), np.std(scores)\n",
    "\n",
    "\n",
    "def make_subm(model, X, y, filename, CV=False):\n",
    "    cv = cv_mode(CV)\n",
    "    (i_tr, i_tst) = cv\n",
    "    prediction, _ = make_prediction(model, X, y, i_tr, i_tst)\n",
    "    subm['price'] = prediction\n",
    "    subm.to_csv(filename, index=False)\n",
    "    pass\n",
    "\n"
   ]
  },
  {
   "cell_type": "markdown",
   "metadata": {},
   "source": [
    "### baselines"
   ]
  },
  {
   "cell_type": "code",
   "execution_count": null,
   "metadata": {},
   "outputs": [],
   "source": [
    "# Возьмем числовые признаки\n",
    "num_cols = ['accommodates', 'bathrooms', 'bedrooms', 'beds', 'square_feet',\n",
    "            'security_deposit', 'cleaning_fee', 'guests_included', 'extra_people',\n",
    "            'minimum_nights', 'latitude', 'longitude']"
   ]
  },
  {
   "cell_type": "code",
   "execution_count": null,
   "metadata": {},
   "outputs": [],
   "source": [
    "from sklearn.linear_model import Ridge\n",
    "from sklearn.ensemble import RandomForestRegressor\n",
    "from sklearn.neighbors import KNeighborsRegressor\n",
    "from lightgbm import LGBMRegressor"
   ]
  },
  {
   "cell_type": "code",
   "execution_count": null,
   "metadata": {},
   "outputs": [],
   "source": [
    "X = data[num_cols].fillna(0)\n",
    "y = data.price"
   ]
  },
  {
   "cell_type": "code",
   "execution_count": null,
   "metadata": {},
   "outputs": [],
   "source": [
    "# Почему скор хуже константы?\n",
    "model = Ridge()\n",
    "cross_val(model, X, y)"
   ]
  },
  {
   "cell_type": "code",
   "execution_count": null,
   "metadata": {},
   "outputs": [],
   "source": [
    "# Еще немного про MAPE"
   ]
  },
  {
   "cell_type": "code",
   "execution_count": null,
   "metadata": {},
   "outputs": [],
   "source": [
    "model = LGBMRegressor()\n",
    "cross_val(model, X, y)"
   ]
  },
  {
   "cell_type": "code",
   "execution_count": null,
   "metadata": {},
   "outputs": [],
   "source": [
    "# добавить веса\n",
    "\n",
    "model = LGBMRegressor()\n",
    "def make_prediction( model, X, y, i_tr, i_tst):\n",
    "    X_train, X_test = X.iloc[i_tr, :], X.iloc[i_tst, :]\n",
    "    y_train, y_test = y.iloc[i_tr], y.iloc[i_tst]\n",
    "    model.fit(X_train, y_train, sample_weight=1/y_train)\n",
    "    prediction = model.predict(X_test)\n",
    "    return prediction, MAPE(y_test, prediction)\n",
    "           \n",
    "cross_val(model, X, y)"
   ]
  },
  {
   "cell_type": "code",
   "execution_count": null,
   "metadata": {},
   "outputs": [],
   "source": [
    "# логарифмируем таргет\n",
    "\n",
    "model = LGBMRegressor()\n",
    "\n",
    "def make_prediction( model, X, y, i_tr, i_tst):\n",
    "    X_train, X_test = X.iloc[i_tr, :], X.iloc[i_tst, :]\n",
    "    y_train, y_test = np.log1p(y.iloc[i_tr]), y.iloc[i_tst]\n",
    "    model.fit(X_train, y_train)\n",
    "    prediction = np.expm1(model.predict(X_test))\n",
    "    return prediction, MAPE(y_test, prediction)\n",
    "        \n",
    "    \n",
    "cross_val(model, X, y)"
   ]
  },
  {
   "cell_type": "code",
   "execution_count": null,
   "metadata": {},
   "outputs": [],
   "source": [
    "# Проверим насколько наша валидация согласуется с лидербордом"
   ]
  },
  {
   "cell_type": "code",
   "execution_count": null,
   "metadata": {},
   "outputs": [],
   "source": [
    "scores = []\n",
    "for i, model in enumerate([Ridge(random_state=42), \n",
    "                          RandomForestRegressor(random_state=42, n_jobs=-1), \n",
    "                          KNeighborsRegressor(n_jobs=-1), LGBMRegressor()]):\n",
    "    \n",
    "    score, _ = cross_val(model, X, y, CV=True)\n",
    "    scores.append(score)\n",
    "    make_subm(model, X, y, cv, 'subm'+str(i)+'.csv')"
   ]
  },
  {
   "cell_type": "code",
   "execution_count": null,
   "metadata": {},
   "outputs": [],
   "source": [
    "ldb_scores=[43.845, 31.545, 41.248, 28.129]"
   ]
  },
  {
   "cell_type": "code",
   "execution_count": null,
   "metadata": {},
   "outputs": [],
   "source": [
    "plt.scatter(scores, ldb_scores)"
   ]
  },
  {
   "cell_type": "code",
   "execution_count": null,
   "metadata": {},
   "outputs": [],
   "source": []
  }
 ],
 "metadata": {
  "kernelspec": {
   "display_name": "Python 3",
   "language": "python",
   "name": "python3"
  },
  "language_info": {
   "codemirror_mode": {
    "name": "ipython",
    "version": 3
   },
   "file_extension": ".py",
   "mimetype": "text/x-python",
   "name": "python",
   "nbconvert_exporter": "python",
   "pygments_lexer": "ipython3",
   "version": "3.7.1"
  }
 },
 "nbformat": 4,
 "nbformat_minor": 2
}
