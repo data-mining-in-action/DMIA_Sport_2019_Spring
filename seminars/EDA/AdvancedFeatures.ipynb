{
 "cells": [
  {
   "cell_type": "code",
   "execution_count": 1,
   "metadata": {
    "collapsed": true
   },
   "outputs": [],
   "source": [
    "import numpy as np\n",
    "import pandas as pd\n",
    "pd.set_option('display.max_rows', 100)\n",
    "pd.set_option('display.max_columns', 100)\n",
    "\n",
    "from sklearn.model_selection import KFold\n",
    "\n",
    "import seaborn as sns\n",
    "from matplotlib import pyplot as plt\n",
    "%matplotlib inline"
   ]
  },
  {
   "cell_type": "code",
   "execution_count": 2,
   "metadata": {
    "collapsed": true
   },
   "outputs": [],
   "source": [
    "train = pd.read_csv('data/train.csv.gz', compression='gzip')\n",
    "train = train.drop(train[train.price.isnull()].index)\n",
    "\n",
    "test = pd.read_csv('data/test.csv.gz', compression='gzip')\n",
    "\n",
    "subm = pd.read_csv('data/sample_submission.csv.gz', compression='gzip')"
   ]
  },
  {
   "cell_type": "code",
   "execution_count": 3,
   "metadata": {
    "collapsed": true
   },
   "outputs": [],
   "source": [
    "# Объединим трейн и тест\n",
    "\n",
    "test['price'] = -1\n",
    "\n",
    "data = pd.concat([train, test], 0) #, sort=False)\n",
    "data.reset_index(drop=True, inplace=True)"
   ]
  },
  {
   "cell_type": "code",
   "execution_count": 4,
   "metadata": {
    "collapsed": true
   },
   "outputs": [],
   "source": [
    "def MAPE(y_true, y_pred):\n",
    "    return np.mean(np.abs((y_true-y_pred) / (y_true)).replace([-np.inf, np.inf], np.nan).dropna())*100\n",
    "\n",
    "def cv_mode(CV):\n",
    "    \n",
    "    if CV:\n",
    "    \n",
    "        cv = KFold(n_splits=5, shuffle=False, random_state=42).split(data.iloc[:train.shape[0]])\n",
    "    \n",
    "    else:\n",
    "        i_tr = data.iloc[:train.shape[0]].index\n",
    "        i_tst = data.iloc[train.shape[0]:].index\n",
    "        cv = (i_tr, i_tst)\n",
    "    \n",
    "    return cv\n",
    "\n",
    "def make_prediction( model, X, y, i_tr, i_tst):\n",
    "    X_train, X_test = X.iloc[i_tr, :], X.iloc[i_tst, :]\n",
    "    y_train, y_test = np.log1p(y.iloc[i_tr]), y.iloc[i_tst]\n",
    "    model.fit(X_train, y_train)\n",
    "    prediction = np.expm1(model.predict(X_test))\n",
    "    return prediction, MAPE(y_test, prediction)\n",
    "        \n",
    "    \n",
    "def cross_val(model, X, y, CV=True):\n",
    "    cv = cv_mode(CV)\n",
    "    scores = []\n",
    "    for i_tr, i_tst in cv:\n",
    "        _, score = make_prediction(model, X, y, i_tr, i_tst)\n",
    "        scores.append(score)\n",
    "    return np.mean(scores), np.std(scores)\n",
    "\n",
    "\n",
    "def make_subm(model, X, y, filename, CV=False):\n",
    "    cv = cv_mode(CV)\n",
    "    (i_tr, i_tst) = cv\n",
    "    prediction, _ = make_prediction(model, X, y, i_tr, i_tst)\n",
    "    subm['price'] = prediction\n",
    "    subm.to_csv(filename, index=False)\n",
    "    pass\n",
    "\n"
   ]
  },
  {
   "cell_type": "markdown",
   "metadata": {},
   "source": [
    "# KNN "
   ]
  },
  {
   "cell_type": "code",
   "execution_count": 5,
   "metadata": {
    "collapsed": true
   },
   "outputs": [],
   "source": [
    "from sklearn.neighbors import NearestNeighbors"
   ]
  },
  {
   "cell_type": "code",
   "execution_count": null,
   "metadata": {
    "collapsed": true
   },
   "outputs": [],
   "source": [
    "# Посчитаем количество количество соседей в некотором радиусе для каждой квартиры\n",
    "# Как думаете считать будем только по трейну или объединим трейн и тест? "
   ]
  },
  {
   "cell_type": "code",
   "execution_count": 6,
   "metadata": {
    "collapsed": true
   },
   "outputs": [],
   "source": [
    "nb = NearestNeighbors(radius=1.0, n_jobs=-1)"
   ]
  },
  {
   "cell_type": "code",
   "execution_count": 7,
   "metadata": {
    "collapsed": true
   },
   "outputs": [],
   "source": [
    "for r in [0.001, 0.01]:\n",
    "    nb = NearestNeighbors(radius=r, n_jobs=-1)\n",
    "    nb.fit(data[['latitude', 'longitude']])\n",
    "    nbrs = nb.radius_neighbors(data[['latitude', 'longitude']], r, return_distance=False)\n",
    "    data['nn_' + str(r)] = [len(x) for x in nbrs]\n",
    "    "
   ]
  },
  {
   "cell_type": "code",
   "execution_count": 8,
   "metadata": {
    "collapsed": true
   },
   "outputs": [],
   "source": [
    "# чем эти признаки сейчас отличается для трейна и теста? "
   ]
  },
  {
   "cell_type": "code",
   "execution_count": null,
   "metadata": {
    "collapsed": true
   },
   "outputs": [],
   "source": [
    "# Теперь посчитаем статиcтики по ценам соседних квартир. \n",
    "# Здесь учимся только на трейне\n",
    "# Сразу думаем чем отличается признак для трейна и для теста"
   ]
  },
  {
   "cell_type": "code",
   "execution_count": 9,
   "metadata": {
    "collapsed": true
   },
   "outputs": [],
   "source": [
    "def get_nn_fe(i, nb):\n",
    "    return_list = []\n",
    "    \n",
    "    for r in [0.001, 0.01]:\n",
    "        \n",
    "        nbrs = nb.radius_neighbors([[data.loc[i, 'latitude'], data.loc[i, 'longitude']]], r, \n",
    "                                      return_distance=False)\n",
    "        ys = train.price[nbrs[0][nbrs[0] != i]]\n",
    "        \n",
    "        return_list.append(ys.mean())\n",
    "        return_list.append(ys.max())\n",
    "        return_list.append(ys.min())\n",
    "        return_list.append(ys.std())\n",
    "        \n",
    "    \n",
    "    return return_list"
   ]
  },
  {
   "cell_type": "code",
   "execution_count": 10,
   "metadata": {
    "collapsed": true
   },
   "outputs": [],
   "source": [
    "from tqdm import tqdm"
   ]
  },
  {
   "cell_type": "code",
   "execution_count": 11,
   "metadata": {},
   "outputs": [
    {
     "name": "stderr",
     "output_type": "stream",
     "text": [
      "100%|██████████| 74815/74815 [06:44<00:00, 185.06it/s]\n"
     ]
    }
   ],
   "source": [
    "nb=NearestNeighbors(radius=0.01, n_jobs=-1)\n",
    "nb.fit(train[['latitude', 'longitude']])\n",
    "\n",
    "knn_fe = []\n",
    "for i in tqdm(range(data.shape[0])):\n",
    "    knn_fe.append(get_nn_fe(i, nb))\n",
    "knn_fe = np.vstack(knn_fe)"
   ]
  },
  {
   "cell_type": "code",
   "execution_count": 12,
   "metadata": {
    "collapsed": true
   },
   "outputs": [],
   "source": [
    "# Назовем колонки так, чтобы было понятно что это такое\n",
    "\n",
    "from itertools import product\n",
    "\n",
    "cols = ['price_' + str(x)+ '_' + str(y) for x, y in product([0.001, 0.01], ['mean', 'max', 'min', 'std'])]\n",
    "                          \n",
    "knn_fe = pd.DataFrame(index = data.index, data = knn_fe, columns = cols)"
   ]
  },
  {
   "cell_type": "code",
   "execution_count": null,
   "metadata": {
    "collapsed": true
   },
   "outputs": [],
   "source": [
    "# Посмотрим как повлияли на качество новые признаки"
   ]
  },
  {
   "cell_type": "code",
   "execution_count": 13,
   "metadata": {
    "collapsed": true
   },
   "outputs": [],
   "source": [
    "num_cols = ['accommodates', 'bathrooms', 'bedrooms', 'beds', 'square_feet',\n",
    "            'security_deposit', 'cleaning_fee', 'guests_included', 'extra_people',\n",
    "            'minimum_nights', 'latitude', 'longitude']\n",
    "\n",
    "X = data[num_cols].fillna(0)\n",
    "y = data.price"
   ]
  },
  {
   "cell_type": "code",
   "execution_count": 14,
   "metadata": {
    "collapsed": true
   },
   "outputs": [],
   "source": [
    "# Функция feature importance\n",
    "\n",
    "def print_fi(model, X):\n",
    "    fi = pd.Series(index=X.columns, data=model.feature_importances_).sort_values(ascending=False)\n",
    "    sns.barplot(y=fi.index, x=fi);\n",
    "    pass"
   ]
  },
  {
   "cell_type": "code",
   "execution_count": 15,
   "metadata": {
    "collapsed": true
   },
   "outputs": [],
   "source": [
    "from lightgbm import LGBMRegressor\n",
    "model = LGBMRegressor()"
   ]
  },
  {
   "cell_type": "code",
   "execution_count": 16,
   "metadata": {},
   "outputs": [
    {
     "data": {
      "text/plain": [
       "(31.114155865397503, 1.5548731381178753)"
      ]
     },
     "execution_count": 16,
     "metadata": {},
     "output_type": "execute_result"
    }
   ],
   "source": [
    "cross_val(model, X, y, CV=True)"
   ]
  },
  {
   "cell_type": "code",
   "execution_count": null,
   "metadata": {
    "collapsed": true
   },
   "outputs": [],
   "source": [
    "# важность признаков мы смотрим для последнего фолда"
   ]
  },
  {
   "cell_type": "code",
   "execution_count": 17,
   "metadata": {},
   "outputs": [
    {
     "data": {
      "image/png": "[encoded data removed]",
      "text/plain": [
       "<Figure size 432x288 with 1 Axes>"
      ]
     },
     "metadata": {},
     "output_type": "display_data"
    }
   ],
   "source": [
    "print_fi(model, X)"
   ]
  },
  {
   "cell_type": "code",
   "execution_count": 18,
   "metadata": {
    "collapsed": true
   },
   "outputs": [],
   "source": [
    "X = X.join(data[['nn_0.001', 'nn_0.01']]).join(knn_fe) "
   ]
  },
  {
   "cell_type": "code",
   "execution_count": null,
   "metadata": {
    "collapsed": true
   },
   "outputs": [],
   "source": [
    "# В кросс-валидации у нас только трейн.  Те и в трейне и в валидации объекты на которых мы учились\n",
    "# для knn признаков. Подумайте здесь так можно делать? А когда так нельзя делать? "
   ]
  },
  {
   "cell_type": "code",
   "execution_count": 19,
   "metadata": {},
   "outputs": [
    {
     "data": {
      "text/plain": [
       "(30.748870377981156, 1.5073547404242225)"
      ]
     },
     "execution_count": 19,
     "metadata": {},
     "output_type": "execute_result"
    }
   ],
   "source": [
    "cross_val(model, X, y, CV=True)"
   ]
  },
  {
   "cell_type": "code",
   "execution_count": 20,
   "metadata": {},
   "outputs": [
    {
     "data": {
      "image/png": "[encoded data removed]",
      "text/plain": [
       "<Figure size 432x288 with 1 Axes>"
      ]
     },
     "metadata": {},
     "output_type": "display_data"
    }
   ],
   "source": [
    "print_fi(model, X)"
   ]
  },
  {
   "cell_type": "markdown",
   "metadata": {},
   "source": [
    "## Используем дополнительные таблицы"
   ]
  },
  {
   "cell_type": "code",
   "execution_count": null,
   "metadata": {
    "collapsed": true
   },
   "outputs": [],
   "source": [
    "# Календарь"
   ]
  },
  {
   "cell_type": "code",
   "execution_count": 23,
   "metadata": {},
   "outputs": [],
   "source": [
    "cldr = pd.read_csv('data/calendar.csv.gz', compression='gzip')"
   ]
  },
  {
   "cell_type": "code",
   "execution_count": 24,
   "metadata": {},
   "outputs": [
    {
     "data": {
      "text/html": [
       "<div>\n",
       "<style>\n",
       "    .dataframe thead tr:only-child th {\n",
       "        text-align: right;\n",
       "    }\n",
       "\n",
       "    .dataframe thead th {\n",
       "        text-align: left;\n",
       "    }\n",
       "\n",
       "    .dataframe tbody tr th {\n",
       "        vertical-align: top;\n",
       "    }\n",
       "</style>\n",
       "<table border=\"1\" class=\"dataframe\">\n",
       "  <thead>\n",
       "    <tr style=\"text-align: right;\">\n",
       "      <th></th>\n",
       "      <th>listing_id</th>\n",
       "      <th>date</th>\n",
       "      <th>available</th>\n",
       "    </tr>\n",
       "  </thead>\n",
       "  <tbody>\n",
       "    <tr>\n",
       "      <th>0</th>\n",
       "      <td>9554</td>\n",
       "      <td>2019-08-18</td>\n",
       "      <td>t</td>\n",
       "    </tr>\n",
       "    <tr>\n",
       "      <th>1</th>\n",
       "      <td>97446</td>\n",
       "      <td>2019-11-04</td>\n",
       "      <td>f</td>\n",
       "    </tr>\n",
       "    <tr>\n",
       "      <th>2</th>\n",
       "      <td>97446</td>\n",
       "      <td>2019-11-03</td>\n",
       "      <td>f</td>\n",
       "    </tr>\n",
       "    <tr>\n",
       "      <th>3</th>\n",
       "      <td>97446</td>\n",
       "      <td>2019-11-02</td>\n",
       "      <td>f</td>\n",
       "    </tr>\n",
       "    <tr>\n",
       "      <th>4</th>\n",
       "      <td>97446</td>\n",
       "      <td>2019-11-01</td>\n",
       "      <td>f</td>\n",
       "    </tr>\n",
       "  </tbody>\n",
       "</table>\n",
       "</div>"
      ],
      "text/plain": [
       "   listing_id        date available\n",
       "0        9554  2019-08-18         t\n",
       "1       97446  2019-11-04         f\n",
       "2       97446  2019-11-03         f\n",
       "3       97446  2019-11-02         f\n",
       "4       97446  2019-11-01         f"
      ]
     },
     "execution_count": 24,
     "metadata": {},
     "output_type": "execute_result"
    }
   ],
   "source": [
    "cldr.head()"
   ]
  },
  {
   "cell_type": "code",
   "execution_count": 25,
   "metadata": {
    "collapsed": true
   },
   "outputs": [],
   "source": [
    "cldr.available = (cldr.available == 'f').astype(int)"
   ]
  },
  {
   "cell_type": "code",
   "execution_count": null,
   "metadata": {
    "collapsed": true
   },
   "outputs": [],
   "source": [
    "#  Посчитаем статистику доступности жилья в следующем году"
   ]
  },
  {
   "cell_type": "code",
   "execution_count": 26,
   "metadata": {
    "collapsed": true
   },
   "outputs": [],
   "source": [
    "avlbl_rate = cldr.groupby('listing_id').apply(lambda x: x.available.sum() / x.shape[0])\n",
    "avlbl_rate.name = 'avlbl_rate'"
   ]
  },
  {
   "cell_type": "code",
   "execution_count": 27,
   "metadata": {
    "collapsed": true
   },
   "outputs": [],
   "source": [
    "# добавим признак\n",
    "\n",
    "data = data.merge(avlbl_rate.to_frame(), left_on='id', right_index=True, how='left')"
   ]
  },
  {
   "cell_type": "code",
   "execution_count": null,
   "metadata": {
    "collapsed": true
   },
   "outputs": [],
   "source": [
    "# Проверим как выросло качество относительно базового датасета"
   ]
  },
  {
   "cell_type": "code",
   "execution_count": 28,
   "metadata": {
    "collapsed": true
   },
   "outputs": [],
   "source": [
    "X = data[num_cols].fillna(0)\n",
    "X['avlbl_rate'] = data['avlbl_rate']"
   ]
  },
  {
   "cell_type": "code",
   "execution_count": 29,
   "metadata": {},
   "outputs": [
    {
     "data": {
      "text/plain": [
       "(30.495933165782553, 1.1970083975194161)"
      ]
     },
     "execution_count": 29,
     "metadata": {},
     "output_type": "execute_result"
    }
   ],
   "source": [
    "cross_val(model, X, y, CV=True)"
   ]
  },
  {
   "cell_type": "code",
   "execution_count": 30,
   "metadata": {
    "collapsed": true
   },
   "outputs": [],
   "source": [
    "del cldr"
   ]
  },
  {
   "cell_type": "code",
   "execution_count": null,
   "metadata": {
    "collapsed": true
   },
   "outputs": [],
   "source": [
    "# Отзывы"
   ]
  },
  {
   "cell_type": "code",
   "execution_count": 32,
   "metadata": {},
   "outputs": [],
   "source": [
    "reviews = pd.read_csv('data/reviews.csv.gz', compression='gzip')"
   ]
  },
  {
   "cell_type": "code",
   "execution_count": 33,
   "metadata": {},
   "outputs": [
    {
     "data": {
      "text/html": [
       "<div>\n",
       "<style>\n",
       "    .dataframe thead tr:only-child th {\n",
       "        text-align: right;\n",
       "    }\n",
       "\n",
       "    .dataframe thead th {\n",
       "        text-align: left;\n",
       "    }\n",
       "\n",
       "    .dataframe tbody tr th {\n",
       "        vertical-align: top;\n",
       "    }\n",
       "</style>\n",
       "<table border=\"1\" class=\"dataframe\">\n",
       "  <thead>\n",
       "    <tr style=\"text-align: right;\">\n",
       "      <th></th>\n",
       "      <th>listing_id</th>\n",
       "      <th>id</th>\n",
       "      <th>date</th>\n",
       "      <th>reviewer_id</th>\n",
       "      <th>reviewer_name</th>\n",
       "      <th>comments</th>\n",
       "    </tr>\n",
       "  </thead>\n",
       "  <tbody>\n",
       "    <tr>\n",
       "      <th>0</th>\n",
       "      <td>9554</td>\n",
       "      <td>1184025</td>\n",
       "      <td>2012-04-26</td>\n",
       "      <td>1809049</td>\n",
       "      <td>Hana</td>\n",
       "      <td>I  stayed  in London for a month to study, exp...</td>\n",
       "    </tr>\n",
       "    <tr>\n",
       "      <th>1</th>\n",
       "      <td>9554</td>\n",
       "      <td>1206322</td>\n",
       "      <td>2012-04-30</td>\n",
       "      <td>2237488</td>\n",
       "      <td>Rishi</td>\n",
       "      <td>My bnb request was very last minute and i was ...</td>\n",
       "    </tr>\n",
       "    <tr>\n",
       "      <th>2</th>\n",
       "      <td>9554</td>\n",
       "      <td>1258541</td>\n",
       "      <td>2012-05-10</td>\n",
       "      <td>2150467</td>\n",
       "      <td>Panee</td>\n",
       "      <td>First time as airbnb!First time to London! I c...</td>\n",
       "    </tr>\n",
       "    <tr>\n",
       "      <th>3</th>\n",
       "      <td>9554</td>\n",
       "      <td>1405284</td>\n",
       "      <td>2012-06-03</td>\n",
       "      <td>1864672</td>\n",
       "      <td>Simone Cristina</td>\n",
       "      <td>A wonderful experience! The house is very well...</td>\n",
       "    </tr>\n",
       "    <tr>\n",
       "      <th>4</th>\n",
       "      <td>9554</td>\n",
       "      <td>1475969</td>\n",
       "      <td>2012-06-13</td>\n",
       "      <td>2438453</td>\n",
       "      <td>Sondra</td>\n",
       "      <td>We are so grateful that we trusted our intuiti...</td>\n",
       "    </tr>\n",
       "  </tbody>\n",
       "</table>\n",
       "</div>"
      ],
      "text/plain": [
       "   listing_id       id        date  reviewer_id    reviewer_name  \\\n",
       "0        9554  1184025  2012-04-26      1809049             Hana   \n",
       "1        9554  1206322  2012-04-30      2237488            Rishi   \n",
       "2        9554  1258541  2012-05-10      2150467            Panee   \n",
       "3        9554  1405284  2012-06-03      1864672  Simone Cristina   \n",
       "4        9554  1475969  2012-06-13      2438453           Sondra   \n",
       "\n",
       "                                            comments  \n",
       "0  I  stayed  in London for a month to study, exp...  \n",
       "1  My bnb request was very last minute and i was ...  \n",
       "2  First time as airbnb!First time to London! I c...  \n",
       "3  A wonderful experience! The house is very well...  \n",
       "4  We are so grateful that we trusted our intuiti...  "
      ]
     },
     "execution_count": 33,
     "metadata": {},
     "output_type": "execute_result"
    }
   ],
   "source": [
    "reviews.head()"
   ]
  },
  {
   "cell_type": "code",
   "execution_count": 34,
   "metadata": {},
   "outputs": [
    {
     "data": {
      "text/plain": [
       "'I  stayed  in London for a month to study, explore the city, and meet people along the way.  \\r\\n\\r\\nI think the area is a great place to set your base. The neighborhood is lively and friendly, with an eclectic mix of ethic restaurants, colorful grocery stores and a happening pub that stays open late. There’s a big, green park nearby which is great for running or having a coffee. Central London is twenty minutes away by Tube.\\r\\n\\r\\nThe apartment is charming, ceiling to floor. It actually does look even better than in the photos! The guest-room is bright and well heated, with a beautiful work desk and a spacious closet.  The kitchen is spacious and smells of fresh espresso in the morning. \\r\\n\\r\\nGuy is a friendly, reliable, easy- going host who knows (and loves!) London. Make sure to ask about the must-go London pubs and places to eat! \\r\\n\\r\\nAll in all, I’d wholeheartedly recommend the apartment and the neighborhood, not to mention the curry house down the street!  Enjoy !!! \\r\\n'"
      ]
     },
     "execution_count": 34,
     "metadata": {},
     "output_type": "execute_result"
    }
   ],
   "source": [
    "reviews.comments[0]"
   ]
  },
  {
   "cell_type": "markdown",
   "metadata": {},
   "source": [
    "Обсуждаем что можно сделать c этой таблицей. считать количество отзывов, fasttext, предсказание тональности отзыва, идея что можно вытащить из них время до метро, искать слова обозначающие, проблемы, потому что отзывы, в основном, будут положительные. "
   ]
  },
  {
   "cell_type": "markdown",
   "metadata": {
    "collapsed": true
   },
   "source": [
    "## Отбор признаков"
   ]
  },
  {
   "cell_type": "code",
   "execution_count": 35,
   "metadata": {
    "collapsed": true
   },
   "outputs": [],
   "source": [
    "X = X.join(data[['nn_0.001', 'nn_0.01']]).join(knn_fe) "
   ]
  },
  {
   "cell_type": "code",
   "execution_count": 36,
   "metadata": {},
   "outputs": [
    {
     "data": {
      "text/plain": [
       "(30.166526508719521, 1.2657689399434509)"
      ]
     },
     "execution_count": 36,
     "metadata": {},
     "output_type": "execute_result"
    }
   ],
   "source": [
    "cross_val(model, X, y, CV=True)"
   ]
  },
  {
   "cell_type": "code",
   "execution_count": 37,
   "metadata": {},
   "outputs": [
    {
     "data": {
      "image/png": "[encoded data removed]",
      "text/plain": [
       "<Figure size 432x288 with 1 Axes>"
      ]
     },
     "metadata": {},
     "output_type": "display_data"
    }
   ],
   "source": [
    "print_fi(model, X)"
   ]
  },
  {
   "cell_type": "code",
   "execution_count": null,
   "metadata": {
    "collapsed": true
   },
   "outputs": [],
   "source": [
    "# наверное топ 10 признаков самые важные и полезные? "
   ]
  },
  {
   "cell_type": "code",
   "execution_count": 38,
   "metadata": {},
   "outputs": [
    {
     "name": "stdout",
     "output_type": "stream",
     "text": [
      "CPU times: user 7min 35s, sys: 4.98 s, total: 7min 40s\n",
      "Wall time: 2min 41s\n"
     ]
    }
   ],
   "source": [
    "%%time\n",
    "fi = pd.Series([])\n",
    "for col in X.columns:\n",
    "    fi[col] = cross_val(model, X.drop(col, axis=1), y, CV=True)"
   ]
  },
  {
   "cell_type": "code",
   "execution_count": 39,
   "metadata": {},
   "outputs": [
    {
     "data": {
      "text/plain": [
       "price_0.01_std      (30.0692214837, 1.22291266648)\n",
       "price_0.01_max       (30.0987933517, 1.2679172816)\n",
       "nn_0.01              (30.104864439, 1.21642750402)\n",
       "price_0.001_max     (30.1216044801, 1.26544890642)\n",
       "latitude            (30.1358846526, 1.29650065464)\n",
       "price_0.001_std      (30.138007546, 1.24051600348)\n",
       "nn_0.001            (30.1407780018, 1.21025040634)\n",
       "price_0.001_min     (30.1449738552, 1.27962314512)\n",
       "price_0.01_min      (30.1520146976, 1.24935412283)\n",
       "beds                 (30.162794315, 1.24602376139)\n",
       "square_feet         (30.1665265087, 1.26576893994)\n",
       "price_0.001_mean    (30.1926734068, 1.25935702131)\n",
       "minimum_nights       (30.2360080705, 1.2791117369)\n",
       "longitude           (30.2428310775, 1.25859373104)\n",
       "price_0.01_mean     (30.3635920629, 1.27949337729)\n",
       "bathrooms           (30.4524864926, 1.19557394731)\n",
       "security_deposit     (30.481602416, 1.31099077317)\n",
       "bedrooms            (30.4883612995, 1.27251649503)\n",
       "guests_included     (30.5534834368, 1.25976820557)\n",
       "avlbl_rate           (30.748870378, 1.50735474042)\n",
       "extra_people        (30.9602662217, 1.26629896196)\n",
       "cleaning_fee        (31.3071157033, 1.25700121306)\n",
       "accommodates         (32.650121801, 1.30921312205)\n",
       "dtype: object"
      ]
     },
     "execution_count": 39,
     "metadata": {},
     "output_type": "execute_result"
    }
   ],
   "source": [
    "fi.sort_values()"
   ]
  },
  {
   "cell_type": "code",
   "execution_count": 47,
   "metadata": {},
   "outputs": [
    {
     "data": {
      "text/plain": [
       "(30.10162567321343, 1.205596538754077)"
      ]
     },
     "execution_count": 47,
     "metadata": {},
     "output_type": "execute_result"
    }
   ],
   "source": [
    "cross_val(model, X.drop(fi.sort_values()[:4].index, axis=1), y, CV=True)"
   ]
  },
  {
   "cell_type": "code",
   "execution_count": null,
   "metadata": {
    "collapsed": true
   },
   "outputs": [],
   "source": [
    "# один из удаленных признаков был из первой десятки важных для lgb признаков"
   ]
  },
  {
   "cell_type": "code",
   "execution_count": null,
   "metadata": {
    "collapsed": true
   },
   "outputs": [],
   "source": [
    "# отбор признаков перестановками"
   ]
  },
  {
   "cell_type": "code",
   "execution_count": 48,
   "metadata": {},
   "outputs": [
    {
     "name": "stdout",
     "output_type": "stream",
     "text": [
      "CPU times: user 34.3 s, sys: 192 ms, total: 34.5 s\n",
      "Wall time: 12.1 s\n"
     ]
    }
   ],
   "source": [
    "%%time\n",
    "\n",
    "cv = cv_mode(CV=True)\n",
    "\n",
    "fis=[]\n",
    "for i_tr, i_tst in cv:\n",
    "    X_train, X_test = X.iloc[i_tr, :], X.iloc[i_tst, :]\n",
    "    y_train, y_test = np.log1p(y.iloc[i_tr]), y.iloc[i_tst]\n",
    "    model.fit(X_train, y_train)\n",
    "    prediction = np.expm1(model.predict(X_test))\n",
    "    base_score = MAPE(y_test, prediction)\n",
    "    fi = pd.Series([])\n",
    "    for col in X_train.columns:\n",
    "        tmp = X_test.copy()\n",
    "        tmp[col] = np.random.permutation(tmp[col])\n",
    "        prediction = np.expm1(model.predict(tmp))\n",
    "        fi[col] = MAPE(y_test, prediction) - base_score\n",
    "    fis.append(fi) "
   ]
  },
  {
   "cell_type": "code",
   "execution_count": 49,
   "metadata": {},
   "outputs": [
    {
     "name": "stdout",
     "output_type": "stream",
     "text": [
      "---------\n",
      "price_0.01_min    -0.016969\n",
      "square_feet        0.000000\n",
      "price_0.01_std     0.008689\n",
      "price_0.01_max     0.069491\n",
      "price_0.001_std    0.070954\n",
      "dtype: float64\n",
      "---------\n",
      "price_0.01_min    -0.051010\n",
      "square_feet        0.000000\n",
      "price_0.001_std    0.002326\n",
      "nn_0.001           0.050622\n",
      "price_0.01_std     0.059035\n",
      "dtype: float64\n",
      "---------\n",
      "price_0.001_std   -0.125720\n",
      "price_0.01_std    -0.096351\n",
      "price_0.01_max    -0.056105\n",
      "latitude          -0.053507\n",
      "square_feet        0.000000\n",
      "dtype: float64\n",
      "---------\n",
      "price_0.01_std    -0.038006\n",
      "price_0.01_min    -0.032925\n",
      "price_0.001_std   -0.023435\n",
      "price_0.001_max   -0.015633\n",
      "nn_0.001          -0.002543\n",
      "dtype: float64\n",
      "---------\n",
      "price_0.001_std   -0.057853\n",
      "price_0.01_min    -0.009766\n",
      "square_feet        0.000000\n",
      "price_0.001_max    0.065046\n",
      "price_0.01_std     0.068073\n",
      "dtype: float64\n"
     ]
    }
   ],
   "source": [
    "for fi in fis:\n",
    "    print('---------')\n",
    "    print(fi.sort_values()[:5])"
   ]
  },
  {
   "cell_type": "code",
   "execution_count": null,
   "metadata": {
    "collapsed": true
   },
   "outputs": [],
   "source": [
    "# теперь можно эти признаки пересекать, объединять, усреднять, устраивать голосование"
   ]
  },
  {
   "cell_type": "code",
   "execution_count": 50,
   "metadata": {},
   "outputs": [
    {
     "data": {
      "text/plain": [
       "array(['price_0.001_std', 'price_0.01_std'], dtype=object)"
      ]
     },
     "execution_count": 50,
     "metadata": {},
     "output_type": "execute_result"
    }
   ],
   "source": [
    "# Пересекли\n",
    "\n",
    "from functools import reduce\n",
    "cols1 = reduce(np.intersect1d, ([fi.sort_values()[:5].index for fi in fis]))\n",
    "\n",
    "cols1"
   ]
  },
  {
   "cell_type": "code",
   "execution_count": 51,
   "metadata": {},
   "outputs": [
    {
     "data": {
      "text/plain": [
       "(30.088652416645999, 1.2005260988603663)"
      ]
     },
     "execution_count": 51,
     "metadata": {},
     "output_type": "execute_result"
    }
   ],
   "source": [
    "cross_val(model, X.drop(cols1, axis=1), y, CV=True)"
   ]
  },
  {
   "cell_type": "code",
   "execution_count": 52,
   "metadata": {},
   "outputs": [
    {
     "data": {
      "text/plain": [
       "array(['latitude', 'nn_0.001', 'price_0.001_max', 'price_0.001_std',\n",
       "       'price_0.01_max', 'price_0.01_min', 'price_0.01_std', 'square_feet'], dtype=object)"
      ]
     },
     "execution_count": 52,
     "metadata": {},
     "output_type": "execute_result"
    }
   ],
   "source": [
    "# объединили\n",
    "\n",
    "cols2 = reduce(np.union1d, ([fi.sort_values()[:5].index for fi in fis]))\n",
    "\n",
    "cols2"
   ]
  },
  {
   "cell_type": "code",
   "execution_count": 53,
   "metadata": {},
   "outputs": [
    {
     "data": {
      "text/plain": [
       "(30.121537906631346, 1.2432554602621193)"
      ]
     },
     "execution_count": 53,
     "metadata": {},
     "output_type": "execute_result"
    }
   ],
   "source": [
    "cross_val(model, X.drop(cols2, axis=1), y, CV=True)"
   ]
  },
  {
   "cell_type": "code",
   "execution_count": null,
   "metadata": {
    "collapsed": true
   },
   "outputs": [],
   "source": []
  }
 ],
 "metadata": {
  "kernelspec": {
   "display_name": "Python 3",
   "language": "python",
   "name": "python3"
  },
  "language_info": {
   "codemirror_mode": {
    "name": "ipython",
    "version": 3
   },
   "file_extension": ".py",
   "mimetype": "text/x-python",
   "name": "python",
   "nbconvert_exporter": "python",
   "pygments_lexer": "ipython3",
   "version": "3.6.3"
  }
 },
 "nbformat": 4,
 "nbformat_minor": 2
}
